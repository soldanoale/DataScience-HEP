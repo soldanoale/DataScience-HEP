{
 "cells": [
  {
   "cell_type": "markdown",
   "metadata": {},
   "source": [
    "<a id='start'></a>\n",
    "# Regressione lineare Esercizi\n",
    "\n",
    "In questo notebook vengono presentati degli esercizi sulla regressione lineare. <br>\n",
    "Provate a svolgere i seguenti esercizi: <br>\n",
    "1) [Regressione semplice](#section1)<br>\n",
    "2) [Prezzi case](#section2)<br>\n",
    "3) [Regressione multipla](#section3)<br>\n",
    "4) [Regressione multipla SerieA](#section4)"
   ]
  },
  {
   "cell_type": "markdown",
   "metadata": {},
   "source": [
    "<a id='section1'></a>\n",
    "## Regressione semplice"
   ]
  },
  {
   "cell_type": "markdown",
   "metadata": {},
   "source": [
    "Provare ad effettuare un'analisi di regressione su questi dati:"
   ]
  },
  {
   "cell_type": "markdown",
   "metadata": {},
   "source": [
    "<img src=\"img/python-linear-regression.png\">"
   ]
  },
  {
   "cell_type": "code",
   "execution_count": 137,
   "metadata": {},
   "outputs": [],
   "source": [
    "import numpy as np\n",
    "import pandas as pd\n",
    "import seaborn as sns\n",
    "import matplotlib.pyplot as plt\n",
    "import statsmodels.api as sm\n",
    "from sklearn.metrics import r2_score"
   ]
  },
  {
   "cell_type": "code",
   "execution_count": 138,
   "metadata": {},
   "outputs": [
    {
     "data": {
      "text/html": [
       "<div>\n",
       "<style scoped>\n",
       "    .dataframe tbody tr th:only-of-type {\n",
       "        vertical-align: middle;\n",
       "    }\n",
       "\n",
       "    .dataframe tbody tr th {\n",
       "        vertical-align: top;\n",
       "    }\n",
       "\n",
       "    .dataframe thead th {\n",
       "        text-align: right;\n",
       "    }\n",
       "</style>\n",
       "<table border=\"1\" class=\"dataframe\">\n",
       "  <thead>\n",
       "    <tr style=\"text-align: right;\">\n",
       "      <th></th>\n",
       "      <th>x</th>\n",
       "      <th>y</th>\n",
       "    </tr>\n",
       "  </thead>\n",
       "  <tbody>\n",
       "    <tr>\n",
       "      <th>0</th>\n",
       "      <td>0</td>\n",
       "      <td>1</td>\n",
       "    </tr>\n",
       "    <tr>\n",
       "      <th>1</th>\n",
       "      <td>1</td>\n",
       "      <td>3</td>\n",
       "    </tr>\n",
       "    <tr>\n",
       "      <th>2</th>\n",
       "      <td>2</td>\n",
       "      <td>2</td>\n",
       "    </tr>\n",
       "    <tr>\n",
       "      <th>3</th>\n",
       "      <td>3</td>\n",
       "      <td>5</td>\n",
       "    </tr>\n",
       "    <tr>\n",
       "      <th>4</th>\n",
       "      <td>4</td>\n",
       "      <td>7</td>\n",
       "    </tr>\n",
       "    <tr>\n",
       "      <th>5</th>\n",
       "      <td>5</td>\n",
       "      <td>8</td>\n",
       "    </tr>\n",
       "    <tr>\n",
       "      <th>6</th>\n",
       "      <td>6</td>\n",
       "      <td>8</td>\n",
       "    </tr>\n",
       "    <tr>\n",
       "      <th>7</th>\n",
       "      <td>7</td>\n",
       "      <td>9</td>\n",
       "    </tr>\n",
       "    <tr>\n",
       "      <th>8</th>\n",
       "      <td>8</td>\n",
       "      <td>10</td>\n",
       "    </tr>\n",
       "    <tr>\n",
       "      <th>9</th>\n",
       "      <td>9</td>\n",
       "      <td>12</td>\n",
       "    </tr>\n",
       "  </tbody>\n",
       "</table>\n",
       "</div>"
      ],
      "text/plain": [
       "   x   y\n",
       "0  0   1\n",
       "1  1   3\n",
       "2  2   2\n",
       "3  3   5\n",
       "4  4   7\n",
       "5  5   8\n",
       "6  6   8\n",
       "7  7   9\n",
       "8  8  10\n",
       "9  9  12"
      ]
     },
     "execution_count": 138,
     "metadata": {},
     "output_type": "execute_result"
    }
   ],
   "source": [
    "data = pd.DataFrame({\n",
    "    'x': [0, 1, 2, 3, 4, 5, 6, 7, 8, 9],\n",
    "    'y': [1, 3, 2, 5, 7, 8, 8, 9, 10, 12]\n",
    "})\n",
    "data"
   ]
  },
  {
   "cell_type": "code",
   "execution_count": 139,
   "metadata": {},
   "outputs": [
    {
     "data": {
      "text/html": [
       "<div>\n",
       "<style scoped>\n",
       "    .dataframe tbody tr th:only-of-type {\n",
       "        vertical-align: middle;\n",
       "    }\n",
       "\n",
       "    .dataframe tbody tr th {\n",
       "        vertical-align: top;\n",
       "    }\n",
       "\n",
       "    .dataframe thead th {\n",
       "        text-align: right;\n",
       "    }\n",
       "</style>\n",
       "<table border=\"1\" class=\"dataframe\">\n",
       "  <thead>\n",
       "    <tr style=\"text-align: right;\">\n",
       "      <th></th>\n",
       "      <th>x</th>\n",
       "      <th>y</th>\n",
       "    </tr>\n",
       "  </thead>\n",
       "  <tbody>\n",
       "    <tr>\n",
       "      <th>x</th>\n",
       "      <td>1.000000</td>\n",
       "      <td>0.975981</td>\n",
       "    </tr>\n",
       "    <tr>\n",
       "      <th>y</th>\n",
       "      <td>0.975981</td>\n",
       "      <td>1.000000</td>\n",
       "    </tr>\n",
       "  </tbody>\n",
       "</table>\n",
       "</div>"
      ],
      "text/plain": [
       "          x         y\n",
       "x  1.000000  0.975981\n",
       "y  0.975981  1.000000"
      ]
     },
     "execution_count": 139,
     "metadata": {},
     "output_type": "execute_result"
    }
   ],
   "source": [
    "data.corr()"
   ]
  },
  {
   "cell_type": "code",
   "execution_count": 140,
   "metadata": {},
   "outputs": [
    {
     "data": {
      "image/png": "[encoded data removed]",
      "text/plain": [
       "<Figure size 432x288 with 1 Axes>"
      ]
     },
     "metadata": {
      "needs_background": "light"
     },
     "output_type": "display_data"
    }
   ],
   "source": [
    "y = data['y']\n",
    "x1 = data['x']\n",
    "\n",
    "plt.scatter(x1, y)\n",
    "plt.xlabel('X',fontsize=20)\n",
    "plt.ylabel('Y',fontsize=20)\n",
    "plt.show()"
   ]
  },
  {
   "cell_type": "code",
   "execution_count": 141,
   "metadata": {},
   "outputs": [
    {
     "name": "stdout",
     "output_type": "stream",
     "text": [
      "R2 model: 0.952538\n"
     ]
    },
    {
     "name": "stderr",
     "output_type": "stream",
     "text": [
      "/opt/anaconda3/lib/python3.7/site-packages/scipy/stats/stats.py:1535: UserWarning:\n",
      "\n",
      "kurtosistest only valid for n>=20 ... continuing anyway, n=10\n",
      "\n"
     ]
    },
    {
     "data": {
      "text/html": [
       "<table class=\"simpletable\">\n",
       "<caption>OLS Regression Results</caption>\n",
       "<tr>\n",
       "  <th>Dep. Variable:</th>            <td>y</td>        <th>  R-squared:         </th> <td>   0.953</td>\n",
       "</tr>\n",
       "<tr>\n",
       "  <th>Model:</th>                   <td>OLS</td>       <th>  Adj. R-squared:    </th> <td>   0.947</td>\n",
       "</tr>\n",
       "<tr>\n",
       "  <th>Method:</th>             <td>Least Squares</td>  <th>  F-statistic:       </th> <td>   160.6</td>\n",
       "</tr>\n",
       "<tr>\n",
       "  <th>Date:</th>             <td>Tue, 14 Apr 2020</td> <th>  Prob (F-statistic):</th> <td>1.41e-06</td>\n",
       "</tr>\n",
       "<tr>\n",
       "  <th>Time:</th>                 <td>14:55:04</td>     <th>  Log-Likelihood:    </th> <td> -11.312</td>\n",
       "</tr>\n",
       "<tr>\n",
       "  <th>No. Observations:</th>      <td>    10</td>      <th>  AIC:               </th> <td>   26.62</td>\n",
       "</tr>\n",
       "<tr>\n",
       "  <th>Df Residuals:</th>          <td>     8</td>      <th>  BIC:               </th> <td>   27.23</td>\n",
       "</tr>\n",
       "<tr>\n",
       "  <th>Df Model:</th>              <td>     1</td>      <th>                     </th>     <td> </td>   \n",
       "</tr>\n",
       "<tr>\n",
       "  <th>Covariance Type:</th>      <td>nonrobust</td>    <th>                     </th>     <td> </td>   \n",
       "</tr>\n",
       "</table>\n",
       "<table class=\"simpletable\">\n",
       "<tr>\n",
       "    <td></td>       <th>coef</th>     <th>std err</th>      <th>t</th>      <th>P>|t|</th>  <th>[0.025</th>    <th>0.975]</th>  \n",
       "</tr>\n",
       "<tr>\n",
       "  <th>const</th> <td>    1.2364</td> <td>    0.493</td> <td>    2.509</td> <td> 0.036</td> <td>    0.100</td> <td>    2.373</td>\n",
       "</tr>\n",
       "<tr>\n",
       "  <th>x</th>     <td>    1.1697</td> <td>    0.092</td> <td>   12.671</td> <td> 0.000</td> <td>    0.957</td> <td>    1.383</td>\n",
       "</tr>\n",
       "</table>\n",
       "<table class=\"simpletable\">\n",
       "<tr>\n",
       "  <th>Omnibus:</th>       <td> 0.948</td> <th>  Durbin-Watson:     </th> <td>   2.059</td>\n",
       "</tr>\n",
       "<tr>\n",
       "  <th>Prob(Omnibus):</th> <td> 0.622</td> <th>  Jarque-Bera (JB):  </th> <td>   0.392</td>\n",
       "</tr>\n",
       "<tr>\n",
       "  <th>Skew:</th>          <td>-0.461</td> <th>  Prob(JB):          </th> <td>   0.822</td>\n",
       "</tr>\n",
       "<tr>\n",
       "  <th>Kurtosis:</th>      <td> 2.702</td> <th>  Cond. No.          </th> <td>    10.2</td>\n",
       "</tr>\n",
       "</table><br/><br/>Warnings:<br/>[1] Standard Errors assume that the covariance matrix of the errors is correctly specified."
      ],
      "text/plain": [
       "<class 'statsmodels.iolib.summary.Summary'>\n",
       "\"\"\"\n",
       "                            OLS Regression Results                            \n",
       "==============================================================================\n",
       "Dep. Variable:                      y   R-squared:                       0.953\n",
       "Model:                            OLS   Adj. R-squared:                  0.947\n",
       "Method:                 Least Squares   F-statistic:                     160.6\n",
       "Date:                Tue, 14 Apr 2020   Prob (F-statistic):           1.41e-06\n",
       "Time:                        14:55:04   Log-Likelihood:                -11.312\n",
       "No. Observations:                  10   AIC:                             26.62\n",
       "Df Residuals:                       8   BIC:                             27.23\n",
       "Df Model:                           1                                         \n",
       "Covariance Type:            nonrobust                                         \n",
       "==============================================================================\n",
       "                 coef    std err          t      P>|t|      [0.025      0.975]\n",
       "------------------------------------------------------------------------------\n",
       "const          1.2364      0.493      2.509      0.036       0.100       2.373\n",
       "x              1.1697      0.092     12.671      0.000       0.957       1.383\n",
       "==============================================================================\n",
       "Omnibus:                        0.948   Durbin-Watson:                   2.059\n",
       "Prob(Omnibus):                  0.622   Jarque-Bera (JB):                0.392\n",
       "Skew:                          -0.461   Prob(JB):                        0.822\n",
       "Kurtosis:                       2.702   Cond. No.                         10.2\n",
       "==============================================================================\n",
       "\n",
       "Warnings:\n",
       "[1] Standard Errors assume that the covariance matrix of the errors is correctly specified.\n",
       "\"\"\""
      ]
     },
     "execution_count": 141,
     "metadata": {},
     "output_type": "execute_result"
    }
   ],
   "source": [
    "x = sm.add_constant(x1)\n",
    "model = sm.OLS(y, x).fit()\n",
    "\n",
    "y_pred = model.predict(x)\n",
    "print(\"R2 model: %f\" % r2_score(y, y_pred))\n",
    "\n",
    "model.summary()"
   ]
  },
  {
   "cell_type": "code",
   "execution_count": 142,
   "metadata": {},
   "outputs": [
    {
     "data": {
      "image/png": "[encoded data removed]",
      "text/plain": [
       "<Figure size 432x288 with 1 Axes>"
      ]
     },
     "metadata": {
      "needs_background": "light"
     },
     "output_type": "display_data"
    }
   ],
   "source": [
    "yhat = x1 * model.params['x'] + model.params['const']\n",
    "plt.scatter(x1, y)\n",
    "plt.plot(x1, yhat, lw=2, c='orange')\n",
    "plt.xlabel('X', fontsize=20)\n",
    "plt.ylabel('Y', fontsize=20)\n",
    "plt.show()"
   ]
  },
  {
   "cell_type": "code",
   "execution_count": 143,
   "metadata": {},
   "outputs": [
    {
     "name": "stdout",
     "output_type": "stream",
     "text": [
      "R2: 0.952538\n"
     ]
    }
   ],
   "source": [
    "from sklearn.linear_model import LinearRegression\n",
    "from sklearn.model_selection import train_test_split\n",
    "from sklearn.metrics import r2_score\n",
    "\n",
    "X = data[['x']]\n",
    "Y = data['y']\n",
    "\n",
    "# with sklearn\n",
    "regr = LinearRegression()\n",
    "regr.fit(X, Y)\n",
    "\n",
    "Y_p = regr.predict(X)\n",
    "\n",
    "print(\"R2: %f\" % r2_score(Y, Y_p))"
   ]
  },
  {
   "cell_type": "code",
   "execution_count": 144,
   "metadata": {},
   "outputs": [
    {
     "data": {
      "text/plain": [
       "array([1.16969697])"
      ]
     },
     "execution_count": 144,
     "metadata": {},
     "output_type": "execute_result"
    }
   ],
   "source": [
    "regr.coef_"
   ]
  },
  {
   "cell_type": "code",
   "execution_count": 145,
   "metadata": {},
   "outputs": [
    {
     "data": {
      "text/plain": [
       "1.2363636363636399"
      ]
     },
     "execution_count": 145,
     "metadata": {},
     "output_type": "execute_result"
    }
   ],
   "source": [
    "regr.intercept_"
   ]
  },
  {
   "cell_type": "code",
   "execution_count": 146,
   "metadata": {},
   "outputs": [
    {
     "data": {
      "image/png": "[encoded data removed]",
      "text/plain": [
       "<Figure size 432x288 with 1 Axes>"
      ]
     },
     "metadata": {
      "needs_background": "light"
     },
     "output_type": "display_data"
    }
   ],
   "source": [
    "yhat = x1 * regr.coef_[0] + regr.intercept_\n",
    "plt.scatter(X, Y)\n",
    "plt.plot(X, yhat, lw=2, c='orange')\n",
    "plt.xlabel('X', fontsize=20)\n",
    "plt.ylabel('Y', fontsize=20)\n",
    "plt.show()"
   ]
  },
  {
   "cell_type": "code",
   "execution_count": 148,
   "metadata": {},
   "outputs": [
    {
     "data": {
      "image/png": "[encoded data removed]",
      "text/plain": [
       "<Figure size 432x288 with 1 Axes>"
      ]
     },
     "metadata": {
      "needs_background": "light"
     },
     "output_type": "display_data"
    }
   ],
   "source": [
    "ax = sns.regplot(x=X, y=Y)\n",
    "plt.show()"
   ]
  },
  {
   "cell_type": "markdown",
   "metadata": {},
   "source": [
    "<a id='section2'></a>\n",
    "## Prezzi case"
   ]
  },
  {
   "cell_type": "markdown",
   "metadata": {},
   "source": [
    "Hai un dataset coi pressi delle case.\n",
    "\n",
    "I dati sono salvati nel file: 'real_estate_price_size.csv'. \n",
    "\n",
    "Devi creare una regressione lineare semplice, utilizzando i dati.\n",
    "\n",
    "In questo esercizio la veriabile dipendente sarà 'price', mentre la variaibli indipendente sarà 'size'."
   ]
  },
  {
   "cell_type": "code",
   "execution_count": 150,
   "metadata": {},
   "outputs": [],
   "source": [
    "import numpy as np\n",
    "import pandas as pd\n",
    "import matplotlib.pyplot as plt\n",
    "import seaborn as sns\n",
    "import statsmodels.api as sm\n",
    "from sklearn.metrics import r2_score"
   ]
  },
  {
   "cell_type": "code",
   "execution_count": 151,
   "metadata": {},
   "outputs": [
    {
     "data": {
      "text/html": [
       "<div>\n",
       "<style scoped>\n",
       "    .dataframe tbody tr th:only-of-type {\n",
       "        vertical-align: middle;\n",
       "    }\n",
       "\n",
       "    .dataframe tbody tr th {\n",
       "        vertical-align: top;\n",
       "    }\n",
       "\n",
       "    .dataframe thead th {\n",
       "        text-align: right;\n",
       "    }\n",
       "</style>\n",
       "<table border=\"1\" class=\"dataframe\">\n",
       "  <thead>\n",
       "    <tr style=\"text-align: right;\">\n",
       "      <th></th>\n",
       "      <th>price</th>\n",
       "      <th>size</th>\n",
       "    </tr>\n",
       "  </thead>\n",
       "  <tbody>\n",
       "    <tr>\n",
       "      <th>0</th>\n",
       "      <td>234314.144</td>\n",
       "      <td>643.09</td>\n",
       "    </tr>\n",
       "    <tr>\n",
       "      <th>1</th>\n",
       "      <td>228581.528</td>\n",
       "      <td>656.22</td>\n",
       "    </tr>\n",
       "    <tr>\n",
       "      <th>2</th>\n",
       "      <td>281626.336</td>\n",
       "      <td>487.29</td>\n",
       "    </tr>\n",
       "    <tr>\n",
       "      <th>3</th>\n",
       "      <td>401255.608</td>\n",
       "      <td>1504.75</td>\n",
       "    </tr>\n",
       "    <tr>\n",
       "      <th>4</th>\n",
       "      <td>458674.256</td>\n",
       "      <td>1275.46</td>\n",
       "    </tr>\n",
       "  </tbody>\n",
       "</table>\n",
       "</div>"
      ],
      "text/plain": [
       "        price     size\n",
       "0  234314.144   643.09\n",
       "1  228581.528   656.22\n",
       "2  281626.336   487.29\n",
       "3  401255.608  1504.75\n",
       "4  458674.256  1275.46"
      ]
     },
     "execution_count": 151,
     "metadata": {},
     "output_type": "execute_result"
    }
   ],
   "source": [
    "data = pd.read_csv('data/real_estate_price_size.csv')\n",
    "data.head()"
   ]
  },
  {
   "cell_type": "code",
   "execution_count": 152,
   "metadata": {},
   "outputs": [
    {
     "data": {
      "text/html": [
       "<div>\n",
       "<style scoped>\n",
       "    .dataframe tbody tr th:only-of-type {\n",
       "        vertical-align: middle;\n",
       "    }\n",
       "\n",
       "    .dataframe tbody tr th {\n",
       "        vertical-align: top;\n",
       "    }\n",
       "\n",
       "    .dataframe thead th {\n",
       "        text-align: right;\n",
       "    }\n",
       "</style>\n",
       "<table border=\"1\" class=\"dataframe\">\n",
       "  <thead>\n",
       "    <tr style=\"text-align: right;\">\n",
       "      <th></th>\n",
       "      <th>price</th>\n",
       "      <th>size</th>\n",
       "    </tr>\n",
       "  </thead>\n",
       "  <tbody>\n",
       "    <tr>\n",
       "      <th>count</th>\n",
       "      <td>100.000000</td>\n",
       "      <td>100.000000</td>\n",
       "    </tr>\n",
       "    <tr>\n",
       "      <th>mean</th>\n",
       "      <td>292289.470160</td>\n",
       "      <td>853.024200</td>\n",
       "    </tr>\n",
       "    <tr>\n",
       "      <th>std</th>\n",
       "      <td>77051.727525</td>\n",
       "      <td>297.941951</td>\n",
       "    </tr>\n",
       "    <tr>\n",
       "      <th>min</th>\n",
       "      <td>154282.128000</td>\n",
       "      <td>479.750000</td>\n",
       "    </tr>\n",
       "    <tr>\n",
       "      <th>25%</th>\n",
       "      <td>234280.148000</td>\n",
       "      <td>643.330000</td>\n",
       "    </tr>\n",
       "    <tr>\n",
       "      <th>50%</th>\n",
       "      <td>280590.716000</td>\n",
       "      <td>696.405000</td>\n",
       "    </tr>\n",
       "    <tr>\n",
       "      <th>75%</th>\n",
       "      <td>335723.696000</td>\n",
       "      <td>1029.322500</td>\n",
       "    </tr>\n",
       "    <tr>\n",
       "      <th>max</th>\n",
       "      <td>500681.128000</td>\n",
       "      <td>1842.510000</td>\n",
       "    </tr>\n",
       "  </tbody>\n",
       "</table>\n",
       "</div>"
      ],
      "text/plain": [
       "               price         size\n",
       "count     100.000000   100.000000\n",
       "mean   292289.470160   853.024200\n",
       "std     77051.727525   297.941951\n",
       "min    154282.128000   479.750000\n",
       "25%    234280.148000   643.330000\n",
       "50%    280590.716000   696.405000\n",
       "75%    335723.696000  1029.322500\n",
       "max    500681.128000  1842.510000"
      ]
     },
     "execution_count": 152,
     "metadata": {},
     "output_type": "execute_result"
    }
   ],
   "source": [
    "data.describe()"
   ]
  },
  {
   "cell_type": "code",
   "execution_count": 153,
   "metadata": {},
   "outputs": [
    {
     "data": {
      "text/html": [
       "<div>\n",
       "<style scoped>\n",
       "    .dataframe tbody tr th:only-of-type {\n",
       "        vertical-align: middle;\n",
       "    }\n",
       "\n",
       "    .dataframe tbody tr th {\n",
       "        vertical-align: top;\n",
       "    }\n",
       "\n",
       "    .dataframe thead th {\n",
       "        text-align: right;\n",
       "    }\n",
       "</style>\n",
       "<table border=\"1\" class=\"dataframe\">\n",
       "  <thead>\n",
       "    <tr style=\"text-align: right;\">\n",
       "      <th></th>\n",
       "      <th>price</th>\n",
       "      <th>size</th>\n",
       "    </tr>\n",
       "  </thead>\n",
       "  <tbody>\n",
       "    <tr>\n",
       "      <th>price</th>\n",
       "      <td>1.000000</td>\n",
       "      <td>0.862983</td>\n",
       "    </tr>\n",
       "    <tr>\n",
       "      <th>size</th>\n",
       "      <td>0.862983</td>\n",
       "      <td>1.000000</td>\n",
       "    </tr>\n",
       "  </tbody>\n",
       "</table>\n",
       "</div>"
      ],
      "text/plain": [
       "          price      size\n",
       "price  1.000000  0.862983\n",
       "size   0.862983  1.000000"
      ]
     },
     "execution_count": 153,
     "metadata": {},
     "output_type": "execute_result"
    }
   ],
   "source": [
    "data.corr()"
   ]
  },
  {
   "cell_type": "code",
   "execution_count": 154,
   "metadata": {},
   "outputs": [
    {
     "data": {
      "image/png": "[encoded data removed]",
      "text/plain": [
       "<Figure size 432x288 with 1 Axes>"
      ]
     },
     "metadata": {
      "needs_background": "light"
     },
     "output_type": "display_data"
    }
   ],
   "source": [
    "y = data['price']\n",
    "x1 = data['size']\n",
    "\n",
    "plt.scatter(x1, y)\n",
    "plt.xlabel('Size',fontsize=20)\n",
    "plt.ylabel('Price',fontsize=20)\n",
    "plt.show()"
   ]
  },
  {
   "cell_type": "code",
   "execution_count": 155,
   "metadata": {},
   "outputs": [
    {
     "name": "stdout",
     "output_type": "stream",
     "text": [
      "R2 model on training data: 0.756896\n",
      "R2 model on test data: 0.694599\n"
     ]
    },
    {
     "data": {
      "text/html": [
       "<table class=\"simpletable\">\n",
       "<caption>OLS Regression Results</caption>\n",
       "<tr>\n",
       "  <th>Dep. Variable:</th>          <td>price</td>      <th>  R-squared:         </th> <td>   0.757</td>\n",
       "</tr>\n",
       "<tr>\n",
       "  <th>Model:</th>                   <td>OLS</td>       <th>  Adj. R-squared:    </th> <td>   0.754</td>\n",
       "</tr>\n",
       "<tr>\n",
       "  <th>Method:</th>             <td>Least Squares</td>  <th>  F-statistic:       </th> <td>   242.8</td>\n",
       "</tr>\n",
       "<tr>\n",
       "  <th>Date:</th>             <td>Tue, 14 Apr 2020</td> <th>  Prob (F-statistic):</th> <td>1.15e-25</td>\n",
       "</tr>\n",
       "<tr>\n",
       "  <th>Time:</th>                 <td>14:56:47</td>     <th>  Log-Likelihood:    </th> <td> -956.14</td>\n",
       "</tr>\n",
       "<tr>\n",
       "  <th>No. Observations:</th>      <td>    80</td>      <th>  AIC:               </th> <td>   1916.</td>\n",
       "</tr>\n",
       "<tr>\n",
       "  <th>Df Residuals:</th>          <td>    78</td>      <th>  BIC:               </th> <td>   1921.</td>\n",
       "</tr>\n",
       "<tr>\n",
       "  <th>Df Model:</th>              <td>     1</td>      <th>                     </th>     <td> </td>   \n",
       "</tr>\n",
       "<tr>\n",
       "  <th>Covariance Type:</th>      <td>nonrobust</td>    <th>                     </th>     <td> </td>   \n",
       "</tr>\n",
       "</table>\n",
       "<table class=\"simpletable\">\n",
       "<tr>\n",
       "    <td></td>       <th>coef</th>     <th>std err</th>      <th>t</th>      <th>P>|t|</th>  <th>[0.025</th>    <th>0.975]</th>  \n",
       "</tr>\n",
       "<tr>\n",
       "  <th>const</th> <td> 1.023e+05</td> <td> 1.29e+04</td> <td>    7.960</td> <td> 0.000</td> <td> 7.67e+04</td> <td> 1.28e+05</td>\n",
       "</tr>\n",
       "<tr>\n",
       "  <th>size</th>  <td>  225.2290</td> <td>   14.453</td> <td>   15.584</td> <td> 0.000</td> <td>  196.455</td> <td>  254.003</td>\n",
       "</tr>\n",
       "</table>\n",
       "<table class=\"simpletable\">\n",
       "<tr>\n",
       "  <th>Omnibus:</th>       <td> 2.824</td> <th>  Durbin-Watson:     </th> <td>   1.965</td>\n",
       "</tr>\n",
       "<tr>\n",
       "  <th>Prob(Omnibus):</th> <td> 0.244</td> <th>  Jarque-Bera (JB):  </th> <td>   1.994</td>\n",
       "</tr>\n",
       "<tr>\n",
       "  <th>Skew:</th>          <td> 0.199</td> <th>  Prob(JB):          </th> <td>   0.369</td>\n",
       "</tr>\n",
       "<tr>\n",
       "  <th>Kurtosis:</th>      <td> 2.337</td> <th>  Cond. No.          </th> <td>2.69e+03</td>\n",
       "</tr>\n",
       "</table><br/><br/>Warnings:<br/>[1] Standard Errors assume that the covariance matrix of the errors is correctly specified.<br/>[2] The condition number is large, 2.69e+03. This might indicate that there are<br/>strong multicollinearity or other numerical problems."
      ],
      "text/plain": [
       "<class 'statsmodels.iolib.summary.Summary'>\n",
       "\"\"\"\n",
       "                            OLS Regression Results                            \n",
       "==============================================================================\n",
       "Dep. Variable:                  price   R-squared:                       0.757\n",
       "Model:                            OLS   Adj. R-squared:                  0.754\n",
       "Method:                 Least Squares   F-statistic:                     242.8\n",
       "Date:                Tue, 14 Apr 2020   Prob (F-statistic):           1.15e-25\n",
       "Time:                        14:56:47   Log-Likelihood:                -956.14\n",
       "No. Observations:                  80   AIC:                             1916.\n",
       "Df Residuals:                      78   BIC:                             1921.\n",
       "Df Model:                           1                                         \n",
       "Covariance Type:            nonrobust                                         \n",
       "==============================================================================\n",
       "                 coef    std err          t      P>|t|      [0.025      0.975]\n",
       "------------------------------------------------------------------------------\n",
       "const       1.023e+05   1.29e+04      7.960      0.000    7.67e+04    1.28e+05\n",
       "size         225.2290     14.453     15.584      0.000     196.455     254.003\n",
       "==============================================================================\n",
       "Omnibus:                        2.824   Durbin-Watson:                   1.965\n",
       "Prob(Omnibus):                  0.244   Jarque-Bera (JB):                1.994\n",
       "Skew:                           0.199   Prob(JB):                        0.369\n",
       "Kurtosis:                       2.337   Cond. No.                     2.69e+03\n",
       "==============================================================================\n",
       "\n",
       "Warnings:\n",
       "[1] Standard Errors assume that the covariance matrix of the errors is correctly specified.\n",
       "[2] The condition number is large, 2.69e+03. This might indicate that there are\n",
       "strong multicollinearity or other numerical problems.\n",
       "\"\"\""
      ]
     },
     "execution_count": 155,
     "metadata": {},
     "output_type": "execute_result"
    }
   ],
   "source": [
    "from sklearn.model_selection import train_test_split\n",
    "X_train, X_test, Y_train, Y_test = train_test_split(x1, y, test_size=0.2)\n",
    "\n",
    "x = sm.add_constant(X_train)\n",
    "results = sm.OLS(Y_train, x).fit()\n",
    "\n",
    "y_pred_train = results.predict(x)\n",
    "y_pred_test = results.predict(sm.add_constant(X_test))\n",
    "\n",
    "print(\"R2 model on training data: %f\" % r2_score(Y_train, y_pred_train))\n",
    "print(\"R2 model on test data: %f\" % r2_score(Y_test, y_pred_test))\n",
    "\n",
    "results.summary()"
   ]
  },
  {
   "cell_type": "code",
   "execution_count": 156,
   "metadata": {},
   "outputs": [
    {
     "data": {
      "image/png": "[encoded data removed]",
      "text/plain": [
       "<Figure size 432x288 with 1 Axes>"
      ]
     },
     "metadata": {
      "needs_background": "light"
     },
     "output_type": "display_data"
    }
   ],
   "source": [
    "plt.scatter(x1, y)\n",
    "\n",
    "yhat = x1 * results.params['size'] + results.params['const']\n",
    "fig = plt.plot(x1, yhat, lw=2, c='orange')\n",
    "\n",
    "plt.xlabel('Size', fontsize=20)\n",
    "plt.ylabel('Price', fontsize=20)\n",
    "\n",
    "plt.show()"
   ]
  },
  {
   "cell_type": "code",
   "execution_count": 157,
   "metadata": {},
   "outputs": [
    {
     "data": {
      "image/png": "[encoded data removed]",
      "text/plain": [
       "<Figure size 432x288 with 1 Axes>"
      ]
     },
     "metadata": {
      "needs_background": "light"
     },
     "output_type": "display_data"
    }
   ],
   "source": [
    "ax = sns.regplot(x=x1, y=y)\n",
    "plt.show()"
   ]
  },
  {
   "cell_type": "code",
   "execution_count": 160,
   "metadata": {},
   "outputs": [
    {
     "data": {
      "application/vnd.plotly.v1+json": {
       "config": {
        "plotlyServerURL": "https://plot.ly"
       },
       "data": [
        {
         "hovertemplate": "size=%{x}<br>price=%{y}<extra></extra>",
         "legendgroup": "",
         "marker": {
          "color": "#636efa",
          "symbol": "circle"
         },
         "mode": "markers",
         "name": "",
         "showlegend": false,
         "type": "scatter",
         "x": [
          643.09,
          656.22,
          487.29,
          1504.75,
          1275.46,
          575.19,
          570.89,
          620.82,
          682.26,
          694.52,
          1060.36,
          1842.51,
          694.52,
          1009.25,
          1300.96,
          1379.72,
          690.54,
          623.94,
          681.07,
          1027.76,
          620.71,
          549.69,
          1207.45,
          518.38,
          525.81,
          1103.3,
          570.89,
          1334.1,
          681.07,
          1496.36,
          1010.33,
          681.07,
          597.9,
          525.81,
          857.54,
          622.97,
          823.21,
          570.25,
          685.48,
          698.29,
          1021.95,
          682.26,
          823.21,
          1334.1,
          1060.36,
          698.29,
          633.19,
          698.29,
          633.19,
          617.05,
          647.5,
          1021.95,
          1021.95,
          727.88,
          647.5,
          1508.84,
          1032.06,
          1283.85,
          827.84,
          569.17,
          828.16,
          698.5,
          1205.62,
          1021.95,
          685.48,
          827.09,
          1009.25,
          549.8,
          685.48,
          1496.36,
          1021.95,
          643.41,
          656.22,
          549.8,
          685.48,
          685.48,
          1183.46,
          1334.1,
          682.26,
          1188.62,
          681.07,
          1122.34,
          681.07,
          643.09,
          685.48,
          1009.25,
          479.75,
          1028.41,
          601.66,
          1236.93,
          694.52,
          1071.55,
          694.52,
          698.29,
          698.29,
          549.8,
          1037.44,
          1504.75,
          648.29,
          705.29
         ],
         "xaxis": "x",
         "y": [
          234314.14399999997,
          228581.52800000002,
          281626.336,
          401255.60799999995,
          458674.256,
          245050.28,
          265129.064,
          175716.48,
          331101.344,
          218630.608,
          279555.096,
          494778.992,
          215472.104,
          418753.008,
          444192.008,
          440201.61600000004,
          248337.6,
          234178.16,
          225451.984,
          299416.976,
          268125.08,
          171795.24,
          412569.472,
          183459.488,
          168047.264,
          362519.72,
          271793.312,
          406852.304,
          297760.44,
          368988.43200000003,
          301635.728,
          225452.32,
          207742.24800000002,
          191486.896,
          285223.17600000004,
          302000.92,
          269225.92,
          233493.208,
          292965.216,
          245747.2,
          310045.712,
          217468.224,
          287350,
          414682.648,
          293044.49600000004,
          300061.48,
          204302.97600000002,
          201778.048,
          257828.41600000003,
          262423.50399999996,
          225656.12,
          393069.76,
          258637.008,
          269523.05600000004,
          255629.16,
          500681.12799999997,
          320345.52,
          395242.096,
          330677.128,
          251332.592,
          251188.824,
          263311.696,
          359674.44,
          334938.872,
          302393.38399999996,
          304587.272,
          355251.2,
          271726.752,
          294582.94399999996,
          454512.76,
          276875.632,
          181587.576,
          298926.49600000004,
          211724.09600000002,
          228313.02399999998,
          286161.6,
          382120.152,
          365863.936,
          251560.04,
          342988.456,
          180307.21600000001,
          408637.816,
          190909.056,
          282683.544,
          303597.216,
          376253.80799999996,
          154282.128,
          327252.11199999996,
          211904.53600000002,
          354512.112,
          251140.65600000002,
          338078.16799999995,
          298170.88,
          266684.248,
          262477.856,
          252460.4,
          310522.592,
          383635.56799999997,
          225145.24800000002,
          274922.856
         ],
         "yaxis": "y"
        },
        {
         "alignmentgroup": "True",
         "hovertemplate": "size=%{x}<extra></extra>",
         "legendgroup": "",
         "marker": {
          "color": "#636efa",
          "symbol": "circle"
         },
         "name": "",
         "notched": true,
         "offsetgroup": "",
         "showlegend": false,
         "type": "box",
         "x": [
          643.09,
          656.22,
          487.29,
          1504.75,
          1275.46,
          575.19,
          570.89,
          620.82,
          682.26,
          694.52,
          1060.36,
          1842.51,
          694.52,
          1009.25,
          1300.96,
          1379.72,
          690.54,
          623.94,
          681.07,
          1027.76,
          620.71,
          549.69,
          1207.45,
          518.38,
          525.81,
          1103.3,
          570.89,
          1334.1,
          681.07,
          1496.36,
          1010.33,
          681.07,
          597.9,
          525.81,
          857.54,
          622.97,
          823.21,
          570.25,
          685.48,
          698.29,
          1021.95,
          682.26,
          823.21,
          1334.1,
          1060.36,
          698.29,
          633.19,
          698.29,
          633.19,
          617.05,
          647.5,
          1021.95,
          1021.95,
          727.88,
          647.5,
          1508.84,
          1032.06,
          1283.85,
          827.84,
          569.17,
          828.16,
          698.5,
          1205.62,
          1021.95,
          685.48,
          827.09,
          1009.25,
          549.8,
          685.48,
          1496.36,
          1021.95,
          643.41,
          656.22,
          549.8,
          685.48,
          685.48,
          1183.46,
          1334.1,
          682.26,
          1188.62,
          681.07,
          1122.34,
          681.07,
          643.09,
          685.48,
          1009.25,
          479.75,
          1028.41,
          601.66,
          1236.93,
          694.52,
          1071.55,
          694.52,
          698.29,
          698.29,
          549.8,
          1037.44,
          1504.75,
          648.29,
          705.29
         ],
         "xaxis": "x3",
         "yaxis": "y3"
        },
        {
         "alignmentgroup": "True",
         "hovertemplate": "price=%{y}<extra></extra>",
         "legendgroup": "",
         "marker": {
          "color": "#636efa",
          "symbol": "circle"
         },
         "name": "",
         "offsetgroup": "",
         "scalegroup": "y",
         "showlegend": false,
         "type": "violin",
         "xaxis": "x2",
         "y": [
          234314.14399999997,
          228581.52800000002,
          281626.336,
          401255.60799999995,
          458674.256,
          245050.28,
          265129.064,
          175716.48,
          331101.344,
          218630.608,
          279555.096,
          494778.992,
          215472.104,
          418753.008,
          444192.008,
          440201.61600000004,
          248337.6,
          234178.16,
          225451.984,
          299416.976,
          268125.08,
          171795.24,
          412569.472,
          183459.488,
          168047.264,
          362519.72,
          271793.312,
          406852.304,
          297760.44,
          368988.43200000003,
          301635.728,
          225452.32,
          207742.24800000002,
          191486.896,
          285223.17600000004,
          302000.92,
          269225.92,
          233493.208,
          292965.216,
          245747.2,
          310045.712,
          217468.224,
          287350,
          414682.648,
          293044.49600000004,
          300061.48,
          204302.97600000002,
          201778.048,
          257828.41600000003,
          262423.50399999996,
          225656.12,
          393069.76,
          258637.008,
          269523.05600000004,
          255629.16,
          500681.12799999997,
          320345.52,
          395242.096,
          330677.128,
          251332.592,
          251188.824,
          263311.696,
          359674.44,
          334938.872,
          302393.38399999996,
          304587.272,
          355251.2,
          271726.752,
          294582.94399999996,
          454512.76,
          276875.632,
          181587.576,
          298926.49600000004,
          211724.09600000002,
          228313.02399999998,
          286161.6,
          382120.152,
          365863.936,
          251560.04,
          342988.456,
          180307.21600000001,
          408637.816,
          190909.056,
          282683.544,
          303597.216,
          376253.80799999996,
          154282.128,
          327252.11199999996,
          211904.53600000002,
          354512.112,
          251140.65600000002,
          338078.16799999995,
          298170.88,
          266684.248,
          262477.856,
          252460.4,
          310522.592,
          383635.56799999997,
          225145.24800000002,
          274922.856
         ],
         "yaxis": "y2"
        },
        {
         "hovertemplate": "<b>OLS trendline</b><br>price = 223.179 * size + 101913<br>R<sup>2</sup>=0.744739<br><br>size=%{x}<br>price=%{y} <b>(trend)</b><extra></extra>",
         "legendgroup": "",
         "marker": {
          "color": "#636efa",
          "symbol": "circle"
         },
         "mode": "lines",
         "name": "",
         "showlegend": false,
         "type": "scatter",
         "x": [
          479.75,
          487.29,
          518.38,
          525.81,
          525.81,
          549.69,
          549.8,
          549.8,
          549.8,
          569.17,
          570.25,
          570.89,
          570.89,
          575.19,
          597.9,
          601.66,
          617.05,
          620.71,
          620.82,
          622.97,
          623.94,
          633.19,
          633.19,
          643.09,
          643.09,
          643.41,
          647.5,
          647.5,
          648.29,
          656.22,
          656.22,
          681.07,
          681.07,
          681.07,
          681.07,
          681.07,
          682.26,
          682.26,
          682.26,
          685.48,
          685.48,
          685.48,
          685.48,
          685.48,
          685.48,
          690.54,
          694.52,
          694.52,
          694.52,
          694.52,
          698.29,
          698.29,
          698.29,
          698.29,
          698.29,
          698.5,
          705.29,
          727.88,
          823.21,
          823.21,
          827.09,
          827.84,
          828.16,
          857.54,
          1009.25,
          1009.25,
          1009.25,
          1010.33,
          1021.95,
          1021.95,
          1021.95,
          1021.95,
          1021.95,
          1027.76,
          1028.41,
          1032.06,
          1037.44,
          1060.36,
          1060.36,
          1071.55,
          1103.3,
          1122.34,
          1183.46,
          1188.62,
          1205.62,
          1207.45,
          1236.93,
          1275.46,
          1283.85,
          1300.96,
          1334.1,
          1334.1,
          1334.1,
          1379.72,
          1496.36,
          1496.36,
          1504.75,
          1504.75,
          1508.84,
          1842.51
         ],
         "xaxis": "x",
         "y": [
          208982.6035609919,
          210665.37128015526,
          217603.9983874216,
          219262.2164448995,
          219262.2164448995,
          224591.72481805875,
          224616.27447974414,
          224616.27447974414,
          224616.27447974414,
          228939.24672380168,
          229180.2797658039,
          229323.1141610644,
          229323.1141610644,
          230282.78275422123,
          235351.17199854477,
          236190.32407070047,
          239625.0449192315,
          240441.87911712777,
          240466.4287788132,
          240946.2630753916,
          241162.74645570834,
          243227.14982470847,
          243227.14982470847,
          245436.61937639507,
          245436.61937639507,
          245508.03657402535,
          246420.8376312373,
          246420.8376312373,
          246597.148837887,
          248366.95626666228,
          248366.95626666228,
          253912.94802013828,
          253912.94802013828,
          253912.94802013828,
          253912.94802013828,
          253912.94802013828,
          254178.53072382585,
          254178.53072382585,
          254178.53072382585,
          254897.1662749805,
          254897.1662749805,
          254897.1662749805,
          254897.1662749805,
          254897.1662749805,
          254897.1662749805,
          256026.4507125092,
          256914.70210803574,
          256914.70210803574,
          256914.70210803574,
          256914.70210803574,
          257756.0859676174,
          257756.0859676174,
          257756.0859676174,
          257756.0859676174,
          257756.0859676174,
          257802.95350356228,
          259318.33716577964,
          264359.94496099185,
          285635.5744925358,
          285635.5744925358,
          286501.5080138028,
          286668.8920707488,
          286740.30926837906,
          293297.3007258086,
          327155.74776483653,
          327155.74776483653,
          327155.74776483653,
          327396.7808068387,
          329990.11779578804,
          329990.11779578804,
          329990.11779578804,
          329990.11779578804,
          329990.11779578804,
          331286.7862902627,
          331431.8524729492,
          332246.4548834195,
          333447.15651857853,
          338562.4132988469,
          338562.4132988469,
          341059.78342848056,
          348145.70850585937,
          352395.0317648606,
          366035.7165122431,
          367187.3188240312,
          370981.3574481396,
          371389.7745470877,
          377969.08387877676,
          386568.160830947,
          388440.6304813157,
          392259.21876710944,
          399655.3622966947,
          399655.3622966947,
          399655.3622966947,
          409836.7765338607,
          435868.34507009573,
          435868.34507009573,
          437740.81472046446,
          437740.81472046446,
          438653.6157776764,
          513121.66681921907
         ],
         "yaxis": "y"
        }
       ],
       "layout": {
        "legend": {
         "tracegroupgap": 0
        },
        "margin": {
         "t": 60
        },
        "template": {
         "data": {
          "bar": [
           {
            "error_x": {
             "color": "#2a3f5f"
            },
            "error_y": {
             "color": "#2a3f5f"
            },
            "marker": {
             "line": {
              "color": "#E5ECF6",
              "width": 0.5
             }
            },
            "type": "bar"
           }
          ],
          "barpolar": [
           {
            "marker": {
             "line": {
              "color": "#E5ECF6",
              "width": 0.5
             }
            },
            "type": "barpolar"
           }
          ],
          "carpet": [
           {
            "aaxis": {
             "endlinecolor": "#2a3f5f",
             "gridcolor": "white",
             "linecolor": "white",
             "minorgridcolor": "white",
             "startlinecolor": "#2a3f5f"
            },
            "baxis": {
             "endlinecolor": "#2a3f5f",
             "gridcolor": "white",
             "linecolor": "white",
             "minorgridcolor": "white",
             "startlinecolor": "#2a3f5f"
            },
            "type": "carpet"
           }
          ],
          "choropleth": [
           {
            "colorbar": {
             "outlinewidth": 0,
             "ticks": ""
            },
            "type": "choropleth"
           }
          ],
          "contour": [
           {
            "colorbar": {
             "outlinewidth": 0,
             "ticks": ""
            },
            "colorscale": [
             [
              0,
              "#0d0887"
             ],
             [
              0.1111111111111111,
              "#46039f"
             ],
             [
              0.2222222222222222,
              "#7201a8"
             ],
             [
              0.3333333333333333,
              "#9c179e"
             ],
             [
              0.4444444444444444,
              "#bd3786"
             ],
             [
              0.5555555555555556,
              "#d8576b"
             ],
             [
              0.6666666666666666,
              "#ed7953"
             ],
             [
              0.7777777777777778,
              "#fb9f3a"
             ],
             [
              0.8888888888888888,
              "#fdca26"
             ],
             [
              1,
              "#f0f921"
             ]
            ],
            "type": "contour"
           }
          ],
          "contourcarpet": [
           {
            "colorbar": {
             "outlinewidth": 0,
             "ticks": ""
            },
            "type": "contourcarpet"
           }
          ],
          "heatmap": [
           {
            "colorbar": {
             "outlinewidth": 0,
             "ticks": ""
            },
            "colorscale": [
             [
              0,
              "#0d0887"
             ],
             [
              0.1111111111111111,
              "#46039f"
             ],
             [
              0.2222222222222222,
              "#7201a8"
             ],
             [
              0.3333333333333333,
              "#9c179e"
             ],
             [
              0.4444444444444444,
              "#bd3786"
             ],
             [
              0.5555555555555556,
              "#d8576b"
             ],
             [
              0.6666666666666666,
              "#ed7953"
             ],
             [
              0.7777777777777778,
              "#fb9f3a"
             ],
             [
              0.8888888888888888,
              "#fdca26"
             ],
             [
              1,
              "#f0f921"
             ]
            ],
            "type": "heatmap"
           }
          ],
          "heatmapgl": [
           {
            "colorbar": {
             "outlinewidth": 0,
             "ticks": ""
            },
            "colorscale": [
             [
              0,
              "#0d0887"
             ],
             [
              0.1111111111111111,
              "#46039f"
             ],
             [
              0.2222222222222222,
              "#7201a8"
             ],
             [
              0.3333333333333333,
              "#9c179e"
             ],
             [
              0.4444444444444444,
              "#bd3786"
             ],
             [
              0.5555555555555556,
              "#d8576b"
             ],
             [
              0.6666666666666666,
              "#ed7953"
             ],
             [
              0.7777777777777778,
              "#fb9f3a"
             ],
             [
              0.8888888888888888,
              "#fdca26"
             ],
             [
              1,
              "#f0f921"
             ]
            ],
            "type": "heatmapgl"
           }
          ],
          "histogram": [
           {
            "marker": {
             "colorbar": {
              "outlinewidth": 0,
              "ticks": ""
             }
            },
            "type": "histogram"
           }
          ],
          "histogram2d": [
           {
            "colorbar": {
             "outlinewidth": 0,
             "ticks": ""
            },
            "colorscale": [
             [
              0,
              "#0d0887"
             ],
             [
              0.1111111111111111,
              "#46039f"
             ],
             [
              0.2222222222222222,
              "#7201a8"
             ],
             [
              0.3333333333333333,
              "#9c179e"
             ],
             [
              0.4444444444444444,
              "#bd3786"
             ],
             [
              0.5555555555555556,
              "#d8576b"
             ],
             [
              0.6666666666666666,
              "#ed7953"
             ],
             [
              0.7777777777777778,
              "#fb9f3a"
             ],
             [
              0.8888888888888888,
              "#fdca26"
             ],
             [
              1,
              "#f0f921"
             ]
            ],
            "type": "histogram2d"
           }
          ],
          "histogram2dcontour": [
           {
            "colorbar": {
             "outlinewidth": 0,
             "ticks": ""
            },
            "colorscale": [
             [
              0,
              "#0d0887"
             ],
             [
              0.1111111111111111,
              "#46039f"
             ],
             [
              0.2222222222222222,
              "#7201a8"
             ],
             [
              0.3333333333333333,
              "#9c179e"
             ],
             [
              0.4444444444444444,
              "#bd3786"
             ],
             [
              0.5555555555555556,
              "#d8576b"
             ],
             [
              0.6666666666666666,
              "#ed7953"
             ],
             [
              0.7777777777777778,
              "#fb9f3a"
             ],
             [
              0.8888888888888888,
              "#fdca26"
             ],
             [
              1,
              "#f0f921"
             ]
            ],
            "type": "histogram2dcontour"
           }
          ],
          "mesh3d": [
           {
            "colorbar": {
             "outlinewidth": 0,
             "ticks": ""
            },
            "type": "mesh3d"
           }
          ],
          "parcoords": [
           {
            "line": {
             "colorbar": {
              "outlinewidth": 0,
              "ticks": ""
             }
            },
            "type": "parcoords"
           }
          ],
          "pie": [
           {
            "automargin": true,
            "type": "pie"
           }
          ],
          "scatter": [
           {
            "marker": {
             "colorbar": {
              "outlinewidth": 0,
              "ticks": ""
             }
            },
            "type": "scatter"
           }
          ],
          "scatter3d": [
           {
            "line": {
             "colorbar": {
              "outlinewidth": 0,
              "ticks": ""
             }
            },
            "marker": {
             "colorbar": {
              "outlinewidth": 0,
              "ticks": ""
             }
            },
            "type": "scatter3d"
           }
          ],
          "scattercarpet": [
           {
            "marker": {
             "colorbar": {
              "outlinewidth": 0,
              "ticks": ""
             }
            },
            "type": "scattercarpet"
           }
          ],
          "scattergeo": [
           {
            "marker": {
             "colorbar": {
              "outlinewidth": 0,
              "ticks": ""
             }
            },
            "type": "scattergeo"
           }
          ],
          "scattergl": [
           {
            "marker": {
             "colorbar": {
              "outlinewidth": 0,
              "ticks": ""
             }
            },
            "type": "scattergl"
           }
          ],
          "scattermapbox": [
           {
            "marker": {
             "colorbar": {
              "outlinewidth": 0,
              "ticks": ""
             }
            },
            "type": "scattermapbox"
           }
          ],
          "scatterpolar": [
           {
            "marker": {
             "colorbar": {
              "outlinewidth": 0,
              "ticks": ""
             }
            },
            "type": "scatterpolar"
           }
          ],
          "scatterpolargl": [
           {
            "marker": {
             "colorbar": {
              "outlinewidth": 0,
              "ticks": ""
             }
            },
            "type": "scatterpolargl"
           }
          ],
          "scatterternary": [
           {
            "marker": {
             "colorbar": {
              "outlinewidth": 0,
              "ticks": ""
             }
            },
            "type": "scatterternary"
           }
          ],
          "surface": [
           {
            "colorbar": {
             "outlinewidth": 0,
             "ticks": ""
            },
            "colorscale": [
             [
              0,
              "#0d0887"
             ],
             [
              0.1111111111111111,
              "#46039f"
             ],
             [
              0.2222222222222222,
              "#7201a8"
             ],
             [
              0.3333333333333333,
              "#9c179e"
             ],
             [
              0.4444444444444444,
              "#bd3786"
             ],
             [
              0.5555555555555556,
              "#d8576b"
             ],
             [
              0.6666666666666666,
              "#ed7953"
             ],
             [
              0.7777777777777778,
              "#fb9f3a"
             ],
             [
              0.8888888888888888,
              "#fdca26"
             ],
             [
              1,
              "#f0f921"
             ]
            ],
            "type": "surface"
           }
          ],
          "table": [
           {
            "cells": {
             "fill": {
              "color": "#EBF0F8"
             },
             "line": {
              "color": "white"
             }
            },
            "header": {
             "fill": {
              "color": "#C8D4E3"
             },
             "line": {
              "color": "white"
             }
            },
            "type": "table"
           }
          ]
         },
         "layout": {
          "annotationdefaults": {
           "arrowcolor": "#2a3f5f",
           "arrowhead": 0,
           "arrowwidth": 1
          },
          "coloraxis": {
           "colorbar": {
            "outlinewidth": 0,
            "ticks": ""
           }
          },
          "colorscale": {
           "diverging": [
            [
             0,
             "#8e0152"
            ],
            [
             0.1,
             "#c51b7d"
            ],
            [
             0.2,
             "#de77ae"
            ],
            [
             0.3,
             "#f1b6da"
            ],
            [
             0.4,
             "#fde0ef"
            ],
            [
             0.5,
             "#f7f7f7"
            ],
            [
             0.6,
             "#e6f5d0"
            ],
            [
             0.7,
             "#b8e186"
            ],
            [
             0.8,
             "#7fbc41"
            ],
            [
             0.9,
             "#4d9221"
            ],
            [
             1,
             "#276419"
            ]
           ],
           "sequential": [
            [
             0,
             "#0d0887"
            ],
            [
             0.1111111111111111,
             "#46039f"
            ],
            [
             0.2222222222222222,
             "#7201a8"
            ],
            [
             0.3333333333333333,
             "#9c179e"
            ],
            [
             0.4444444444444444,
             "#bd3786"
            ],
            [
             0.5555555555555556,
             "#d8576b"
            ],
            [
             0.6666666666666666,
             "#ed7953"
            ],
            [
             0.7777777777777778,
             "#fb9f3a"
            ],
            [
             0.8888888888888888,
             "#fdca26"
            ],
            [
             1,
             "#f0f921"
            ]
           ],
           "sequentialminus": [
            [
             0,
             "#0d0887"
            ],
            [
             0.1111111111111111,
             "#46039f"
            ],
            [
             0.2222222222222222,
             "#7201a8"
            ],
            [
             0.3333333333333333,
             "#9c179e"
            ],
            [
             0.4444444444444444,
             "#bd3786"
            ],
            [
             0.5555555555555556,
             "#d8576b"
            ],
            [
             0.6666666666666666,
             "#ed7953"
            ],
            [
             0.7777777777777778,
             "#fb9f3a"
            ],
            [
             0.8888888888888888,
             "#fdca26"
            ],
            [
             1,
             "#f0f921"
            ]
           ]
          },
          "colorway": [
           "#636efa",
           "#EF553B",
           "#00cc96",
           "#ab63fa",
           "#FFA15A",
           "#19d3f3",
           "#FF6692",
           "#B6E880",
           "#FF97FF",
           "#FECB52"
          ],
          "font": {
           "color": "#2a3f5f"
          },
          "geo": {
           "bgcolor": "white",
           "lakecolor": "white",
           "landcolor": "#E5ECF6",
           "showlakes": true,
           "showland": true,
           "subunitcolor": "white"
          },
          "hoverlabel": {
           "align": "left"
          },
          "hovermode": "closest",
          "mapbox": {
           "style": "light"
          },
          "paper_bgcolor": "white",
          "plot_bgcolor": "#E5ECF6",
          "polar": {
           "angularaxis": {
            "gridcolor": "white",
            "linecolor": "white",
            "ticks": ""
           },
           "bgcolor": "#E5ECF6",
           "radialaxis": {
            "gridcolor": "white",
            "linecolor": "white",
            "ticks": ""
           }
          },
          "scene": {
           "xaxis": {
            "backgroundcolor": "#E5ECF6",
            "gridcolor": "white",
            "gridwidth": 2,
            "linecolor": "white",
            "showbackground": true,
            "ticks": "",
            "zerolinecolor": "white"
           },
           "yaxis": {
            "backgroundcolor": "#E5ECF6",
            "gridcolor": "white",
            "gridwidth": 2,
            "linecolor": "white",
            "showbackground": true,
            "ticks": "",
            "zerolinecolor": "white"
           },
           "zaxis": {
            "backgroundcolor": "#E5ECF6",
            "gridcolor": "white",
            "gridwidth": 2,
            "linecolor": "white",
            "showbackground": true,
            "ticks": "",
            "zerolinecolor": "white"
           }
          },
          "shapedefaults": {
           "line": {
            "color": "#2a3f5f"
           }
          },
          "ternary": {
           "aaxis": {
            "gridcolor": "white",
            "linecolor": "white",
            "ticks": ""
           },
           "baxis": {
            "gridcolor": "white",
            "linecolor": "white",
            "ticks": ""
           },
           "bgcolor": "#E5ECF6",
           "caxis": {
            "gridcolor": "white",
            "linecolor": "white",
            "ticks": ""
           }
          },
          "title": {
           "x": 0.05
          },
          "xaxis": {
           "automargin": true,
           "gridcolor": "white",
           "linecolor": "white",
           "ticks": "",
           "title": {
            "standoff": 15
           },
           "zerolinecolor": "white",
           "zerolinewidth": 2
          },
          "yaxis": {
           "automargin": true,
           "gridcolor": "white",
           "linecolor": "white",
           "ticks": "",
           "title": {
            "standoff": 15
           },
           "zerolinecolor": "white",
           "zerolinewidth": 2
          }
         }
        },
        "xaxis": {
         "anchor": "y",
         "domain": [
          0,
          0.8358
         ],
         "title": {
          "text": "size"
         }
        },
        "xaxis2": {
         "anchor": "y2",
         "domain": [
          0.8408,
          1
         ],
         "matches": "x2",
         "showgrid": false,
         "showline": false,
         "showticklabels": false,
         "ticks": ""
        },
        "xaxis3": {
         "anchor": "y3",
         "domain": [
          0,
          0.8358
         ],
         "matches": "x",
         "showgrid": true,
         "showticklabels": false
        },
        "xaxis4": {
         "anchor": "y4",
         "domain": [
          0.8408,
          1
         ],
         "matches": "x2",
         "showgrid": false,
         "showline": false,
         "showticklabels": false,
         "ticks": ""
        },
        "yaxis": {
         "anchor": "x",
         "domain": [
          0,
          0.8316
         ],
         "title": {
          "text": "price"
         }
        },
        "yaxis2": {
         "anchor": "x2",
         "domain": [
          0,
          0.8316
         ],
         "matches": "y",
         "showgrid": true,
         "showticklabels": false
        },
        "yaxis3": {
         "anchor": "x3",
         "domain": [
          0.8416,
          1
         ],
         "matches": "y3",
         "showgrid": false,
         "showline": false,
         "showticklabels": false,
         "ticks": ""
        },
        "yaxis4": {
         "anchor": "x4",
         "domain": [
          0.8416,
          1
         ],
         "matches": "y3",
         "showgrid": true,
         "showline": false,
         "showticklabels": false,
         "ticks": ""
        }
       }
      },
      "text/html": [
       "<div>\n",
       "        \n",
       "        \n",
       "            <div id=\"0486fcb5-64e7-4715-bd13-94a1a2c93065\" class=\"plotly-graph-div\" style=\"height:525px; width:100%;\"></div>\n",
       "            <script type=\"text/javascript\">\n",
       "                require([\"plotly\"], function(Plotly) {\n",
       "                    window.PLOTLYENV=window.PLOTLYENV || {};\n",
       "                    \n",
       "                if (document.getElementById(\"0486fcb5-64e7-4715-bd13-94a1a2c93065\")) {\n",
       "                    Plotly.newPlot(\n",
       "                        '0486fcb5-64e7-4715-bd13-94a1a2c93065',\n",
       "                        [{\"hovertemplate\": \"size=%{x}<br>price=%{y}<extra></extra>\", \"legendgroup\": \"\", \"marker\": {\"color\": \"#636efa\", \"symbol\": \"circle\"}, \"mode\": \"markers\", \"name\": \"\", \"showlegend\": false, \"type\": \"scatter\", \"x\": [643.09, 656.22, 487.29, 1504.75, 1275.46, 575.19, 570.89, 620.82, 682.26, 694.52, 1060.36, 1842.51, 694.52, 1009.25, 1300.96, 1379.72, 690.54, 623.94, 681.07, 1027.76, 620.71, 549.69, 1207.45, 518.38, 525.81, 1103.3, 570.89, 1334.1, 681.07, 1496.36, 1010.33, 681.07, 597.9, 525.81, 857.54, 622.97, 823.21, 570.25, 685.48, 698.29, 1021.95, 682.26, 823.21, 1334.1, 1060.36, 698.29, 633.19, 698.29, 633.19, 617.05, 647.5, 1021.95, 1021.95, 727.88, 647.5, 1508.84, 1032.06, 1283.85, 827.84, 569.17, 828.16, 698.5, 1205.62, 1021.95, 685.48, 827.09, 1009.25, 549.8, 685.48, 1496.36, 1021.95, 643.41, 656.22, 549.8, 685.48, 685.48, 1183.46, 1334.1, 682.26, 1188.62, 681.07, 1122.34, 681.07, 643.09, 685.48, 1009.25, 479.75, 1028.41, 601.66, 1236.93, 694.52, 1071.55, 694.52, 698.29, 698.29, 549.8, 1037.44, 1504.75, 648.29, 705.29], \"xaxis\": \"x\", \"y\": [234314.14399999997, 228581.52800000002, 281626.336, 401255.60799999995, 458674.256, 245050.28, 265129.064, 175716.48, 331101.344, 218630.608, 279555.096, 494778.992, 215472.104, 418753.008, 444192.008, 440201.61600000004, 248337.6, 234178.16, 225451.984, 299416.976, 268125.08, 171795.24, 412569.472, 183459.488, 168047.264, 362519.72, 271793.312, 406852.304, 297760.44, 368988.43200000003, 301635.728, 225452.32, 207742.24800000002, 191486.896, 285223.17600000004, 302000.92, 269225.92, 233493.208, 292965.216, 245747.2, 310045.712, 217468.224, 287350.0, 414682.648, 293044.49600000004, 300061.48, 204302.97600000002, 201778.048, 257828.41600000003, 262423.50399999996, 225656.12, 393069.76, 258637.008, 269523.05600000004, 255629.16, 500681.12799999997, 320345.52, 395242.096, 330677.128, 251332.592, 251188.824, 263311.696, 359674.44, 334938.872, 302393.38399999996, 304587.272, 355251.2, 271726.752, 294582.94399999996, 454512.76, 276875.632, 181587.576, 298926.49600000004, 211724.09600000002, 228313.02399999998, 286161.6, 382120.152, 365863.936, 251560.04, 342988.456, 180307.21600000001, 408637.816, 190909.056, 282683.544, 303597.216, 376253.80799999996, 154282.128, 327252.11199999996, 211904.53600000002, 354512.112, 251140.65600000002, 338078.16799999995, 298170.88, 266684.248, 262477.856, 252460.4, 310522.592, 383635.56799999997, 225145.24800000002, 274922.856], \"yaxis\": \"y\"}, {\"alignmentgroup\": \"True\", \"hovertemplate\": \"size=%{x}<extra></extra>\", \"legendgroup\": \"\", \"marker\": {\"color\": \"#636efa\", \"symbol\": \"circle\"}, \"name\": \"\", \"notched\": true, \"offsetgroup\": \"\", \"showlegend\": false, \"type\": \"box\", \"x\": [643.09, 656.22, 487.29, 1504.75, 1275.46, 575.19, 570.89, 620.82, 682.26, 694.52, 1060.36, 1842.51, 694.52, 1009.25, 1300.96, 1379.72, 690.54, 623.94, 681.07, 1027.76, 620.71, 549.69, 1207.45, 518.38, 525.81, 1103.3, 570.89, 1334.1, 681.07, 1496.36, 1010.33, 681.07, 597.9, 525.81, 857.54, 622.97, 823.21, 570.25, 685.48, 698.29, 1021.95, 682.26, 823.21, 1334.1, 1060.36, 698.29, 633.19, 698.29, 633.19, 617.05, 647.5, 1021.95, 1021.95, 727.88, 647.5, 1508.84, 1032.06, 1283.85, 827.84, 569.17, 828.16, 698.5, 1205.62, 1021.95, 685.48, 827.09, 1009.25, 549.8, 685.48, 1496.36, 1021.95, 643.41, 656.22, 549.8, 685.48, 685.48, 1183.46, 1334.1, 682.26, 1188.62, 681.07, 1122.34, 681.07, 643.09, 685.48, 1009.25, 479.75, 1028.41, 601.66, 1236.93, 694.52, 1071.55, 694.52, 698.29, 698.29, 549.8, 1037.44, 1504.75, 648.29, 705.29], \"xaxis\": \"x3\", \"yaxis\": \"y3\"}, {\"alignmentgroup\": \"True\", \"hovertemplate\": \"price=%{y}<extra></extra>\", \"legendgroup\": \"\", \"marker\": {\"color\": \"#636efa\", \"symbol\": \"circle\"}, \"name\": \"\", \"offsetgroup\": \"\", \"scalegroup\": \"y\", \"showlegend\": false, \"type\": \"violin\", \"xaxis\": \"x2\", \"y\": [234314.14399999997, 228581.52800000002, 281626.336, 401255.60799999995, 458674.256, 245050.28, 265129.064, 175716.48, 331101.344, 218630.608, 279555.096, 494778.992, 215472.104, 418753.008, 444192.008, 440201.61600000004, 248337.6, 234178.16, 225451.984, 299416.976, 268125.08, 171795.24, 412569.472, 183459.488, 168047.264, 362519.72, 271793.312, 406852.304, 297760.44, 368988.43200000003, 301635.728, 225452.32, 207742.24800000002, 191486.896, 285223.17600000004, 302000.92, 269225.92, 233493.208, 292965.216, 245747.2, 310045.712, 217468.224, 287350.0, 414682.648, 293044.49600000004, 300061.48, 204302.97600000002, 201778.048, 257828.41600000003, 262423.50399999996, 225656.12, 393069.76, 258637.008, 269523.05600000004, 255629.16, 500681.12799999997, 320345.52, 395242.096, 330677.128, 251332.592, 251188.824, 263311.696, 359674.44, 334938.872, 302393.38399999996, 304587.272, 355251.2, 271726.752, 294582.94399999996, 454512.76, 276875.632, 181587.576, 298926.49600000004, 211724.09600000002, 228313.02399999998, 286161.6, 382120.152, 365863.936, 251560.04, 342988.456, 180307.21600000001, 408637.816, 190909.056, 282683.544, 303597.216, 376253.80799999996, 154282.128, 327252.11199999996, 211904.53600000002, 354512.112, 251140.65600000002, 338078.16799999995, 298170.88, 266684.248, 262477.856, 252460.4, 310522.592, 383635.56799999997, 225145.24800000002, 274922.856], \"yaxis\": \"y2\"}, {\"hovertemplate\": \"<b>OLS trendline</b><br>price = 223.179 * size + 101913<br>R<sup>2</sup>=0.744739<br><br>size=%{x}<br>price=%{y} <b>(trend)</b><extra></extra>\", \"legendgroup\": \"\", \"marker\": {\"color\": \"#636efa\", \"symbol\": \"circle\"}, \"mode\": \"lines\", \"name\": \"\", \"showlegend\": false, \"type\": \"scatter\", \"x\": [479.75, 487.29, 518.38, 525.81, 525.81, 549.69, 549.8, 549.8, 549.8, 569.17, 570.25, 570.89, 570.89, 575.19, 597.9, 601.66, 617.05, 620.71, 620.82, 622.97, 623.94, 633.19, 633.19, 643.09, 643.09, 643.41, 647.5, 647.5, 648.29, 656.22, 656.22, 681.07, 681.07, 681.07, 681.07, 681.07, 682.26, 682.26, 682.26, 685.48, 685.48, 685.48, 685.48, 685.48, 685.48, 690.54, 694.52, 694.52, 694.52, 694.52, 698.29, 698.29, 698.29, 698.29, 698.29, 698.5, 705.29, 727.88, 823.21, 823.21, 827.09, 827.84, 828.16, 857.54, 1009.25, 1009.25, 1009.25, 1010.33, 1021.95, 1021.95, 1021.95, 1021.95, 1021.95, 1027.76, 1028.41, 1032.06, 1037.44, 1060.36, 1060.36, 1071.55, 1103.3, 1122.34, 1183.46, 1188.62, 1205.62, 1207.45, 1236.93, 1275.46, 1283.85, 1300.96, 1334.1, 1334.1, 1334.1, 1379.72, 1496.36, 1496.36, 1504.75, 1504.75, 1508.84, 1842.51], \"xaxis\": \"x\", \"y\": [208982.6035609919, 210665.37128015526, 217603.9983874216, 219262.2164448995, 219262.2164448995, 224591.72481805875, 224616.27447974414, 224616.27447974414, 224616.27447974414, 228939.24672380168, 229180.2797658039, 229323.1141610644, 229323.1141610644, 230282.78275422123, 235351.17199854477, 236190.32407070047, 239625.0449192315, 240441.87911712777, 240466.4287788132, 240946.2630753916, 241162.74645570834, 243227.14982470847, 243227.14982470847, 245436.61937639507, 245436.61937639507, 245508.03657402535, 246420.8376312373, 246420.8376312373, 246597.148837887, 248366.95626666228, 248366.95626666228, 253912.94802013828, 253912.94802013828, 253912.94802013828, 253912.94802013828, 253912.94802013828, 254178.53072382585, 254178.53072382585, 254178.53072382585, 254897.1662749805, 254897.1662749805, 254897.1662749805, 254897.1662749805, 254897.1662749805, 254897.1662749805, 256026.4507125092, 256914.70210803574, 256914.70210803574, 256914.70210803574, 256914.70210803574, 257756.0859676174, 257756.0859676174, 257756.0859676174, 257756.0859676174, 257756.0859676174, 257802.95350356228, 259318.33716577964, 264359.94496099185, 285635.5744925358, 285635.5744925358, 286501.5080138028, 286668.8920707488, 286740.30926837906, 293297.3007258086, 327155.74776483653, 327155.74776483653, 327155.74776483653, 327396.7808068387, 329990.11779578804, 329990.11779578804, 329990.11779578804, 329990.11779578804, 329990.11779578804, 331286.7862902627, 331431.8524729492, 332246.4548834195, 333447.15651857853, 338562.4132988469, 338562.4132988469, 341059.78342848056, 348145.70850585937, 352395.0317648606, 366035.7165122431, 367187.3188240312, 370981.3574481396, 371389.7745470877, 377969.08387877676, 386568.160830947, 388440.6304813157, 392259.21876710944, 399655.3622966947, 399655.3622966947, 399655.3622966947, 409836.7765338607, 435868.34507009573, 435868.34507009573, 437740.81472046446, 437740.81472046446, 438653.6157776764, 513121.66681921907], \"yaxis\": \"y\"}],\n",
       "                        {\"legend\": {\"tracegroupgap\": 0}, \"margin\": {\"t\": 60}, \"template\": {\"data\": {\"bar\": [{\"error_x\": {\"color\": \"#2a3f5f\"}, \"error_y\": {\"color\": \"#2a3f5f\"}, \"marker\": {\"line\": {\"color\": \"#E5ECF6\", \"width\": 0.5}}, \"type\": \"bar\"}], \"barpolar\": [{\"marker\": {\"line\": {\"color\": \"#E5ECF6\", \"width\": 0.5}}, \"type\": \"barpolar\"}], \"carpet\": [{\"aaxis\": {\"endlinecolor\": \"#2a3f5f\", \"gridcolor\": \"white\", \"linecolor\": \"white\", \"minorgridcolor\": \"white\", \"startlinecolor\": \"#2a3f5f\"}, \"baxis\": {\"endlinecolor\": \"#2a3f5f\", \"gridcolor\": \"white\", \"linecolor\": \"white\", \"minorgridcolor\": \"white\", \"startlinecolor\": \"#2a3f5f\"}, \"type\": \"carpet\"}], \"choropleth\": [{\"colorbar\": {\"outlinewidth\": 0, \"ticks\": \"\"}, \"type\": \"choropleth\"}], \"contour\": [{\"colorbar\": {\"outlinewidth\": 0, \"ticks\": \"\"}, \"colorscale\": [[0.0, \"#0d0887\"], [0.1111111111111111, \"#46039f\"], [0.2222222222222222, \"#7201a8\"], [0.3333333333333333, \"#9c179e\"], [0.4444444444444444, \"#bd3786\"], [0.5555555555555556, \"#d8576b\"], [0.6666666666666666, \"#ed7953\"], [0.7777777777777778, \"#fb9f3a\"], [0.8888888888888888, \"#fdca26\"], [1.0, \"#f0f921\"]], \"type\": \"contour\"}], \"contourcarpet\": [{\"colorbar\": {\"outlinewidth\": 0, \"ticks\": \"\"}, \"type\": \"contourcarpet\"}], \"heatmap\": [{\"colorbar\": {\"outlinewidth\": 0, \"ticks\": \"\"}, \"colorscale\": [[0.0, \"#0d0887\"], [0.1111111111111111, \"#46039f\"], [0.2222222222222222, \"#7201a8\"], [0.3333333333333333, \"#9c179e\"], [0.4444444444444444, \"#bd3786\"], [0.5555555555555556, \"#d8576b\"], [0.6666666666666666, \"#ed7953\"], [0.7777777777777778, \"#fb9f3a\"], [0.8888888888888888, \"#fdca26\"], [1.0, \"#f0f921\"]], \"type\": \"heatmap\"}], \"heatmapgl\": [{\"colorbar\": {\"outlinewidth\": 0, \"ticks\": \"\"}, \"colorscale\": [[0.0, \"#0d0887\"], [0.1111111111111111, \"#46039f\"], [0.2222222222222222, \"#7201a8\"], [0.3333333333333333, \"#9c179e\"], [0.4444444444444444, \"#bd3786\"], [0.5555555555555556, \"#d8576b\"], [0.6666666666666666, \"#ed7953\"], [0.7777777777777778, \"#fb9f3a\"], [0.8888888888888888, \"#fdca26\"], [1.0, \"#f0f921\"]], \"type\": \"heatmapgl\"}], \"histogram\": [{\"marker\": {\"colorbar\": {\"outlinewidth\": 0, \"ticks\": \"\"}}, \"type\": \"histogram\"}], \"histogram2d\": [{\"colorbar\": {\"outlinewidth\": 0, \"ticks\": \"\"}, \"colorscale\": [[0.0, \"#0d0887\"], [0.1111111111111111, \"#46039f\"], [0.2222222222222222, \"#7201a8\"], [0.3333333333333333, \"#9c179e\"], [0.4444444444444444, \"#bd3786\"], [0.5555555555555556, \"#d8576b\"], [0.6666666666666666, \"#ed7953\"], [0.7777777777777778, \"#fb9f3a\"], [0.8888888888888888, \"#fdca26\"], [1.0, \"#f0f921\"]], \"type\": \"histogram2d\"}], \"histogram2dcontour\": [{\"colorbar\": {\"outlinewidth\": 0, \"ticks\": \"\"}, \"colorscale\": [[0.0, \"#0d0887\"], [0.1111111111111111, \"#46039f\"], [0.2222222222222222, \"#7201a8\"], [0.3333333333333333, \"#9c179e\"], [0.4444444444444444, \"#bd3786\"], [0.5555555555555556, \"#d8576b\"], [0.6666666666666666, \"#ed7953\"], [0.7777777777777778, \"#fb9f3a\"], [0.8888888888888888, \"#fdca26\"], [1.0, \"#f0f921\"]], \"type\": \"histogram2dcontour\"}], \"mesh3d\": [{\"colorbar\": {\"outlinewidth\": 0, \"ticks\": \"\"}, \"type\": \"mesh3d\"}], \"parcoords\": [{\"line\": {\"colorbar\": {\"outlinewidth\": 0, \"ticks\": \"\"}}, \"type\": \"parcoords\"}], \"pie\": [{\"automargin\": true, \"type\": \"pie\"}], \"scatter\": [{\"marker\": {\"colorbar\": {\"outlinewidth\": 0, \"ticks\": \"\"}}, \"type\": \"scatter\"}], \"scatter3d\": [{\"line\": {\"colorbar\": {\"outlinewidth\": 0, \"ticks\": \"\"}}, \"marker\": {\"colorbar\": {\"outlinewidth\": 0, \"ticks\": \"\"}}, \"type\": \"scatter3d\"}], \"scattercarpet\": [{\"marker\": {\"colorbar\": {\"outlinewidth\": 0, \"ticks\": \"\"}}, \"type\": \"scattercarpet\"}], \"scattergeo\": [{\"marker\": {\"colorbar\": {\"outlinewidth\": 0, \"ticks\": \"\"}}, \"type\": \"scattergeo\"}], \"scattergl\": [{\"marker\": {\"colorbar\": {\"outlinewidth\": 0, \"ticks\": \"\"}}, \"type\": \"scattergl\"}], \"scattermapbox\": [{\"marker\": {\"colorbar\": {\"outlinewidth\": 0, \"ticks\": \"\"}}, \"type\": \"scattermapbox\"}], \"scatterpolar\": [{\"marker\": {\"colorbar\": {\"outlinewidth\": 0, \"ticks\": \"\"}}, \"type\": \"scatterpolar\"}], \"scatterpolargl\": [{\"marker\": {\"colorbar\": {\"outlinewidth\": 0, \"ticks\": \"\"}}, \"type\": \"scatterpolargl\"}], \"scatterternary\": [{\"marker\": {\"colorbar\": {\"outlinewidth\": 0, \"ticks\": \"\"}}, \"type\": \"scatterternary\"}], \"surface\": [{\"colorbar\": {\"outlinewidth\": 0, \"ticks\": \"\"}, \"colorscale\": [[0.0, \"#0d0887\"], [0.1111111111111111, \"#46039f\"], [0.2222222222222222, \"#7201a8\"], [0.3333333333333333, \"#9c179e\"], [0.4444444444444444, \"#bd3786\"], [0.5555555555555556, \"#d8576b\"], [0.6666666666666666, \"#ed7953\"], [0.7777777777777778, \"#fb9f3a\"], [0.8888888888888888, \"#fdca26\"], [1.0, \"#f0f921\"]], \"type\": \"surface\"}], \"table\": [{\"cells\": {\"fill\": {\"color\": \"#EBF0F8\"}, \"line\": {\"color\": \"white\"}}, \"header\": {\"fill\": {\"color\": \"#C8D4E3\"}, \"line\": {\"color\": \"white\"}}, \"type\": \"table\"}]}, \"layout\": {\"annotationdefaults\": {\"arrowcolor\": \"#2a3f5f\", \"arrowhead\": 0, \"arrowwidth\": 1}, \"coloraxis\": {\"colorbar\": {\"outlinewidth\": 0, \"ticks\": \"\"}}, \"colorscale\": {\"diverging\": [[0, \"#8e0152\"], [0.1, \"#c51b7d\"], [0.2, \"#de77ae\"], [0.3, \"#f1b6da\"], [0.4, \"#fde0ef\"], [0.5, \"#f7f7f7\"], [0.6, \"#e6f5d0\"], [0.7, \"#b8e186\"], [0.8, \"#7fbc41\"], [0.9, \"#4d9221\"], [1, \"#276419\"]], \"sequential\": [[0.0, \"#0d0887\"], [0.1111111111111111, \"#46039f\"], [0.2222222222222222, \"#7201a8\"], [0.3333333333333333, \"#9c179e\"], [0.4444444444444444, \"#bd3786\"], [0.5555555555555556, \"#d8576b\"], [0.6666666666666666, \"#ed7953\"], [0.7777777777777778, \"#fb9f3a\"], [0.8888888888888888, \"#fdca26\"], [1.0, \"#f0f921\"]], \"sequentialminus\": [[0.0, \"#0d0887\"], [0.1111111111111111, \"#46039f\"], [0.2222222222222222, \"#7201a8\"], [0.3333333333333333, \"#9c179e\"], [0.4444444444444444, \"#bd3786\"], [0.5555555555555556, \"#d8576b\"], [0.6666666666666666, \"#ed7953\"], [0.7777777777777778, \"#fb9f3a\"], [0.8888888888888888, \"#fdca26\"], [1.0, \"#f0f921\"]]}, \"colorway\": [\"#636efa\", \"#EF553B\", \"#00cc96\", \"#ab63fa\", \"#FFA15A\", \"#19d3f3\", \"#FF6692\", \"#B6E880\", \"#FF97FF\", \"#FECB52\"], \"font\": {\"color\": \"#2a3f5f\"}, \"geo\": {\"bgcolor\": \"white\", \"lakecolor\": \"white\", \"landcolor\": \"#E5ECF6\", \"showlakes\": true, \"showland\": true, \"subunitcolor\": \"white\"}, \"hoverlabel\": {\"align\": \"left\"}, \"hovermode\": \"closest\", \"mapbox\": {\"style\": \"light\"}, \"paper_bgcolor\": \"white\", \"plot_bgcolor\": \"#E5ECF6\", \"polar\": {\"angularaxis\": {\"gridcolor\": \"white\", \"linecolor\": \"white\", \"ticks\": \"\"}, \"bgcolor\": \"#E5ECF6\", \"radialaxis\": {\"gridcolor\": \"white\", \"linecolor\": \"white\", \"ticks\": \"\"}}, \"scene\": {\"xaxis\": {\"backgroundcolor\": \"#E5ECF6\", \"gridcolor\": \"white\", \"gridwidth\": 2, \"linecolor\": \"white\", \"showbackground\": true, \"ticks\": \"\", \"zerolinecolor\": \"white\"}, \"yaxis\": {\"backgroundcolor\": \"#E5ECF6\", \"gridcolor\": \"white\", \"gridwidth\": 2, \"linecolor\": \"white\", \"showbackground\": true, \"ticks\": \"\", \"zerolinecolor\": \"white\"}, \"zaxis\": {\"backgroundcolor\": \"#E5ECF6\", \"gridcolor\": \"white\", \"gridwidth\": 2, \"linecolor\": \"white\", \"showbackground\": true, \"ticks\": \"\", \"zerolinecolor\": \"white\"}}, \"shapedefaults\": {\"line\": {\"color\": \"#2a3f5f\"}}, \"ternary\": {\"aaxis\": {\"gridcolor\": \"white\", \"linecolor\": \"white\", \"ticks\": \"\"}, \"baxis\": {\"gridcolor\": \"white\", \"linecolor\": \"white\", \"ticks\": \"\"}, \"bgcolor\": \"#E5ECF6\", \"caxis\": {\"gridcolor\": \"white\", \"linecolor\": \"white\", \"ticks\": \"\"}}, \"title\": {\"x\": 0.05}, \"xaxis\": {\"automargin\": true, \"gridcolor\": \"white\", \"linecolor\": \"white\", \"ticks\": \"\", \"title\": {\"standoff\": 15}, \"zerolinecolor\": \"white\", \"zerolinewidth\": 2}, \"yaxis\": {\"automargin\": true, \"gridcolor\": \"white\", \"linecolor\": \"white\", \"ticks\": \"\", \"title\": {\"standoff\": 15}, \"zerolinecolor\": \"white\", \"zerolinewidth\": 2}}}, \"xaxis\": {\"anchor\": \"y\", \"domain\": [0.0, 0.8358], \"title\": {\"text\": \"size\"}}, \"xaxis2\": {\"anchor\": \"y2\", \"domain\": [0.8408, 1.0], \"matches\": \"x2\", \"showgrid\": false, \"showline\": false, \"showticklabels\": false, \"ticks\": \"\"}, \"xaxis3\": {\"anchor\": \"y3\", \"domain\": [0.0, 0.8358], \"matches\": \"x\", \"showgrid\": true, \"showticklabels\": false}, \"xaxis4\": {\"anchor\": \"y4\", \"domain\": [0.8408, 1.0], \"matches\": \"x2\", \"showgrid\": false, \"showline\": false, \"showticklabels\": false, \"ticks\": \"\"}, \"yaxis\": {\"anchor\": \"x\", \"domain\": [0.0, 0.8316], \"title\": {\"text\": \"price\"}}, \"yaxis2\": {\"anchor\": \"x2\", \"domain\": [0.0, 0.8316], \"matches\": \"y\", \"showgrid\": true, \"showticklabels\": false}, \"yaxis3\": {\"anchor\": \"x3\", \"domain\": [0.8416, 1.0], \"matches\": \"y3\", \"showgrid\": false, \"showline\": false, \"showticklabels\": false, \"ticks\": \"\"}, \"yaxis4\": {\"anchor\": \"x4\", \"domain\": [0.8416, 1.0], \"matches\": \"y3\", \"showgrid\": true, \"showline\": false, \"showticklabels\": false, \"ticks\": \"\"}},\n",
       "                        {\"responsive\": true}\n",
       "                    ).then(function(){\n",
       "                            \n",
       "var gd = document.getElementById('0486fcb5-64e7-4715-bd13-94a1a2c93065');\n",
       "var x = new MutationObserver(function (mutations, observer) {{\n",
       "        var display = window.getComputedStyle(gd).display;\n",
       "        if (!display || display === 'none') {{\n",
       "            console.log([gd, 'removed!']);\n",
       "            Plotly.purge(gd);\n",
       "            observer.disconnect();\n",
       "        }}\n",
       "}});\n",
       "\n",
       "// Listen for the removal of the full notebook cells\n",
       "var notebookContainer = gd.closest('#notebook-container');\n",
       "if (notebookContainer) {{\n",
       "    x.observe(notebookContainer, {childList: true});\n",
       "}}\n",
       "\n",
       "// Listen for the clearing of the current output cell\n",
       "var outputEl = gd.closest('.output');\n",
       "if (outputEl) {{\n",
       "    x.observe(outputEl, {childList: true});\n",
       "}}\n",
       "\n",
       "                        })\n",
       "                };\n",
       "                });\n",
       "            </script>\n",
       "        </div>"
      ]
     },
     "metadata": {},
     "output_type": "display_data"
    }
   ],
   "source": [
    "import plotly.express as px\n",
    "\n",
    "fig = px.scatter(data, x='size', y=\"price\", marginal_y=\"violin\", marginal_x=\"box\", trendline=\"ols\")\n",
    "fig.show()"
   ]
  },
  {
   "cell_type": "code",
   "execution_count": 164,
   "metadata": {},
   "outputs": [],
   "source": [
    "from sklearn.linear_model import LinearRegression\n",
    "from sklearn.model_selection import train_test_split\n",
    "\n",
    "X = data[['size']]\n",
    "Y = data['price']\n",
    "\n",
    "X_train, X_test, Y_train, Y_test = train_test_split(X, Y, test_size=0.3, random_state=0)\n",
    "\n",
    "# with sklearn\n",
    "regr = LinearRegression()\n",
    "regr.fit(X_train, Y_train)\n",
    "\n",
    "Y_pred_train = regr.predict(X_train) # eseguiamo la predizione sul train set\n",
    "Y_pred_test = regr.predict(X_test) # eseguiamo la predizione anche sul test set"
   ]
  },
  {
   "cell_type": "code",
   "execution_count": 165,
   "metadata": {},
   "outputs": [
    {
     "data": {
      "image/png": "[encoded data removed]",
      "text/plain": [
       "<Figure size 432x288 with 1 Axes>"
      ]
     },
     "metadata": {
      "needs_background": "light"
     },
     "output_type": "display_data"
    }
   ],
   "source": [
    "plt.scatter(X, Y)\n",
    "\n",
    "yhat = x1 * regr.coef_[0] + regr.intercept_\n",
    "fig = plt.plot(x1, yhat, lw=2, c='orange')\n",
    "\n",
    "plt.xlabel('Size', fontsize=20)\n",
    "plt.ylabel('Price', fontsize=20)\n",
    "\n",
    "plt.show()"
   ]
  },
  {
   "cell_type": "code",
   "execution_count": 166,
   "metadata": {},
   "outputs": [
    {
     "data": {
      "image/png": "[encoded data removed]",
      "text/plain": [
       "<Figure size 432x288 with 1 Axes>"
      ]
     },
     "metadata": {
      "needs_background": "light"
     },
     "output_type": "display_data"
    }
   ],
   "source": [
    "ax = sns.regplot(x=X, y=Y)\n",
    "plt.show()"
   ]
  },
  {
   "cell_type": "code",
   "execution_count": 167,
   "metadata": {},
   "outputs": [
    {
     "data": {
      "application/vnd.plotly.v1+json": {
       "config": {
        "plotlyServerURL": "https://plot.ly"
       },
       "data": [
        {
         "hovertemplate": "size=%{x}<br>price=%{y}<extra></extra>",
         "legendgroup": "",
         "marker": {
          "color": "#636efa",
          "symbol": "circle"
         },
         "mode": "markers",
         "name": "",
         "showlegend": false,
         "type": "scatter",
         "x": [
          643.09,
          656.22,
          487.29,
          1504.75,
          1275.46,
          575.19,
          570.89,
          620.82,
          682.26,
          694.52,
          1060.36,
          1842.51,
          694.52,
          1009.25,
          1300.96,
          1379.72,
          690.54,
          623.94,
          681.07,
          1027.76,
          620.71,
          549.69,
          1207.45,
          518.38,
          525.81,
          1103.3,
          570.89,
          1334.1,
          681.07,
          1496.36,
          1010.33,
          681.07,
          597.9,
          525.81,
          857.54,
          622.97,
          823.21,
          570.25,
          685.48,
          698.29,
          1021.95,
          682.26,
          823.21,
          1334.1,
          1060.36,
          698.29,
          633.19,
          698.29,
          633.19,
          617.05,
          647.5,
          1021.95,
          1021.95,
          727.88,
          647.5,
          1508.84,
          1032.06,
          1283.85,
          827.84,
          569.17,
          828.16,
          698.5,
          1205.62,
          1021.95,
          685.48,
          827.09,
          1009.25,
          549.8,
          685.48,
          1496.36,
          1021.95,
          643.41,
          656.22,
          549.8,
          685.48,
          685.48,
          1183.46,
          1334.1,
          682.26,
          1188.62,
          681.07,
          1122.34,
          681.07,
          643.09,
          685.48,
          1009.25,
          479.75,
          1028.41,
          601.66,
          1236.93,
          694.52,
          1071.55,
          694.52,
          698.29,
          698.29,
          549.8,
          1037.44,
          1504.75,
          648.29,
          705.29
         ],
         "xaxis": "x",
         "y": [
          234314.14399999997,
          228581.52800000002,
          281626.336,
          401255.60799999995,
          458674.256,
          245050.28,
          265129.064,
          175716.48,
          331101.344,
          218630.608,
          279555.096,
          494778.992,
          215472.104,
          418753.008,
          444192.008,
          440201.61600000004,
          248337.6,
          234178.16,
          225451.984,
          299416.976,
          268125.08,
          171795.24,
          412569.472,
          183459.488,
          168047.264,
          362519.72,
          271793.312,
          406852.304,
          297760.44,
          368988.43200000003,
          301635.728,
          225452.32,
          207742.24800000002,
          191486.896,
          285223.17600000004,
          302000.92,
          269225.92,
          233493.208,
          292965.216,
          245747.2,
          310045.712,
          217468.224,
          287350,
          414682.648,
          293044.49600000004,
          300061.48,
          204302.97600000002,
          201778.048,
          257828.41600000003,
          262423.50399999996,
          225656.12,
          393069.76,
          258637.008,
          269523.05600000004,
          255629.16,
          500681.12799999997,
          320345.52,
          395242.096,
          330677.128,
          251332.592,
          251188.824,
          263311.696,
          359674.44,
          334938.872,
          302393.38399999996,
          304587.272,
          355251.2,
          271726.752,
          294582.94399999996,
          454512.76,
          276875.632,
          181587.576,
          298926.49600000004,
          211724.09600000002,
          228313.02399999998,
          286161.6,
          382120.152,
          365863.936,
          251560.04,
          342988.456,
          180307.21600000001,
          408637.816,
          190909.056,
          282683.544,
          303597.216,
          376253.80799999996,
          154282.128,
          327252.11199999996,
          211904.53600000002,
          354512.112,
          251140.65600000002,
          338078.16799999995,
          298170.88,
          266684.248,
          262477.856,
          252460.4,
          310522.592,
          383635.56799999997,
          225145.24800000002,
          274922.856
         ],
         "yaxis": "y"
        },
        {
         "alignmentgroup": "True",
         "hovertemplate": "size=%{x}<extra></extra>",
         "legendgroup": "",
         "marker": {
          "color": "#636efa",
          "symbol": "circle"
         },
         "name": "",
         "notched": true,
         "offsetgroup": "",
         "showlegend": false,
         "type": "box",
         "x": [
          643.09,
          656.22,
          487.29,
          1504.75,
          1275.46,
          575.19,
          570.89,
          620.82,
          682.26,
          694.52,
          1060.36,
          1842.51,
          694.52,
          1009.25,
          1300.96,
          1379.72,
          690.54,
          623.94,
          681.07,
          1027.76,
          620.71,
          549.69,
          1207.45,
          518.38,
          525.81,
          1103.3,
          570.89,
          1334.1,
          681.07,
          1496.36,
          1010.33,
          681.07,
          597.9,
          525.81,
          857.54,
          622.97,
          823.21,
          570.25,
          685.48,
          698.29,
          1021.95,
          682.26,
          823.21,
          1334.1,
          1060.36,
          698.29,
          633.19,
          698.29,
          633.19,
          617.05,
          647.5,
          1021.95,
          1021.95,
          727.88,
          647.5,
          1508.84,
          1032.06,
          1283.85,
          827.84,
          569.17,
          828.16,
          698.5,
          1205.62,
          1021.95,
          685.48,
          827.09,
          1009.25,
          549.8,
          685.48,
          1496.36,
          1021.95,
          643.41,
          656.22,
          549.8,
          685.48,
          685.48,
          1183.46,
          1334.1,
          682.26,
          1188.62,
          681.07,
          1122.34,
          681.07,
          643.09,
          685.48,
          1009.25,
          479.75,
          1028.41,
          601.66,
          1236.93,
          694.52,
          1071.55,
          694.52,
          698.29,
          698.29,
          549.8,
          1037.44,
          1504.75,
          648.29,
          705.29
         ],
         "xaxis": "x3",
         "yaxis": "y3"
        },
        {
         "alignmentgroup": "True",
         "hovertemplate": "price=%{y}<extra></extra>",
         "legendgroup": "",
         "marker": {
          "color": "#636efa",
          "symbol": "circle"
         },
         "name": "",
         "offsetgroup": "",
         "scalegroup": "y",
         "showlegend": false,
         "type": "violin",
         "xaxis": "x2",
         "y": [
          234314.14399999997,
          228581.52800000002,
          281626.336,
          401255.60799999995,
          458674.256,
          245050.28,
          265129.064,
          175716.48,
          331101.344,
          218630.608,
          279555.096,
          494778.992,
          215472.104,
          418753.008,
          444192.008,
          440201.61600000004,
          248337.6,
          234178.16,
          225451.984,
          299416.976,
          268125.08,
          171795.24,
          412569.472,
          183459.488,
          168047.264,
          362519.72,
          271793.312,
          406852.304,
          297760.44,
          368988.43200000003,
          301635.728,
          225452.32,
          207742.24800000002,
          191486.896,
          285223.17600000004,
          302000.92,
          269225.92,
          233493.208,
          292965.216,
          245747.2,
          310045.712,
          217468.224,
          287350,
          414682.648,
          293044.49600000004,
          300061.48,
          204302.97600000002,
          201778.048,
          257828.41600000003,
          262423.50399999996,
          225656.12,
          393069.76,
          258637.008,
          269523.05600000004,
          255629.16,
          500681.12799999997,
          320345.52,
          395242.096,
          330677.128,
          251332.592,
          251188.824,
          263311.696,
          359674.44,
          334938.872,
          302393.38399999996,
          304587.272,
          355251.2,
          271726.752,
          294582.94399999996,
          454512.76,
          276875.632,
          181587.576,
          298926.49600000004,
          211724.09600000002,
          228313.02399999998,
          286161.6,
          382120.152,
          365863.936,
          251560.04,
          342988.456,
          180307.21600000001,
          408637.816,
          190909.056,
          282683.544,
          303597.216,
          376253.80799999996,
          154282.128,
          327252.11199999996,
          211904.53600000002,
          354512.112,
          251140.65600000002,
          338078.16799999995,
          298170.88,
          266684.248,
          262477.856,
          252460.4,
          310522.592,
          383635.56799999997,
          225145.24800000002,
          274922.856
         ],
         "yaxis": "y2"
        },
        {
         "hovertemplate": "<b>OLS trendline</b><br>price = 223.179 * size + 101913<br>R<sup>2</sup>=0.744739<br><br>size=%{x}<br>price=%{y} <b>(trend)</b><extra></extra>",
         "legendgroup": "",
         "marker": {
          "color": "#636efa",
          "symbol": "circle"
         },
         "mode": "lines",
         "name": "",
         "showlegend": false,
         "type": "scatter",
         "x": [
          479.75,
          487.29,
          518.38,
          525.81,
          525.81,
          549.69,
          549.8,
          549.8,
          549.8,
          569.17,
          570.25,
          570.89,
          570.89,
          575.19,
          597.9,
          601.66,
          617.05,
          620.71,
          620.82,
          622.97,
          623.94,
          633.19,
          633.19,
          643.09,
          643.09,
          643.41,
          647.5,
          647.5,
          648.29,
          656.22,
          656.22,
          681.07,
          681.07,
          681.07,
          681.07,
          681.07,
          682.26,
          682.26,
          682.26,
          685.48,
          685.48,
          685.48,
          685.48,
          685.48,
          685.48,
          690.54,
          694.52,
          694.52,
          694.52,
          694.52,
          698.29,
          698.29,
          698.29,
          698.29,
          698.29,
          698.5,
          705.29,
          727.88,
          823.21,
          823.21,
          827.09,
          827.84,
          828.16,
          857.54,
          1009.25,
          1009.25,
          1009.25,
          1010.33,
          1021.95,
          1021.95,
          1021.95,
          1021.95,
          1021.95,
          1027.76,
          1028.41,
          1032.06,
          1037.44,
          1060.36,
          1060.36,
          1071.55,
          1103.3,
          1122.34,
          1183.46,
          1188.62,
          1205.62,
          1207.45,
          1236.93,
          1275.46,
          1283.85,
          1300.96,
          1334.1,
          1334.1,
          1334.1,
          1379.72,
          1496.36,
          1496.36,
          1504.75,
          1504.75,
          1508.84,
          1842.51
         ],
         "xaxis": "x",
         "y": [
          208982.6035609919,
          210665.37128015526,
          217603.9983874216,
          219262.2164448995,
          219262.2164448995,
          224591.72481805875,
          224616.27447974414,
          224616.27447974414,
          224616.27447974414,
          228939.24672380168,
          229180.2797658039,
          229323.1141610644,
          229323.1141610644,
          230282.78275422123,
          235351.17199854477,
          236190.32407070047,
          239625.0449192315,
          240441.87911712777,
          240466.4287788132,
          240946.2630753916,
          241162.74645570834,
          243227.14982470847,
          243227.14982470847,
          245436.61937639507,
          245436.61937639507,
          245508.03657402535,
          246420.8376312373,
          246420.8376312373,
          246597.148837887,
          248366.95626666228,
          248366.95626666228,
          253912.94802013828,
          253912.94802013828,
          253912.94802013828,
          253912.94802013828,
          253912.94802013828,
          254178.53072382585,
          254178.53072382585,
          254178.53072382585,
          254897.1662749805,
          254897.1662749805,
          254897.1662749805,
          254897.1662749805,
          254897.1662749805,
          254897.1662749805,
          256026.4507125092,
          256914.70210803574,
          256914.70210803574,
          256914.70210803574,
          256914.70210803574,
          257756.0859676174,
          257756.0859676174,
          257756.0859676174,
          257756.0859676174,
          257756.0859676174,
          257802.95350356228,
          259318.33716577964,
          264359.94496099185,
          285635.5744925358,
          285635.5744925358,
          286501.5080138028,
          286668.8920707488,
          286740.30926837906,
          293297.3007258086,
          327155.74776483653,
          327155.74776483653,
          327155.74776483653,
          327396.7808068387,
          329990.11779578804,
          329990.11779578804,
          329990.11779578804,
          329990.11779578804,
          329990.11779578804,
          331286.7862902627,
          331431.8524729492,
          332246.4548834195,
          333447.15651857853,
          338562.4132988469,
          338562.4132988469,
          341059.78342848056,
          348145.70850585937,
          352395.0317648606,
          366035.7165122431,
          367187.3188240312,
          370981.3574481396,
          371389.7745470877,
          377969.08387877676,
          386568.160830947,
          388440.6304813157,
          392259.21876710944,
          399655.3622966947,
          399655.3622966947,
          399655.3622966947,
          409836.7765338607,
          435868.34507009573,
          435868.34507009573,
          437740.81472046446,
          437740.81472046446,
          438653.6157776764,
          513121.66681921907
         ],
         "yaxis": "y"
        }
       ],
       "layout": {
        "legend": {
         "tracegroupgap": 0
        },
        "margin": {
         "t": 60
        },
        "template": {
         "data": {
          "bar": [
           {
            "error_x": {
             "color": "#2a3f5f"
            },
            "error_y": {
             "color": "#2a3f5f"
            },
            "marker": {
             "line": {
              "color": "#E5ECF6",
              "width": 0.5
             }
            },
            "type": "bar"
           }
          ],
          "barpolar": [
           {
            "marker": {
             "line": {
              "color": "#E5ECF6",
              "width": 0.5
             }
            },
            "type": "barpolar"
           }
          ],
          "carpet": [
           {
            "aaxis": {
             "endlinecolor": "#2a3f5f",
             "gridcolor": "white",
             "linecolor": "white",
             "minorgridcolor": "white",
             "startlinecolor": "#2a3f5f"
            },
            "baxis": {
             "endlinecolor": "#2a3f5f",
             "gridcolor": "white",
             "linecolor": "white",
             "minorgridcolor": "white",
             "startlinecolor": "#2a3f5f"
            },
            "type": "carpet"
           }
          ],
          "choropleth": [
           {
            "colorbar": {
             "outlinewidth": 0,
             "ticks": ""
            },
            "type": "choropleth"
           }
          ],
          "contour": [
           {
            "colorbar": {
             "outlinewidth": 0,
             "ticks": ""
            },
            "colorscale": [
             [
              0,
              "#0d0887"
             ],
             [
              0.1111111111111111,
              "#46039f"
             ],
             [
              0.2222222222222222,
              "#7201a8"
             ],
             [
              0.3333333333333333,
              "#9c179e"
             ],
             [
              0.4444444444444444,
              "#bd3786"
             ],
             [
              0.5555555555555556,
              "#d8576b"
             ],
             [
              0.6666666666666666,
              "#ed7953"
             ],
             [
              0.7777777777777778,
              "#fb9f3a"
             ],
             [
              0.8888888888888888,
              "#fdca26"
             ],
             [
              1,
              "#f0f921"
             ]
            ],
            "type": "contour"
           }
          ],
          "contourcarpet": [
           {
            "colorbar": {
             "outlinewidth": 0,
             "ticks": ""
            },
            "type": "contourcarpet"
           }
          ],
          "heatmap": [
           {
            "colorbar": {
             "outlinewidth": 0,
             "ticks": ""
            },
            "colorscale": [
             [
              0,
              "#0d0887"
             ],
             [
              0.1111111111111111,
              "#46039f"
             ],
             [
              0.2222222222222222,
              "#7201a8"
             ],
             [
              0.3333333333333333,
              "#9c179e"
             ],
             [
              0.4444444444444444,
              "#bd3786"
             ],
             [
              0.5555555555555556,
              "#d8576b"
             ],
             [
              0.6666666666666666,
              "#ed7953"
             ],
             [
              0.7777777777777778,
              "#fb9f3a"
             ],
             [
              0.8888888888888888,
              "#fdca26"
             ],
             [
              1,
              "#f0f921"
             ]
            ],
            "type": "heatmap"
           }
          ],
          "heatmapgl": [
           {
            "colorbar": {
             "outlinewidth": 0,
             "ticks": ""
            },
            "colorscale": [
             [
              0,
              "#0d0887"
             ],
             [
              0.1111111111111111,
              "#46039f"
             ],
             [
              0.2222222222222222,
              "#7201a8"
             ],
             [
              0.3333333333333333,
              "#9c179e"
             ],
             [
              0.4444444444444444,
              "#bd3786"
             ],
             [
              0.5555555555555556,
              "#d8576b"
             ],
             [
              0.6666666666666666,
              "#ed7953"
             ],
             [
              0.7777777777777778,
              "#fb9f3a"
             ],
             [
              0.8888888888888888,
              "#fdca26"
             ],
             [
              1,
              "#f0f921"
             ]
            ],
            "type": "heatmapgl"
           }
          ],
          "histogram": [
           {
            "marker": {
             "colorbar": {
              "outlinewidth": 0,
              "ticks": ""
             }
            },
            "type": "histogram"
           }
          ],
          "histogram2d": [
           {
            "colorbar": {
             "outlinewidth": 0,
             "ticks": ""
            },
            "colorscale": [
             [
              0,
              "#0d0887"
             ],
             [
              0.1111111111111111,
              "#46039f"
             ],
             [
              0.2222222222222222,
              "#7201a8"
             ],
             [
              0.3333333333333333,
              "#9c179e"
             ],
             [
              0.4444444444444444,
              "#bd3786"
             ],
             [
              0.5555555555555556,
              "#d8576b"
             ],
             [
              0.6666666666666666,
              "#ed7953"
             ],
             [
              0.7777777777777778,
              "#fb9f3a"
             ],
             [
              0.8888888888888888,
              "#fdca26"
             ],
             [
              1,
              "#f0f921"
             ]
            ],
            "type": "histogram2d"
           }
          ],
          "histogram2dcontour": [
           {
            "colorbar": {
             "outlinewidth": 0,
             "ticks": ""
            },
            "colorscale": [
             [
              0,
              "#0d0887"
             ],
             [
              0.1111111111111111,
              "#46039f"
             ],
             [
              0.2222222222222222,
              "#7201a8"
             ],
             [
              0.3333333333333333,
              "#9c179e"
             ],
             [
              0.4444444444444444,
              "#bd3786"
             ],
             [
              0.5555555555555556,
              "#d8576b"
             ],
             [
              0.6666666666666666,
              "#ed7953"
             ],
             [
              0.7777777777777778,
              "#fb9f3a"
             ],
             [
              0.8888888888888888,
              "#fdca26"
             ],
             [
              1,
              "#f0f921"
             ]
            ],
            "type": "histogram2dcontour"
           }
          ],
          "mesh3d": [
           {
            "colorbar": {
             "outlinewidth": 0,
             "ticks": ""
            },
            "type": "mesh3d"
           }
          ],
          "parcoords": [
           {
            "line": {
             "colorbar": {
              "outlinewidth": 0,
              "ticks": ""
             }
            },
            "type": "parcoords"
           }
          ],
          "pie": [
           {
            "automargin": true,
            "type": "pie"
           }
          ],
          "scatter": [
           {
            "marker": {
             "colorbar": {
              "outlinewidth": 0,
              "ticks": ""
             }
            },
            "type": "scatter"
           }
          ],
          "scatter3d": [
           {
            "line": {
             "colorbar": {
              "outlinewidth": 0,
              "ticks": ""
             }
            },
            "marker": {
             "colorbar": {
              "outlinewidth": 0,
              "ticks": ""
             }
            },
            "type": "scatter3d"
           }
          ],
          "scattercarpet": [
           {
            "marker": {
             "colorbar": {
              "outlinewidth": 0,
              "ticks": ""
             }
            },
            "type": "scattercarpet"
           }
          ],
          "scattergeo": [
           {
            "marker": {
             "colorbar": {
              "outlinewidth": 0,
              "ticks": ""
             }
            },
            "type": "scattergeo"
           }
          ],
          "scattergl": [
           {
            "marker": {
             "colorbar": {
              "outlinewidth": 0,
              "ticks": ""
             }
            },
            "type": "scattergl"
           }
          ],
          "scattermapbox": [
           {
            "marker": {
             "colorbar": {
              "outlinewidth": 0,
              "ticks": ""
             }
            },
            "type": "scattermapbox"
           }
          ],
          "scatterpolar": [
           {
            "marker": {
             "colorbar": {
              "outlinewidth": 0,
              "ticks": ""
             }
            },
            "type": "scatterpolar"
           }
          ],
          "scatterpolargl": [
           {
            "marker": {
             "colorbar": {
              "outlinewidth": 0,
              "ticks": ""
             }
            },
            "type": "scatterpolargl"
           }
          ],
          "scatterternary": [
           {
            "marker": {
             "colorbar": {
              "outlinewidth": 0,
              "ticks": ""
             }
            },
            "type": "scatterternary"
           }
          ],
          "surface": [
           {
            "colorbar": {
             "outlinewidth": 0,
             "ticks": ""
            },
            "colorscale": [
             [
              0,
              "#0d0887"
             ],
             [
              0.1111111111111111,
              "#46039f"
             ],
             [
              0.2222222222222222,
              "#7201a8"
             ],
             [
              0.3333333333333333,
              "#9c179e"
             ],
             [
              0.4444444444444444,
              "#bd3786"
             ],
             [
              0.5555555555555556,
              "#d8576b"
             ],
             [
              0.6666666666666666,
              "#ed7953"
             ],
             [
              0.7777777777777778,
              "#fb9f3a"
             ],
             [
              0.8888888888888888,
              "#fdca26"
             ],
             [
              1,
              "#f0f921"
             ]
            ],
            "type": "surface"
           }
          ],
          "table": [
           {
            "cells": {
             "fill": {
              "color": "#EBF0F8"
             },
             "line": {
              "color": "white"
             }
            },
            "header": {
             "fill": {
              "color": "#C8D4E3"
             },
             "line": {
              "color": "white"
             }
            },
            "type": "table"
           }
          ]
         },
         "layout": {
          "annotationdefaults": {
           "arrowcolor": "#2a3f5f",
           "arrowhead": 0,
           "arrowwidth": 1
          },
          "coloraxis": {
           "colorbar": {
            "outlinewidth": 0,
            "ticks": ""
           }
          },
          "colorscale": {
           "diverging": [
            [
             0,
             "#8e0152"
            ],
            [
             0.1,
             "#c51b7d"
            ],
            [
             0.2,
             "#de77ae"
            ],
            [
             0.3,
             "#f1b6da"
            ],
            [
             0.4,
             "#fde0ef"
            ],
            [
             0.5,
             "#f7f7f7"
            ],
            [
             0.6,
             "#e6f5d0"
            ],
            [
             0.7,
             "#b8e186"
            ],
            [
             0.8,
             "#7fbc41"
            ],
            [
             0.9,
             "#4d9221"
            ],
            [
             1,
             "#276419"
            ]
           ],
           "sequential": [
            [
             0,
             "#0d0887"
            ],
            [
             0.1111111111111111,
             "#46039f"
            ],
            [
             0.2222222222222222,
             "#7201a8"
            ],
            [
             0.3333333333333333,
             "#9c179e"
            ],
            [
             0.4444444444444444,
             "#bd3786"
            ],
            [
             0.5555555555555556,
             "#d8576b"
            ],
            [
             0.6666666666666666,
             "#ed7953"
            ],
            [
             0.7777777777777778,
             "#fb9f3a"
            ],
            [
             0.8888888888888888,
             "#fdca26"
            ],
            [
             1,
             "#f0f921"
            ]
           ],
           "sequentialminus": [
            [
             0,
             "#0d0887"
            ],
            [
             0.1111111111111111,
             "#46039f"
            ],
            [
             0.2222222222222222,
             "#7201a8"
            ],
            [
             0.3333333333333333,
             "#9c179e"
            ],
            [
             0.4444444444444444,
             "#bd3786"
            ],
            [
             0.5555555555555556,
             "#d8576b"
            ],
            [
             0.6666666666666666,
             "#ed7953"
            ],
            [
             0.7777777777777778,
             "#fb9f3a"
            ],
            [
             0.8888888888888888,
             "#fdca26"
            ],
            [
             1,
             "#f0f921"
            ]
           ]
          },
          "colorway": [
           "#636efa",
           "#EF553B",
           "#00cc96",
           "#ab63fa",
           "#FFA15A",
           "#19d3f3",
           "#FF6692",
           "#B6E880",
           "#FF97FF",
           "#FECB52"
          ],
          "font": {
           "color": "#2a3f5f"
          },
          "geo": {
           "bgcolor": "white",
           "lakecolor": "white",
           "landcolor": "#E5ECF6",
           "showlakes": true,
           "showland": true,
           "subunitcolor": "white"
          },
          "hoverlabel": {
           "align": "left"
          },
          "hovermode": "closest",
          "mapbox": {
           "style": "light"
          },
          "paper_bgcolor": "white",
          "plot_bgcolor": "#E5ECF6",
          "polar": {
           "angularaxis": {
            "gridcolor": "white",
            "linecolor": "white",
            "ticks": ""
           },
           "bgcolor": "#E5ECF6",
           "radialaxis": {
            "gridcolor": "white",
            "linecolor": "white",
            "ticks": ""
           }
          },
          "scene": {
           "xaxis": {
            "backgroundcolor": "#E5ECF6",
            "gridcolor": "white",
            "gridwidth": 2,
            "linecolor": "white",
            "showbackground": true,
            "ticks": "",
            "zerolinecolor": "white"
           },
           "yaxis": {
            "backgroundcolor": "#E5ECF6",
            "gridcolor": "white",
            "gridwidth": 2,
            "linecolor": "white",
            "showbackground": true,
            "ticks": "",
            "zerolinecolor": "white"
           },
           "zaxis": {
            "backgroundcolor": "#E5ECF6",
            "gridcolor": "white",
            "gridwidth": 2,
            "linecolor": "white",
            "showbackground": true,
            "ticks": "",
            "zerolinecolor": "white"
           }
          },
          "shapedefaults": {
           "line": {
            "color": "#2a3f5f"
           }
          },
          "ternary": {
           "aaxis": {
            "gridcolor": "white",
            "linecolor": "white",
            "ticks": ""
           },
           "baxis": {
            "gridcolor": "white",
            "linecolor": "white",
            "ticks": ""
           },
           "bgcolor": "#E5ECF6",
           "caxis": {
            "gridcolor": "white",
            "linecolor": "white",
            "ticks": ""
           }
          },
          "title": {
           "x": 0.05
          },
          "xaxis": {
           "automargin": true,
           "gridcolor": "white",
           "linecolor": "white",
           "ticks": "",
           "title": {
            "standoff": 15
           },
           "zerolinecolor": "white",
           "zerolinewidth": 2
          },
          "yaxis": {
           "automargin": true,
           "gridcolor": "white",
           "linecolor": "white",
           "ticks": "",
           "title": {
            "standoff": 15
           },
           "zerolinecolor": "white",
           "zerolinewidth": 2
          }
         }
        },
        "xaxis": {
         "anchor": "y",
         "domain": [
          0,
          0.8358
         ],
         "title": {
          "text": "size"
         }
        },
        "xaxis2": {
         "anchor": "y2",
         "domain": [
          0.8408,
          1
         ],
         "matches": "x2",
         "showgrid": false,
         "showline": false,
         "showticklabels": false,
         "ticks": ""
        },
        "xaxis3": {
         "anchor": "y3",
         "domain": [
          0,
          0.8358
         ],
         "matches": "x",
         "showgrid": true,
         "showticklabels": false
        },
        "xaxis4": {
         "anchor": "y4",
         "domain": [
          0.8408,
          1
         ],
         "matches": "x2",
         "showgrid": false,
         "showline": false,
         "showticklabels": false,
         "ticks": ""
        },
        "yaxis": {
         "anchor": "x",
         "domain": [
          0,
          0.8316
         ],
         "title": {
          "text": "price"
         }
        },
        "yaxis2": {
         "anchor": "x2",
         "domain": [
          0,
          0.8316
         ],
         "matches": "y",
         "showgrid": true,
         "showticklabels": false
        },
        "yaxis3": {
         "anchor": "x3",
         "domain": [
          0.8416,
          1
         ],
         "matches": "y3",
         "showgrid": false,
         "showline": false,
         "showticklabels": false,
         "ticks": ""
        },
        "yaxis4": {
         "anchor": "x4",
         "domain": [
          0.8416,
          1
         ],
         "matches": "y3",
         "showgrid": true,
         "showline": false,
         "showticklabels": false,
         "ticks": ""
        }
       }
      },
      "text/html": [
       "<div>\n",
       "        \n",
       "        \n",
       "            <div id=\"dc50f5aa-1226-4755-85b9-4d02102f2ae3\" class=\"plotly-graph-div\" style=\"height:525px; width:100%;\"></div>\n",
       "            <script type=\"text/javascript\">\n",
       "                require([\"plotly\"], function(Plotly) {\n",
       "                    window.PLOTLYENV=window.PLOTLYENV || {};\n",
       "                    \n",
       "                if (document.getElementById(\"dc50f5aa-1226-4755-85b9-4d02102f2ae3\")) {\n",
       "                    Plotly.newPlot(\n",
       "                        'dc50f5aa-1226-4755-85b9-4d02102f2ae3',\n",
       "                        [{\"hovertemplate\": \"size=%{x}<br>price=%{y}<extra></extra>\", \"legendgroup\": \"\", \"marker\": {\"color\": \"#636efa\", \"symbol\": \"circle\"}, \"mode\": \"markers\", \"name\": \"\", \"showlegend\": false, \"type\": \"scatter\", \"x\": [643.09, 656.22, 487.29, 1504.75, 1275.46, 575.19, 570.89, 620.82, 682.26, 694.52, 1060.36, 1842.51, 694.52, 1009.25, 1300.96, 1379.72, 690.54, 623.94, 681.07, 1027.76, 620.71, 549.69, 1207.45, 518.38, 525.81, 1103.3, 570.89, 1334.1, 681.07, 1496.36, 1010.33, 681.07, 597.9, 525.81, 857.54, 622.97, 823.21, 570.25, 685.48, 698.29, 1021.95, 682.26, 823.21, 1334.1, 1060.36, 698.29, 633.19, 698.29, 633.19, 617.05, 647.5, 1021.95, 1021.95, 727.88, 647.5, 1508.84, 1032.06, 1283.85, 827.84, 569.17, 828.16, 698.5, 1205.62, 1021.95, 685.48, 827.09, 1009.25, 549.8, 685.48, 1496.36, 1021.95, 643.41, 656.22, 549.8, 685.48, 685.48, 1183.46, 1334.1, 682.26, 1188.62, 681.07, 1122.34, 681.07, 643.09, 685.48, 1009.25, 479.75, 1028.41, 601.66, 1236.93, 694.52, 1071.55, 694.52, 698.29, 698.29, 549.8, 1037.44, 1504.75, 648.29, 705.29], \"xaxis\": \"x\", \"y\": [234314.14399999997, 228581.52800000002, 281626.336, 401255.60799999995, 458674.256, 245050.28, 265129.064, 175716.48, 331101.344, 218630.608, 279555.096, 494778.992, 215472.104, 418753.008, 444192.008, 440201.61600000004, 248337.6, 234178.16, 225451.984, 299416.976, 268125.08, 171795.24, 412569.472, 183459.488, 168047.264, 362519.72, 271793.312, 406852.304, 297760.44, 368988.43200000003, 301635.728, 225452.32, 207742.24800000002, 191486.896, 285223.17600000004, 302000.92, 269225.92, 233493.208, 292965.216, 245747.2, 310045.712, 217468.224, 287350.0, 414682.648, 293044.49600000004, 300061.48, 204302.97600000002, 201778.048, 257828.41600000003, 262423.50399999996, 225656.12, 393069.76, 258637.008, 269523.05600000004, 255629.16, 500681.12799999997, 320345.52, 395242.096, 330677.128, 251332.592, 251188.824, 263311.696, 359674.44, 334938.872, 302393.38399999996, 304587.272, 355251.2, 271726.752, 294582.94399999996, 454512.76, 276875.632, 181587.576, 298926.49600000004, 211724.09600000002, 228313.02399999998, 286161.6, 382120.152, 365863.936, 251560.04, 342988.456, 180307.21600000001, 408637.816, 190909.056, 282683.544, 303597.216, 376253.80799999996, 154282.128, 327252.11199999996, 211904.53600000002, 354512.112, 251140.65600000002, 338078.16799999995, 298170.88, 266684.248, 262477.856, 252460.4, 310522.592, 383635.56799999997, 225145.24800000002, 274922.856], \"yaxis\": \"y\"}, {\"alignmentgroup\": \"True\", \"hovertemplate\": \"size=%{x}<extra></extra>\", \"legendgroup\": \"\", \"marker\": {\"color\": \"#636efa\", \"symbol\": \"circle\"}, \"name\": \"\", \"notched\": true, \"offsetgroup\": \"\", \"showlegend\": false, \"type\": \"box\", \"x\": [643.09, 656.22, 487.29, 1504.75, 1275.46, 575.19, 570.89, 620.82, 682.26, 694.52, 1060.36, 1842.51, 694.52, 1009.25, 1300.96, 1379.72, 690.54, 623.94, 681.07, 1027.76, 620.71, 549.69, 1207.45, 518.38, 525.81, 1103.3, 570.89, 1334.1, 681.07, 1496.36, 1010.33, 681.07, 597.9, 525.81, 857.54, 622.97, 823.21, 570.25, 685.48, 698.29, 1021.95, 682.26, 823.21, 1334.1, 1060.36, 698.29, 633.19, 698.29, 633.19, 617.05, 647.5, 1021.95, 1021.95, 727.88, 647.5, 1508.84, 1032.06, 1283.85, 827.84, 569.17, 828.16, 698.5, 1205.62, 1021.95, 685.48, 827.09, 1009.25, 549.8, 685.48, 1496.36, 1021.95, 643.41, 656.22, 549.8, 685.48, 685.48, 1183.46, 1334.1, 682.26, 1188.62, 681.07, 1122.34, 681.07, 643.09, 685.48, 1009.25, 479.75, 1028.41, 601.66, 1236.93, 694.52, 1071.55, 694.52, 698.29, 698.29, 549.8, 1037.44, 1504.75, 648.29, 705.29], \"xaxis\": \"x3\", \"yaxis\": \"y3\"}, {\"alignmentgroup\": \"True\", \"hovertemplate\": \"price=%{y}<extra></extra>\", \"legendgroup\": \"\", \"marker\": {\"color\": \"#636efa\", \"symbol\": \"circle\"}, \"name\": \"\", \"offsetgroup\": \"\", \"scalegroup\": \"y\", \"showlegend\": false, \"type\": \"violin\", \"xaxis\": \"x2\", \"y\": [234314.14399999997, 228581.52800000002, 281626.336, 401255.60799999995, 458674.256, 245050.28, 265129.064, 175716.48, 331101.344, 218630.608, 279555.096, 494778.992, 215472.104, 418753.008, 444192.008, 440201.61600000004, 248337.6, 234178.16, 225451.984, 299416.976, 268125.08, 171795.24, 412569.472, 183459.488, 168047.264, 362519.72, 271793.312, 406852.304, 297760.44, 368988.43200000003, 301635.728, 225452.32, 207742.24800000002, 191486.896, 285223.17600000004, 302000.92, 269225.92, 233493.208, 292965.216, 245747.2, 310045.712, 217468.224, 287350.0, 414682.648, 293044.49600000004, 300061.48, 204302.97600000002, 201778.048, 257828.41600000003, 262423.50399999996, 225656.12, 393069.76, 258637.008, 269523.05600000004, 255629.16, 500681.12799999997, 320345.52, 395242.096, 330677.128, 251332.592, 251188.824, 263311.696, 359674.44, 334938.872, 302393.38399999996, 304587.272, 355251.2, 271726.752, 294582.94399999996, 454512.76, 276875.632, 181587.576, 298926.49600000004, 211724.09600000002, 228313.02399999998, 286161.6, 382120.152, 365863.936, 251560.04, 342988.456, 180307.21600000001, 408637.816, 190909.056, 282683.544, 303597.216, 376253.80799999996, 154282.128, 327252.11199999996, 211904.53600000002, 354512.112, 251140.65600000002, 338078.16799999995, 298170.88, 266684.248, 262477.856, 252460.4, 310522.592, 383635.56799999997, 225145.24800000002, 274922.856], \"yaxis\": \"y2\"}, {\"hovertemplate\": \"<b>OLS trendline</b><br>price = 223.179 * size + 101913<br>R<sup>2</sup>=0.744739<br><br>size=%{x}<br>price=%{y} <b>(trend)</b><extra></extra>\", \"legendgroup\": \"\", \"marker\": {\"color\": \"#636efa\", \"symbol\": \"circle\"}, \"mode\": \"lines\", \"name\": \"\", \"showlegend\": false, \"type\": \"scatter\", \"x\": [479.75, 487.29, 518.38, 525.81, 525.81, 549.69, 549.8, 549.8, 549.8, 569.17, 570.25, 570.89, 570.89, 575.19, 597.9, 601.66, 617.05, 620.71, 620.82, 622.97, 623.94, 633.19, 633.19, 643.09, 643.09, 643.41, 647.5, 647.5, 648.29, 656.22, 656.22, 681.07, 681.07, 681.07, 681.07, 681.07, 682.26, 682.26, 682.26, 685.48, 685.48, 685.48, 685.48, 685.48, 685.48, 690.54, 694.52, 694.52, 694.52, 694.52, 698.29, 698.29, 698.29, 698.29, 698.29, 698.5, 705.29, 727.88, 823.21, 823.21, 827.09, 827.84, 828.16, 857.54, 1009.25, 1009.25, 1009.25, 1010.33, 1021.95, 1021.95, 1021.95, 1021.95, 1021.95, 1027.76, 1028.41, 1032.06, 1037.44, 1060.36, 1060.36, 1071.55, 1103.3, 1122.34, 1183.46, 1188.62, 1205.62, 1207.45, 1236.93, 1275.46, 1283.85, 1300.96, 1334.1, 1334.1, 1334.1, 1379.72, 1496.36, 1496.36, 1504.75, 1504.75, 1508.84, 1842.51], \"xaxis\": \"x\", \"y\": [208982.6035609919, 210665.37128015526, 217603.9983874216, 219262.2164448995, 219262.2164448995, 224591.72481805875, 224616.27447974414, 224616.27447974414, 224616.27447974414, 228939.24672380168, 229180.2797658039, 229323.1141610644, 229323.1141610644, 230282.78275422123, 235351.17199854477, 236190.32407070047, 239625.0449192315, 240441.87911712777, 240466.4287788132, 240946.2630753916, 241162.74645570834, 243227.14982470847, 243227.14982470847, 245436.61937639507, 245436.61937639507, 245508.03657402535, 246420.8376312373, 246420.8376312373, 246597.148837887, 248366.95626666228, 248366.95626666228, 253912.94802013828, 253912.94802013828, 253912.94802013828, 253912.94802013828, 253912.94802013828, 254178.53072382585, 254178.53072382585, 254178.53072382585, 254897.1662749805, 254897.1662749805, 254897.1662749805, 254897.1662749805, 254897.1662749805, 254897.1662749805, 256026.4507125092, 256914.70210803574, 256914.70210803574, 256914.70210803574, 256914.70210803574, 257756.0859676174, 257756.0859676174, 257756.0859676174, 257756.0859676174, 257756.0859676174, 257802.95350356228, 259318.33716577964, 264359.94496099185, 285635.5744925358, 285635.5744925358, 286501.5080138028, 286668.8920707488, 286740.30926837906, 293297.3007258086, 327155.74776483653, 327155.74776483653, 327155.74776483653, 327396.7808068387, 329990.11779578804, 329990.11779578804, 329990.11779578804, 329990.11779578804, 329990.11779578804, 331286.7862902627, 331431.8524729492, 332246.4548834195, 333447.15651857853, 338562.4132988469, 338562.4132988469, 341059.78342848056, 348145.70850585937, 352395.0317648606, 366035.7165122431, 367187.3188240312, 370981.3574481396, 371389.7745470877, 377969.08387877676, 386568.160830947, 388440.6304813157, 392259.21876710944, 399655.3622966947, 399655.3622966947, 399655.3622966947, 409836.7765338607, 435868.34507009573, 435868.34507009573, 437740.81472046446, 437740.81472046446, 438653.6157776764, 513121.66681921907], \"yaxis\": \"y\"}],\n",
       "                        {\"legend\": {\"tracegroupgap\": 0}, \"margin\": {\"t\": 60}, \"template\": {\"data\": {\"bar\": [{\"error_x\": {\"color\": \"#2a3f5f\"}, \"error_y\": {\"color\": \"#2a3f5f\"}, \"marker\": {\"line\": {\"color\": \"#E5ECF6\", \"width\": 0.5}}, \"type\": \"bar\"}], \"barpolar\": [{\"marker\": {\"line\": {\"color\": \"#E5ECF6\", \"width\": 0.5}}, \"type\": \"barpolar\"}], \"carpet\": [{\"aaxis\": {\"endlinecolor\": \"#2a3f5f\", \"gridcolor\": \"white\", \"linecolor\": \"white\", \"minorgridcolor\": \"white\", \"startlinecolor\": \"#2a3f5f\"}, \"baxis\": {\"endlinecolor\": \"#2a3f5f\", \"gridcolor\": \"white\", \"linecolor\": \"white\", \"minorgridcolor\": \"white\", \"startlinecolor\": \"#2a3f5f\"}, \"type\": \"carpet\"}], \"choropleth\": [{\"colorbar\": {\"outlinewidth\": 0, \"ticks\": \"\"}, \"type\": \"choropleth\"}], \"contour\": [{\"colorbar\": {\"outlinewidth\": 0, \"ticks\": \"\"}, \"colorscale\": [[0.0, \"#0d0887\"], [0.1111111111111111, \"#46039f\"], [0.2222222222222222, \"#7201a8\"], [0.3333333333333333, \"#9c179e\"], [0.4444444444444444, \"#bd3786\"], [0.5555555555555556, \"#d8576b\"], [0.6666666666666666, \"#ed7953\"], [0.7777777777777778, \"#fb9f3a\"], [0.8888888888888888, \"#fdca26\"], [1.0, \"#f0f921\"]], \"type\": \"contour\"}], \"contourcarpet\": [{\"colorbar\": {\"outlinewidth\": 0, \"ticks\": \"\"}, \"type\": \"contourcarpet\"}], \"heatmap\": [{\"colorbar\": {\"outlinewidth\": 0, \"ticks\": \"\"}, \"colorscale\": [[0.0, \"#0d0887\"], [0.1111111111111111, \"#46039f\"], [0.2222222222222222, \"#7201a8\"], [0.3333333333333333, \"#9c179e\"], [0.4444444444444444, \"#bd3786\"], [0.5555555555555556, \"#d8576b\"], [0.6666666666666666, \"#ed7953\"], [0.7777777777777778, \"#fb9f3a\"], [0.8888888888888888, \"#fdca26\"], [1.0, \"#f0f921\"]], \"type\": \"heatmap\"}], \"heatmapgl\": [{\"colorbar\": {\"outlinewidth\": 0, \"ticks\": \"\"}, \"colorscale\": [[0.0, \"#0d0887\"], [0.1111111111111111, \"#46039f\"], [0.2222222222222222, \"#7201a8\"], [0.3333333333333333, \"#9c179e\"], [0.4444444444444444, \"#bd3786\"], [0.5555555555555556, \"#d8576b\"], [0.6666666666666666, \"#ed7953\"], [0.7777777777777778, \"#fb9f3a\"], [0.8888888888888888, \"#fdca26\"], [1.0, \"#f0f921\"]], \"type\": \"heatmapgl\"}], \"histogram\": [{\"marker\": {\"colorbar\": {\"outlinewidth\": 0, \"ticks\": \"\"}}, \"type\": \"histogram\"}], \"histogram2d\": [{\"colorbar\": {\"outlinewidth\": 0, \"ticks\": \"\"}, \"colorscale\": [[0.0, \"#0d0887\"], [0.1111111111111111, \"#46039f\"], [0.2222222222222222, \"#7201a8\"], [0.3333333333333333, \"#9c179e\"], [0.4444444444444444, \"#bd3786\"], [0.5555555555555556, \"#d8576b\"], [0.6666666666666666, \"#ed7953\"], [0.7777777777777778, \"#fb9f3a\"], [0.8888888888888888, \"#fdca26\"], [1.0, \"#f0f921\"]], \"type\": \"histogram2d\"}], \"histogram2dcontour\": [{\"colorbar\": {\"outlinewidth\": 0, \"ticks\": \"\"}, \"colorscale\": [[0.0, \"#0d0887\"], [0.1111111111111111, \"#46039f\"], [0.2222222222222222, \"#7201a8\"], [0.3333333333333333, \"#9c179e\"], [0.4444444444444444, \"#bd3786\"], [0.5555555555555556, \"#d8576b\"], [0.6666666666666666, \"#ed7953\"], [0.7777777777777778, \"#fb9f3a\"], [0.8888888888888888, \"#fdca26\"], [1.0, \"#f0f921\"]], \"type\": \"histogram2dcontour\"}], \"mesh3d\": [{\"colorbar\": {\"outlinewidth\": 0, \"ticks\": \"\"}, \"type\": \"mesh3d\"}], \"parcoords\": [{\"line\": {\"colorbar\": {\"outlinewidth\": 0, \"ticks\": \"\"}}, \"type\": \"parcoords\"}], \"pie\": [{\"automargin\": true, \"type\": \"pie\"}], \"scatter\": [{\"marker\": {\"colorbar\": {\"outlinewidth\": 0, \"ticks\": \"\"}}, \"type\": \"scatter\"}], \"scatter3d\": [{\"line\": {\"colorbar\": {\"outlinewidth\": 0, \"ticks\": \"\"}}, \"marker\": {\"colorbar\": {\"outlinewidth\": 0, \"ticks\": \"\"}}, \"type\": \"scatter3d\"}], \"scattercarpet\": [{\"marker\": {\"colorbar\": {\"outlinewidth\": 0, \"ticks\": \"\"}}, \"type\": \"scattercarpet\"}], \"scattergeo\": [{\"marker\": {\"colorbar\": {\"outlinewidth\": 0, \"ticks\": \"\"}}, \"type\": \"scattergeo\"}], \"scattergl\": [{\"marker\": {\"colorbar\": {\"outlinewidth\": 0, \"ticks\": \"\"}}, \"type\": \"scattergl\"}], \"scattermapbox\": [{\"marker\": {\"colorbar\": {\"outlinewidth\": 0, \"ticks\": \"\"}}, \"type\": \"scattermapbox\"}], \"scatterpolar\": [{\"marker\": {\"colorbar\": {\"outlinewidth\": 0, \"ticks\": \"\"}}, \"type\": \"scatterpolar\"}], \"scatterpolargl\": [{\"marker\": {\"colorbar\": {\"outlinewidth\": 0, \"ticks\": \"\"}}, \"type\": \"scatterpolargl\"}], \"scatterternary\": [{\"marker\": {\"colorbar\": {\"outlinewidth\": 0, \"ticks\": \"\"}}, \"type\": \"scatterternary\"}], \"surface\": [{\"colorbar\": {\"outlinewidth\": 0, \"ticks\": \"\"}, \"colorscale\": [[0.0, \"#0d0887\"], [0.1111111111111111, \"#46039f\"], [0.2222222222222222, \"#7201a8\"], [0.3333333333333333, \"#9c179e\"], [0.4444444444444444, \"#bd3786\"], [0.5555555555555556, \"#d8576b\"], [0.6666666666666666, \"#ed7953\"], [0.7777777777777778, \"#fb9f3a\"], [0.8888888888888888, \"#fdca26\"], [1.0, \"#f0f921\"]], \"type\": \"surface\"}], \"table\": [{\"cells\": {\"fill\": {\"color\": \"#EBF0F8\"}, \"line\": {\"color\": \"white\"}}, \"header\": {\"fill\": {\"color\": \"#C8D4E3\"}, \"line\": {\"color\": \"white\"}}, \"type\": \"table\"}]}, \"layout\": {\"annotationdefaults\": {\"arrowcolor\": \"#2a3f5f\", \"arrowhead\": 0, \"arrowwidth\": 1}, \"coloraxis\": {\"colorbar\": {\"outlinewidth\": 0, \"ticks\": \"\"}}, \"colorscale\": {\"diverging\": [[0, \"#8e0152\"], [0.1, \"#c51b7d\"], [0.2, \"#de77ae\"], [0.3, \"#f1b6da\"], [0.4, \"#fde0ef\"], [0.5, \"#f7f7f7\"], [0.6, \"#e6f5d0\"], [0.7, \"#b8e186\"], [0.8, \"#7fbc41\"], [0.9, \"#4d9221\"], [1, \"#276419\"]], \"sequential\": [[0.0, \"#0d0887\"], [0.1111111111111111, \"#46039f\"], [0.2222222222222222, \"#7201a8\"], [0.3333333333333333, \"#9c179e\"], [0.4444444444444444, \"#bd3786\"], [0.5555555555555556, \"#d8576b\"], [0.6666666666666666, \"#ed7953\"], [0.7777777777777778, \"#fb9f3a\"], [0.8888888888888888, \"#fdca26\"], [1.0, \"#f0f921\"]], \"sequentialminus\": [[0.0, \"#0d0887\"], [0.1111111111111111, \"#46039f\"], [0.2222222222222222, \"#7201a8\"], [0.3333333333333333, \"#9c179e\"], [0.4444444444444444, \"#bd3786\"], [0.5555555555555556, \"#d8576b\"], [0.6666666666666666, \"#ed7953\"], [0.7777777777777778, \"#fb9f3a\"], [0.8888888888888888, \"#fdca26\"], [1.0, \"#f0f921\"]]}, \"colorway\": [\"#636efa\", \"#EF553B\", \"#00cc96\", \"#ab63fa\", \"#FFA15A\", \"#19d3f3\", \"#FF6692\", \"#B6E880\", \"#FF97FF\", \"#FECB52\"], \"font\": {\"color\": \"#2a3f5f\"}, \"geo\": {\"bgcolor\": \"white\", \"lakecolor\": \"white\", \"landcolor\": \"#E5ECF6\", \"showlakes\": true, \"showland\": true, \"subunitcolor\": \"white\"}, \"hoverlabel\": {\"align\": \"left\"}, \"hovermode\": \"closest\", \"mapbox\": {\"style\": \"light\"}, \"paper_bgcolor\": \"white\", \"plot_bgcolor\": \"#E5ECF6\", \"polar\": {\"angularaxis\": {\"gridcolor\": \"white\", \"linecolor\": \"white\", \"ticks\": \"\"}, \"bgcolor\": \"#E5ECF6\", \"radialaxis\": {\"gridcolor\": \"white\", \"linecolor\": \"white\", \"ticks\": \"\"}}, \"scene\": {\"xaxis\": {\"backgroundcolor\": \"#E5ECF6\", \"gridcolor\": \"white\", \"gridwidth\": 2, \"linecolor\": \"white\", \"showbackground\": true, \"ticks\": \"\", \"zerolinecolor\": \"white\"}, \"yaxis\": {\"backgroundcolor\": \"#E5ECF6\", \"gridcolor\": \"white\", \"gridwidth\": 2, \"linecolor\": \"white\", \"showbackground\": true, \"ticks\": \"\", \"zerolinecolor\": \"white\"}, \"zaxis\": {\"backgroundcolor\": \"#E5ECF6\", \"gridcolor\": \"white\", \"gridwidth\": 2, \"linecolor\": \"white\", \"showbackground\": true, \"ticks\": \"\", \"zerolinecolor\": \"white\"}}, \"shapedefaults\": {\"line\": {\"color\": \"#2a3f5f\"}}, \"ternary\": {\"aaxis\": {\"gridcolor\": \"white\", \"linecolor\": \"white\", \"ticks\": \"\"}, \"baxis\": {\"gridcolor\": \"white\", \"linecolor\": \"white\", \"ticks\": \"\"}, \"bgcolor\": \"#E5ECF6\", \"caxis\": {\"gridcolor\": \"white\", \"linecolor\": \"white\", \"ticks\": \"\"}}, \"title\": {\"x\": 0.05}, \"xaxis\": {\"automargin\": true, \"gridcolor\": \"white\", \"linecolor\": \"white\", \"ticks\": \"\", \"title\": {\"standoff\": 15}, \"zerolinecolor\": \"white\", \"zerolinewidth\": 2}, \"yaxis\": {\"automargin\": true, \"gridcolor\": \"white\", \"linecolor\": \"white\", \"ticks\": \"\", \"title\": {\"standoff\": 15}, \"zerolinecolor\": \"white\", \"zerolinewidth\": 2}}}, \"xaxis\": {\"anchor\": \"y\", \"domain\": [0.0, 0.8358], \"title\": {\"text\": \"size\"}}, \"xaxis2\": {\"anchor\": \"y2\", \"domain\": [0.8408, 1.0], \"matches\": \"x2\", \"showgrid\": false, \"showline\": false, \"showticklabels\": false, \"ticks\": \"\"}, \"xaxis3\": {\"anchor\": \"y3\", \"domain\": [0.0, 0.8358], \"matches\": \"x\", \"showgrid\": true, \"showticklabels\": false}, \"xaxis4\": {\"anchor\": \"y4\", \"domain\": [0.8408, 1.0], \"matches\": \"x2\", \"showgrid\": false, \"showline\": false, \"showticklabels\": false, \"ticks\": \"\"}, \"yaxis\": {\"anchor\": \"x\", \"domain\": [0.0, 0.8316], \"title\": {\"text\": \"price\"}}, \"yaxis2\": {\"anchor\": \"x2\", \"domain\": [0.0, 0.8316], \"matches\": \"y\", \"showgrid\": true, \"showticklabels\": false}, \"yaxis3\": {\"anchor\": \"x3\", \"domain\": [0.8416, 1.0], \"matches\": \"y3\", \"showgrid\": false, \"showline\": false, \"showticklabels\": false, \"ticks\": \"\"}, \"yaxis4\": {\"anchor\": \"x4\", \"domain\": [0.8416, 1.0], \"matches\": \"y3\", \"showgrid\": true, \"showline\": false, \"showticklabels\": false, \"ticks\": \"\"}},\n",
       "                        {\"responsive\": true}\n",
       "                    ).then(function(){\n",
       "                            \n",
       "var gd = document.getElementById('dc50f5aa-1226-4755-85b9-4d02102f2ae3');\n",
       "var x = new MutationObserver(function (mutations, observer) {{\n",
       "        var display = window.getComputedStyle(gd).display;\n",
       "        if (!display || display === 'none') {{\n",
       "            console.log([gd, 'removed!']);\n",
       "            Plotly.purge(gd);\n",
       "            observer.disconnect();\n",
       "        }}\n",
       "}});\n",
       "\n",
       "// Listen for the removal of the full notebook cells\n",
       "var notebookContainer = gd.closest('#notebook-container');\n",
       "if (notebookContainer) {{\n",
       "    x.observe(notebookContainer, {childList: true});\n",
       "}}\n",
       "\n",
       "// Listen for the clearing of the current output cell\n",
       "var outputEl = gd.closest('.output');\n",
       "if (outputEl) {{\n",
       "    x.observe(outputEl, {childList: true});\n",
       "}}\n",
       "\n",
       "                        })\n",
       "                };\n",
       "                });\n",
       "            </script>\n",
       "        </div>"
      ]
     },
     "metadata": {},
     "output_type": "display_data"
    }
   ],
   "source": [
    "import plotly.express as px\n",
    "\n",
    "fig = px.scatter(data, x='size', y=\"price\", marginal_y=\"violin\", marginal_x=\"box\", trendline=\"ols\")\n",
    "fig.show()"
   ]
  },
  {
   "cell_type": "markdown",
   "metadata": {},
   "source": [
    "<a id='section3'></a>\n",
    "## Regressione multipla"
   ]
  },
  {
   "cell_type": "markdown",
   "metadata": {},
   "source": [
    "Effettuare una regressione multipla sui dati contenuti nel file 'ex1data2.csv' ce contiene i dati dei prezzi delle case (variabile dipendente) e i dati sul numero di stanze e la dimensione della casa (variabili indipendenti)."
   ]
  },
  {
   "cell_type": "code",
   "execution_count": 168,
   "metadata": {
    "scrolled": true
   },
   "outputs": [
    {
     "data": {
      "text/html": [
       "<div>\n",
       "<style scoped>\n",
       "    .dataframe tbody tr th:only-of-type {\n",
       "        vertical-align: middle;\n",
       "    }\n",
       "\n",
       "    .dataframe tbody tr th {\n",
       "        vertical-align: top;\n",
       "    }\n",
       "\n",
       "    .dataframe thead th {\n",
       "        text-align: right;\n",
       "    }\n",
       "</style>\n",
       "<table border=\"1\" class=\"dataframe\">\n",
       "  <thead>\n",
       "    <tr style=\"text-align: right;\">\n",
       "      <th></th>\n",
       "      <th>size</th>\n",
       "      <th>bedrooms</th>\n",
       "      <th>price</th>\n",
       "    </tr>\n",
       "  </thead>\n",
       "  <tbody>\n",
       "    <tr>\n",
       "      <th>0</th>\n",
       "      <td>2104</td>\n",
       "      <td>3</td>\n",
       "      <td>399900</td>\n",
       "    </tr>\n",
       "    <tr>\n",
       "      <th>1</th>\n",
       "      <td>1600</td>\n",
       "      <td>3</td>\n",
       "      <td>329900</td>\n",
       "    </tr>\n",
       "    <tr>\n",
       "      <th>2</th>\n",
       "      <td>2400</td>\n",
       "      <td>3</td>\n",
       "      <td>369000</td>\n",
       "    </tr>\n",
       "    <tr>\n",
       "      <th>3</th>\n",
       "      <td>1416</td>\n",
       "      <td>2</td>\n",
       "      <td>232000</td>\n",
       "    </tr>\n",
       "    <tr>\n",
       "      <th>4</th>\n",
       "      <td>3000</td>\n",
       "      <td>4</td>\n",
       "      <td>539900</td>\n",
       "    </tr>\n",
       "  </tbody>\n",
       "</table>\n",
       "</div>"
      ],
      "text/plain": [
       "   size  bedrooms   price\n",
       "0  2104         3  399900\n",
       "1  1600         3  329900\n",
       "2  2400         3  369000\n",
       "3  1416         2  232000\n",
       "4  3000         4  539900"
      ]
     },
     "execution_count": 168,
     "metadata": {},
     "output_type": "execute_result"
    }
   ],
   "source": [
    "import numpy as np\n",
    "\n",
    "data = pd.read_csv('data/ex1data2.csv')\n",
    "data.head()"
   ]
  },
  {
   "cell_type": "code",
   "execution_count": 169,
   "metadata": {},
   "outputs": [
    {
     "data": {
      "image/png": "[encoded data removed]",
      "text/plain": [
       "<Figure size 432x288 with 1 Axes>"
      ]
     },
     "metadata": {
      "needs_background": "light"
     },
     "output_type": "display_data"
    },
    {
     "data": {
      "image/png": "[encoded data removed]",
      "text/plain": [
       "<Figure size 432x288 with 1 Axes>"
      ]
     },
     "metadata": {
      "needs_background": "light"
     },
     "output_type": "display_data"
    }
   ],
   "source": [
    "# First correlation\n",
    "plt.scatter(data['size'], data['price'], color='red')\n",
    "plt.title('Price Vs Size', fontsize=14)\n",
    "plt.xlabel('Size', fontsize=14)\n",
    "plt.ylabel('Price', fontsize=14)\n",
    "plt.grid(True)\n",
    "plt.show()\n",
    " \n",
    "# Second correlation\n",
    "plt.scatter(data['bedrooms'], data['price'], color='green')\n",
    "plt.title('pice Vs bedrooms', fontsize=14)\n",
    "plt.xlabel('Bedrooms', fontsize=14)\n",
    "plt.ylabel('Price', fontsize=14)\n",
    "plt.grid(True)\n",
    "plt.show()"
   ]
  },
  {
   "cell_type": "code",
   "execution_count": 170,
   "metadata": {},
   "outputs": [
    {
     "data": {
      "text/html": [
       "<div>\n",
       "<style scoped>\n",
       "    .dataframe tbody tr th:only-of-type {\n",
       "        vertical-align: middle;\n",
       "    }\n",
       "\n",
       "    .dataframe tbody tr th {\n",
       "        vertical-align: top;\n",
       "    }\n",
       "\n",
       "    .dataframe thead th {\n",
       "        text-align: right;\n",
       "    }\n",
       "</style>\n",
       "<table border=\"1\" class=\"dataframe\">\n",
       "  <thead>\n",
       "    <tr style=\"text-align: right;\">\n",
       "      <th></th>\n",
       "      <th>price</th>\n",
       "      <th>size</th>\n",
       "    </tr>\n",
       "  </thead>\n",
       "  <tbody>\n",
       "    <tr>\n",
       "      <th>price</th>\n",
       "      <td>1.000000</td>\n",
       "      <td>0.854988</td>\n",
       "    </tr>\n",
       "    <tr>\n",
       "      <th>size</th>\n",
       "      <td>0.854988</td>\n",
       "      <td>1.000000</td>\n",
       "    </tr>\n",
       "  </tbody>\n",
       "</table>\n",
       "</div>"
      ],
      "text/plain": [
       "          price      size\n",
       "price  1.000000  0.854988\n",
       "size   0.854988  1.000000"
      ]
     },
     "execution_count": 170,
     "metadata": {},
     "output_type": "execute_result"
    }
   ],
   "source": [
    "data[['price','size']].corr()"
   ]
  },
  {
   "cell_type": "code",
   "execution_count": 171,
   "metadata": {},
   "outputs": [
    {
     "data": {
      "text/html": [
       "<div>\n",
       "<style scoped>\n",
       "    .dataframe tbody tr th:only-of-type {\n",
       "        vertical-align: middle;\n",
       "    }\n",
       "\n",
       "    .dataframe tbody tr th {\n",
       "        vertical-align: top;\n",
       "    }\n",
       "\n",
       "    .dataframe thead th {\n",
       "        text-align: right;\n",
       "    }\n",
       "</style>\n",
       "<table border=\"1\" class=\"dataframe\">\n",
       "  <thead>\n",
       "    <tr style=\"text-align: right;\">\n",
       "      <th></th>\n",
       "      <th>price</th>\n",
       "      <th>bedrooms</th>\n",
       "    </tr>\n",
       "  </thead>\n",
       "  <tbody>\n",
       "    <tr>\n",
       "      <th>price</th>\n",
       "      <td>1.000000</td>\n",
       "      <td>0.442261</td>\n",
       "    </tr>\n",
       "    <tr>\n",
       "      <th>bedrooms</th>\n",
       "      <td>0.442261</td>\n",
       "      <td>1.000000</td>\n",
       "    </tr>\n",
       "  </tbody>\n",
       "</table>\n",
       "</div>"
      ],
      "text/plain": [
       "             price  bedrooms\n",
       "price     1.000000  0.442261\n",
       "bedrooms  0.442261  1.000000"
      ]
     },
     "execution_count": 171,
     "metadata": {},
     "output_type": "execute_result"
    }
   ],
   "source": [
    "data[['price','bedrooms']].corr()"
   ]
  },
  {
   "cell_type": "code",
   "execution_count": 172,
   "metadata": {},
   "outputs": [
    {
     "name": "stdout",
     "output_type": "stream",
     "text": [
      "R2 model on training data: 0.748980\n",
      "R2 model on test data: 0.645884\n"
     ]
    },
    {
     "data": {
      "text/html": [
       "<table class=\"simpletable\">\n",
       "<caption>OLS Regression Results</caption>\n",
       "<tr>\n",
       "  <th>Dep. Variable:</th>          <td>price</td>      <th>  R-squared:         </th> <td>   0.749</td>\n",
       "</tr>\n",
       "<tr>\n",
       "  <th>Model:</th>                   <td>OLS</td>       <th>  Adj. R-squared:    </th> <td>   0.731</td>\n",
       "</tr>\n",
       "<tr>\n",
       "  <th>Method:</th>             <td>Least Squares</td>  <th>  F-statistic:       </th> <td>   41.77</td>\n",
       "</tr>\n",
       "<tr>\n",
       "  <th>Date:</th>             <td>Tue, 14 Apr 2020</td> <th>  Prob (F-statistic):</th> <td>3.94e-09</td>\n",
       "</tr>\n",
       "<tr>\n",
       "  <th>Time:</th>                 <td>14:58:37</td>     <th>  Log-Likelihood:    </th> <td> -385.78</td>\n",
       "</tr>\n",
       "<tr>\n",
       "  <th>No. Observations:</th>      <td>    31</td>      <th>  AIC:               </th> <td>   777.6</td>\n",
       "</tr>\n",
       "<tr>\n",
       "  <th>Df Residuals:</th>          <td>    28</td>      <th>  BIC:               </th> <td>   781.9</td>\n",
       "</tr>\n",
       "<tr>\n",
       "  <th>Df Model:</th>              <td>     2</td>      <th>                     </th>     <td> </td>   \n",
       "</tr>\n",
       "<tr>\n",
       "  <th>Covariance Type:</th>      <td>nonrobust</td>    <th>                     </th>     <td> </td>   \n",
       "</tr>\n",
       "</table>\n",
       "<table class=\"simpletable\">\n",
       "<tr>\n",
       "      <td></td>        <th>coef</th>     <th>std err</th>      <th>t</th>      <th>P>|t|</th>  <th>[0.025</th>    <th>0.975]</th>  \n",
       "</tr>\n",
       "<tr>\n",
       "  <th>const</th>    <td> 1.359e+05</td> <td> 5.48e+04</td> <td>    2.478</td> <td> 0.019</td> <td> 2.36e+04</td> <td> 2.48e+05</td>\n",
       "</tr>\n",
       "<tr>\n",
       "  <th>size</th>     <td>  130.5640</td> <td>   15.824</td> <td>    8.251</td> <td> 0.000</td> <td>   98.149</td> <td>  162.979</td>\n",
       "</tr>\n",
       "<tr>\n",
       "  <th>bedrooms</th> <td>-1.572e+04</td> <td> 1.95e+04</td> <td>   -0.807</td> <td> 0.426</td> <td>-5.56e+04</td> <td> 2.42e+04</td>\n",
       "</tr>\n",
       "</table>\n",
       "<table class=\"simpletable\">\n",
       "<tr>\n",
       "  <th>Omnibus:</th>       <td> 4.820</td> <th>  Durbin-Watson:     </th> <td>   1.551</td>\n",
       "</tr>\n",
       "<tr>\n",
       "  <th>Prob(Omnibus):</th> <td> 0.090</td> <th>  Jarque-Bera (JB):  </th> <td>   3.213</td>\n",
       "</tr>\n",
       "<tr>\n",
       "  <th>Skew:</th>          <td> 0.698</td> <th>  Prob(JB):          </th> <td>   0.201</td>\n",
       "</tr>\n",
       "<tr>\n",
       "  <th>Kurtosis:</th>      <td> 3.734</td> <th>  Cond. No.          </th> <td>1.10e+04</td>\n",
       "</tr>\n",
       "</table><br/><br/>Warnings:<br/>[1] Standard Errors assume that the covariance matrix of the errors is correctly specified.<br/>[2] The condition number is large, 1.1e+04. This might indicate that there are<br/>strong multicollinearity or other numerical problems."
      ],
      "text/plain": [
       "<class 'statsmodels.iolib.summary.Summary'>\n",
       "\"\"\"\n",
       "                            OLS Regression Results                            \n",
       "==============================================================================\n",
       "Dep. Variable:                  price   R-squared:                       0.749\n",
       "Model:                            OLS   Adj. R-squared:                  0.731\n",
       "Method:                 Least Squares   F-statistic:                     41.77\n",
       "Date:                Tue, 14 Apr 2020   Prob (F-statistic):           3.94e-09\n",
       "Time:                        14:58:37   Log-Likelihood:                -385.78\n",
       "No. Observations:                  31   AIC:                             777.6\n",
       "Df Residuals:                      28   BIC:                             781.9\n",
       "Df Model:                           2                                         \n",
       "Covariance Type:            nonrobust                                         \n",
       "==============================================================================\n",
       "                 coef    std err          t      P>|t|      [0.025      0.975]\n",
       "------------------------------------------------------------------------------\n",
       "const       1.359e+05   5.48e+04      2.478      0.019    2.36e+04    2.48e+05\n",
       "size         130.5640     15.824      8.251      0.000      98.149     162.979\n",
       "bedrooms   -1.572e+04   1.95e+04     -0.807      0.426   -5.56e+04    2.42e+04\n",
       "==============================================================================\n",
       "Omnibus:                        4.820   Durbin-Watson:                   1.551\n",
       "Prob(Omnibus):                  0.090   Jarque-Bera (JB):                3.213\n",
       "Skew:                           0.698   Prob(JB):                        0.201\n",
       "Kurtosis:                       3.734   Cond. No.                     1.10e+04\n",
       "==============================================================================\n",
       "\n",
       "Warnings:\n",
       "[1] Standard Errors assume that the covariance matrix of the errors is correctly specified.\n",
       "[2] The condition number is large, 1.1e+04. This might indicate that there are\n",
       "strong multicollinearity or other numerical problems.\n",
       "\"\"\""
      ]
     },
     "execution_count": 172,
     "metadata": {},
     "output_type": "execute_result"
    }
   ],
   "source": [
    "from sklearn.metrics import r2_score\n",
    "from sklearn.model_selection import train_test_split\n",
    "\n",
    "X = data[['size', 'bedrooms']]\n",
    "Y = data['price']\n",
    "\n",
    "X_train, X_test, Y_train, Y_test = train_test_split(X, Y, test_size=0.33)\n",
    "\n",
    "X_train = sm.add_constant(X_train) # adding a constant\n",
    "X_test = sm.add_constant(X_test) # adding a constant\n",
    "\n",
    "model = sm.OLS(Y_train, X_train).fit(normalize=True)\n",
    "Y_train_pred = model.predict(X_train)\n",
    "Y_test_pred = model.predict(X_test)\n",
    "\n",
    "print(\"R2 model on training data: %f\" % r2_score(Y_train, Y_train_pred))\n",
    "print(\"R2 model on test data: %f\" % r2_score(Y_test, Y_test_pred))\n",
    "\n",
    "model.summary()"
   ]
  },
  {
   "cell_type": "markdown",
   "metadata": {},
   "source": [
    "Visualizziamo i dati:"
   ]
  },
  {
   "cell_type": "code",
   "execution_count": 173,
   "metadata": {},
   "outputs": [
    {
     "data": {
      "image/png": "[encoded data removed]",
      "text/plain": [
       "<Figure size 432x288 with 2 Axes>"
      ]
     },
     "metadata": {
      "needs_background": "light"
     },
     "output_type": "display_data"
    }
   ],
   "source": [
    "from mpl_toolkits.mplot3d import Axes3D\n",
    "\n",
    "fig = plt.figure()\n",
    "plt3d = fig.gca(projection='3d')\n",
    "\n",
    "ax = Axes3D(fig)\n",
    "ax.scatter(data['size'], data['bedrooms'], data['price'], color='red')\n",
    "ax.set_xlabel('Size', fontsize=14)\n",
    "ax.set_ylabel('Bedrooms', fontsize=14)\n",
    "ax.set_zlabel('Price', fontsize=14)\n",
    "\n",
    "x = np.linspace(data['size'].min(), data['size'].max(), 5)\n",
    "y = np.linspace(data['bedrooms'].min(), data['bedrooms'].max(), 5)\n",
    "x, y = np.meshgrid(x, y)\n",
    "\n",
    "z = model.params['const'] + model.params['size'] * x + model.params['bedrooms'] * y\n",
    "z = z.reshape(x.shape)\n",
    "\n",
    "ax.plot_wireframe(x, y, z, color='orange', alpha=0.7)\n",
    "\n",
    "plt.show()"
   ]
  },
  {
   "cell_type": "code",
   "execution_count": 194,
   "metadata": {},
   "outputs": [
    {
     "data": {
      "application/vnd.plotly.v1+json": {
       "config": {
        "plotlyServerURL": "https://plot.ly"
       },
       "data": [
        {
         "mode": "markers",
         "type": "scatter3d",
         "x": [
          2104,
          1600,
          2400,
          1416,
          3000,
          1985,
          1534,
          1427,
          1380,
          1494,
          1940,
          2000,
          1890,
          4478,
          1268,
          2300,
          1320,
          1236,
          2609,
          3031,
          1767,
          1888,
          1604,
          1962,
          3890,
          1100,
          1458,
          2526,
          2200,
          2637,
          1839,
          1000,
          2040,
          3137,
          1811,
          1437,
          1239,
          2132,
          4215,
          2162,
          1664,
          2238,
          2567,
          1200,
          852,
          1852,
          1203
         ],
         "y": [
          3,
          3,
          3,
          2,
          4,
          4,
          3,
          3,
          3,
          3,
          4,
          3,
          3,
          5,
          3,
          4,
          2,
          3,
          4,
          4,
          3,
          2,
          3,
          4,
          3,
          3,
          3,
          3,
          3,
          3,
          2,
          1,
          4,
          3,
          4,
          3,
          3,
          4,
          4,
          4,
          2,
          3,
          4,
          3,
          2,
          4,
          3
         ],
         "z": [
          399900,
          329900,
          369000,
          232000,
          539900,
          299900,
          314900,
          198999,
          212000,
          242500,
          239999,
          347000,
          329999,
          699900,
          259900,
          449900,
          299900,
          199900,
          499998,
          599000,
          252900,
          255000,
          242900,
          259900,
          573900,
          249900,
          464500,
          469000,
          475000,
          299900,
          349900,
          169900,
          314900,
          579900,
          285900,
          249900,
          229900,
          345000,
          549000,
          287000,
          368500,
          329900,
          314000,
          299000,
          179900,
          299900,
          239500
         ]
        },
        {
         "opacity": 0.3,
         "showscale": false,
         "surfacecolor": [
          [
           [
            256,
            127,
            14
           ],
           [
            256,
            127,
            14
           ],
           [
            256,
            127,
            14
           ],
           [
            256,
            127,
            14
           ],
           [
            256,
            127,
            14
           ],
           [
            256,
            127,
            14
           ],
           [
            256,
            127,
            14
           ],
           [
            256,
            127,
            14
           ],
           [
            256,
            127,
            14
           ],
           [
            256,
            127,
            14
           ],
           [
            256,
            127,
            14
           ],
           [
            256,
            127,
            14
           ],
           [
            256,
            127,
            14
           ],
           [
            256,
            127,
            14
           ],
           [
            256,
            127,
            14
           ],
           [
            256,
            127,
            14
           ],
           [
            256,
            127,
            14
           ],
           [
            256,
            127,
            14
           ],
           [
            256,
            127,
            14
           ],
           [
            256,
            127,
            14
           ],
           [
            256,
            127,
            14
           ]
          ],
          [
           [
            256,
            127,
            14
           ],
           [
            256,
            127,
            14
           ],
           [
            256,
            127,
            14
           ],
           [
            256,
            127,
            14
           ],
           [
            256,
            127,
            14
           ],
           [
            256,
            127,
            14
           ],
           [
            256,
            127,
            14
           ],
           [
            256,
            127,
            14
           ],
           [
            256,
            127,
            14
           ],
           [
            256,
            127,
            14
           ],
           [
            256,
            127,
            14
           ],
           [
            256,
            127,
            14
           ],
           [
            256,
            127,
            14
           ],
           [
            256,
            127,
            14
           ],
           [
            256,
            127,
            14
           ],
           [
            256,
            127,
            14
           ],
           [
            256,
            127,
            14
           ],
           [
            256,
            127,
            14
           ],
           [
            256,
            127,
            14
           ],
           [
            256,
            127,
            14
           ],
           [
            256,
            127,
            14
           ]
          ],
          [
           [
            256,
            127,
            14
           ],
           [
            256,
            127,
            14
           ],
           [
            256,
            127,
            14
           ],
           [
            256,
            127,
            14
           ],
           [
            256,
            127,
            14
           ],
           [
            256,
            127,
            14
           ],
           [
            256,
            127,
            14
           ],
           [
            256,
            127,
            14
           ],
           [
            256,
            127,
            14
           ],
           [
            256,
            127,
            14
           ],
           [
            256,
            127,
            14
           ],
           [
            256,
            127,
            14
           ],
           [
            256,
            127,
            14
           ],
           [
            256,
            127,
            14
           ],
           [
            256,
            127,
            14
           ],
           [
            256,
            127,
            14
           ],
           [
            256,
            127,
            14
           ],
           [
            256,
            127,
            14
           ],
           [
            256,
            127,
            14
           ],
           [
            256,
            127,
            14
           ],
           [
            256,
            127,
            14
           ]
          ],
          [
           [
            256,
            127,
            14
           ],
           [
            256,
            127,
            14
           ],
           [
            256,
            127,
            14
           ],
           [
            256,
            127,
            14
           ],
           [
            256,
            127,
            14
           ],
           [
            256,
            127,
            14
           ],
           [
            256,
            127,
            14
           ],
           [
            256,
            127,
            14
           ],
           [
            256,
            127,
            14
           ],
           [
            256,
            127,
            14
           ],
           [
            256,
            127,
            14
           ],
           [
            256,
            127,
            14
           ],
           [
            256,
            127,
            14
           ],
           [
            256,
            127,
            14
           ],
           [
            256,
            127,
            14
           ],
           [
            256,
            127,
            14
           ],
           [
            256,
            127,
            14
           ],
           [
            256,
            127,
            14
           ],
           [
            256,
            127,
            14
           ],
           [
            256,
            127,
            14
           ],
           [
            256,
            127,
            14
           ]
          ],
          [
           [
            256,
            127,
            14
           ],
           [
            256,
            127,
            14
           ],
           [
            256,
            127,
            14
           ],
           [
            256,
            127,
            14
           ],
           [
            256,
            127,
            14
           ],
           [
            256,
            127,
            14
           ],
           [
            256,
            127,
            14
           ],
           [
            256,
            127,
            14
           ],
           [
            256,
            127,
            14
           ],
           [
            256,
            127,
            14
           ],
           [
            256,
            127,
            14
           ],
           [
            256,
            127,
            14
           ],
           [
            256,
            127,
            14
           ],
           [
            256,
            127,
            14
           ],
           [
            256,
            127,
            14
           ],
           [
            256,
            127,
            14
           ],
           [
            256,
            127,
            14
           ],
           [
            256,
            127,
            14
           ],
           [
            256,
            127,
            14
           ],
           [
            256,
            127,
            14
           ],
           [
            256,
            127,
            14
           ]
          ],
          [
           [
            256,
            127,
            14
           ],
           [
            256,
            127,
            14
           ],
           [
            256,
            127,
            14
           ],
           [
            256,
            127,
            14
           ],
           [
            256,
            127,
            14
           ],
           [
            256,
            127,
            14
           ],
           [
            256,
            127,
            14
           ],
           [
            256,
            127,
            14
           ],
           [
            256,
            127,
            14
           ],
           [
            256,
            127,
            14
           ],
           [
            256,
            127,
            14
           ],
           [
            256,
            127,
            14
           ],
           [
            256,
            127,
            14
           ],
           [
            256,
            127,
            14
           ],
           [
            256,
            127,
            14
           ],
           [
            256,
            127,
            14
           ],
           [
            256,
            127,
            14
           ],
           [
            256,
            127,
            14
           ],
           [
            256,
            127,
            14
           ],
           [
            256,
            127,
            14
           ],
           [
            256,
            127,
            14
           ]
          ],
          [
           [
            256,
            127,
            14
           ],
           [
            256,
            127,
            14
           ],
           [
            256,
            127,
            14
           ],
           [
            256,
            127,
            14
           ],
           [
            256,
            127,
            14
           ],
           [
            256,
            127,
            14
           ],
           [
            256,
            127,
            14
           ],
           [
            256,
            127,
            14
           ],
           [
            256,
            127,
            14
           ],
           [
            256,
            127,
            14
           ],
           [
            256,
            127,
            14
           ],
           [
            256,
            127,
            14
           ],
           [
            256,
            127,
            14
           ],
           [
            256,
            127,
            14
           ],
           [
            256,
            127,
            14
           ],
           [
            256,
            127,
            14
           ],
           [
            256,
            127,
            14
           ],
           [
            256,
            127,
            14
           ],
           [
            256,
            127,
            14
           ],
           [
            256,
            127,
            14
           ],
           [
            256,
            127,
            14
           ]
          ],
          [
           [
            256,
            127,
            14
           ],
           [
            256,
            127,
            14
           ],
           [
            256,
            127,
            14
           ],
           [
            256,
            127,
            14
           ],
           [
            256,
            127,
            14
           ],
           [
            256,
            127,
            14
           ],
           [
            256,
            127,
            14
           ],
           [
            256,
            127,
            14
           ],
           [
            256,
            127,
            14
           ],
           [
            256,
            127,
            14
           ],
           [
            256,
            127,
            14
           ],
           [
            256,
            127,
            14
           ],
           [
            256,
            127,
            14
           ],
           [
            256,
            127,
            14
           ],
           [
            256,
            127,
            14
           ],
           [
            256,
            127,
            14
           ],
           [
            256,
            127,
            14
           ],
           [
            256,
            127,
            14
           ],
           [
            256,
            127,
            14
           ],
           [
            256,
            127,
            14
           ],
           [
            256,
            127,
            14
           ]
          ],
          [
           [
            256,
            127,
            14
           ],
           [
            256,
            127,
            14
           ],
           [
            256,
            127,
            14
           ],
           [
            256,
            127,
            14
           ],
           [
            256,
            127,
            14
           ],
           [
            256,
            127,
            14
           ],
           [
            256,
            127,
            14
           ],
           [
            256,
            127,
            14
           ],
           [
            256,
            127,
            14
           ],
           [
            256,
            127,
            14
           ],
           [
            256,
            127,
            14
           ],
           [
            256,
            127,
            14
           ],
           [
            256,
            127,
            14
           ],
           [
            256,
            127,
            14
           ],
           [
            256,
            127,
            14
           ],
           [
            256,
            127,
            14
           ],
           [
            256,
            127,
            14
           ],
           [
            256,
            127,
            14
           ],
           [
            256,
            127,
            14
           ],
           [
            256,
            127,
            14
           ],
           [
            256,
            127,
            14
           ]
          ],
          [
           [
            256,
            127,
            14
           ],
           [
            256,
            127,
            14
           ],
           [
            256,
            127,
            14
           ],
           [
            256,
            127,
            14
           ],
           [
            256,
            127,
            14
           ],
           [
            256,
            127,
            14
           ],
           [
            256,
            127,
            14
           ],
           [
            256,
            127,
            14
           ],
           [
            256,
            127,
            14
           ],
           [
            256,
            127,
            14
           ],
           [
            256,
            127,
            14
           ],
           [
            256,
            127,
            14
           ],
           [
            256,
            127,
            14
           ],
           [
            256,
            127,
            14
           ],
           [
            256,
            127,
            14
           ],
           [
            256,
            127,
            14
           ],
           [
            256,
            127,
            14
           ],
           [
            256,
            127,
            14
           ],
           [
            256,
            127,
            14
           ],
           [
            256,
            127,
            14
           ],
           [
            256,
            127,
            14
           ]
          ],
          [
           [
            256,
            127,
            14
           ],
           [
            256,
            127,
            14
           ],
           [
            256,
            127,
            14
           ],
           [
            256,
            127,
            14
           ],
           [
            256,
            127,
            14
           ],
           [
            256,
            127,
            14
           ],
           [
            256,
            127,
            14
           ],
           [
            256,
            127,
            14
           ],
           [
            256,
            127,
            14
           ],
           [
            256,
            127,
            14
           ],
           [
            256,
            127,
            14
           ],
           [
            256,
            127,
            14
           ],
           [
            256,
            127,
            14
           ],
           [
            256,
            127,
            14
           ],
           [
            256,
            127,
            14
           ],
           [
            256,
            127,
            14
           ],
           [
            256,
            127,
            14
           ],
           [
            256,
            127,
            14
           ],
           [
            256,
            127,
            14
           ],
           [
            256,
            127,
            14
           ],
           [
            256,
            127,
            14
           ]
          ],
          [
           [
            256,
            127,
            14
           ],
           [
            256,
            127,
            14
           ],
           [
            256,
            127,
            14
           ],
           [
            256,
            127,
            14
           ],
           [
            256,
            127,
            14
           ],
           [
            256,
            127,
            14
           ],
           [
            256,
            127,
            14
           ],
           [
            256,
            127,
            14
           ],
           [
            256,
            127,
            14
           ],
           [
            256,
            127,
            14
           ],
           [
            256,
            127,
            14
           ],
           [
            256,
            127,
            14
           ],
           [
            256,
            127,
            14
           ],
           [
            256,
            127,
            14
           ],
           [
            256,
            127,
            14
           ],
           [
            256,
            127,
            14
           ],
           [
            256,
            127,
            14
           ],
           [
            256,
            127,
            14
           ],
           [
            256,
            127,
            14
           ],
           [
            256,
            127,
            14
           ],
           [
            256,
            127,
            14
           ]
          ],
          [
           [
            256,
            127,
            14
           ],
           [
            256,
            127,
            14
           ],
           [
            256,
            127,
            14
           ],
           [
            256,
            127,
            14
           ],
           [
            256,
            127,
            14
           ],
           [
            256,
            127,
            14
           ],
           [
            256,
            127,
            14
           ],
           [
            256,
            127,
            14
           ],
           [
            256,
            127,
            14
           ],
           [
            256,
            127,
            14
           ],
           [
            256,
            127,
            14
           ],
           [
            256,
            127,
            14
           ],
           [
            256,
            127,
            14
           ],
           [
            256,
            127,
            14
           ],
           [
            256,
            127,
            14
           ],
           [
            256,
            127,
            14
           ],
           [
            256,
            127,
            14
           ],
           [
            256,
            127,
            14
           ],
           [
            256,
            127,
            14
           ],
           [
            256,
            127,
            14
           ],
           [
            256,
            127,
            14
           ]
          ],
          [
           [
            256,
            127,
            14
           ],
           [
            256,
            127,
            14
           ],
           [
            256,
            127,
            14
           ],
           [
            256,
            127,
            14
           ],
           [
            256,
            127,
            14
           ],
           [
            256,
            127,
            14
           ],
           [
            256,
            127,
            14
           ],
           [
            256,
            127,
            14
           ],
           [
            256,
            127,
            14
           ],
           [
            256,
            127,
            14
           ],
           [
            256,
            127,
            14
           ],
           [
            256,
            127,
            14
           ],
           [
            256,
            127,
            14
           ],
           [
            256,
            127,
            14
           ],
           [
            256,
            127,
            14
           ],
           [
            256,
            127,
            14
           ],
           [
            256,
            127,
            14
           ],
           [
            256,
            127,
            14
           ],
           [
            256,
            127,
            14
           ],
           [
            256,
            127,
            14
           ],
           [
            256,
            127,
            14
           ]
          ],
          [
           [
            256,
            127,
            14
           ],
           [
            256,
            127,
            14
           ],
           [
            256,
            127,
            14
           ],
           [
            256,
            127,
            14
           ],
           [
            256,
            127,
            14
           ],
           [
            256,
            127,
            14
           ],
           [
            256,
            127,
            14
           ],
           [
            256,
            127,
            14
           ],
           [
            256,
            127,
            14
           ],
           [
            256,
            127,
            14
           ],
           [
            256,
            127,
            14
           ],
           [
            256,
            127,
            14
           ],
           [
            256,
            127,
            14
           ],
           [
            256,
            127,
            14
           ],
           [
            256,
            127,
            14
           ],
           [
            256,
            127,
            14
           ],
           [
            256,
            127,
            14
           ],
           [
            256,
            127,
            14
           ],
           [
            256,
            127,
            14
           ],
           [
            256,
            127,
            14
           ],
           [
            256,
            127,
            14
           ]
          ],
          [
           [
            256,
            127,
            14
           ],
           [
            256,
            127,
            14
           ],
           [
            256,
            127,
            14
           ],
           [
            256,
            127,
            14
           ],
           [
            256,
            127,
            14
           ],
           [
            256,
            127,
            14
           ],
           [
            256,
            127,
            14
           ],
           [
            256,
            127,
            14
           ],
           [
            256,
            127,
            14
           ],
           [
            256,
            127,
            14
           ],
           [
            256,
            127,
            14
           ],
           [
            256,
            127,
            14
           ],
           [
            256,
            127,
            14
           ],
           [
            256,
            127,
            14
           ],
           [
            256,
            127,
            14
           ],
           [
            256,
            127,
            14
           ],
           [
            256,
            127,
            14
           ],
           [
            256,
            127,
            14
           ],
           [
            256,
            127,
            14
           ],
           [
            256,
            127,
            14
           ],
           [
            256,
            127,
            14
           ]
          ],
          [
           [
            256,
            127,
            14
           ],
           [
            256,
            127,
            14
           ],
           [
            256,
            127,
            14
           ],
           [
            256,
            127,
            14
           ],
           [
            256,
            127,
            14
           ],
           [
            256,
            127,
            14
           ],
           [
            256,
            127,
            14
           ],
           [
            256,
            127,
            14
           ],
           [
            256,
            127,
            14
           ],
           [
            256,
            127,
            14
           ],
           [
            256,
            127,
            14
           ],
           [
            256,
            127,
            14
           ],
           [
            256,
            127,
            14
           ],
           [
            256,
            127,
            14
           ],
           [
            256,
            127,
            14
           ],
           [
            256,
            127,
            14
           ],
           [
            256,
            127,
            14
           ],
           [
            256,
            127,
            14
           ],
           [
            256,
            127,
            14
           ],
           [
            256,
            127,
            14
           ],
           [
            256,
            127,
            14
           ]
          ],
          [
           [
            256,
            127,
            14
           ],
           [
            256,
            127,
            14
           ],
           [
            256,
            127,
            14
           ],
           [
            256,
            127,
            14
           ],
           [
            256,
            127,
            14
           ],
           [
            256,
            127,
            14
           ],
           [
            256,
            127,
            14
           ],
           [
            256,
            127,
            14
           ],
           [
            256,
            127,
            14
           ],
           [
            256,
            127,
            14
           ],
           [
            256,
            127,
            14
           ],
           [
            256,
            127,
            14
           ],
           [
            256,
            127,
            14
           ],
           [
            256,
            127,
            14
           ],
           [
            256,
            127,
            14
           ],
           [
            256,
            127,
            14
           ],
           [
            256,
            127,
            14
           ],
           [
            256,
            127,
            14
           ],
           [
            256,
            127,
            14
           ],
           [
            256,
            127,
            14
           ],
           [
            256,
            127,
            14
           ]
          ],
          [
           [
            256,
            127,
            14
           ],
           [
            256,
            127,
            14
           ],
           [
            256,
            127,
            14
           ],
           [
            256,
            127,
            14
           ],
           [
            256,
            127,
            14
           ],
           [
            256,
            127,
            14
           ],
           [
            256,
            127,
            14
           ],
           [
            256,
            127,
            14
           ],
           [
            256,
            127,
            14
           ],
           [
            256,
            127,
            14
           ],
           [
            256,
            127,
            14
           ],
           [
            256,
            127,
            14
           ],
           [
            256,
            127,
            14
           ],
           [
            256,
            127,
            14
           ],
           [
            256,
            127,
            14
           ],
           [
            256,
            127,
            14
           ],
           [
            256,
            127,
            14
           ],
           [
            256,
            127,
            14
           ],
           [
            256,
            127,
            14
           ],
           [
            256,
            127,
            14
           ],
           [
            256,
            127,
            14
           ]
          ],
          [
           [
            256,
            127,
            14
           ],
           [
            256,
            127,
            14
           ],
           [
            256,
            127,
            14
           ],
           [
            256,
            127,
            14
           ],
           [
            256,
            127,
            14
           ],
           [
            256,
            127,
            14
           ],
           [
            256,
            127,
            14
           ],
           [
            256,
            127,
            14
           ],
           [
            256,
            127,
            14
           ],
           [
            256,
            127,
            14
           ],
           [
            256,
            127,
            14
           ],
           [
            256,
            127,
            14
           ],
           [
            256,
            127,
            14
           ],
           [
            256,
            127,
            14
           ],
           [
            256,
            127,
            14
           ],
           [
            256,
            127,
            14
           ],
           [
            256,
            127,
            14
           ],
           [
            256,
            127,
            14
           ],
           [
            256,
            127,
            14
           ],
           [
            256,
            127,
            14
           ],
           [
            256,
            127,
            14
           ]
          ],
          [
           [
            256,
            127,
            14
           ],
           [
            256,
            127,
            14
           ],
           [
            256,
            127,
            14
           ],
           [
            256,
            127,
            14
           ],
           [
            256,
            127,
            14
           ],
           [
            256,
            127,
            14
           ],
           [
            256,
            127,
            14
           ],
           [
            256,
            127,
            14
           ],
           [
            256,
            127,
            14
           ],
           [
            256,
            127,
            14
           ],
           [
            256,
            127,
            14
           ],
           [
            256,
            127,
            14
           ],
           [
            256,
            127,
            14
           ],
           [
            256,
            127,
            14
           ],
           [
            256,
            127,
            14
           ],
           [
            256,
            127,
            14
           ],
           [
            256,
            127,
            14
           ],
           [
            256,
            127,
            14
           ],
           [
            256,
            127,
            14
           ],
           [
            256,
            127,
            14
           ],
           [
            256,
            127,
            14
           ]
          ]
         ],
         "type": "surface",
         "x": [
          [
           852,
           1758.5,
           2665,
           3571.5,
           4478
          ],
          [
           852,
           1758.5,
           2665,
           3571.5,
           4478
          ],
          [
           852,
           1758.5,
           2665,
           3571.5,
           4478
          ],
          [
           852,
           1758.5,
           2665,
           3571.5,
           4478
          ],
          [
           852,
           1758.5,
           2665,
           3571.5,
           4478
          ]
         ],
         "y": [
          [
           1,
           1,
           1,
           1,
           1
          ],
          [
           2,
           2,
           2,
           2,
           2
          ],
          [
           3,
           3,
           3,
           3,
           3
          ],
          [
           4,
           4,
           4,
           4,
           4
          ],
          [
           5,
           5,
           5,
           5,
           5
          ]
         ],
         "z": [
          [
           231408.61983193533,
           349764.8705587294,
           468121.12128552346,
           586477.3720123176,
           704833.6227391118
          ],
          [
           215684.91568920086,
           334041.166415995,
           452397.41714278905,
           570753.6678695831,
           689109.9185963772
          ],
          [
           199961.21154646642,
           318317.4622732605,
           436673.7130000546,
           555029.9637268487,
           673386.2144536428
          ],
          [
           184237.507403732,
           302593.75813052605,
           420950.0088573202,
           539306.2595841143,
           657662.5103109084
          ],
          [
           168513.80326099755,
           286870.05398779165,
           405226.3047145857,
           523582.55544137984,
           641938.8061681739
          ]
         ]
        }
       ],
       "layout": {
        "template": {
         "data": {
          "bar": [
           {
            "error_x": {
             "color": "#2a3f5f"
            },
            "error_y": {
             "color": "#2a3f5f"
            },
            "marker": {
             "line": {
              "color": "#E5ECF6",
              "width": 0.5
             }
            },
            "type": "bar"
           }
          ],
          "barpolar": [
           {
            "marker": {
             "line": {
              "color": "#E5ECF6",
              "width": 0.5
             }
            },
            "type": "barpolar"
           }
          ],
          "carpet": [
           {
            "aaxis": {
             "endlinecolor": "#2a3f5f",
             "gridcolor": "white",
             "linecolor": "white",
             "minorgridcolor": "white",
             "startlinecolor": "#2a3f5f"
            },
            "baxis": {
             "endlinecolor": "#2a3f5f",
             "gridcolor": "white",
             "linecolor": "white",
             "minorgridcolor": "white",
             "startlinecolor": "#2a3f5f"
            },
            "type": "carpet"
           }
          ],
          "choropleth": [
           {
            "colorbar": {
             "outlinewidth": 0,
             "ticks": ""
            },
            "type": "choropleth"
           }
          ],
          "contour": [
           {
            "colorbar": {
             "outlinewidth": 0,
             "ticks": ""
            },
            "colorscale": [
             [
              0,
              "#0d0887"
             ],
             [
              0.1111111111111111,
              "#46039f"
             ],
             [
              0.2222222222222222,
              "#7201a8"
             ],
             [
              0.3333333333333333,
              "#9c179e"
             ],
             [
              0.4444444444444444,
              "#bd3786"
             ],
             [
              0.5555555555555556,
              "#d8576b"
             ],
             [
              0.6666666666666666,
              "#ed7953"
             ],
             [
              0.7777777777777778,
              "#fb9f3a"
             ],
             [
              0.8888888888888888,
              "#fdca26"
             ],
             [
              1,
              "#f0f921"
             ]
            ],
            "type": "contour"
           }
          ],
          "contourcarpet": [
           {
            "colorbar": {
             "outlinewidth": 0,
             "ticks": ""
            },
            "type": "contourcarpet"
           }
          ],
          "heatmap": [
           {
            "colorbar": {
             "outlinewidth": 0,
             "ticks": ""
            },
            "colorscale": [
             [
              0,
              "#0d0887"
             ],
             [
              0.1111111111111111,
              "#46039f"
             ],
             [
              0.2222222222222222,
              "#7201a8"
             ],
             [
              0.3333333333333333,
              "#9c179e"
             ],
             [
              0.4444444444444444,
              "#bd3786"
             ],
             [
              0.5555555555555556,
              "#d8576b"
             ],
             [
              0.6666666666666666,
              "#ed7953"
             ],
             [
              0.7777777777777778,
              "#fb9f3a"
             ],
             [
              0.8888888888888888,
              "#fdca26"
             ],
             [
              1,
              "#f0f921"
             ]
            ],
            "type": "heatmap"
           }
          ],
          "heatmapgl": [
           {
            "colorbar": {
             "outlinewidth": 0,
             "ticks": ""
            },
            "colorscale": [
             [
              0,
              "#0d0887"
             ],
             [
              0.1111111111111111,
              "#46039f"
             ],
             [
              0.2222222222222222,
              "#7201a8"
             ],
             [
              0.3333333333333333,
              "#9c179e"
             ],
             [
              0.4444444444444444,
              "#bd3786"
             ],
             [
              0.5555555555555556,
              "#d8576b"
             ],
             [
              0.6666666666666666,
              "#ed7953"
             ],
             [
              0.7777777777777778,
              "#fb9f3a"
             ],
             [
              0.8888888888888888,
              "#fdca26"
             ],
             [
              1,
              "#f0f921"
             ]
            ],
            "type": "heatmapgl"
           }
          ],
          "histogram": [
           {
            "marker": {
             "colorbar": {
              "outlinewidth": 0,
              "ticks": ""
             }
            },
            "type": "histogram"
           }
          ],
          "histogram2d": [
           {
            "colorbar": {
             "outlinewidth": 0,
             "ticks": ""
            },
            "colorscale": [
             [
              0,
              "#0d0887"
             ],
             [
              0.1111111111111111,
              "#46039f"
             ],
             [
              0.2222222222222222,
              "#7201a8"
             ],
             [
              0.3333333333333333,
              "#9c179e"
             ],
             [
              0.4444444444444444,
              "#bd3786"
             ],
             [
              0.5555555555555556,
              "#d8576b"
             ],
             [
              0.6666666666666666,
              "#ed7953"
             ],
             [
              0.7777777777777778,
              "#fb9f3a"
             ],
             [
              0.8888888888888888,
              "#fdca26"
             ],
             [
              1,
              "#f0f921"
             ]
            ],
            "type": "histogram2d"
           }
          ],
          "histogram2dcontour": [
           {
            "colorbar": {
             "outlinewidth": 0,
             "ticks": ""
            },
            "colorscale": [
             [
              0,
              "#0d0887"
             ],
             [
              0.1111111111111111,
              "#46039f"
             ],
             [
              0.2222222222222222,
              "#7201a8"
             ],
             [
              0.3333333333333333,
              "#9c179e"
             ],
             [
              0.4444444444444444,
              "#bd3786"
             ],
             [
              0.5555555555555556,
              "#d8576b"
             ],
             [
              0.6666666666666666,
              "#ed7953"
             ],
             [
              0.7777777777777778,
              "#fb9f3a"
             ],
             [
              0.8888888888888888,
              "#fdca26"
             ],
             [
              1,
              "#f0f921"
             ]
            ],
            "type": "histogram2dcontour"
           }
          ],
          "mesh3d": [
           {
            "colorbar": {
             "outlinewidth": 0,
             "ticks": ""
            },
            "type": "mesh3d"
           }
          ],
          "parcoords": [
           {
            "line": {
             "colorbar": {
              "outlinewidth": 0,
              "ticks": ""
             }
            },
            "type": "parcoords"
           }
          ],
          "pie": [
           {
            "automargin": true,
            "type": "pie"
           }
          ],
          "scatter": [
           {
            "marker": {
             "colorbar": {
              "outlinewidth": 0,
              "ticks": ""
             }
            },
            "type": "scatter"
           }
          ],
          "scatter3d": [
           {
            "line": {
             "colorbar": {
              "outlinewidth": 0,
              "ticks": ""
             }
            },
            "marker": {
             "colorbar": {
              "outlinewidth": 0,
              "ticks": ""
             }
            },
            "type": "scatter3d"
           }
          ],
          "scattercarpet": [
           {
            "marker": {
             "colorbar": {
              "outlinewidth": 0,
              "ticks": ""
             }
            },
            "type": "scattercarpet"
           }
          ],
          "scattergeo": [
           {
            "marker": {
             "colorbar": {
              "outlinewidth": 0,
              "ticks": ""
             }
            },
            "type": "scattergeo"
           }
          ],
          "scattergl": [
           {
            "marker": {
             "colorbar": {
              "outlinewidth": 0,
              "ticks": ""
             }
            },
            "type": "scattergl"
           }
          ],
          "scattermapbox": [
           {
            "marker": {
             "colorbar": {
              "outlinewidth": 0,
              "ticks": ""
             }
            },
            "type": "scattermapbox"
           }
          ],
          "scatterpolar": [
           {
            "marker": {
             "colorbar": {
              "outlinewidth": 0,
              "ticks": ""
             }
            },
            "type": "scatterpolar"
           }
          ],
          "scatterpolargl": [
           {
            "marker": {
             "colorbar": {
              "outlinewidth": 0,
              "ticks": ""
             }
            },
            "type": "scatterpolargl"
           }
          ],
          "scatterternary": [
           {
            "marker": {
             "colorbar": {
              "outlinewidth": 0,
              "ticks": ""
             }
            },
            "type": "scatterternary"
           }
          ],
          "surface": [
           {
            "colorbar": {
             "outlinewidth": 0,
             "ticks": ""
            },
            "colorscale": [
             [
              0,
              "#0d0887"
             ],
             [
              0.1111111111111111,
              "#46039f"
             ],
             [
              0.2222222222222222,
              "#7201a8"
             ],
             [
              0.3333333333333333,
              "#9c179e"
             ],
             [
              0.4444444444444444,
              "#bd3786"
             ],
             [
              0.5555555555555556,
              "#d8576b"
             ],
             [
              0.6666666666666666,
              "#ed7953"
             ],
             [
              0.7777777777777778,
              "#fb9f3a"
             ],
             [
              0.8888888888888888,
              "#fdca26"
             ],
             [
              1,
              "#f0f921"
             ]
            ],
            "type": "surface"
           }
          ],
          "table": [
           {
            "cells": {
             "fill": {
              "color": "#EBF0F8"
             },
             "line": {
              "color": "white"
             }
            },
            "header": {
             "fill": {
              "color": "#C8D4E3"
             },
             "line": {
              "color": "white"
             }
            },
            "type": "table"
           }
          ]
         },
         "layout": {
          "annotationdefaults": {
           "arrowcolor": "#2a3f5f",
           "arrowhead": 0,
           "arrowwidth": 1
          },
          "coloraxis": {
           "colorbar": {
            "outlinewidth": 0,
            "ticks": ""
           }
          },
          "colorscale": {
           "diverging": [
            [
             0,
             "#8e0152"
            ],
            [
             0.1,
             "#c51b7d"
            ],
            [
             0.2,
             "#de77ae"
            ],
            [
             0.3,
             "#f1b6da"
            ],
            [
             0.4,
             "#fde0ef"
            ],
            [
             0.5,
             "#f7f7f7"
            ],
            [
             0.6,
             "#e6f5d0"
            ],
            [
             0.7,
             "#b8e186"
            ],
            [
             0.8,
             "#7fbc41"
            ],
            [
             0.9,
             "#4d9221"
            ],
            [
             1,
             "#276419"
            ]
           ],
           "sequential": [
            [
             0,
             "#0d0887"
            ],
            [
             0.1111111111111111,
             "#46039f"
            ],
            [
             0.2222222222222222,
             "#7201a8"
            ],
            [
             0.3333333333333333,
             "#9c179e"
            ],
            [
             0.4444444444444444,
             "#bd3786"
            ],
            [
             0.5555555555555556,
             "#d8576b"
            ],
            [
             0.6666666666666666,
             "#ed7953"
            ],
            [
             0.7777777777777778,
             "#fb9f3a"
            ],
            [
             0.8888888888888888,
             "#fdca26"
            ],
            [
             1,
             "#f0f921"
            ]
           ],
           "sequentialminus": [
            [
             0,
             "#0d0887"
            ],
            [
             0.1111111111111111,
             "#46039f"
            ],
            [
             0.2222222222222222,
             "#7201a8"
            ],
            [
             0.3333333333333333,
             "#9c179e"
            ],
            [
             0.4444444444444444,
             "#bd3786"
            ],
            [
             0.5555555555555556,
             "#d8576b"
            ],
            [
             0.6666666666666666,
             "#ed7953"
            ],
            [
             0.7777777777777778,
             "#fb9f3a"
            ],
            [
             0.8888888888888888,
             "#fdca26"
            ],
            [
             1,
             "#f0f921"
            ]
           ]
          },
          "colorway": [
           "#636efa",
           "#EF553B",
           "#00cc96",
           "#ab63fa",
           "#FFA15A",
           "#19d3f3",
           "#FF6692",
           "#B6E880",
           "#FF97FF",
           "#FECB52"
          ],
          "font": {
           "color": "#2a3f5f"
          },
          "geo": {
           "bgcolor": "white",
           "lakecolor": "white",
           "landcolor": "#E5ECF6",
           "showlakes": true,
           "showland": true,
           "subunitcolor": "white"
          },
          "hoverlabel": {
           "align": "left"
          },
          "hovermode": "closest",
          "mapbox": {
           "style": "light"
          },
          "paper_bgcolor": "white",
          "plot_bgcolor": "#E5ECF6",
          "polar": {
           "angularaxis": {
            "gridcolor": "white",
            "linecolor": "white",
            "ticks": ""
           },
           "bgcolor": "#E5ECF6",
           "radialaxis": {
            "gridcolor": "white",
            "linecolor": "white",
            "ticks": ""
           }
          },
          "scene": {
           "xaxis": {
            "backgroundcolor": "#E5ECF6",
            "gridcolor": "white",
            "gridwidth": 2,
            "linecolor": "white",
            "showbackground": true,
            "ticks": "",
            "zerolinecolor": "white"
           },
           "yaxis": {
            "backgroundcolor": "#E5ECF6",
            "gridcolor": "white",
            "gridwidth": 2,
            "linecolor": "white",
            "showbackground": true,
            "ticks": "",
            "zerolinecolor": "white"
           },
           "zaxis": {
            "backgroundcolor": "#E5ECF6",
            "gridcolor": "white",
            "gridwidth": 2,
            "linecolor": "white",
            "showbackground": true,
            "ticks": "",
            "zerolinecolor": "white"
           }
          },
          "shapedefaults": {
           "line": {
            "color": "#2a3f5f"
           }
          },
          "ternary": {
           "aaxis": {
            "gridcolor": "white",
            "linecolor": "white",
            "ticks": ""
           },
           "baxis": {
            "gridcolor": "white",
            "linecolor": "white",
            "ticks": ""
           },
           "bgcolor": "#E5ECF6",
           "caxis": {
            "gridcolor": "white",
            "linecolor": "white",
            "ticks": ""
           }
          },
          "title": {
           "x": 0.05
          },
          "xaxis": {
           "automargin": true,
           "gridcolor": "white",
           "linecolor": "white",
           "ticks": "",
           "title": {
            "standoff": 15
           },
           "zerolinecolor": "white",
           "zerolinewidth": 2
          },
          "yaxis": {
           "automargin": true,
           "gridcolor": "white",
           "linecolor": "white",
           "ticks": "",
           "title": {
            "standoff": 15
           },
           "zerolinecolor": "white",
           "zerolinewidth": 2
          }
         }
        }
       }
      },
      "text/html": [
       "<div>\n",
       "        \n",
       "        \n",
       "            <div id=\"77d8ff76-31a9-4c11-ac9c-29fff5b051bd\" class=\"plotly-graph-div\" style=\"height:525px; width:100%;\"></div>\n",
       "            <script type=\"text/javascript\">\n",
       "                require([\"plotly\"], function(Plotly) {\n",
       "                    window.PLOTLYENV=window.PLOTLYENV || {};\n",
       "                    \n",
       "                if (document.getElementById(\"77d8ff76-31a9-4c11-ac9c-29fff5b051bd\")) {\n",
       "                    Plotly.newPlot(\n",
       "                        '77d8ff76-31a9-4c11-ac9c-29fff5b051bd',\n",
       "                        [{\"mode\": \"markers\", \"type\": \"scatter3d\", \"x\": [2104, 1600, 2400, 1416, 3000, 1985, 1534, 1427, 1380, 1494, 1940, 2000, 1890, 4478, 1268, 2300, 1320, 1236, 2609, 3031, 1767, 1888, 1604, 1962, 3890, 1100, 1458, 2526, 2200, 2637, 1839, 1000, 2040, 3137, 1811, 1437, 1239, 2132, 4215, 2162, 1664, 2238, 2567, 1200, 852, 1852, 1203], \"y\": [3, 3, 3, 2, 4, 4, 3, 3, 3, 3, 4, 3, 3, 5, 3, 4, 2, 3, 4, 4, 3, 2, 3, 4, 3, 3, 3, 3, 3, 3, 2, 1, 4, 3, 4, 3, 3, 4, 4, 4, 2, 3, 4, 3, 2, 4, 3], \"z\": [399900, 329900, 369000, 232000, 539900, 299900, 314900, 198999, 212000, 242500, 239999, 347000, 329999, 699900, 259900, 449900, 299900, 199900, 499998, 599000, 252900, 255000, 242900, 259900, 573900, 249900, 464500, 469000, 475000, 299900, 349900, 169900, 314900, 579900, 285900, 249900, 229900, 345000, 549000, 287000, 368500, 329900, 314000, 299000, 179900, 299900, 239500]}, {\"opacity\": 0.3, \"showscale\": false, \"surfacecolor\": [[[256, 127, 14], [256, 127, 14], [256, 127, 14], [256, 127, 14], [256, 127, 14], [256, 127, 14], [256, 127, 14], [256, 127, 14], [256, 127, 14], [256, 127, 14], [256, 127, 14], [256, 127, 14], [256, 127, 14], [256, 127, 14], [256, 127, 14], [256, 127, 14], [256, 127, 14], [256, 127, 14], [256, 127, 14], [256, 127, 14], [256, 127, 14]], [[256, 127, 14], [256, 127, 14], [256, 127, 14], [256, 127, 14], [256, 127, 14], [256, 127, 14], [256, 127, 14], [256, 127, 14], [256, 127, 14], [256, 127, 14], [256, 127, 14], [256, 127, 14], [256, 127, 14], [256, 127, 14], [256, 127, 14], [256, 127, 14], [256, 127, 14], [256, 127, 14], [256, 127, 14], [256, 127, 14], [256, 127, 14]], [[256, 127, 14], [256, 127, 14], [256, 127, 14], [256, 127, 14], [256, 127, 14], [256, 127, 14], [256, 127, 14], [256, 127, 14], [256, 127, 14], [256, 127, 14], [256, 127, 14], [256, 127, 14], [256, 127, 14], [256, 127, 14], [256, 127, 14], [256, 127, 14], [256, 127, 14], [256, 127, 14], [256, 127, 14], [256, 127, 14], [256, 127, 14]], [[256, 127, 14], [256, 127, 14], [256, 127, 14], [256, 127, 14], [256, 127, 14], [256, 127, 14], [256, 127, 14], [256, 127, 14], [256, 127, 14], [256, 127, 14], [256, 127, 14], [256, 127, 14], [256, 127, 14], [256, 127, 14], [256, 127, 14], [256, 127, 14], [256, 127, 14], [256, 127, 14], [256, 127, 14], [256, 127, 14], [256, 127, 14]], [[256, 127, 14], [256, 127, 14], [256, 127, 14], [256, 127, 14], [256, 127, 14], [256, 127, 14], [256, 127, 14], [256, 127, 14], [256, 127, 14], [256, 127, 14], [256, 127, 14], [256, 127, 14], [256, 127, 14], [256, 127, 14], [256, 127, 14], [256, 127, 14], [256, 127, 14], [256, 127, 14], [256, 127, 14], [256, 127, 14], [256, 127, 14]], [[256, 127, 14], [256, 127, 14], [256, 127, 14], [256, 127, 14], [256, 127, 14], [256, 127, 14], [256, 127, 14], [256, 127, 14], [256, 127, 14], [256, 127, 14], [256, 127, 14], [256, 127, 14], [256, 127, 14], [256, 127, 14], [256, 127, 14], [256, 127, 14], [256, 127, 14], [256, 127, 14], [256, 127, 14], [256, 127, 14], [256, 127, 14]], [[256, 127, 14], [256, 127, 14], [256, 127, 14], [256, 127, 14], [256, 127, 14], [256, 127, 14], [256, 127, 14], [256, 127, 14], [256, 127, 14], [256, 127, 14], [256, 127, 14], [256, 127, 14], [256, 127, 14], [256, 127, 14], [256, 127, 14], [256, 127, 14], [256, 127, 14], [256, 127, 14], [256, 127, 14], [256, 127, 14], [256, 127, 14]], [[256, 127, 14], [256, 127, 14], [256, 127, 14], [256, 127, 14], [256, 127, 14], [256, 127, 14], [256, 127, 14], [256, 127, 14], [256, 127, 14], [256, 127, 14], [256, 127, 14], [256, 127, 14], [256, 127, 14], [256, 127, 14], [256, 127, 14], [256, 127, 14], [256, 127, 14], [256, 127, 14], [256, 127, 14], [256, 127, 14], [256, 127, 14]], [[256, 127, 14], [256, 127, 14], [256, 127, 14], [256, 127, 14], [256, 127, 14], [256, 127, 14], [256, 127, 14], [256, 127, 14], [256, 127, 14], [256, 127, 14], [256, 127, 14], [256, 127, 14], [256, 127, 14], [256, 127, 14], [256, 127, 14], [256, 127, 14], [256, 127, 14], [256, 127, 14], [256, 127, 14], [256, 127, 14], [256, 127, 14]], [[256, 127, 14], [256, 127, 14], [256, 127, 14], [256, 127, 14], [256, 127, 14], [256, 127, 14], [256, 127, 14], [256, 127, 14], [256, 127, 14], [256, 127, 14], [256, 127, 14], [256, 127, 14], [256, 127, 14], [256, 127, 14], [256, 127, 14], [256, 127, 14], [256, 127, 14], [256, 127, 14], [256, 127, 14], [256, 127, 14], [256, 127, 14]], [[256, 127, 14], [256, 127, 14], [256, 127, 14], [256, 127, 14], [256, 127, 14], [256, 127, 14], [256, 127, 14], [256, 127, 14], [256, 127, 14], [256, 127, 14], [256, 127, 14], [256, 127, 14], [256, 127, 14], [256, 127, 14], [256, 127, 14], [256, 127, 14], [256, 127, 14], [256, 127, 14], [256, 127, 14], [256, 127, 14], [256, 127, 14]], [[256, 127, 14], [256, 127, 14], [256, 127, 14], [256, 127, 14], [256, 127, 14], [256, 127, 14], [256, 127, 14], [256, 127, 14], [256, 127, 14], [256, 127, 14], [256, 127, 14], [256, 127, 14], [256, 127, 14], [256, 127, 14], [256, 127, 14], [256, 127, 14], [256, 127, 14], [256, 127, 14], [256, 127, 14], [256, 127, 14], [256, 127, 14]], [[256, 127, 14], [256, 127, 14], [256, 127, 14], [256, 127, 14], [256, 127, 14], [256, 127, 14], [256, 127, 14], [256, 127, 14], [256, 127, 14], [256, 127, 14], [256, 127, 14], [256, 127, 14], [256, 127, 14], [256, 127, 14], [256, 127, 14], [256, 127, 14], [256, 127, 14], [256, 127, 14], [256, 127, 14], [256, 127, 14], [256, 127, 14]], [[256, 127, 14], [256, 127, 14], [256, 127, 14], [256, 127, 14], [256, 127, 14], [256, 127, 14], [256, 127, 14], [256, 127, 14], [256, 127, 14], [256, 127, 14], [256, 127, 14], [256, 127, 14], [256, 127, 14], [256, 127, 14], [256, 127, 14], [256, 127, 14], [256, 127, 14], [256, 127, 14], [256, 127, 14], [256, 127, 14], [256, 127, 14]], [[256, 127, 14], [256, 127, 14], [256, 127, 14], [256, 127, 14], [256, 127, 14], [256, 127, 14], [256, 127, 14], [256, 127, 14], [256, 127, 14], [256, 127, 14], [256, 127, 14], [256, 127, 14], [256, 127, 14], [256, 127, 14], [256, 127, 14], [256, 127, 14], [256, 127, 14], [256, 127, 14], [256, 127, 14], [256, 127, 14], [256, 127, 14]], [[256, 127, 14], [256, 127, 14], [256, 127, 14], [256, 127, 14], [256, 127, 14], [256, 127, 14], [256, 127, 14], [256, 127, 14], [256, 127, 14], [256, 127, 14], [256, 127, 14], [256, 127, 14], [256, 127, 14], [256, 127, 14], [256, 127, 14], [256, 127, 14], [256, 127, 14], [256, 127, 14], [256, 127, 14], [256, 127, 14], [256, 127, 14]], [[256, 127, 14], [256, 127, 14], [256, 127, 14], [256, 127, 14], [256, 127, 14], [256, 127, 14], [256, 127, 14], [256, 127, 14], [256, 127, 14], [256, 127, 14], [256, 127, 14], [256, 127, 14], [256, 127, 14], [256, 127, 14], [256, 127, 14], [256, 127, 14], [256, 127, 14], [256, 127, 14], [256, 127, 14], [256, 127, 14], [256, 127, 14]], [[256, 127, 14], [256, 127, 14], [256, 127, 14], [256, 127, 14], [256, 127, 14], [256, 127, 14], [256, 127, 14], [256, 127, 14], [256, 127, 14], [256, 127, 14], [256, 127, 14], [256, 127, 14], [256, 127, 14], [256, 127, 14], [256, 127, 14], [256, 127, 14], [256, 127, 14], [256, 127, 14], [256, 127, 14], [256, 127, 14], [256, 127, 14]], [[256, 127, 14], [256, 127, 14], [256, 127, 14], [256, 127, 14], [256, 127, 14], [256, 127, 14], [256, 127, 14], [256, 127, 14], [256, 127, 14], [256, 127, 14], [256, 127, 14], [256, 127, 14], [256, 127, 14], [256, 127, 14], [256, 127, 14], [256, 127, 14], [256, 127, 14], [256, 127, 14], [256, 127, 14], [256, 127, 14], [256, 127, 14]], [[256, 127, 14], [256, 127, 14], [256, 127, 14], [256, 127, 14], [256, 127, 14], [256, 127, 14], [256, 127, 14], [256, 127, 14], [256, 127, 14], [256, 127, 14], [256, 127, 14], [256, 127, 14], [256, 127, 14], [256, 127, 14], [256, 127, 14], [256, 127, 14], [256, 127, 14], [256, 127, 14], [256, 127, 14], [256, 127, 14], [256, 127, 14]], [[256, 127, 14], [256, 127, 14], [256, 127, 14], [256, 127, 14], [256, 127, 14], [256, 127, 14], [256, 127, 14], [256, 127, 14], [256, 127, 14], [256, 127, 14], [256, 127, 14], [256, 127, 14], [256, 127, 14], [256, 127, 14], [256, 127, 14], [256, 127, 14], [256, 127, 14], [256, 127, 14], [256, 127, 14], [256, 127, 14], [256, 127, 14]]], \"type\": \"surface\", \"x\": [[852.0, 1758.5, 2665.0, 3571.5, 4478.0], [852.0, 1758.5, 2665.0, 3571.5, 4478.0], [852.0, 1758.5, 2665.0, 3571.5, 4478.0], [852.0, 1758.5, 2665.0, 3571.5, 4478.0], [852.0, 1758.5, 2665.0, 3571.5, 4478.0]], \"y\": [[1.0, 1.0, 1.0, 1.0, 1.0], [2.0, 2.0, 2.0, 2.0, 2.0], [3.0, 3.0, 3.0, 3.0, 3.0], [4.0, 4.0, 4.0, 4.0, 4.0], [5.0, 5.0, 5.0, 5.0, 5.0]], \"z\": [[231408.61983193533, 349764.8705587294, 468121.12128552346, 586477.3720123176, 704833.6227391118], [215684.91568920086, 334041.166415995, 452397.41714278905, 570753.6678695831, 689109.9185963772], [199961.21154646642, 318317.4622732605, 436673.7130000546, 555029.9637268487, 673386.2144536428], [184237.507403732, 302593.75813052605, 420950.0088573202, 539306.2595841143, 657662.5103109084], [168513.80326099755, 286870.05398779165, 405226.3047145857, 523582.55544137984, 641938.8061681739]]}],\n",
       "                        {\"template\": {\"data\": {\"bar\": [{\"error_x\": {\"color\": \"#2a3f5f\"}, \"error_y\": {\"color\": \"#2a3f5f\"}, \"marker\": {\"line\": {\"color\": \"#E5ECF6\", \"width\": 0.5}}, \"type\": \"bar\"}], \"barpolar\": [{\"marker\": {\"line\": {\"color\": \"#E5ECF6\", \"width\": 0.5}}, \"type\": \"barpolar\"}], \"carpet\": [{\"aaxis\": {\"endlinecolor\": \"#2a3f5f\", \"gridcolor\": \"white\", \"linecolor\": \"white\", \"minorgridcolor\": \"white\", \"startlinecolor\": \"#2a3f5f\"}, \"baxis\": {\"endlinecolor\": \"#2a3f5f\", \"gridcolor\": \"white\", \"linecolor\": \"white\", \"minorgridcolor\": \"white\", \"startlinecolor\": \"#2a3f5f\"}, \"type\": \"carpet\"}], \"choropleth\": [{\"colorbar\": {\"outlinewidth\": 0, \"ticks\": \"\"}, \"type\": \"choropleth\"}], \"contour\": [{\"colorbar\": {\"outlinewidth\": 0, \"ticks\": \"\"}, \"colorscale\": [[0.0, \"#0d0887\"], [0.1111111111111111, \"#46039f\"], [0.2222222222222222, \"#7201a8\"], [0.3333333333333333, \"#9c179e\"], [0.4444444444444444, \"#bd3786\"], [0.5555555555555556, \"#d8576b\"], [0.6666666666666666, \"#ed7953\"], [0.7777777777777778, \"#fb9f3a\"], [0.8888888888888888, \"#fdca26\"], [1.0, \"#f0f921\"]], \"type\": \"contour\"}], \"contourcarpet\": [{\"colorbar\": {\"outlinewidth\": 0, \"ticks\": \"\"}, \"type\": \"contourcarpet\"}], \"heatmap\": [{\"colorbar\": {\"outlinewidth\": 0, \"ticks\": \"\"}, \"colorscale\": [[0.0, \"#0d0887\"], [0.1111111111111111, \"#46039f\"], [0.2222222222222222, \"#7201a8\"], [0.3333333333333333, \"#9c179e\"], [0.4444444444444444, \"#bd3786\"], [0.5555555555555556, \"#d8576b\"], [0.6666666666666666, \"#ed7953\"], [0.7777777777777778, \"#fb9f3a\"], [0.8888888888888888, \"#fdca26\"], [1.0, \"#f0f921\"]], \"type\": \"heatmap\"}], \"heatmapgl\": [{\"colorbar\": {\"outlinewidth\": 0, \"ticks\": \"\"}, \"colorscale\": [[0.0, \"#0d0887\"], [0.1111111111111111, \"#46039f\"], [0.2222222222222222, \"#7201a8\"], [0.3333333333333333, \"#9c179e\"], [0.4444444444444444, \"#bd3786\"], [0.5555555555555556, \"#d8576b\"], [0.6666666666666666, \"#ed7953\"], [0.7777777777777778, \"#fb9f3a\"], [0.8888888888888888, \"#fdca26\"], [1.0, \"#f0f921\"]], \"type\": \"heatmapgl\"}], \"histogram\": [{\"marker\": {\"colorbar\": {\"outlinewidth\": 0, \"ticks\": \"\"}}, \"type\": \"histogram\"}], \"histogram2d\": [{\"colorbar\": {\"outlinewidth\": 0, \"ticks\": \"\"}, \"colorscale\": [[0.0, \"#0d0887\"], [0.1111111111111111, \"#46039f\"], [0.2222222222222222, \"#7201a8\"], [0.3333333333333333, \"#9c179e\"], [0.4444444444444444, \"#bd3786\"], [0.5555555555555556, \"#d8576b\"], [0.6666666666666666, \"#ed7953\"], [0.7777777777777778, \"#fb9f3a\"], [0.8888888888888888, \"#fdca26\"], [1.0, \"#f0f921\"]], \"type\": \"histogram2d\"}], \"histogram2dcontour\": [{\"colorbar\": {\"outlinewidth\": 0, \"ticks\": \"\"}, \"colorscale\": [[0.0, \"#0d0887\"], [0.1111111111111111, \"#46039f\"], [0.2222222222222222, \"#7201a8\"], [0.3333333333333333, \"#9c179e\"], [0.4444444444444444, \"#bd3786\"], [0.5555555555555556, \"#d8576b\"], [0.6666666666666666, \"#ed7953\"], [0.7777777777777778, \"#fb9f3a\"], [0.8888888888888888, \"#fdca26\"], [1.0, \"#f0f921\"]], \"type\": \"histogram2dcontour\"}], \"mesh3d\": [{\"colorbar\": {\"outlinewidth\": 0, \"ticks\": \"\"}, \"type\": \"mesh3d\"}], \"parcoords\": [{\"line\": {\"colorbar\": {\"outlinewidth\": 0, \"ticks\": \"\"}}, \"type\": \"parcoords\"}], \"pie\": [{\"automargin\": true, \"type\": \"pie\"}], \"scatter\": [{\"marker\": {\"colorbar\": {\"outlinewidth\": 0, \"ticks\": \"\"}}, \"type\": \"scatter\"}], \"scatter3d\": [{\"line\": {\"colorbar\": {\"outlinewidth\": 0, \"ticks\": \"\"}}, \"marker\": {\"colorbar\": {\"outlinewidth\": 0, \"ticks\": \"\"}}, \"type\": \"scatter3d\"}], \"scattercarpet\": [{\"marker\": {\"colorbar\": {\"outlinewidth\": 0, \"ticks\": \"\"}}, \"type\": \"scattercarpet\"}], \"scattergeo\": [{\"marker\": {\"colorbar\": {\"outlinewidth\": 0, \"ticks\": \"\"}}, \"type\": \"scattergeo\"}], \"scattergl\": [{\"marker\": {\"colorbar\": {\"outlinewidth\": 0, \"ticks\": \"\"}}, \"type\": \"scattergl\"}], \"scattermapbox\": [{\"marker\": {\"colorbar\": {\"outlinewidth\": 0, \"ticks\": \"\"}}, \"type\": \"scattermapbox\"}], \"scatterpolar\": [{\"marker\": {\"colorbar\": {\"outlinewidth\": 0, \"ticks\": \"\"}}, \"type\": \"scatterpolar\"}], \"scatterpolargl\": [{\"marker\": {\"colorbar\": {\"outlinewidth\": 0, \"ticks\": \"\"}}, \"type\": \"scatterpolargl\"}], \"scatterternary\": [{\"marker\": {\"colorbar\": {\"outlinewidth\": 0, \"ticks\": \"\"}}, \"type\": \"scatterternary\"}], \"surface\": [{\"colorbar\": {\"outlinewidth\": 0, \"ticks\": \"\"}, \"colorscale\": [[0.0, \"#0d0887\"], [0.1111111111111111, \"#46039f\"], [0.2222222222222222, \"#7201a8\"], [0.3333333333333333, \"#9c179e\"], [0.4444444444444444, \"#bd3786\"], [0.5555555555555556, \"#d8576b\"], [0.6666666666666666, \"#ed7953\"], [0.7777777777777778, \"#fb9f3a\"], [0.8888888888888888, \"#fdca26\"], [1.0, \"#f0f921\"]], \"type\": \"surface\"}], \"table\": [{\"cells\": {\"fill\": {\"color\": \"#EBF0F8\"}, \"line\": {\"color\": \"white\"}}, \"header\": {\"fill\": {\"color\": \"#C8D4E3\"}, \"line\": {\"color\": \"white\"}}, \"type\": \"table\"}]}, \"layout\": {\"annotationdefaults\": {\"arrowcolor\": \"#2a3f5f\", \"arrowhead\": 0, \"arrowwidth\": 1}, \"coloraxis\": {\"colorbar\": {\"outlinewidth\": 0, \"ticks\": \"\"}}, \"colorscale\": {\"diverging\": [[0, \"#8e0152\"], [0.1, \"#c51b7d\"], [0.2, \"#de77ae\"], [0.3, \"#f1b6da\"], [0.4, \"#fde0ef\"], [0.5, \"#f7f7f7\"], [0.6, \"#e6f5d0\"], [0.7, \"#b8e186\"], [0.8, \"#7fbc41\"], [0.9, \"#4d9221\"], [1, \"#276419\"]], \"sequential\": [[0.0, \"#0d0887\"], [0.1111111111111111, \"#46039f\"], [0.2222222222222222, \"#7201a8\"], [0.3333333333333333, \"#9c179e\"], [0.4444444444444444, \"#bd3786\"], [0.5555555555555556, \"#d8576b\"], [0.6666666666666666, \"#ed7953\"], [0.7777777777777778, \"#fb9f3a\"], [0.8888888888888888, \"#fdca26\"], [1.0, \"#f0f921\"]], \"sequentialminus\": [[0.0, \"#0d0887\"], [0.1111111111111111, \"#46039f\"], [0.2222222222222222, \"#7201a8\"], [0.3333333333333333, \"#9c179e\"], [0.4444444444444444, \"#bd3786\"], [0.5555555555555556, \"#d8576b\"], [0.6666666666666666, \"#ed7953\"], [0.7777777777777778, \"#fb9f3a\"], [0.8888888888888888, \"#fdca26\"], [1.0, \"#f0f921\"]]}, \"colorway\": [\"#636efa\", \"#EF553B\", \"#00cc96\", \"#ab63fa\", \"#FFA15A\", \"#19d3f3\", \"#FF6692\", \"#B6E880\", \"#FF97FF\", \"#FECB52\"], \"font\": {\"color\": \"#2a3f5f\"}, \"geo\": {\"bgcolor\": \"white\", \"lakecolor\": \"white\", \"landcolor\": \"#E5ECF6\", \"showlakes\": true, \"showland\": true, \"subunitcolor\": \"white\"}, \"hoverlabel\": {\"align\": \"left\"}, \"hovermode\": \"closest\", \"mapbox\": {\"style\": \"light\"}, \"paper_bgcolor\": \"white\", \"plot_bgcolor\": \"#E5ECF6\", \"polar\": {\"angularaxis\": {\"gridcolor\": \"white\", \"linecolor\": \"white\", \"ticks\": \"\"}, \"bgcolor\": \"#E5ECF6\", \"radialaxis\": {\"gridcolor\": \"white\", \"linecolor\": \"white\", \"ticks\": \"\"}}, \"scene\": {\"xaxis\": {\"backgroundcolor\": \"#E5ECF6\", \"gridcolor\": \"white\", \"gridwidth\": 2, \"linecolor\": \"white\", \"showbackground\": true, \"ticks\": \"\", \"zerolinecolor\": \"white\"}, \"yaxis\": {\"backgroundcolor\": \"#E5ECF6\", \"gridcolor\": \"white\", \"gridwidth\": 2, \"linecolor\": \"white\", \"showbackground\": true, \"ticks\": \"\", \"zerolinecolor\": \"white\"}, \"zaxis\": {\"backgroundcolor\": \"#E5ECF6\", \"gridcolor\": \"white\", \"gridwidth\": 2, \"linecolor\": \"white\", \"showbackground\": true, \"ticks\": \"\", \"zerolinecolor\": \"white\"}}, \"shapedefaults\": {\"line\": {\"color\": \"#2a3f5f\"}}, \"ternary\": {\"aaxis\": {\"gridcolor\": \"white\", \"linecolor\": \"white\", \"ticks\": \"\"}, \"baxis\": {\"gridcolor\": \"white\", \"linecolor\": \"white\", \"ticks\": \"\"}, \"bgcolor\": \"#E5ECF6\", \"caxis\": {\"gridcolor\": \"white\", \"linecolor\": \"white\", \"ticks\": \"\"}}, \"title\": {\"x\": 0.05}, \"xaxis\": {\"automargin\": true, \"gridcolor\": \"white\", \"linecolor\": \"white\", \"ticks\": \"\", \"title\": {\"standoff\": 15}, \"zerolinecolor\": \"white\", \"zerolinewidth\": 2}, \"yaxis\": {\"automargin\": true, \"gridcolor\": \"white\", \"linecolor\": \"white\", \"ticks\": \"\", \"title\": {\"standoff\": 15}, \"zerolinecolor\": \"white\", \"zerolinewidth\": 2}}}},\n",
       "                        {\"responsive\": true}\n",
       "                    ).then(function(){\n",
       "                            \n",
       "var gd = document.getElementById('77d8ff76-31a9-4c11-ac9c-29fff5b051bd');\n",
       "var x = new MutationObserver(function (mutations, observer) {{\n",
       "        var display = window.getComputedStyle(gd).display;\n",
       "        if (!display || display === 'none') {{\n",
       "            console.log([gd, 'removed!']);\n",
       "            Plotly.purge(gd);\n",
       "            observer.disconnect();\n",
       "        }}\n",
       "}});\n",
       "\n",
       "// Listen for the removal of the full notebook cells\n",
       "var notebookContainer = gd.closest('#notebook-container');\n",
       "if (notebookContainer) {{\n",
       "    x.observe(notebookContainer, {childList: true});\n",
       "}}\n",
       "\n",
       "// Listen for the clearing of the current output cell\n",
       "var outputEl = gd.closest('.output');\n",
       "if (outputEl) {{\n",
       "    x.observe(outputEl, {childList: true});\n",
       "}}\n",
       "\n",
       "                        })\n",
       "                };\n",
       "                });\n",
       "            </script>\n",
       "        </div>"
      ]
     },
     "metadata": {},
     "output_type": "display_data"
    }
   ],
   "source": [
    "import plotly.graph_objects as go\n",
    "\n",
    "x = np.linspace(data['size'].min(), data['size'].max(), 5)\n",
    "y = np.linspace(data['bedrooms'].min(), data['bedrooms'].max(), 5)\n",
    "x, y = np.meshgrid(x, y)\n",
    "\n",
    "z = model.params['const'] + model.params['size'] * x + model.params['bedrooms'] * y\n",
    "z = z.reshape(x.shape)\n",
    "\n",
    "make_int = np.vectorize(int)\n",
    "cmap = plt.get_cmap(\"tab10\")\n",
    "mycolors = make_int(256*np.array(cmap(1)[0:3])).reshape((1, 1,-1)).repeat(21, axis = 0).repeat(21, axis =1)\n",
    "\n",
    "fig = go.Figure()\n",
    "fig.add_trace(go.Scatter3d(x=data['size'], y=data['bedrooms'], z=data['price'], mode='markers'))\n",
    "fig.add_trace(go.Surface(x=x, y=y, z=z, surfacecolor=mycolors, opacity=.3, showscale=False))\n",
    "\n",
    "fig.show()"
   ]
  },
  {
   "cell_type": "markdown",
   "metadata": {},
   "source": [
    "<a id='section4'></a>\n",
    "## Regressione multipla SerieA"
   ]
  },
  {
   "cell_type": "markdown",
   "metadata": {},
   "source": [
    "Leggendo i dati della classifica di SerieA provare a impostare un modello per calcolare una regressione multipla tra i gol fatti e subiti e i punti in classifica."
   ]
  },
  {
   "cell_type": "code",
   "execution_count": 196,
   "metadata": {},
   "outputs": [
    {
     "data": {
      "text/html": [
       "<div>\n",
       "<style scoped>\n",
       "    .dataframe tbody tr th:only-of-type {\n",
       "        vertical-align: middle;\n",
       "    }\n",
       "\n",
       "    .dataframe tbody tr th {\n",
       "        vertical-align: top;\n",
       "    }\n",
       "\n",
       "    .dataframe thead th {\n",
       "        text-align: right;\n",
       "    }\n",
       "</style>\n",
       "<table border=\"1\" class=\"dataframe\">\n",
       "  <thead>\n",
       "    <tr style=\"text-align: right;\">\n",
       "      <th></th>\n",
       "      <th>SQUADRE</th>\n",
       "      <th>PUNTI</th>\n",
       "      <th>G</th>\n",
       "      <th>V</th>\n",
       "      <th>N</th>\n",
       "      <th>P</th>\n",
       "      <th>G.1</th>\n",
       "      <th>V.1</th>\n",
       "      <th>N.1</th>\n",
       "      <th>P.1</th>\n",
       "      <th>G.2</th>\n",
       "      <th>V.2</th>\n",
       "      <th>N.2</th>\n",
       "      <th>P.2</th>\n",
       "      <th>F</th>\n",
       "      <th>S</th>\n",
       "    </tr>\n",
       "  </thead>\n",
       "  <tbody>\n",
       "    <tr>\n",
       "      <th>0</th>\n",
       "      <td>1  Juventus</td>\n",
       "      <td>63</td>\n",
       "      <td>26</td>\n",
       "      <td>20</td>\n",
       "      <td>3</td>\n",
       "      <td>3</td>\n",
       "      <td>13</td>\n",
       "      <td>12</td>\n",
       "      <td>1</td>\n",
       "      <td>0</td>\n",
       "      <td>13</td>\n",
       "      <td>8</td>\n",
       "      <td>2</td>\n",
       "      <td>3</td>\n",
       "      <td>50</td>\n",
       "      <td>24</td>\n",
       "    </tr>\n",
       "    <tr>\n",
       "      <th>1</th>\n",
       "      <td>2  Lazio</td>\n",
       "      <td>62</td>\n",
       "      <td>26</td>\n",
       "      <td>19</td>\n",
       "      <td>5</td>\n",
       "      <td>2</td>\n",
       "      <td>14</td>\n",
       "      <td>11</td>\n",
       "      <td>3</td>\n",
       "      <td>0</td>\n",
       "      <td>12</td>\n",
       "      <td>8</td>\n",
       "      <td>2</td>\n",
       "      <td>2</td>\n",
       "      <td>60</td>\n",
       "      <td>23</td>\n",
       "    </tr>\n",
       "    <tr>\n",
       "      <th>2</th>\n",
       "      <td>3  Inter</td>\n",
       "      <td>54</td>\n",
       "      <td>25</td>\n",
       "      <td>16</td>\n",
       "      <td>6</td>\n",
       "      <td>3</td>\n",
       "      <td>12</td>\n",
       "      <td>7</td>\n",
       "      <td>4</td>\n",
       "      <td>1</td>\n",
       "      <td>13</td>\n",
       "      <td>9</td>\n",
       "      <td>2</td>\n",
       "      <td>2</td>\n",
       "      <td>49</td>\n",
       "      <td>24</td>\n",
       "    </tr>\n",
       "    <tr>\n",
       "      <th>3</th>\n",
       "      <td>4  Atalanta</td>\n",
       "      <td>48</td>\n",
       "      <td>25</td>\n",
       "      <td>14</td>\n",
       "      <td>6</td>\n",
       "      <td>5</td>\n",
       "      <td>12</td>\n",
       "      <td>6</td>\n",
       "      <td>2</td>\n",
       "      <td>4</td>\n",
       "      <td>13</td>\n",
       "      <td>8</td>\n",
       "      <td>4</td>\n",
       "      <td>1</td>\n",
       "      <td>70</td>\n",
       "      <td>34</td>\n",
       "    </tr>\n",
       "    <tr>\n",
       "      <th>4</th>\n",
       "      <td>5  Roma</td>\n",
       "      <td>45</td>\n",
       "      <td>26</td>\n",
       "      <td>13</td>\n",
       "      <td>6</td>\n",
       "      <td>7</td>\n",
       "      <td>13</td>\n",
       "      <td>6</td>\n",
       "      <td>3</td>\n",
       "      <td>4</td>\n",
       "      <td>13</td>\n",
       "      <td>7</td>\n",
       "      <td>3</td>\n",
       "      <td>3</td>\n",
       "      <td>51</td>\n",
       "      <td>35</td>\n",
       "    </tr>\n",
       "    <tr>\n",
       "      <th>5</th>\n",
       "      <td>6  Napoli</td>\n",
       "      <td>39</td>\n",
       "      <td>26</td>\n",
       "      <td>11</td>\n",
       "      <td>6</td>\n",
       "      <td>9</td>\n",
       "      <td>13</td>\n",
       "      <td>5</td>\n",
       "      <td>2</td>\n",
       "      <td>6</td>\n",
       "      <td>13</td>\n",
       "      <td>6</td>\n",
       "      <td>4</td>\n",
       "      <td>3</td>\n",
       "      <td>41</td>\n",
       "      <td>36</td>\n",
       "    </tr>\n",
       "    <tr>\n",
       "      <th>6</th>\n",
       "      <td>7  Milan</td>\n",
       "      <td>36</td>\n",
       "      <td>26</td>\n",
       "      <td>10</td>\n",
       "      <td>6</td>\n",
       "      <td>10</td>\n",
       "      <td>13</td>\n",
       "      <td>4</td>\n",
       "      <td>5</td>\n",
       "      <td>4</td>\n",
       "      <td>13</td>\n",
       "      <td>6</td>\n",
       "      <td>1</td>\n",
       "      <td>6</td>\n",
       "      <td>28</td>\n",
       "      <td>34</td>\n",
       "    </tr>\n",
       "    <tr>\n",
       "      <th>7</th>\n",
       "      <td>8  Hellas Verona</td>\n",
       "      <td>35</td>\n",
       "      <td>25</td>\n",
       "      <td>9</td>\n",
       "      <td>8</td>\n",
       "      <td>8</td>\n",
       "      <td>12</td>\n",
       "      <td>6</td>\n",
       "      <td>3</td>\n",
       "      <td>3</td>\n",
       "      <td>13</td>\n",
       "      <td>3</td>\n",
       "      <td>5</td>\n",
       "      <td>5</td>\n",
       "      <td>29</td>\n",
       "      <td>26</td>\n",
       "    </tr>\n",
       "    <tr>\n",
       "      <th>8</th>\n",
       "      <td>9  Parma</td>\n",
       "      <td>35</td>\n",
       "      <td>25</td>\n",
       "      <td>10</td>\n",
       "      <td>5</td>\n",
       "      <td>10</td>\n",
       "      <td>13</td>\n",
       "      <td>6</td>\n",
       "      <td>1</td>\n",
       "      <td>6</td>\n",
       "      <td>12</td>\n",
       "      <td>4</td>\n",
       "      <td>4</td>\n",
       "      <td>4</td>\n",
       "      <td>32</td>\n",
       "      <td>31</td>\n",
       "    </tr>\n",
       "    <tr>\n",
       "      <th>9</th>\n",
       "      <td>10  Bologna</td>\n",
       "      <td>34</td>\n",
       "      <td>26</td>\n",
       "      <td>9</td>\n",
       "      <td>7</td>\n",
       "      <td>10</td>\n",
       "      <td>13</td>\n",
       "      <td>4</td>\n",
       "      <td>5</td>\n",
       "      <td>4</td>\n",
       "      <td>13</td>\n",
       "      <td>5</td>\n",
       "      <td>2</td>\n",
       "      <td>6</td>\n",
       "      <td>38</td>\n",
       "      <td>42</td>\n",
       "    </tr>\n",
       "    <tr>\n",
       "      <th>10</th>\n",
       "      <td>11  Sassuolo</td>\n",
       "      <td>32</td>\n",
       "      <td>25</td>\n",
       "      <td>9</td>\n",
       "      <td>5</td>\n",
       "      <td>11</td>\n",
       "      <td>13</td>\n",
       "      <td>6</td>\n",
       "      <td>1</td>\n",
       "      <td>6</td>\n",
       "      <td>12</td>\n",
       "      <td>3</td>\n",
       "      <td>4</td>\n",
       "      <td>5</td>\n",
       "      <td>41</td>\n",
       "      <td>39</td>\n",
       "    </tr>\n",
       "    <tr>\n",
       "      <th>11</th>\n",
       "      <td>12  Cagliari</td>\n",
       "      <td>32</td>\n",
       "      <td>25</td>\n",
       "      <td>8</td>\n",
       "      <td>8</td>\n",
       "      <td>9</td>\n",
       "      <td>13</td>\n",
       "      <td>5</td>\n",
       "      <td>2</td>\n",
       "      <td>6</td>\n",
       "      <td>12</td>\n",
       "      <td>3</td>\n",
       "      <td>6</td>\n",
       "      <td>3</td>\n",
       "      <td>41</td>\n",
       "      <td>40</td>\n",
       "    </tr>\n",
       "    <tr>\n",
       "      <th>12</th>\n",
       "      <td>13  Fiorentina</td>\n",
       "      <td>30</td>\n",
       "      <td>26</td>\n",
       "      <td>7</td>\n",
       "      <td>9</td>\n",
       "      <td>10</td>\n",
       "      <td>13</td>\n",
       "      <td>3</td>\n",
       "      <td>5</td>\n",
       "      <td>5</td>\n",
       "      <td>13</td>\n",
       "      <td>4</td>\n",
       "      <td>4</td>\n",
       "      <td>5</td>\n",
       "      <td>32</td>\n",
       "      <td>36</td>\n",
       "    </tr>\n",
       "    <tr>\n",
       "      <th>13</th>\n",
       "      <td>14  Udinese</td>\n",
       "      <td>28</td>\n",
       "      <td>26</td>\n",
       "      <td>7</td>\n",
       "      <td>7</td>\n",
       "      <td>12</td>\n",
       "      <td>13</td>\n",
       "      <td>5</td>\n",
       "      <td>4</td>\n",
       "      <td>4</td>\n",
       "      <td>13</td>\n",
       "      <td>2</td>\n",
       "      <td>3</td>\n",
       "      <td>8</td>\n",
       "      <td>21</td>\n",
       "      <td>37</td>\n",
       "    </tr>\n",
       "    <tr>\n",
       "      <th>14</th>\n",
       "      <td>15  Torino</td>\n",
       "      <td>27</td>\n",
       "      <td>25</td>\n",
       "      <td>8</td>\n",
       "      <td>3</td>\n",
       "      <td>14</td>\n",
       "      <td>12</td>\n",
       "      <td>4</td>\n",
       "      <td>2</td>\n",
       "      <td>6</td>\n",
       "      <td>13</td>\n",
       "      <td>4</td>\n",
       "      <td>1</td>\n",
       "      <td>8</td>\n",
       "      <td>28</td>\n",
       "      <td>45</td>\n",
       "    </tr>\n",
       "    <tr>\n",
       "      <th>15</th>\n",
       "      <td>16  Sampdoria</td>\n",
       "      <td>26</td>\n",
       "      <td>25</td>\n",
       "      <td>7</td>\n",
       "      <td>5</td>\n",
       "      <td>13</td>\n",
       "      <td>14</td>\n",
       "      <td>4</td>\n",
       "      <td>4</td>\n",
       "      <td>6</td>\n",
       "      <td>11</td>\n",
       "      <td>3</td>\n",
       "      <td>1</td>\n",
       "      <td>7</td>\n",
       "      <td>28</td>\n",
       "      <td>44</td>\n",
       "    </tr>\n",
       "    <tr>\n",
       "      <th>16</th>\n",
       "      <td>17  Genoa</td>\n",
       "      <td>25</td>\n",
       "      <td>26</td>\n",
       "      <td>6</td>\n",
       "      <td>7</td>\n",
       "      <td>13</td>\n",
       "      <td>12</td>\n",
       "      <td>4</td>\n",
       "      <td>1</td>\n",
       "      <td>7</td>\n",
       "      <td>14</td>\n",
       "      <td>2</td>\n",
       "      <td>6</td>\n",
       "      <td>6</td>\n",
       "      <td>31</td>\n",
       "      <td>47</td>\n",
       "    </tr>\n",
       "    <tr>\n",
       "      <th>17</th>\n",
       "      <td>18  Lecce</td>\n",
       "      <td>25</td>\n",
       "      <td>26</td>\n",
       "      <td>6</td>\n",
       "      <td>7</td>\n",
       "      <td>13</td>\n",
       "      <td>13</td>\n",
       "      <td>2</td>\n",
       "      <td>5</td>\n",
       "      <td>6</td>\n",
       "      <td>13</td>\n",
       "      <td>4</td>\n",
       "      <td>2</td>\n",
       "      <td>7</td>\n",
       "      <td>34</td>\n",
       "      <td>56</td>\n",
       "    </tr>\n",
       "    <tr>\n",
       "      <th>18</th>\n",
       "      <td>19  Spal</td>\n",
       "      <td>18</td>\n",
       "      <td>26</td>\n",
       "      <td>5</td>\n",
       "      <td>3</td>\n",
       "      <td>18</td>\n",
       "      <td>12</td>\n",
       "      <td>2</td>\n",
       "      <td>2</td>\n",
       "      <td>8</td>\n",
       "      <td>14</td>\n",
       "      <td>3</td>\n",
       "      <td>1</td>\n",
       "      <td>10</td>\n",
       "      <td>20</td>\n",
       "      <td>44</td>\n",
       "    </tr>\n",
       "    <tr>\n",
       "      <th>19</th>\n",
       "      <td>20  Brescia</td>\n",
       "      <td>16</td>\n",
       "      <td>26</td>\n",
       "      <td>4</td>\n",
       "      <td>4</td>\n",
       "      <td>18</td>\n",
       "      <td>13</td>\n",
       "      <td>1</td>\n",
       "      <td>3</td>\n",
       "      <td>9</td>\n",
       "      <td>13</td>\n",
       "      <td>3</td>\n",
       "      <td>1</td>\n",
       "      <td>9</td>\n",
       "      <td>22</td>\n",
       "      <td>49</td>\n",
       "    </tr>\n",
       "  </tbody>\n",
       "</table>\n",
       "</div>"
      ],
      "text/plain": [
       "             SQUADRE  PUNTI   G   V  N   P  G.1  V.1  N.1  P.1  G.2  V.2  N.2  \\\n",
       "0        1  Juventus     63  26  20  3   3   13   12    1    0   13    8    2   \n",
       "1           2  Lazio     62  26  19  5   2   14   11    3    0   12    8    2   \n",
       "2           3  Inter     54  25  16  6   3   12    7    4    1   13    9    2   \n",
       "3        4  Atalanta     48  25  14  6   5   12    6    2    4   13    8    4   \n",
       "4            5  Roma     45  26  13  6   7   13    6    3    4   13    7    3   \n",
       "5          6  Napoli     39  26  11  6   9   13    5    2    6   13    6    4   \n",
       "6           7  Milan     36  26  10  6  10   13    4    5    4   13    6    1   \n",
       "7   8  Hellas Verona     35  25   9  8   8   12    6    3    3   13    3    5   \n",
       "8           9  Parma     35  25  10  5  10   13    6    1    6   12    4    4   \n",
       "9        10  Bologna     34  26   9  7  10   13    4    5    4   13    5    2   \n",
       "10      11  Sassuolo     32  25   9  5  11   13    6    1    6   12    3    4   \n",
       "11      12  Cagliari     32  25   8  8   9   13    5    2    6   12    3    6   \n",
       "12    13  Fiorentina     30  26   7  9  10   13    3    5    5   13    4    4   \n",
       "13       14  Udinese     28  26   7  7  12   13    5    4    4   13    2    3   \n",
       "14        15  Torino     27  25   8  3  14   12    4    2    6   13    4    1   \n",
       "15     16  Sampdoria     26  25   7  5  13   14    4    4    6   11    3    1   \n",
       "16         17  Genoa     25  26   6  7  13   12    4    1    7   14    2    6   \n",
       "17         18  Lecce     25  26   6  7  13   13    2    5    6   13    4    2   \n",
       "18          19  Spal     18  26   5  3  18   12    2    2    8   14    3    1   \n",
       "19       20  Brescia     16  26   4  4  18   13    1    3    9   13    3    1   \n",
       "\n",
       "    P.2   F   S  \n",
       "0     3  50  24  \n",
       "1     2  60  23  \n",
       "2     2  49  24  \n",
       "3     1  70  34  \n",
       "4     3  51  35  \n",
       "5     3  41  36  \n",
       "6     6  28  34  \n",
       "7     5  29  26  \n",
       "8     4  32  31  \n",
       "9     6  38  42  \n",
       "10    5  41  39  \n",
       "11    3  41  40  \n",
       "12    5  32  36  \n",
       "13    8  21  37  \n",
       "14    8  28  45  \n",
       "15    7  28  44  \n",
       "16    6  31  47  \n",
       "17    7  34  56  \n",
       "18   10  20  44  \n",
       "19    9  22  49  "
      ]
     },
     "execution_count": 196,
     "metadata": {},
     "output_type": "execute_result"
    }
   ],
   "source": [
    "classifica_serie_a = pd.read_html(io=\"http://www.legaseriea.it/it/serie-a/classifica\", skiprows=1, header=0)\n",
    "dataset = classifica_serie_a[0]\n",
    "dataset"
   ]
  },
  {
   "cell_type": "code",
   "execution_count": 197,
   "metadata": {},
   "outputs": [
    {
     "data": {
      "image/png": "[encoded data removed]",
      "text/plain": [
       "<Figure size 432x288 with 1 Axes>"
      ]
     },
     "metadata": {
      "needs_background": "light"
     },
     "output_type": "display_data"
    },
    {
     "data": {
      "image/png": "[encoded data removed]",
      "text/plain": [
       "<Figure size 432x288 with 1 Axes>"
      ]
     },
     "metadata": {
      "needs_background": "light"
     },
     "output_type": "display_data"
    }
   ],
   "source": [
    "# First correlation\n",
    "plt.scatter(dataset['F'], dataset['PUNTI'], color='red')\n",
    "plt.title('Gol Fatti Vs Punti', fontsize=14)\n",
    "plt.xlabel('Gol Fatti', fontsize=14)\n",
    "plt.ylabel('Punti', fontsize=14)\n",
    "plt.grid(True)\n",
    "plt.show()\n",
    " \n",
    "# Second correlation\n",
    "plt.scatter(dataset['S'], dataset['PUNTI'], color='green')\n",
    "plt.title('Gol Subiti Vs Punti', fontsize=14)\n",
    "plt.xlabel('Gol Subiti', fontsize=14)\n",
    "plt.ylabel('Punti', fontsize=14)\n",
    "plt.grid(True)\n",
    "plt.show()"
   ]
  },
  {
   "cell_type": "code",
   "execution_count": 198,
   "metadata": {},
   "outputs": [
    {
     "name": "stdout",
     "output_type": "stream",
     "text": [
      "R2 model on training data: 0.920030\n",
      "R2 model on test data: 0.698300\n"
     ]
    }
   ],
   "source": [
    "from sklearn.metrics import r2_score\n",
    "from sklearn.model_selection import train_test_split\n",
    "\n",
    "X = dataset[['F', 'S']]\n",
    "Y = dataset['PUNTI']\n",
    "\n",
    "X_train, X_test, Y_train, Y_test = train_test_split(X, Y, test_size=0.33)\n",
    "\n",
    "X_train = sm.add_constant(X_train) # adding a constant\n",
    "X_test = sm.add_constant(X_test) # adding a constant\n",
    "\n",
    "model = sm.OLS(Y_train, X_train).fit(normalize=True)\n",
    "Y_train_pred = model.predict(X_train)\n",
    "Y_test_pred = model.predict(X_test)\n",
    "\n",
    "print(\"R2 model on training data: %f\" % r2_score(Y_train, Y_train_pred))\n",
    "print(\"R2 model on test data: %f\" % r2_score(Y_test, Y_test_pred))"
   ]
  },
  {
   "cell_type": "code",
   "execution_count": 199,
   "metadata": {},
   "outputs": [
    {
     "data": {
      "application/vnd.plotly.v1+json": {
       "config": {
        "plotlyServerURL": "https://plot.ly"
       },
       "data": [
        {
         "mode": "markers",
         "type": "scatter3d",
         "x": [
          50,
          60,
          49,
          70,
          51,
          41,
          28,
          29,
          32,
          38,
          41,
          41,
          32,
          21,
          28,
          28,
          31,
          34,
          20,
          22
         ],
         "y": [
          24,
          23,
          24,
          34,
          35,
          36,
          34,
          26,
          31,
          42,
          39,
          40,
          36,
          37,
          45,
          44,
          47,
          56,
          44,
          49
         ],
         "z": [
          63,
          62,
          54,
          48,
          45,
          39,
          36,
          35,
          35,
          34,
          32,
          32,
          30,
          28,
          27,
          26,
          25,
          25,
          18,
          16
         ]
        },
        {
         "opacity": 0.3,
         "showscale": false,
         "surfacecolor": [
          [
           [
            256,
            127,
            14
           ],
           [
            256,
            127,
            14
           ],
           [
            256,
            127,
            14
           ],
           [
            256,
            127,
            14
           ],
           [
            256,
            127,
            14
           ],
           [
            256,
            127,
            14
           ],
           [
            256,
            127,
            14
           ],
           [
            256,
            127,
            14
           ],
           [
            256,
            127,
            14
           ],
           [
            256,
            127,
            14
           ],
           [
            256,
            127,
            14
           ],
           [
            256,
            127,
            14
           ],
           [
            256,
            127,
            14
           ],
           [
            256,
            127,
            14
           ],
           [
            256,
            127,
            14
           ],
           [
            256,
            127,
            14
           ],
           [
            256,
            127,
            14
           ],
           [
            256,
            127,
            14
           ],
           [
            256,
            127,
            14
           ],
           [
            256,
            127,
            14
           ],
           [
            256,
            127,
            14
           ]
          ],
          [
           [
            256,
            127,
            14
           ],
           [
            256,
            127,
            14
           ],
           [
            256,
            127,
            14
           ],
           [
            256,
            127,
            14
           ],
           [
            256,
            127,
            14
           ],
           [
            256,
            127,
            14
           ],
           [
            256,
            127,
            14
           ],
           [
            256,
            127,
            14
           ],
           [
            256,
            127,
            14
           ],
           [
            256,
            127,
            14
           ],
           [
            256,
            127,
            14
           ],
           [
            256,
            127,
            14
           ],
           [
            256,
            127,
            14
           ],
           [
            256,
            127,
            14
           ],
           [
            256,
            127,
            14
           ],
           [
            256,
            127,
            14
           ],
           [
            256,
            127,
            14
           ],
           [
            256,
            127,
            14
           ],
           [
            256,
            127,
            14
           ],
           [
            256,
            127,
            14
           ],
           [
            256,
            127,
            14
           ]
          ],
          [
           [
            256,
            127,
            14
           ],
           [
            256,
            127,
            14
           ],
           [
            256,
            127,
            14
           ],
           [
            256,
            127,
            14
           ],
           [
            256,
            127,
            14
           ],
           [
            256,
            127,
            14
           ],
           [
            256,
            127,
            14
           ],
           [
            256,
            127,
            14
           ],
           [
            256,
            127,
            14
           ],
           [
            256,
            127,
            14
           ],
           [
            256,
            127,
            14
           ],
           [
            256,
            127,
            14
           ],
           [
            256,
            127,
            14
           ],
           [
            256,
            127,
            14
           ],
           [
            256,
            127,
            14
           ],
           [
            256,
            127,
            14
           ],
           [
            256,
            127,
            14
           ],
           [
            256,
            127,
            14
           ],
           [
            256,
            127,
            14
           ],
           [
            256,
            127,
            14
           ],
           [
            256,
            127,
            14
           ]
          ],
          [
           [
            256,
            127,
            14
           ],
           [
            256,
            127,
            14
           ],
           [
            256,
            127,
            14
           ],
           [
            256,
            127,
            14
           ],
           [
            256,
            127,
            14
           ],
           [
            256,
            127,
            14
           ],
           [
            256,
            127,
            14
           ],
           [
            256,
            127,
            14
           ],
           [
            256,
            127,
            14
           ],
           [
            256,
            127,
            14
           ],
           [
            256,
            127,
            14
           ],
           [
            256,
            127,
            14
           ],
           [
            256,
            127,
            14
           ],
           [
            256,
            127,
            14
           ],
           [
            256,
            127,
            14
           ],
           [
            256,
            127,
            14
           ],
           [
            256,
            127,
            14
           ],
           [
            256,
            127,
            14
           ],
           [
            256,
            127,
            14
           ],
           [
            256,
            127,
            14
           ],
           [
            256,
            127,
            14
           ]
          ],
          [
           [
            256,
            127,
            14
           ],
           [
            256,
            127,
            14
           ],
           [
            256,
            127,
            14
           ],
           [
            256,
            127,
            14
           ],
           [
            256,
            127,
            14
           ],
           [
            256,
            127,
            14
           ],
           [
            256,
            127,
            14
           ],
           [
            256,
            127,
            14
           ],
           [
            256,
            127,
            14
           ],
           [
            256,
            127,
            14
           ],
           [
            256,
            127,
            14
           ],
           [
            256,
            127,
            14
           ],
           [
            256,
            127,
            14
           ],
           [
            256,
            127,
            14
           ],
           [
            256,
            127,
            14
           ],
           [
            256,
            127,
            14
           ],
           [
            256,
            127,
            14
           ],
           [
            256,
            127,
            14
           ],
           [
            256,
            127,
            14
           ],
           [
            256,
            127,
            14
           ],
           [
            256,
            127,
            14
           ]
          ],
          [
           [
            256,
            127,
            14
           ],
           [
            256,
            127,
            14
           ],
           [
            256,
            127,
            14
           ],
           [
            256,
            127,
            14
           ],
           [
            256,
            127,
            14
           ],
           [
            256,
            127,
            14
           ],
           [
            256,
            127,
            14
           ],
           [
            256,
            127,
            14
           ],
           [
            256,
            127,
            14
           ],
           [
            256,
            127,
            14
           ],
           [
            256,
            127,
            14
           ],
           [
            256,
            127,
            14
           ],
           [
            256,
            127,
            14
           ],
           [
            256,
            127,
            14
           ],
           [
            256,
            127,
            14
           ],
           [
            256,
            127,
            14
           ],
           [
            256,
            127,
            14
           ],
           [
            256,
            127,
            14
           ],
           [
            256,
            127,
            14
           ],
           [
            256,
            127,
            14
           ],
           [
            256,
            127,
            14
           ]
          ],
          [
           [
            256,
            127,
            14
           ],
           [
            256,
            127,
            14
           ],
           [
            256,
            127,
            14
           ],
           [
            256,
            127,
            14
           ],
           [
            256,
            127,
            14
           ],
           [
            256,
            127,
            14
           ],
           [
            256,
            127,
            14
           ],
           [
            256,
            127,
            14
           ],
           [
            256,
            127,
            14
           ],
           [
            256,
            127,
            14
           ],
           [
            256,
            127,
            14
           ],
           [
            256,
            127,
            14
           ],
           [
            256,
            127,
            14
           ],
           [
            256,
            127,
            14
           ],
           [
            256,
            127,
            14
           ],
           [
            256,
            127,
            14
           ],
           [
            256,
            127,
            14
           ],
           [
            256,
            127,
            14
           ],
           [
            256,
            127,
            14
           ],
           [
            256,
            127,
            14
           ],
           [
            256,
            127,
            14
           ]
          ],
          [
           [
            256,
            127,
            14
           ],
           [
            256,
            127,
            14
           ],
           [
            256,
            127,
            14
           ],
           [
            256,
            127,
            14
           ],
           [
            256,
            127,
            14
           ],
           [
            256,
            127,
            14
           ],
           [
            256,
            127,
            14
           ],
           [
            256,
            127,
            14
           ],
           [
            256,
            127,
            14
           ],
           [
            256,
            127,
            14
           ],
           [
            256,
            127,
            14
           ],
           [
            256,
            127,
            14
           ],
           [
            256,
            127,
            14
           ],
           [
            256,
            127,
            14
           ],
           [
            256,
            127,
            14
           ],
           [
            256,
            127,
            14
           ],
           [
            256,
            127,
            14
           ],
           [
            256,
            127,
            14
           ],
           [
            256,
            127,
            14
           ],
           [
            256,
            127,
            14
           ],
           [
            256,
            127,
            14
           ]
          ],
          [
           [
            256,
            127,
            14
           ],
           [
            256,
            127,
            14
           ],
           [
            256,
            127,
            14
           ],
           [
            256,
            127,
            14
           ],
           [
            256,
            127,
            14
           ],
           [
            256,
            127,
            14
           ],
           [
            256,
            127,
            14
           ],
           [
            256,
            127,
            14
           ],
           [
            256,
            127,
            14
           ],
           [
            256,
            127,
            14
           ],
           [
            256,
            127,
            14
           ],
           [
            256,
            127,
            14
           ],
           [
            256,
            127,
            14
           ],
           [
            256,
            127,
            14
           ],
           [
            256,
            127,
            14
           ],
           [
            256,
            127,
            14
           ],
           [
            256,
            127,
            14
           ],
           [
            256,
            127,
            14
           ],
           [
            256,
            127,
            14
           ],
           [
            256,
            127,
            14
           ],
           [
            256,
            127,
            14
           ]
          ],
          [
           [
            256,
            127,
            14
           ],
           [
            256,
            127,
            14
           ],
           [
            256,
            127,
            14
           ],
           [
            256,
            127,
            14
           ],
           [
            256,
            127,
            14
           ],
           [
            256,
            127,
            14
           ],
           [
            256,
            127,
            14
           ],
           [
            256,
            127,
            14
           ],
           [
            256,
            127,
            14
           ],
           [
            256,
            127,
            14
           ],
           [
            256,
            127,
            14
           ],
           [
            256,
            127,
            14
           ],
           [
            256,
            127,
            14
           ],
           [
            256,
            127,
            14
           ],
           [
            256,
            127,
            14
           ],
           [
            256,
            127,
            14
           ],
           [
            256,
            127,
            14
           ],
           [
            256,
            127,
            14
           ],
           [
            256,
            127,
            14
           ],
           [
            256,
            127,
            14
           ],
           [
            256,
            127,
            14
           ]
          ],
          [
           [
            256,
            127,
            14
           ],
           [
            256,
            127,
            14
           ],
           [
            256,
            127,
            14
           ],
           [
            256,
            127,
            14
           ],
           [
            256,
            127,
            14
           ],
           [
            256,
            127,
            14
           ],
           [
            256,
            127,
            14
           ],
           [
            256,
            127,
            14
           ],
           [
            256,
            127,
            14
           ],
           [
            256,
            127,
            14
           ],
           [
            256,
            127,
            14
           ],
           [
            256,
            127,
            14
           ],
           [
            256,
            127,
            14
           ],
           [
            256,
            127,
            14
           ],
           [
            256,
            127,
            14
           ],
           [
            256,
            127,
            14
           ],
           [
            256,
            127,
            14
           ],
           [
            256,
            127,
            14
           ],
           [
            256,
            127,
            14
           ],
           [
            256,
            127,
            14
           ],
           [
            256,
            127,
            14
           ]
          ],
          [
           [
            256,
            127,
            14
           ],
           [
            256,
            127,
            14
           ],
           [
            256,
            127,
            14
           ],
           [
            256,
            127,
            14
           ],
           [
            256,
            127,
            14
           ],
           [
            256,
            127,
            14
           ],
           [
            256,
            127,
            14
           ],
           [
            256,
            127,
            14
           ],
           [
            256,
            127,
            14
           ],
           [
            256,
            127,
            14
           ],
           [
            256,
            127,
            14
           ],
           [
            256,
            127,
            14
           ],
           [
            256,
            127,
            14
           ],
           [
            256,
            127,
            14
           ],
           [
            256,
            127,
            14
           ],
           [
            256,
            127,
            14
           ],
           [
            256,
            127,
            14
           ],
           [
            256,
            127,
            14
           ],
           [
            256,
            127,
            14
           ],
           [
            256,
            127,
            14
           ],
           [
            256,
            127,
            14
           ]
          ],
          [
           [
            256,
            127,
            14
           ],
           [
            256,
            127,
            14
           ],
           [
            256,
            127,
            14
           ],
           [
            256,
            127,
            14
           ],
           [
            256,
            127,
            14
           ],
           [
            256,
            127,
            14
           ],
           [
            256,
            127,
            14
           ],
           [
            256,
            127,
            14
           ],
           [
            256,
            127,
            14
           ],
           [
            256,
            127,
            14
           ],
           [
            256,
            127,
            14
           ],
           [
            256,
            127,
            14
           ],
           [
            256,
            127,
            14
           ],
           [
            256,
            127,
            14
           ],
           [
            256,
            127,
            14
           ],
           [
            256,
            127,
            14
           ],
           [
            256,
            127,
            14
           ],
           [
            256,
            127,
            14
           ],
           [
            256,
            127,
            14
           ],
           [
            256,
            127,
            14
           ],
           [
            256,
            127,
            14
           ]
          ],
          [
           [
            256,
            127,
            14
           ],
           [
            256,
            127,
            14
           ],
           [
            256,
            127,
            14
           ],
           [
            256,
            127,
            14
           ],
           [
            256,
            127,
            14
           ],
           [
            256,
            127,
            14
           ],
           [
            256,
            127,
            14
           ],
           [
            256,
            127,
            14
           ],
           [
            256,
            127,
            14
           ],
           [
            256,
            127,
            14
           ],
           [
            256,
            127,
            14
           ],
           [
            256,
            127,
            14
           ],
           [
            256,
            127,
            14
           ],
           [
            256,
            127,
            14
           ],
           [
            256,
            127,
            14
           ],
           [
            256,
            127,
            14
           ],
           [
            256,
            127,
            14
           ],
           [
            256,
            127,
            14
           ],
           [
            256,
            127,
            14
           ],
           [
            256,
            127,
            14
           ],
           [
            256,
            127,
            14
           ]
          ],
          [
           [
            256,
            127,
            14
           ],
           [
            256,
            127,
            14
           ],
           [
            256,
            127,
            14
           ],
           [
            256,
            127,
            14
           ],
           [
            256,
            127,
            14
           ],
           [
            256,
            127,
            14
           ],
           [
            256,
            127,
            14
           ],
           [
            256,
            127,
            14
           ],
           [
            256,
            127,
            14
           ],
           [
            256,
            127,
            14
           ],
           [
            256,
            127,
            14
           ],
           [
            256,
            127,
            14
           ],
           [
            256,
            127,
            14
           ],
           [
            256,
            127,
            14
           ],
           [
            256,
            127,
            14
           ],
           [
            256,
            127,
            14
           ],
           [
            256,
            127,
            14
           ],
           [
            256,
            127,
            14
           ],
           [
            256,
            127,
            14
           ],
           [
            256,
            127,
            14
           ],
           [
            256,
            127,
            14
           ]
          ],
          [
           [
            256,
            127,
            14
           ],
           [
            256,
            127,
            14
           ],
           [
            256,
            127,
            14
           ],
           [
            256,
            127,
            14
           ],
           [
            256,
            127,
            14
           ],
           [
            256,
            127,
            14
           ],
           [
            256,
            127,
            14
           ],
           [
            256,
            127,
            14
           ],
           [
            256,
            127,
            14
           ],
           [
            256,
            127,
            14
           ],
           [
            256,
            127,
            14
           ],
           [
            256,
            127,
            14
           ],
           [
            256,
            127,
            14
           ],
           [
            256,
            127,
            14
           ],
           [
            256,
            127,
            14
           ],
           [
            256,
            127,
            14
           ],
           [
            256,
            127,
            14
           ],
           [
            256,
            127,
            14
           ],
           [
            256,
            127,
            14
           ],
           [
            256,
            127,
            14
           ],
           [
            256,
            127,
            14
           ]
          ],
          [
           [
            256,
            127,
            14
           ],
           [
            256,
            127,
            14
           ],
           [
            256,
            127,
            14
           ],
           [
            256,
            127,
            14
           ],
           [
            256,
            127,
            14
           ],
           [
            256,
            127,
            14
           ],
           [
            256,
            127,
            14
           ],
           [
            256,
            127,
            14
           ],
           [
            256,
            127,
            14
           ],
           [
            256,
            127,
            14
           ],
           [
            256,
            127,
            14
           ],
           [
            256,
            127,
            14
           ],
           [
            256,
            127,
            14
           ],
           [
            256,
            127,
            14
           ],
           [
            256,
            127,
            14
           ],
           [
            256,
            127,
            14
           ],
           [
            256,
            127,
            14
           ],
           [
            256,
            127,
            14
           ],
           [
            256,
            127,
            14
           ],
           [
            256,
            127,
            14
           ],
           [
            256,
            127,
            14
           ]
          ],
          [
           [
            256,
            127,
            14
           ],
           [
            256,
            127,
            14
           ],
           [
            256,
            127,
            14
           ],
           [
            256,
            127,
            14
           ],
           [
            256,
            127,
            14
           ],
           [
            256,
            127,
            14
           ],
           [
            256,
            127,
            14
           ],
           [
            256,
            127,
            14
           ],
           [
            256,
            127,
            14
           ],
           [
            256,
            127,
            14
           ],
           [
            256,
            127,
            14
           ],
           [
            256,
            127,
            14
           ],
           [
            256,
            127,
            14
           ],
           [
            256,
            127,
            14
           ],
           [
            256,
            127,
            14
           ],
           [
            256,
            127,
            14
           ],
           [
            256,
            127,
            14
           ],
           [
            256,
            127,
            14
           ],
           [
            256,
            127,
            14
           ],
           [
            256,
            127,
            14
           ],
           [
            256,
            127,
            14
           ]
          ],
          [
           [
            256,
            127,
            14
           ],
           [
            256,
            127,
            14
           ],
           [
            256,
            127,
            14
           ],
           [
            256,
            127,
            14
           ],
           [
            256,
            127,
            14
           ],
           [
            256,
            127,
            14
           ],
           [
            256,
            127,
            14
           ],
           [
            256,
            127,
            14
           ],
           [
            256,
            127,
            14
           ],
           [
            256,
            127,
            14
           ],
           [
            256,
            127,
            14
           ],
           [
            256,
            127,
            14
           ],
           [
            256,
            127,
            14
           ],
           [
            256,
            127,
            14
           ],
           [
            256,
            127,
            14
           ],
           [
            256,
            127,
            14
           ],
           [
            256,
            127,
            14
           ],
           [
            256,
            127,
            14
           ],
           [
            256,
            127,
            14
           ],
           [
            256,
            127,
            14
           ],
           [
            256,
            127,
            14
           ]
          ],
          [
           [
            256,
            127,
            14
           ],
           [
            256,
            127,
            14
           ],
           [
            256,
            127,
            14
           ],
           [
            256,
            127,
            14
           ],
           [
            256,
            127,
            14
           ],
           [
            256,
            127,
            14
           ],
           [
            256,
            127,
            14
           ],
           [
            256,
            127,
            14
           ],
           [
            256,
            127,
            14
           ],
           [
            256,
            127,
            14
           ],
           [
            256,
            127,
            14
           ],
           [
            256,
            127,
            14
           ],
           [
            256,
            127,
            14
           ],
           [
            256,
            127,
            14
           ],
           [
            256,
            127,
            14
           ],
           [
            256,
            127,
            14
           ],
           [
            256,
            127,
            14
           ],
           [
            256,
            127,
            14
           ],
           [
            256,
            127,
            14
           ],
           [
            256,
            127,
            14
           ],
           [
            256,
            127,
            14
           ]
          ],
          [
           [
            256,
            127,
            14
           ],
           [
            256,
            127,
            14
           ],
           [
            256,
            127,
            14
           ],
           [
            256,
            127,
            14
           ],
           [
            256,
            127,
            14
           ],
           [
            256,
            127,
            14
           ],
           [
            256,
            127,
            14
           ],
           [
            256,
            127,
            14
           ],
           [
            256,
            127,
            14
           ],
           [
            256,
            127,
            14
           ],
           [
            256,
            127,
            14
           ],
           [
            256,
            127,
            14
           ],
           [
            256,
            127,
            14
           ],
           [
            256,
            127,
            14
           ],
           [
            256,
            127,
            14
           ],
           [
            256,
            127,
            14
           ],
           [
            256,
            127,
            14
           ],
           [
            256,
            127,
            14
           ],
           [
            256,
            127,
            14
           ],
           [
            256,
            127,
            14
           ],
           [
            256,
            127,
            14
           ]
          ]
         ],
         "type": "surface",
         "x": [
          [
           20,
           32.5,
           45,
           57.5,
           70
          ],
          [
           20,
           32.5,
           45,
           57.5,
           70
          ],
          [
           20,
           32.5,
           45,
           57.5,
           70
          ],
          [
           20,
           32.5,
           45,
           57.5,
           70
          ],
          [
           20,
           32.5,
           45,
           57.5,
           70
          ]
         ],
         "y": [
          [
           23,
           23,
           23,
           23,
           23
          ],
          [
           31.25,
           31.25,
           31.25,
           31.25,
           31.25
          ],
          [
           39.5,
           39.5,
           39.5,
           39.5,
           39.5
          ],
          [
           47.75,
           47.75,
           47.75,
           47.75,
           47.75
          ],
          [
           56,
           56,
           56,
           56,
           56
          ]
         ],
         "z": [
          [
           36.33224432745116,
           44.49332861103335,
           52.65441289461554,
           60.81549717819774,
           68.97658146177994
          ],
          [
           29.630142868870934,
           37.791227152453125,
           45.952311436035316,
           54.113395719617515,
           62.27448000319971
          ],
          [
           22.92804141029071,
           31.0891256938729,
           39.25020997745509,
           47.41129426103729,
           55.57237854461949
          ],
          [
           16.225939951710487,
           24.387024235292678,
           32.54810851887487,
           40.70919280245707,
           48.870277086039266
          ],
          [
           9.523838493130263,
           17.684922776712455,
           25.846007060294646,
           34.007091343876844,
           42.16817562745904
          ]
         ]
        }
       ],
       "layout": {
        "template": {
         "data": {
          "bar": [
           {
            "error_x": {
             "color": "#2a3f5f"
            },
            "error_y": {
             "color": "#2a3f5f"
            },
            "marker": {
             "line": {
              "color": "#E5ECF6",
              "width": 0.5
             }
            },
            "type": "bar"
           }
          ],
          "barpolar": [
           {
            "marker": {
             "line": {
              "color": "#E5ECF6",
              "width": 0.5
             }
            },
            "type": "barpolar"
           }
          ],
          "carpet": [
           {
            "aaxis": {
             "endlinecolor": "#2a3f5f",
             "gridcolor": "white",
             "linecolor": "white",
             "minorgridcolor": "white",
             "startlinecolor": "#2a3f5f"
            },
            "baxis": {
             "endlinecolor": "#2a3f5f",
             "gridcolor": "white",
             "linecolor": "white",
             "minorgridcolor": "white",
             "startlinecolor": "#2a3f5f"
            },
            "type": "carpet"
           }
          ],
          "choropleth": [
           {
            "colorbar": {
             "outlinewidth": 0,
             "ticks": ""
            },
            "type": "choropleth"
           }
          ],
          "contour": [
           {
            "colorbar": {
             "outlinewidth": 0,
             "ticks": ""
            },
            "colorscale": [
             [
              0,
              "#0d0887"
             ],
             [
              0.1111111111111111,
              "#46039f"
             ],
             [
              0.2222222222222222,
              "#7201a8"
             ],
             [
              0.3333333333333333,
              "#9c179e"
             ],
             [
              0.4444444444444444,
              "#bd3786"
             ],
             [
              0.5555555555555556,
              "#d8576b"
             ],
             [
              0.6666666666666666,
              "#ed7953"
             ],
             [
              0.7777777777777778,
              "#fb9f3a"
             ],
             [
              0.8888888888888888,
              "#fdca26"
             ],
             [
              1,
              "#f0f921"
             ]
            ],
            "type": "contour"
           }
          ],
          "contourcarpet": [
           {
            "colorbar": {
             "outlinewidth": 0,
             "ticks": ""
            },
            "type": "contourcarpet"
           }
          ],
          "heatmap": [
           {
            "colorbar": {
             "outlinewidth": 0,
             "ticks": ""
            },
            "colorscale": [
             [
              0,
              "#0d0887"
             ],
             [
              0.1111111111111111,
              "#46039f"
             ],
             [
              0.2222222222222222,
              "#7201a8"
             ],
             [
              0.3333333333333333,
              "#9c179e"
             ],
             [
              0.4444444444444444,
              "#bd3786"
             ],
             [
              0.5555555555555556,
              "#d8576b"
             ],
             [
              0.6666666666666666,
              "#ed7953"
             ],
             [
              0.7777777777777778,
              "#fb9f3a"
             ],
             [
              0.8888888888888888,
              "#fdca26"
             ],
             [
              1,
              "#f0f921"
             ]
            ],
            "type": "heatmap"
           }
          ],
          "heatmapgl": [
           {
            "colorbar": {
             "outlinewidth": 0,
             "ticks": ""
            },
            "colorscale": [
             [
              0,
              "#0d0887"
             ],
             [
              0.1111111111111111,
              "#46039f"
             ],
             [
              0.2222222222222222,
              "#7201a8"
             ],
             [
              0.3333333333333333,
              "#9c179e"
             ],
             [
              0.4444444444444444,
              "#bd3786"
             ],
             [
              0.5555555555555556,
              "#d8576b"
             ],
             [
              0.6666666666666666,
              "#ed7953"
             ],
             [
              0.7777777777777778,
              "#fb9f3a"
             ],
             [
              0.8888888888888888,
              "#fdca26"
             ],
             [
              1,
              "#f0f921"
             ]
            ],
            "type": "heatmapgl"
           }
          ],
          "histogram": [
           {
            "marker": {
             "colorbar": {
              "outlinewidth": 0,
              "ticks": ""
             }
            },
            "type": "histogram"
           }
          ],
          "histogram2d": [
           {
            "colorbar": {
             "outlinewidth": 0,
             "ticks": ""
            },
            "colorscale": [
             [
              0,
              "#0d0887"
             ],
             [
              0.1111111111111111,
              "#46039f"
             ],
             [
              0.2222222222222222,
              "#7201a8"
             ],
             [
              0.3333333333333333,
              "#9c179e"
             ],
             [
              0.4444444444444444,
              "#bd3786"
             ],
             [
              0.5555555555555556,
              "#d8576b"
             ],
             [
              0.6666666666666666,
              "#ed7953"
             ],
             [
              0.7777777777777778,
              "#fb9f3a"
             ],
             [
              0.8888888888888888,
              "#fdca26"
             ],
             [
              1,
              "#f0f921"
             ]
            ],
            "type": "histogram2d"
           }
          ],
          "histogram2dcontour": [
           {
            "colorbar": {
             "outlinewidth": 0,
             "ticks": ""
            },
            "colorscale": [
             [
              0,
              "#0d0887"
             ],
             [
              0.1111111111111111,
              "#46039f"
             ],
             [
              0.2222222222222222,
              "#7201a8"
             ],
             [
              0.3333333333333333,
              "#9c179e"
             ],
             [
              0.4444444444444444,
              "#bd3786"
             ],
             [
              0.5555555555555556,
              "#d8576b"
             ],
             [
              0.6666666666666666,
              "#ed7953"
             ],
             [
              0.7777777777777778,
              "#fb9f3a"
             ],
             [
              0.8888888888888888,
              "#fdca26"
             ],
             [
              1,
              "#f0f921"
             ]
            ],
            "type": "histogram2dcontour"
           }
          ],
          "mesh3d": [
           {
            "colorbar": {
             "outlinewidth": 0,
             "ticks": ""
            },
            "type": "mesh3d"
           }
          ],
          "parcoords": [
           {
            "line": {
             "colorbar": {
              "outlinewidth": 0,
              "ticks": ""
             }
            },
            "type": "parcoords"
           }
          ],
          "pie": [
           {
            "automargin": true,
            "type": "pie"
           }
          ],
          "scatter": [
           {
            "marker": {
             "colorbar": {
              "outlinewidth": 0,
              "ticks": ""
             }
            },
            "type": "scatter"
           }
          ],
          "scatter3d": [
           {
            "line": {
             "colorbar": {
              "outlinewidth": 0,
              "ticks": ""
             }
            },
            "marker": {
             "colorbar": {
              "outlinewidth": 0,
              "ticks": ""
             }
            },
            "type": "scatter3d"
           }
          ],
          "scattercarpet": [
           {
            "marker": {
             "colorbar": {
              "outlinewidth": 0,
              "ticks": ""
             }
            },
            "type": "scattercarpet"
           }
          ],
          "scattergeo": [
           {
            "marker": {
             "colorbar": {
              "outlinewidth": 0,
              "ticks": ""
             }
            },
            "type": "scattergeo"
           }
          ],
          "scattergl": [
           {
            "marker": {
             "colorbar": {
              "outlinewidth": 0,
              "ticks": ""
             }
            },
            "type": "scattergl"
           }
          ],
          "scattermapbox": [
           {
            "marker": {
             "colorbar": {
              "outlinewidth": 0,
              "ticks": ""
             }
            },
            "type": "scattermapbox"
           }
          ],
          "scatterpolar": [
           {
            "marker": {
             "colorbar": {
              "outlinewidth": 0,
              "ticks": ""
             }
            },
            "type": "scatterpolar"
           }
          ],
          "scatterpolargl": [
           {
            "marker": {
             "colorbar": {
              "outlinewidth": 0,
              "ticks": ""
             }
            },
            "type": "scatterpolargl"
           }
          ],
          "scatterternary": [
           {
            "marker": {
             "colorbar": {
              "outlinewidth": 0,
              "ticks": ""
             }
            },
            "type": "scatterternary"
           }
          ],
          "surface": [
           {
            "colorbar": {
             "outlinewidth": 0,
             "ticks": ""
            },
            "colorscale": [
             [
              0,
              "#0d0887"
             ],
             [
              0.1111111111111111,
              "#46039f"
             ],
             [
              0.2222222222222222,
              "#7201a8"
             ],
             [
              0.3333333333333333,
              "#9c179e"
             ],
             [
              0.4444444444444444,
              "#bd3786"
             ],
             [
              0.5555555555555556,
              "#d8576b"
             ],
             [
              0.6666666666666666,
              "#ed7953"
             ],
             [
              0.7777777777777778,
              "#fb9f3a"
             ],
             [
              0.8888888888888888,
              "#fdca26"
             ],
             [
              1,
              "#f0f921"
             ]
            ],
            "type": "surface"
           }
          ],
          "table": [
           {
            "cells": {
             "fill": {
              "color": "#EBF0F8"
             },
             "line": {
              "color": "white"
             }
            },
            "header": {
             "fill": {
              "color": "#C8D4E3"
             },
             "line": {
              "color": "white"
             }
            },
            "type": "table"
           }
          ]
         },
         "layout": {
          "annotationdefaults": {
           "arrowcolor": "#2a3f5f",
           "arrowhead": 0,
           "arrowwidth": 1
          },
          "coloraxis": {
           "colorbar": {
            "outlinewidth": 0,
            "ticks": ""
           }
          },
          "colorscale": {
           "diverging": [
            [
             0,
             "#8e0152"
            ],
            [
             0.1,
             "#c51b7d"
            ],
            [
             0.2,
             "#de77ae"
            ],
            [
             0.3,
             "#f1b6da"
            ],
            [
             0.4,
             "#fde0ef"
            ],
            [
             0.5,
             "#f7f7f7"
            ],
            [
             0.6,
             "#e6f5d0"
            ],
            [
             0.7,
             "#b8e186"
            ],
            [
             0.8,
             "#7fbc41"
            ],
            [
             0.9,
             "#4d9221"
            ],
            [
             1,
             "#276419"
            ]
           ],
           "sequential": [
            [
             0,
             "#0d0887"
            ],
            [
             0.1111111111111111,
             "#46039f"
            ],
            [
             0.2222222222222222,
             "#7201a8"
            ],
            [
             0.3333333333333333,
             "#9c179e"
            ],
            [
             0.4444444444444444,
             "#bd3786"
            ],
            [
             0.5555555555555556,
             "#d8576b"
            ],
            [
             0.6666666666666666,
             "#ed7953"
            ],
            [
             0.7777777777777778,
             "#fb9f3a"
            ],
            [
             0.8888888888888888,
             "#fdca26"
            ],
            [
             1,
             "#f0f921"
            ]
           ],
           "sequentialminus": [
            [
             0,
             "#0d0887"
            ],
            [
             0.1111111111111111,
             "#46039f"
            ],
            [
             0.2222222222222222,
             "#7201a8"
            ],
            [
             0.3333333333333333,
             "#9c179e"
            ],
            [
             0.4444444444444444,
             "#bd3786"
            ],
            [
             0.5555555555555556,
             "#d8576b"
            ],
            [
             0.6666666666666666,
             "#ed7953"
            ],
            [
             0.7777777777777778,
             "#fb9f3a"
            ],
            [
             0.8888888888888888,
             "#fdca26"
            ],
            [
             1,
             "#f0f921"
            ]
           ]
          },
          "colorway": [
           "#636efa",
           "#EF553B",
           "#00cc96",
           "#ab63fa",
           "#FFA15A",
           "#19d3f3",
           "#FF6692",
           "#B6E880",
           "#FF97FF",
           "#FECB52"
          ],
          "font": {
           "color": "#2a3f5f"
          },
          "geo": {
           "bgcolor": "white",
           "lakecolor": "white",
           "landcolor": "#E5ECF6",
           "showlakes": true,
           "showland": true,
           "subunitcolor": "white"
          },
          "hoverlabel": {
           "align": "left"
          },
          "hovermode": "closest",
          "mapbox": {
           "style": "light"
          },
          "paper_bgcolor": "white",
          "plot_bgcolor": "#E5ECF6",
          "polar": {
           "angularaxis": {
            "gridcolor": "white",
            "linecolor": "white",
            "ticks": ""
           },
           "bgcolor": "#E5ECF6",
           "radialaxis": {
            "gridcolor": "white",
            "linecolor": "white",
            "ticks": ""
           }
          },
          "scene": {
           "xaxis": {
            "backgroundcolor": "#E5ECF6",
            "gridcolor": "white",
            "gridwidth": 2,
            "linecolor": "white",
            "showbackground": true,
            "ticks": "",
            "zerolinecolor": "white"
           },
           "yaxis": {
            "backgroundcolor": "#E5ECF6",
            "gridcolor": "white",
            "gridwidth": 2,
            "linecolor": "white",
            "showbackground": true,
            "ticks": "",
            "zerolinecolor": "white"
           },
           "zaxis": {
            "backgroundcolor": "#E5ECF6",
            "gridcolor": "white",
            "gridwidth": 2,
            "linecolor": "white",
            "showbackground": true,
            "ticks": "",
            "zerolinecolor": "white"
           }
          },
          "shapedefaults": {
           "line": {
            "color": "#2a3f5f"
           }
          },
          "ternary": {
           "aaxis": {
            "gridcolor": "white",
            "linecolor": "white",
            "ticks": ""
           },
           "baxis": {
            "gridcolor": "white",
            "linecolor": "white",
            "ticks": ""
           },
           "bgcolor": "#E5ECF6",
           "caxis": {
            "gridcolor": "white",
            "linecolor": "white",
            "ticks": ""
           }
          },
          "title": {
           "x": 0.05
          },
          "xaxis": {
           "automargin": true,
           "gridcolor": "white",
           "linecolor": "white",
           "ticks": "",
           "title": {
            "standoff": 15
           },
           "zerolinecolor": "white",
           "zerolinewidth": 2
          },
          "yaxis": {
           "automargin": true,
           "gridcolor": "white",
           "linecolor": "white",
           "ticks": "",
           "title": {
            "standoff": 15
           },
           "zerolinecolor": "white",
           "zerolinewidth": 2
          }
         }
        }
       }
      },
      "text/html": [
       "<div>\n",
       "        \n",
       "        \n",
       "            <div id=\"a9424d53-f47e-4a64-9027-99427bbd1a2e\" class=\"plotly-graph-div\" style=\"height:525px; width:100%;\"></div>\n",
       "            <script type=\"text/javascript\">\n",
       "                require([\"plotly\"], function(Plotly) {\n",
       "                    window.PLOTLYENV=window.PLOTLYENV || {};\n",
       "                    \n",
       "                if (document.getElementById(\"a9424d53-f47e-4a64-9027-99427bbd1a2e\")) {\n",
       "                    Plotly.newPlot(\n",
       "                        'a9424d53-f47e-4a64-9027-99427bbd1a2e',\n",
       "                        [{\"mode\": \"markers\", \"type\": \"scatter3d\", \"x\": [50, 60, 49, 70, 51, 41, 28, 29, 32, 38, 41, 41, 32, 21, 28, 28, 31, 34, 20, 22], \"y\": [24, 23, 24, 34, 35, 36, 34, 26, 31, 42, 39, 40, 36, 37, 45, 44, 47, 56, 44, 49], \"z\": [63, 62, 54, 48, 45, 39, 36, 35, 35, 34, 32, 32, 30, 28, 27, 26, 25, 25, 18, 16]}, {\"opacity\": 0.3, \"showscale\": false, \"surfacecolor\": [[[256, 127, 14], [256, 127, 14], [256, 127, 14], [256, 127, 14], [256, 127, 14], [256, 127, 14], [256, 127, 14], [256, 127, 14], [256, 127, 14], [256, 127, 14], [256, 127, 14], [256, 127, 14], [256, 127, 14], [256, 127, 14], [256, 127, 14], [256, 127, 14], [256, 127, 14], [256, 127, 14], [256, 127, 14], [256, 127, 14], [256, 127, 14]], [[256, 127, 14], [256, 127, 14], [256, 127, 14], [256, 127, 14], [256, 127, 14], [256, 127, 14], [256, 127, 14], [256, 127, 14], [256, 127, 14], [256, 127, 14], [256, 127, 14], [256, 127, 14], [256, 127, 14], [256, 127, 14], [256, 127, 14], [256, 127, 14], [256, 127, 14], [256, 127, 14], [256, 127, 14], [256, 127, 14], [256, 127, 14]], [[256, 127, 14], [256, 127, 14], [256, 127, 14], [256, 127, 14], [256, 127, 14], [256, 127, 14], [256, 127, 14], [256, 127, 14], [256, 127, 14], [256, 127, 14], [256, 127, 14], [256, 127, 14], [256, 127, 14], [256, 127, 14], [256, 127, 14], [256, 127, 14], [256, 127, 14], [256, 127, 14], [256, 127, 14], [256, 127, 14], [256, 127, 14]], [[256, 127, 14], [256, 127, 14], [256, 127, 14], [256, 127, 14], [256, 127, 14], [256, 127, 14], [256, 127, 14], [256, 127, 14], [256, 127, 14], [256, 127, 14], [256, 127, 14], [256, 127, 14], [256, 127, 14], [256, 127, 14], [256, 127, 14], [256, 127, 14], [256, 127, 14], [256, 127, 14], [256, 127, 14], [256, 127, 14], [256, 127, 14]], [[256, 127, 14], [256, 127, 14], [256, 127, 14], [256, 127, 14], [256, 127, 14], [256, 127, 14], [256, 127, 14], [256, 127, 14], [256, 127, 14], [256, 127, 14], [256, 127, 14], [256, 127, 14], [256, 127, 14], [256, 127, 14], [256, 127, 14], [256, 127, 14], [256, 127, 14], [256, 127, 14], [256, 127, 14], [256, 127, 14], [256, 127, 14]], [[256, 127, 14], [256, 127, 14], [256, 127, 14], [256, 127, 14], [256, 127, 14], [256, 127, 14], [256, 127, 14], [256, 127, 14], [256, 127, 14], [256, 127, 14], [256, 127, 14], [256, 127, 14], [256, 127, 14], [256, 127, 14], [256, 127, 14], [256, 127, 14], [256, 127, 14], [256, 127, 14], [256, 127, 14], [256, 127, 14], [256, 127, 14]], [[256, 127, 14], [256, 127, 14], [256, 127, 14], [256, 127, 14], [256, 127, 14], [256, 127, 14], [256, 127, 14], [256, 127, 14], [256, 127, 14], [256, 127, 14], [256, 127, 14], [256, 127, 14], [256, 127, 14], [256, 127, 14], [256, 127, 14], [256, 127, 14], [256, 127, 14], [256, 127, 14], [256, 127, 14], [256, 127, 14], [256, 127, 14]], [[256, 127, 14], [256, 127, 14], [256, 127, 14], [256, 127, 14], [256, 127, 14], [256, 127, 14], [256, 127, 14], [256, 127, 14], [256, 127, 14], [256, 127, 14], [256, 127, 14], [256, 127, 14], [256, 127, 14], [256, 127, 14], [256, 127, 14], [256, 127, 14], [256, 127, 14], [256, 127, 14], [256, 127, 14], [256, 127, 14], [256, 127, 14]], [[256, 127, 14], [256, 127, 14], [256, 127, 14], [256, 127, 14], [256, 127, 14], [256, 127, 14], [256, 127, 14], [256, 127, 14], [256, 127, 14], [256, 127, 14], [256, 127, 14], [256, 127, 14], [256, 127, 14], [256, 127, 14], [256, 127, 14], [256, 127, 14], [256, 127, 14], [256, 127, 14], [256, 127, 14], [256, 127, 14], [256, 127, 14]], [[256, 127, 14], [256, 127, 14], [256, 127, 14], [256, 127, 14], [256, 127, 14], [256, 127, 14], [256, 127, 14], [256, 127, 14], [256, 127, 14], [256, 127, 14], [256, 127, 14], [256, 127, 14], [256, 127, 14], [256, 127, 14], [256, 127, 14], [256, 127, 14], [256, 127, 14], [256, 127, 14], [256, 127, 14], [256, 127, 14], [256, 127, 14]], [[256, 127, 14], [256, 127, 14], [256, 127, 14], [256, 127, 14], [256, 127, 14], [256, 127, 14], [256, 127, 14], [256, 127, 14], [256, 127, 14], [256, 127, 14], [256, 127, 14], [256, 127, 14], [256, 127, 14], [256, 127, 14], [256, 127, 14], [256, 127, 14], [256, 127, 14], [256, 127, 14], [256, 127, 14], [256, 127, 14], [256, 127, 14]], [[256, 127, 14], [256, 127, 14], [256, 127, 14], [256, 127, 14], [256, 127, 14], [256, 127, 14], [256, 127, 14], [256, 127, 14], [256, 127, 14], [256, 127, 14], [256, 127, 14], [256, 127, 14], [256, 127, 14], [256, 127, 14], [256, 127, 14], [256, 127, 14], [256, 127, 14], [256, 127, 14], [256, 127, 14], [256, 127, 14], [256, 127, 14]], [[256, 127, 14], [256, 127, 14], [256, 127, 14], [256, 127, 14], [256, 127, 14], [256, 127, 14], [256, 127, 14], [256, 127, 14], [256, 127, 14], [256, 127, 14], [256, 127, 14], [256, 127, 14], [256, 127, 14], [256, 127, 14], [256, 127, 14], [256, 127, 14], [256, 127, 14], [256, 127, 14], [256, 127, 14], [256, 127, 14], [256, 127, 14]], [[256, 127, 14], [256, 127, 14], [256, 127, 14], [256, 127, 14], [256, 127, 14], [256, 127, 14], [256, 127, 14], [256, 127, 14], [256, 127, 14], [256, 127, 14], [256, 127, 14], [256, 127, 14], [256, 127, 14], [256, 127, 14], [256, 127, 14], [256, 127, 14], [256, 127, 14], [256, 127, 14], [256, 127, 14], [256, 127, 14], [256, 127, 14]], [[256, 127, 14], [256, 127, 14], [256, 127, 14], [256, 127, 14], [256, 127, 14], [256, 127, 14], [256, 127, 14], [256, 127, 14], [256, 127, 14], [256, 127, 14], [256, 127, 14], [256, 127, 14], [256, 127, 14], [256, 127, 14], [256, 127, 14], [256, 127, 14], [256, 127, 14], [256, 127, 14], [256, 127, 14], [256, 127, 14], [256, 127, 14]], [[256, 127, 14], [256, 127, 14], [256, 127, 14], [256, 127, 14], [256, 127, 14], [256, 127, 14], [256, 127, 14], [256, 127, 14], [256, 127, 14], [256, 127, 14], [256, 127, 14], [256, 127, 14], [256, 127, 14], [256, 127, 14], [256, 127, 14], [256, 127, 14], [256, 127, 14], [256, 127, 14], [256, 127, 14], [256, 127, 14], [256, 127, 14]], [[256, 127, 14], [256, 127, 14], [256, 127, 14], [256, 127, 14], [256, 127, 14], [256, 127, 14], [256, 127, 14], [256, 127, 14], [256, 127, 14], [256, 127, 14], [256, 127, 14], [256, 127, 14], [256, 127, 14], [256, 127, 14], [256, 127, 14], [256, 127, 14], [256, 127, 14], [256, 127, 14], [256, 127, 14], [256, 127, 14], [256, 127, 14]], [[256, 127, 14], [256, 127, 14], [256, 127, 14], [256, 127, 14], [256, 127, 14], [256, 127, 14], [256, 127, 14], [256, 127, 14], [256, 127, 14], [256, 127, 14], [256, 127, 14], [256, 127, 14], [256, 127, 14], [256, 127, 14], [256, 127, 14], [256, 127, 14], [256, 127, 14], [256, 127, 14], [256, 127, 14], [256, 127, 14], [256, 127, 14]], [[256, 127, 14], [256, 127, 14], [256, 127, 14], [256, 127, 14], [256, 127, 14], [256, 127, 14], [256, 127, 14], [256, 127, 14], [256, 127, 14], [256, 127, 14], [256, 127, 14], [256, 127, 14], [256, 127, 14], [256, 127, 14], [256, 127, 14], [256, 127, 14], [256, 127, 14], [256, 127, 14], [256, 127, 14], [256, 127, 14], [256, 127, 14]], [[256, 127, 14], [256, 127, 14], [256, 127, 14], [256, 127, 14], [256, 127, 14], [256, 127, 14], [256, 127, 14], [256, 127, 14], [256, 127, 14], [256, 127, 14], [256, 127, 14], [256, 127, 14], [256, 127, 14], [256, 127, 14], [256, 127, 14], [256, 127, 14], [256, 127, 14], [256, 127, 14], [256, 127, 14], [256, 127, 14], [256, 127, 14]], [[256, 127, 14], [256, 127, 14], [256, 127, 14], [256, 127, 14], [256, 127, 14], [256, 127, 14], [256, 127, 14], [256, 127, 14], [256, 127, 14], [256, 127, 14], [256, 127, 14], [256, 127, 14], [256, 127, 14], [256, 127, 14], [256, 127, 14], [256, 127, 14], [256, 127, 14], [256, 127, 14], [256, 127, 14], [256, 127, 14], [256, 127, 14]]], \"type\": \"surface\", \"x\": [[20.0, 32.5, 45.0, 57.5, 70.0], [20.0, 32.5, 45.0, 57.5, 70.0], [20.0, 32.5, 45.0, 57.5, 70.0], [20.0, 32.5, 45.0, 57.5, 70.0], [20.0, 32.5, 45.0, 57.5, 70.0]], \"y\": [[23.0, 23.0, 23.0, 23.0, 23.0], [31.25, 31.25, 31.25, 31.25, 31.25], [39.5, 39.5, 39.5, 39.5, 39.5], [47.75, 47.75, 47.75, 47.75, 47.75], [56.0, 56.0, 56.0, 56.0, 56.0]], \"z\": [[36.33224432745116, 44.49332861103335, 52.65441289461554, 60.81549717819774, 68.97658146177994], [29.630142868870934, 37.791227152453125, 45.952311436035316, 54.113395719617515, 62.27448000319971], [22.92804141029071, 31.0891256938729, 39.25020997745509, 47.41129426103729, 55.57237854461949], [16.225939951710487, 24.387024235292678, 32.54810851887487, 40.70919280245707, 48.870277086039266], [9.523838493130263, 17.684922776712455, 25.846007060294646, 34.007091343876844, 42.16817562745904]]}],\n",
       "                        {\"template\": {\"data\": {\"bar\": [{\"error_x\": {\"color\": \"#2a3f5f\"}, \"error_y\": {\"color\": \"#2a3f5f\"}, \"marker\": {\"line\": {\"color\": \"#E5ECF6\", \"width\": 0.5}}, \"type\": \"bar\"}], \"barpolar\": [{\"marker\": {\"line\": {\"color\": \"#E5ECF6\", \"width\": 0.5}}, \"type\": \"barpolar\"}], \"carpet\": [{\"aaxis\": {\"endlinecolor\": \"#2a3f5f\", \"gridcolor\": \"white\", \"linecolor\": \"white\", \"minorgridcolor\": \"white\", \"startlinecolor\": \"#2a3f5f\"}, \"baxis\": {\"endlinecolor\": \"#2a3f5f\", \"gridcolor\": \"white\", \"linecolor\": \"white\", \"minorgridcolor\": \"white\", \"startlinecolor\": \"#2a3f5f\"}, \"type\": \"carpet\"}], \"choropleth\": [{\"colorbar\": {\"outlinewidth\": 0, \"ticks\": \"\"}, \"type\": \"choropleth\"}], \"contour\": [{\"colorbar\": {\"outlinewidth\": 0, \"ticks\": \"\"}, \"colorscale\": [[0.0, \"#0d0887\"], [0.1111111111111111, \"#46039f\"], [0.2222222222222222, \"#7201a8\"], [0.3333333333333333, \"#9c179e\"], [0.4444444444444444, \"#bd3786\"], [0.5555555555555556, \"#d8576b\"], [0.6666666666666666, \"#ed7953\"], [0.7777777777777778, \"#fb9f3a\"], [0.8888888888888888, \"#fdca26\"], [1.0, \"#f0f921\"]], \"type\": \"contour\"}], \"contourcarpet\": [{\"colorbar\": {\"outlinewidth\": 0, \"ticks\": \"\"}, \"type\": \"contourcarpet\"}], \"heatmap\": [{\"colorbar\": {\"outlinewidth\": 0, \"ticks\": \"\"}, \"colorscale\": [[0.0, \"#0d0887\"], [0.1111111111111111, \"#46039f\"], [0.2222222222222222, \"#7201a8\"], [0.3333333333333333, \"#9c179e\"], [0.4444444444444444, \"#bd3786\"], [0.5555555555555556, \"#d8576b\"], [0.6666666666666666, \"#ed7953\"], [0.7777777777777778, \"#fb9f3a\"], [0.8888888888888888, \"#fdca26\"], [1.0, \"#f0f921\"]], \"type\": \"heatmap\"}], \"heatmapgl\": [{\"colorbar\": {\"outlinewidth\": 0, \"ticks\": \"\"}, \"colorscale\": [[0.0, \"#0d0887\"], [0.1111111111111111, \"#46039f\"], [0.2222222222222222, \"#7201a8\"], [0.3333333333333333, \"#9c179e\"], [0.4444444444444444, \"#bd3786\"], [0.5555555555555556, \"#d8576b\"], [0.6666666666666666, \"#ed7953\"], [0.7777777777777778, \"#fb9f3a\"], [0.8888888888888888, \"#fdca26\"], [1.0, \"#f0f921\"]], \"type\": \"heatmapgl\"}], \"histogram\": [{\"marker\": {\"colorbar\": {\"outlinewidth\": 0, \"ticks\": \"\"}}, \"type\": \"histogram\"}], \"histogram2d\": [{\"colorbar\": {\"outlinewidth\": 0, \"ticks\": \"\"}, \"colorscale\": [[0.0, \"#0d0887\"], [0.1111111111111111, \"#46039f\"], [0.2222222222222222, \"#7201a8\"], [0.3333333333333333, \"#9c179e\"], [0.4444444444444444, \"#bd3786\"], [0.5555555555555556, \"#d8576b\"], [0.6666666666666666, \"#ed7953\"], [0.7777777777777778, \"#fb9f3a\"], [0.8888888888888888, \"#fdca26\"], [1.0, \"#f0f921\"]], \"type\": \"histogram2d\"}], \"histogram2dcontour\": [{\"colorbar\": {\"outlinewidth\": 0, \"ticks\": \"\"}, \"colorscale\": [[0.0, \"#0d0887\"], [0.1111111111111111, \"#46039f\"], [0.2222222222222222, \"#7201a8\"], [0.3333333333333333, \"#9c179e\"], [0.4444444444444444, \"#bd3786\"], [0.5555555555555556, \"#d8576b\"], [0.6666666666666666, \"#ed7953\"], [0.7777777777777778, \"#fb9f3a\"], [0.8888888888888888, \"#fdca26\"], [1.0, \"#f0f921\"]], \"type\": \"histogram2dcontour\"}], \"mesh3d\": [{\"colorbar\": {\"outlinewidth\": 0, \"ticks\": \"\"}, \"type\": \"mesh3d\"}], \"parcoords\": [{\"line\": {\"colorbar\": {\"outlinewidth\": 0, \"ticks\": \"\"}}, \"type\": \"parcoords\"}], \"pie\": [{\"automargin\": true, \"type\": \"pie\"}], \"scatter\": [{\"marker\": {\"colorbar\": {\"outlinewidth\": 0, \"ticks\": \"\"}}, \"type\": \"scatter\"}], \"scatter3d\": [{\"line\": {\"colorbar\": {\"outlinewidth\": 0, \"ticks\": \"\"}}, \"marker\": {\"colorbar\": {\"outlinewidth\": 0, \"ticks\": \"\"}}, \"type\": \"scatter3d\"}], \"scattercarpet\": [{\"marker\": {\"colorbar\": {\"outlinewidth\": 0, \"ticks\": \"\"}}, \"type\": \"scattercarpet\"}], \"scattergeo\": [{\"marker\": {\"colorbar\": {\"outlinewidth\": 0, \"ticks\": \"\"}}, \"type\": \"scattergeo\"}], \"scattergl\": [{\"marker\": {\"colorbar\": {\"outlinewidth\": 0, \"ticks\": \"\"}}, \"type\": \"scattergl\"}], \"scattermapbox\": [{\"marker\": {\"colorbar\": {\"outlinewidth\": 0, \"ticks\": \"\"}}, \"type\": \"scattermapbox\"}], \"scatterpolar\": [{\"marker\": {\"colorbar\": {\"outlinewidth\": 0, \"ticks\": \"\"}}, \"type\": \"scatterpolar\"}], \"scatterpolargl\": [{\"marker\": {\"colorbar\": {\"outlinewidth\": 0, \"ticks\": \"\"}}, \"type\": \"scatterpolargl\"}], \"scatterternary\": [{\"marker\": {\"colorbar\": {\"outlinewidth\": 0, \"ticks\": \"\"}}, \"type\": \"scatterternary\"}], \"surface\": [{\"colorbar\": {\"outlinewidth\": 0, \"ticks\": \"\"}, \"colorscale\": [[0.0, \"#0d0887\"], [0.1111111111111111, \"#46039f\"], [0.2222222222222222, \"#7201a8\"], [0.3333333333333333, \"#9c179e\"], [0.4444444444444444, \"#bd3786\"], [0.5555555555555556, \"#d8576b\"], [0.6666666666666666, \"#ed7953\"], [0.7777777777777778, \"#fb9f3a\"], [0.8888888888888888, \"#fdca26\"], [1.0, \"#f0f921\"]], \"type\": \"surface\"}], \"table\": [{\"cells\": {\"fill\": {\"color\": \"#EBF0F8\"}, \"line\": {\"color\": \"white\"}}, \"header\": {\"fill\": {\"color\": \"#C8D4E3\"}, \"line\": {\"color\": \"white\"}}, \"type\": \"table\"}]}, \"layout\": {\"annotationdefaults\": {\"arrowcolor\": \"#2a3f5f\", \"arrowhead\": 0, \"arrowwidth\": 1}, \"coloraxis\": {\"colorbar\": {\"outlinewidth\": 0, \"ticks\": \"\"}}, \"colorscale\": {\"diverging\": [[0, \"#8e0152\"], [0.1, \"#c51b7d\"], [0.2, \"#de77ae\"], [0.3, \"#f1b6da\"], [0.4, \"#fde0ef\"], [0.5, \"#f7f7f7\"], [0.6, \"#e6f5d0\"], [0.7, \"#b8e186\"], [0.8, \"#7fbc41\"], [0.9, \"#4d9221\"], [1, \"#276419\"]], \"sequential\": [[0.0, \"#0d0887\"], [0.1111111111111111, \"#46039f\"], [0.2222222222222222, \"#7201a8\"], [0.3333333333333333, \"#9c179e\"], [0.4444444444444444, \"#bd3786\"], [0.5555555555555556, \"#d8576b\"], [0.6666666666666666, \"#ed7953\"], [0.7777777777777778, \"#fb9f3a\"], [0.8888888888888888, \"#fdca26\"], [1.0, \"#f0f921\"]], \"sequentialminus\": [[0.0, \"#0d0887\"], [0.1111111111111111, \"#46039f\"], [0.2222222222222222, \"#7201a8\"], [0.3333333333333333, \"#9c179e\"], [0.4444444444444444, \"#bd3786\"], [0.5555555555555556, \"#d8576b\"], [0.6666666666666666, \"#ed7953\"], [0.7777777777777778, \"#fb9f3a\"], [0.8888888888888888, \"#fdca26\"], [1.0, \"#f0f921\"]]}, \"colorway\": [\"#636efa\", \"#EF553B\", \"#00cc96\", \"#ab63fa\", \"#FFA15A\", \"#19d3f3\", \"#FF6692\", \"#B6E880\", \"#FF97FF\", \"#FECB52\"], \"font\": {\"color\": \"#2a3f5f\"}, \"geo\": {\"bgcolor\": \"white\", \"lakecolor\": \"white\", \"landcolor\": \"#E5ECF6\", \"showlakes\": true, \"showland\": true, \"subunitcolor\": \"white\"}, \"hoverlabel\": {\"align\": \"left\"}, \"hovermode\": \"closest\", \"mapbox\": {\"style\": \"light\"}, \"paper_bgcolor\": \"white\", \"plot_bgcolor\": \"#E5ECF6\", \"polar\": {\"angularaxis\": {\"gridcolor\": \"white\", \"linecolor\": \"white\", \"ticks\": \"\"}, \"bgcolor\": \"#E5ECF6\", \"radialaxis\": {\"gridcolor\": \"white\", \"linecolor\": \"white\", \"ticks\": \"\"}}, \"scene\": {\"xaxis\": {\"backgroundcolor\": \"#E5ECF6\", \"gridcolor\": \"white\", \"gridwidth\": 2, \"linecolor\": \"white\", \"showbackground\": true, \"ticks\": \"\", \"zerolinecolor\": \"white\"}, \"yaxis\": {\"backgroundcolor\": \"#E5ECF6\", \"gridcolor\": \"white\", \"gridwidth\": 2, \"linecolor\": \"white\", \"showbackground\": true, \"ticks\": \"\", \"zerolinecolor\": \"white\"}, \"zaxis\": {\"backgroundcolor\": \"#E5ECF6\", \"gridcolor\": \"white\", \"gridwidth\": 2, \"linecolor\": \"white\", \"showbackground\": true, \"ticks\": \"\", \"zerolinecolor\": \"white\"}}, \"shapedefaults\": {\"line\": {\"color\": \"#2a3f5f\"}}, \"ternary\": {\"aaxis\": {\"gridcolor\": \"white\", \"linecolor\": \"white\", \"ticks\": \"\"}, \"baxis\": {\"gridcolor\": \"white\", \"linecolor\": \"white\", \"ticks\": \"\"}, \"bgcolor\": \"#E5ECF6\", \"caxis\": {\"gridcolor\": \"white\", \"linecolor\": \"white\", \"ticks\": \"\"}}, \"title\": {\"x\": 0.05}, \"xaxis\": {\"automargin\": true, \"gridcolor\": \"white\", \"linecolor\": \"white\", \"ticks\": \"\", \"title\": {\"standoff\": 15}, \"zerolinecolor\": \"white\", \"zerolinewidth\": 2}, \"yaxis\": {\"automargin\": true, \"gridcolor\": \"white\", \"linecolor\": \"white\", \"ticks\": \"\", \"title\": {\"standoff\": 15}, \"zerolinecolor\": \"white\", \"zerolinewidth\": 2}}}},\n",
       "                        {\"responsive\": true}\n",
       "                    ).then(function(){\n",
       "                            \n",
       "var gd = document.getElementById('a9424d53-f47e-4a64-9027-99427bbd1a2e');\n",
       "var x = new MutationObserver(function (mutations, observer) {{\n",
       "        var display = window.getComputedStyle(gd).display;\n",
       "        if (!display || display === 'none') {{\n",
       "            console.log([gd, 'removed!']);\n",
       "            Plotly.purge(gd);\n",
       "            observer.disconnect();\n",
       "        }}\n",
       "}});\n",
       "\n",
       "// Listen for the removal of the full notebook cells\n",
       "var notebookContainer = gd.closest('#notebook-container');\n",
       "if (notebookContainer) {{\n",
       "    x.observe(notebookContainer, {childList: true});\n",
       "}}\n",
       "\n",
       "// Listen for the clearing of the current output cell\n",
       "var outputEl = gd.closest('.output');\n",
       "if (outputEl) {{\n",
       "    x.observe(outputEl, {childList: true});\n",
       "}}\n",
       "\n",
       "                        })\n",
       "                };\n",
       "                });\n",
       "            </script>\n",
       "        </div>"
      ]
     },
     "metadata": {},
     "output_type": "display_data"
    }
   ],
   "source": [
    "import plotly.graph_objects as go\n",
    "\n",
    "x = np.linspace(dataset['F'].min(), dataset['F'].max(), 5)\n",
    "y = np.linspace(dataset['S'].min(), dataset['S'].max(), 5)\n",
    "x, y = np.meshgrid(x, y)\n",
    "\n",
    "z = model.params['const'] + model.params['F'] * x + model.params['S'] * y\n",
    "z = z.reshape(x.shape)\n",
    "\n",
    "make_int = np.vectorize(int)\n",
    "cmap = plt.get_cmap(\"tab10\")\n",
    "mycolors = make_int(256*np.array(cmap(1)[0:3])).reshape((1, 1,-1)).repeat(21, axis = 0).repeat(21, axis =1)\n",
    "\n",
    "fig = go.Figure()\n",
    "fig.add_trace(go.Scatter3d(x=dataset['F'], y=dataset['S'], z=dataset['PUNTI'], mode='markers'))\n",
    "fig.add_trace(go.Surface(x=x, y=y, z=z, surfacecolor=mycolors, opacity=.3, showscale=False))\n",
    "\n",
    "fig.show()"
   ]
  },
  {
   "cell_type": "markdown",
   "metadata": {},
   "source": [
    "Proviamo ora a fare regressioni multiple sui parametri già considerati durante la scorsa lezione:"
   ]
  },
  {
   "cell_type": "code",
   "execution_count": 201,
   "metadata": {},
   "outputs": [
    {
     "data": {
      "text/html": [
       "<div>\n",
       "<style scoped>\n",
       "    .dataframe tbody tr th:only-of-type {\n",
       "        vertical-align: middle;\n",
       "    }\n",
       "\n",
       "    .dataframe tbody tr th {\n",
       "        vertical-align: top;\n",
       "    }\n",
       "\n",
       "    .dataframe thead th {\n",
       "        text-align: right;\n",
       "    }\n",
       "</style>\n",
       "<table border=\"1\" class=\"dataframe\">\n",
       "  <thead>\n",
       "    <tr style=\"text-align: right;\">\n",
       "      <th></th>\n",
       "      <th>PUNTI</th>\n",
       "      <th>V.1</th>\n",
       "      <th>N.1</th>\n",
       "      <th>P.1</th>\n",
       "      <th>V.2</th>\n",
       "      <th>N.2</th>\n",
       "      <th>P.2</th>\n",
       "      <th>F</th>\n",
       "      <th>S</th>\n",
       "    </tr>\n",
       "  </thead>\n",
       "  <tbody>\n",
       "    <tr>\n",
       "      <th>PUNTI</th>\n",
       "      <td>1.000000</td>\n",
       "      <td>0.914411</td>\n",
       "      <td>-0.125256</td>\n",
       "      <td>-0.905983</td>\n",
       "      <td>0.876874</td>\n",
       "      <td>0.029278</td>\n",
       "      <td>-0.837259</td>\n",
       "      <td>0.824177</td>\n",
       "      <td>-0.827887</td>\n",
       "    </tr>\n",
       "    <tr>\n",
       "      <th>V.1</th>\n",
       "      <td>0.914411</td>\n",
       "      <td>1.000000</td>\n",
       "      <td>-0.348615</td>\n",
       "      <td>-0.851585</td>\n",
       "      <td>0.634148</td>\n",
       "      <td>0.110579</td>\n",
       "      <td>-0.704984</td>\n",
       "      <td>0.668825</td>\n",
       "      <td>-0.818996</td>\n",
       "    </tr>\n",
       "    <tr>\n",
       "      <th>N.1</th>\n",
       "      <td>-0.125256</td>\n",
       "      <td>-0.348615</td>\n",
       "      <td>1.000000</td>\n",
       "      <td>-0.143741</td>\n",
       "      <td>0.057298</td>\n",
       "      <td>-0.400834</td>\n",
       "      <td>0.206448</td>\n",
       "      <td>-0.195650</td>\n",
       "      <td>0.140757</td>\n",
       "    </tr>\n",
       "    <tr>\n",
       "      <th>P.1</th>\n",
       "      <td>-0.905983</td>\n",
       "      <td>-0.851585</td>\n",
       "      <td>-0.143741</td>\n",
       "      <td>1.000000</td>\n",
       "      <td>-0.731996</td>\n",
       "      <td>0.059682</td>\n",
       "      <td>0.641174</td>\n",
       "      <td>-0.611378</td>\n",
       "      <td>0.819463</td>\n",
       "    </tr>\n",
       "    <tr>\n",
       "      <th>V.2</th>\n",
       "      <td>0.876874</td>\n",
       "      <td>0.634148</td>\n",
       "      <td>0.057298</td>\n",
       "      <td>-0.731996</td>\n",
       "      <td>1.000000</td>\n",
       "      <td>-0.236774</td>\n",
       "      <td>-0.726657</td>\n",
       "      <td>0.802543</td>\n",
       "      <td>-0.632176</td>\n",
       "    </tr>\n",
       "    <tr>\n",
       "      <th>N.2</th>\n",
       "      <td>0.029278</td>\n",
       "      <td>0.110579</td>\n",
       "      <td>-0.400834</td>\n",
       "      <td>0.059682</td>\n",
       "      <td>-0.236774</td>\n",
       "      <td>1.000000</td>\n",
       "      <td>-0.439118</td>\n",
       "      <td>0.195997</td>\n",
       "      <td>-0.133365</td>\n",
       "    </tr>\n",
       "    <tr>\n",
       "      <th>P.2</th>\n",
       "      <td>-0.837259</td>\n",
       "      <td>-0.704984</td>\n",
       "      <td>0.206448</td>\n",
       "      <td>0.641174</td>\n",
       "      <td>-0.726657</td>\n",
       "      <td>-0.439118</td>\n",
       "      <td>1.000000</td>\n",
       "      <td>-0.883133</td>\n",
       "      <td>0.689797</td>\n",
       "    </tr>\n",
       "    <tr>\n",
       "      <th>F</th>\n",
       "      <td>0.824177</td>\n",
       "      <td>0.668825</td>\n",
       "      <td>-0.195650</td>\n",
       "      <td>-0.611378</td>\n",
       "      <td>0.802543</td>\n",
       "      <td>0.195997</td>\n",
       "      <td>-0.883133</td>\n",
       "      <td>1.000000</td>\n",
       "      <td>-0.512793</td>\n",
       "    </tr>\n",
       "    <tr>\n",
       "      <th>S</th>\n",
       "      <td>-0.827887</td>\n",
       "      <td>-0.818996</td>\n",
       "      <td>0.140757</td>\n",
       "      <td>0.819463</td>\n",
       "      <td>-0.632176</td>\n",
       "      <td>-0.133365</td>\n",
       "      <td>0.689797</td>\n",
       "      <td>-0.512793</td>\n",
       "      <td>1.000000</td>\n",
       "    </tr>\n",
       "  </tbody>\n",
       "</table>\n",
       "</div>"
      ],
      "text/plain": [
       "          PUNTI       V.1       N.1       P.1       V.2       N.2       P.2  \\\n",
       "PUNTI  1.000000  0.914411 -0.125256 -0.905983  0.876874  0.029278 -0.837259   \n",
       "V.1    0.914411  1.000000 -0.348615 -0.851585  0.634148  0.110579 -0.704984   \n",
       "N.1   -0.125256 -0.348615  1.000000 -0.143741  0.057298 -0.400834  0.206448   \n",
       "P.1   -0.905983 -0.851585 -0.143741  1.000000 -0.731996  0.059682  0.641174   \n",
       "V.2    0.876874  0.634148  0.057298 -0.731996  1.000000 -0.236774 -0.726657   \n",
       "N.2    0.029278  0.110579 -0.400834  0.059682 -0.236774  1.000000 -0.439118   \n",
       "P.2   -0.837259 -0.704984  0.206448  0.641174 -0.726657 -0.439118  1.000000   \n",
       "F      0.824177  0.668825 -0.195650 -0.611378  0.802543  0.195997 -0.883133   \n",
       "S     -0.827887 -0.818996  0.140757  0.819463 -0.632176 -0.133365  0.689797   \n",
       "\n",
       "              F         S  \n",
       "PUNTI  0.824177 -0.827887  \n",
       "V.1    0.668825 -0.818996  \n",
       "N.1   -0.195650  0.140757  \n",
       "P.1   -0.611378  0.819463  \n",
       "V.2    0.802543 -0.632176  \n",
       "N.2    0.195997 -0.133365  \n",
       "P.2   -0.883133  0.689797  \n",
       "F      1.000000 -0.512793  \n",
       "S     -0.512793  1.000000  "
      ]
     },
     "execution_count": 201,
     "metadata": {},
     "output_type": "execute_result"
    }
   ],
   "source": [
    "dataset[['PUNTI', 'V.1', 'N.1', 'P.1', 'V.2', 'N.2', 'P.2', 'F', 'S']].corr()"
   ]
  },
  {
   "cell_type": "code",
   "execution_count": 202,
   "metadata": {},
   "outputs": [
    {
     "name": "stdout",
     "output_type": "stream",
     "text": [
      "R2 model on training data: 1.000000\n",
      "R2 model on test data: 1.000000\n"
     ]
    }
   ],
   "source": [
    "from sklearn.metrics import r2_score\n",
    "from sklearn.model_selection import train_test_split\n",
    "\n",
    "X = dataset[['V.1', 'N.1', 'P.1', 'V.2', 'N.2', 'P.2', 'F', 'S']]\n",
    "Y = dataset['PUNTI']\n",
    "\n",
    "X_train, X_test, Y_train, Y_test = train_test_split(X, Y, test_size=0.33)\n",
    "\n",
    "X_train = sm.add_constant(X_train) # adding a constant\n",
    "X_test = sm.add_constant(X_test) # adding a constant\n",
    "\n",
    "model = sm.OLS(Y_train, X_train).fit(normalize=True)\n",
    "Y_train_pred = model.predict(X_train)\n",
    "Y_test_pred = model.predict(X_test)\n",
    "\n",
    "print(\"R2 model on training data: %f\" % r2_score(Y_train, Y_train_pred))\n",
    "print(\"R2 model on test data: %f\" % r2_score(Y_test, Y_test_pred))"
   ]
  }
 ],
 "metadata": {
  "kernelspec": {
   "display_name": "Python 3",
   "language": "python",
   "name": "python3"
  },
  "language_info": {
   "codemirror_mode": {
    "name": "ipython",
    "version": 3
   },
   "file_extension": ".py",
   "mimetype": "text/x-python",
   "name": "python",
   "nbconvert_exporter": "python",
   "pygments_lexer": "ipython3",
   "version": "3.7.4"
  }
 },
 "nbformat": 4,
 "nbformat_minor": 2
}
