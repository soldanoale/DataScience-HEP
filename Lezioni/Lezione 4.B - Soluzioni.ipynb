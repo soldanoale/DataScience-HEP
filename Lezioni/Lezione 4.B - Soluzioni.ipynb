{
 "cells": [
  {
   "cell_type": "markdown",
   "metadata": {},
   "source": [
    "<a id='start'></a>\n",
    "# Decision Tree Esercizi\n",
    "\n",
    "In questo notebook vengono presentati degli esercizi sui Decision Tree. <br>\n",
    "Provate a svolgere il seguente esercizio: <br>\n",
    "1) [Sopravvivere all'iceberg](#section1)<br>\n",
    "2) [Predire il diabete](#section2)"
   ]
  },
  {
   "cell_type": "markdown",
   "metadata": {},
   "source": [
    "<a id='section1'></a>\n",
    "## Sopravvivere all'iceberg"
   ]
  },
  {
   "cell_type": "markdown",
   "metadata": {},
   "source": [
    "Torniamo ad analizzare i dati dei passeggeri del Titanic. Proviamo a vedere se è possibile realizzare un albero di decisione che ci permetta di discernere chi è morto da chi è sopravvissuto:"
   ]
  },
  {
   "cell_type": "code",
   "execution_count": 1,
   "metadata": {},
   "outputs": [
    {
     "name": "stderr",
     "output_type": "stream",
     "text": [
      "\n",
      "Bad key \"text.kerning_factor\" on line 4 in\n",
      "/opt/anaconda3/lib/python3.7/site-packages/matplotlib/mpl-data/stylelib/_classic_test_patch.mplstyle.\n",
      "You probably need to get an updated matplotlibrc file from\n",
      "https://github.com/matplotlib/matplotlib/blob/v3.1.3/matplotlibrc.template\n",
      "or from the matplotlib source distribution\n"
     ]
    },
    {
     "data": {
      "text/html": [
       "<div>\n",
       "<style scoped>\n",
       "    .dataframe tbody tr th:only-of-type {\n",
       "        vertical-align: middle;\n",
       "    }\n",
       "\n",
       "    .dataframe tbody tr th {\n",
       "        vertical-align: top;\n",
       "    }\n",
       "\n",
       "    .dataframe thead th {\n",
       "        text-align: right;\n",
       "    }\n",
       "</style>\n",
       "<table border=\"1\" class=\"dataframe\">\n",
       "  <thead>\n",
       "    <tr style=\"text-align: right;\">\n",
       "      <th></th>\n",
       "      <th>PassengerId</th>\n",
       "      <th>Survived</th>\n",
       "      <th>Pclass</th>\n",
       "      <th>Name</th>\n",
       "      <th>Sex</th>\n",
       "      <th>Age</th>\n",
       "      <th>SibSp</th>\n",
       "      <th>Parch</th>\n",
       "      <th>Ticket</th>\n",
       "      <th>Fare</th>\n",
       "      <th>Cabin</th>\n",
       "      <th>Embarked</th>\n",
       "    </tr>\n",
       "  </thead>\n",
       "  <tbody>\n",
       "    <tr>\n",
       "      <th>0</th>\n",
       "      <td>1</td>\n",
       "      <td>0</td>\n",
       "      <td>3</td>\n",
       "      <td>Braund, Mr. Owen Harris</td>\n",
       "      <td>male</td>\n",
       "      <td>22.0</td>\n",
       "      <td>1</td>\n",
       "      <td>0</td>\n",
       "      <td>A/5 21171</td>\n",
       "      <td>7.2500</td>\n",
       "      <td>NaN</td>\n",
       "      <td>S</td>\n",
       "    </tr>\n",
       "    <tr>\n",
       "      <th>1</th>\n",
       "      <td>2</td>\n",
       "      <td>1</td>\n",
       "      <td>1</td>\n",
       "      <td>Cumings, Mrs. John Bradley (Florence Briggs Th...</td>\n",
       "      <td>female</td>\n",
       "      <td>38.0</td>\n",
       "      <td>1</td>\n",
       "      <td>0</td>\n",
       "      <td>PC 17599</td>\n",
       "      <td>71.2833</td>\n",
       "      <td>C85</td>\n",
       "      <td>C</td>\n",
       "    </tr>\n",
       "    <tr>\n",
       "      <th>2</th>\n",
       "      <td>3</td>\n",
       "      <td>1</td>\n",
       "      <td>3</td>\n",
       "      <td>Heikkinen, Miss. Laina</td>\n",
       "      <td>female</td>\n",
       "      <td>26.0</td>\n",
       "      <td>0</td>\n",
       "      <td>0</td>\n",
       "      <td>STON/O2. 3101282</td>\n",
       "      <td>7.9250</td>\n",
       "      <td>NaN</td>\n",
       "      <td>S</td>\n",
       "    </tr>\n",
       "    <tr>\n",
       "      <th>3</th>\n",
       "      <td>4</td>\n",
       "      <td>1</td>\n",
       "      <td>1</td>\n",
       "      <td>Futrelle, Mrs. Jacques Heath (Lily May Peel)</td>\n",
       "      <td>female</td>\n",
       "      <td>35.0</td>\n",
       "      <td>1</td>\n",
       "      <td>0</td>\n",
       "      <td>113803</td>\n",
       "      <td>53.1000</td>\n",
       "      <td>C123</td>\n",
       "      <td>S</td>\n",
       "    </tr>\n",
       "    <tr>\n",
       "      <th>4</th>\n",
       "      <td>5</td>\n",
       "      <td>0</td>\n",
       "      <td>3</td>\n",
       "      <td>Allen, Mr. William Henry</td>\n",
       "      <td>male</td>\n",
       "      <td>35.0</td>\n",
       "      <td>0</td>\n",
       "      <td>0</td>\n",
       "      <td>373450</td>\n",
       "      <td>8.0500</td>\n",
       "      <td>NaN</td>\n",
       "      <td>S</td>\n",
       "    </tr>\n",
       "  </tbody>\n",
       "</table>\n",
       "</div>"
      ],
      "text/plain": [
       "   PassengerId  Survived  Pclass  \\\n",
       "0            1         0       3   \n",
       "1            2         1       1   \n",
       "2            3         1       3   \n",
       "3            4         1       1   \n",
       "4            5         0       3   \n",
       "\n",
       "                                                Name     Sex   Age  SibSp  \\\n",
       "0                            Braund, Mr. Owen Harris    male  22.0      1   \n",
       "1  Cumings, Mrs. John Bradley (Florence Briggs Th...  female  38.0      1   \n",
       "2                             Heikkinen, Miss. Laina  female  26.0      0   \n",
       "3       Futrelle, Mrs. Jacques Heath (Lily May Peel)  female  35.0      1   \n",
       "4                           Allen, Mr. William Henry    male  35.0      0   \n",
       "\n",
       "   Parch            Ticket     Fare Cabin Embarked  \n",
       "0      0         A/5 21171   7.2500   NaN        S  \n",
       "1      0          PC 17599  71.2833   C85        C  \n",
       "2      0  STON/O2. 3101282   7.9250   NaN        S  \n",
       "3      0            113803  53.1000  C123        S  \n",
       "4      0            373450   8.0500   NaN        S  "
      ]
     },
     "execution_count": 1,
     "metadata": {},
     "output_type": "execute_result"
    }
   ],
   "source": [
    "import pandas as pd\n",
    "import numpy as np\n",
    "import matplotlib.pyplot as plt\n",
    "import xgboost as xgb\n",
    "\n",
    "train = pd.read_csv(\"data/train_dataset_titanic.csv\")\n",
    "train.head()"
   ]
  },
  {
   "cell_type": "code",
   "execution_count": 2,
   "metadata": {},
   "outputs": [],
   "source": [
    "import numpy as np\n",
    "import time\n",
    "from sklearn import tree\n",
    "from sklearn.tree import DecisionTreeClassifier\n",
    "from sklearn.impute import SimpleImputer\n",
    "from sklearn.model_selection import train_test_split"
   ]
  },
  {
   "cell_type": "markdown",
   "metadata": {},
   "source": [
    "Codifichiamo il sesso come variabile binaria:"
   ]
  },
  {
   "cell_type": "code",
   "execution_count": 3,
   "metadata": {},
   "outputs": [
    {
     "data": {
      "text/html": [
       "<div>\n",
       "<style scoped>\n",
       "    .dataframe tbody tr th:only-of-type {\n",
       "        vertical-align: middle;\n",
       "    }\n",
       "\n",
       "    .dataframe tbody tr th {\n",
       "        vertical-align: top;\n",
       "    }\n",
       "\n",
       "    .dataframe thead th {\n",
       "        text-align: right;\n",
       "    }\n",
       "</style>\n",
       "<table border=\"1\" class=\"dataframe\">\n",
       "  <thead>\n",
       "    <tr style=\"text-align: right;\">\n",
       "      <th></th>\n",
       "      <th>PassengerId</th>\n",
       "      <th>Survived</th>\n",
       "      <th>Pclass</th>\n",
       "      <th>Name</th>\n",
       "      <th>Sex</th>\n",
       "      <th>Age</th>\n",
       "      <th>SibSp</th>\n",
       "      <th>Parch</th>\n",
       "      <th>Ticket</th>\n",
       "      <th>Fare</th>\n",
       "      <th>Cabin</th>\n",
       "      <th>Embarked</th>\n",
       "    </tr>\n",
       "  </thead>\n",
       "  <tbody>\n",
       "    <tr>\n",
       "      <th>0</th>\n",
       "      <td>1</td>\n",
       "      <td>0</td>\n",
       "      <td>3</td>\n",
       "      <td>Braund, Mr. Owen Harris</td>\n",
       "      <td>0</td>\n",
       "      <td>22.0</td>\n",
       "      <td>1</td>\n",
       "      <td>0</td>\n",
       "      <td>A/5 21171</td>\n",
       "      <td>7.2500</td>\n",
       "      <td>NaN</td>\n",
       "      <td>2.0</td>\n",
       "    </tr>\n",
       "    <tr>\n",
       "      <th>1</th>\n",
       "      <td>2</td>\n",
       "      <td>1</td>\n",
       "      <td>1</td>\n",
       "      <td>Cumings, Mrs. John Bradley (Florence Briggs Th...</td>\n",
       "      <td>1</td>\n",
       "      <td>38.0</td>\n",
       "      <td>1</td>\n",
       "      <td>0</td>\n",
       "      <td>PC 17599</td>\n",
       "      <td>71.2833</td>\n",
       "      <td>C85</td>\n",
       "      <td>0.0</td>\n",
       "    </tr>\n",
       "    <tr>\n",
       "      <th>2</th>\n",
       "      <td>3</td>\n",
       "      <td>1</td>\n",
       "      <td>3</td>\n",
       "      <td>Heikkinen, Miss. Laina</td>\n",
       "      <td>1</td>\n",
       "      <td>26.0</td>\n",
       "      <td>0</td>\n",
       "      <td>0</td>\n",
       "      <td>STON/O2. 3101282</td>\n",
       "      <td>7.9250</td>\n",
       "      <td>NaN</td>\n",
       "      <td>2.0</td>\n",
       "    </tr>\n",
       "    <tr>\n",
       "      <th>3</th>\n",
       "      <td>4</td>\n",
       "      <td>1</td>\n",
       "      <td>1</td>\n",
       "      <td>Futrelle, Mrs. Jacques Heath (Lily May Peel)</td>\n",
       "      <td>1</td>\n",
       "      <td>35.0</td>\n",
       "      <td>1</td>\n",
       "      <td>0</td>\n",
       "      <td>113803</td>\n",
       "      <td>53.1000</td>\n",
       "      <td>C123</td>\n",
       "      <td>2.0</td>\n",
       "    </tr>\n",
       "    <tr>\n",
       "      <th>4</th>\n",
       "      <td>5</td>\n",
       "      <td>0</td>\n",
       "      <td>3</td>\n",
       "      <td>Allen, Mr. William Henry</td>\n",
       "      <td>0</td>\n",
       "      <td>35.0</td>\n",
       "      <td>0</td>\n",
       "      <td>0</td>\n",
       "      <td>373450</td>\n",
       "      <td>8.0500</td>\n",
       "      <td>NaN</td>\n",
       "      <td>2.0</td>\n",
       "    </tr>\n",
       "  </tbody>\n",
       "</table>\n",
       "</div>"
      ],
      "text/plain": [
       "   PassengerId  Survived  Pclass  \\\n",
       "0            1         0       3   \n",
       "1            2         1       1   \n",
       "2            3         1       3   \n",
       "3            4         1       1   \n",
       "4            5         0       3   \n",
       "\n",
       "                                                Name  Sex   Age  SibSp  Parch  \\\n",
       "0                            Braund, Mr. Owen Harris    0  22.0      1      0   \n",
       "1  Cumings, Mrs. John Bradley (Florence Briggs Th...    1  38.0      1      0   \n",
       "2                             Heikkinen, Miss. Laina    1  26.0      0      0   \n",
       "3       Futrelle, Mrs. Jacques Heath (Lily May Peel)    1  35.0      1      0   \n",
       "4                           Allen, Mr. William Henry    0  35.0      0      0   \n",
       "\n",
       "             Ticket     Fare Cabin  Embarked  \n",
       "0         A/5 21171   7.2500   NaN       2.0  \n",
       "1          PC 17599  71.2833   C85       0.0  \n",
       "2  STON/O2. 3101282   7.9250   NaN       2.0  \n",
       "3            113803  53.1000  C123       2.0  \n",
       "4            373450   8.0500   NaN       2.0  "
      ]
     },
     "execution_count": 3,
     "metadata": {},
     "output_type": "execute_result"
    }
   ],
   "source": [
    "train.Sex = train.Sex.map({'female': 1, 'male': 0})\n",
    "train.Embarked = train.Embarked.map({'C': 0, 'Q': 1, 'S': 2})\n",
    "train.head(5)"
   ]
  },
  {
   "cell_type": "code",
   "execution_count": 4,
   "metadata": {},
   "outputs": [
    {
     "name": "stdout",
     "output_type": "stream",
     "text": [
      "Column Pclass has 0 N/A.\n",
      "Column Sex has 0 N/A.\n",
      "Column Age has 177 N/A.\n",
      "Column SibSp has 0 N/A.\n",
      "Column Parch has 0 N/A.\n",
      "Column Fare has 0 N/A.\n",
      "Column Embarked has 2 N/A.\n"
     ]
    }
   ],
   "source": [
    "feature_names = pd.Index(['Pclass', 'Sex', 'Age', 'SibSp', 'Parch', 'Fare', 'Embarked'])\n",
    "\n",
    "for col in feature_names:\n",
    "    c = train[col].isna().sum()\n",
    "    print(\"Column %s has %d N/A.\" % (col, c))"
   ]
  },
  {
   "cell_type": "markdown",
   "metadata": {},
   "source": [
    "Utilizziamo la classe [SimpleImputer](https://scikit-learn.org/stable/modules/generated/sklearn.impute.SimpleImputer.html) di sklearn per modificare i dati non esistenti:"
   ]
  },
  {
   "cell_type": "code",
   "execution_count": 6,
   "metadata": {},
   "outputs": [
    {
     "ename": "ValueError",
     "evalue": "Expected 2D array, got 1D array instead:\narray=[3. 1. 3. 1. 3. 3. 1. 3. 3. 2. 3. 1. 3. 3. 3. 2. 3. 2. 3. 3. 2. 2. 3. 1.\n 3. 3. 3. 1. 3. 3. 1. 1. 3. 2. 1. 1. 3. 3. 3. 3. 3. 2. 3. 2. 3. 3. 3. 3.\n 3. 3. 3. 3. 1. 2. 1. 1. 2. 3. 2. 3. 3. 1. 1. 3. 1. 3. 2. 3. 3. 3. 2. 3.\n 2. 3. 3. 3. 3. 3. 2. 3. 3. 3. 3. 1. 2. 3. 3. 3. 1. 3. 3. 3. 1. 3. 3. 3.\n 1. 1. 2. 2. 3. 3. 1. 3. 3. 3. 3. 3. 3. 3. 1. 3. 3. 3. 3. 3. 3. 2. 1. 3.\n 2. 3. 2. 2. 1. 3. 3. 3. 3. 3. 3. 3. 3. 2. 2. 2. 1. 1. 3. 1. 3. 3. 3. 3.\n 2. 2. 3. 3. 2. 2. 2. 1. 3. 3. 3. 1. 3. 3. 3. 3. 3. 2. 3. 3. 3. 3. 1. 3.\n 1. 3. 1. 3. 3. 3. 1. 3. 3. 1. 2. 3. 3. 2. 3. 2. 3. 1. 3. 1. 3. 3. 2. 2.\n 3. 2. 1. 1. 3. 3. 3. 2. 3. 3. 3. 3. 3. 3. 3. 3. 3. 1. 3. 2. 3. 2. 3. 1.\n 3. 2. 1. 2. 3. 2. 3. 3. 1. 3. 2. 3. 2. 3. 1. 3. 2. 3. 2. 3. 2. 2. 2. 2.\n 3. 3. 2. 3. 3. 1. 3. 2. 1. 2. 3. 3. 1. 3. 3. 3. 1. 1. 1. 2. 3. 3. 1. 1.\n 3. 2. 3. 3. 1. 1. 1. 3. 2. 1. 3. 1. 3. 2. 3. 3. 3. 3. 3. 3. 1. 3. 3. 3.\n 2. 3. 1. 1. 2. 3. 3. 1. 3. 1. 1. 1. 3. 3. 3. 2. 3. 1. 1. 1. 2. 1. 1. 1.\n 2. 3. 2. 3. 2. 2. 1. 1. 3. 3. 2. 2. 3. 1. 3. 2. 3. 1. 3. 1. 1. 3. 1. 3.\n 1. 1. 3. 1. 2. 1. 2. 2. 2. 2. 2. 3. 3. 3. 3. 1. 3. 3. 3. 3. 1. 2. 3. 3.\n 3. 2. 3. 3. 3. 3. 1. 3. 3. 1. 1. 3. 3. 1. 3. 1. 3. 1. 3. 3. 1. 3. 3. 1.\n 3. 2. 3. 2. 3. 2. 1. 3. 3. 1. 3. 3. 3. 2. 2. 2. 3. 3. 3. 3. 3. 2. 3. 2.\n 3. 3. 3. 3. 1. 2. 3. 3. 2. 2. 2. 3. 3. 3. 3. 3. 3. 3. 2. 2. 3. 3. 1. 3.\n 2. 3. 1. 1. 3. 2. 1. 2. 2. 3. 3. 2. 3. 1. 2. 1. 3. 1. 2. 3. 1. 1. 3. 3.\n 1. 1. 2. 3. 1. 3. 1. 2. 3. 3. 2. 1. 3. 3. 3. 3. 2. 2. 3. 1. 2. 3. 3. 3.\n 3. 2. 3. 3. 1. 3. 1. 1. 3. 3. 3. 3. 1. 1. 3. 3. 1. 3. 1. 3. 3. 3. 3. 3.\n 1. 1. 2. 1. 3. 3. 3. 3. 1. 1. 3. 1. 2. 3. 2. 3. 1. 3. 3. 1. 3. 3. 2. 1.\n 3. 2. 2. 3. 3. 3. 3. 2. 1. 1. 3. 1. 1. 3. 3. 2. 1. 1. 2. 2. 3. 2. 1. 2.\n 3. 3. 3. 1. 1. 1. 1. 3. 3. 3. 2. 3. 3. 3. 3. 3. 3. 3. 2. 1. 1. 3. 3. 3.\n 2. 1. 3. 3. 2. 1. 2. 1. 3. 1. 2. 1. 3. 3. 3. 1. 3. 3. 2. 3. 2. 3. 3. 1.\n 2. 3. 1. 3. 1. 3. 3. 1. 2. 1. 3. 3. 3. 3. 3. 2. 3. 3. 2. 2. 3. 1. 3. 3.\n 3. 1. 2. 1. 3. 3. 1. 3. 1. 1. 3. 2. 3. 2. 3. 3. 3. 1. 3. 3. 3. 1. 3. 1.\n 3. 3. 3. 2. 3. 3. 3. 2. 3. 3. 2. 1. 1. 3. 1. 3. 3. 2. 2. 3. 3. 1. 2. 1.\n 2. 2. 2. 3. 3. 3. 3. 1. 3. 1. 3. 3. 2. 2. 3. 3. 3. 1. 1. 3. 3. 3. 1. 2.\n 3. 3. 1. 3. 1. 1. 3. 3. 3. 2. 2. 1. 1. 3. 1. 1. 1. 3. 2. 3. 1. 2. 3. 3.\n 2. 3. 2. 2. 1. 3. 2. 3. 2. 3. 1. 3. 2. 2. 2. 3. 3. 1. 3. 3. 1. 1. 1. 3.\n 3. 1. 3. 2. 1. 3. 2. 3. 3. 3. 2. 2. 3. 2. 3. 1. 3. 3. 3. 1. 3. 1. 1. 3.\n 3. 3. 3. 3. 2. 3. 2. 3. 3. 3. 3. 1. 3. 1. 1. 3. 3. 3. 3. 3. 3. 1. 3. 2.\n 3. 1. 3. 2. 1. 3. 3. 3. 2. 2. 1. 3. 3. 3. 1. 3. 2. 1. 3. 3. 2. 3. 3. 1.\n 3. 2. 3. 3. 1. 3. 1. 3. 3. 3. 3. 2. 3. 1. 3. 2. 3. 3. 3. 1. 3. 3. 3. 1.\n 3. 2. 1. 3. 3. 3. 3. 3. 2. 1. 3. 3. 3. 1. 2. 3. 1. 1. 3. 3. 3. 2. 1. 3.\n 2. 2. 2. 1. 3. 3. 3. 1. 1. 3. 2. 3. 3. 3. 3. 1. 2. 3. 3. 2. 3. 3. 2. 1.\n 3. 1. 3.].\nReshape your data either using array.reshape(-1, 1) if your data has a single feature or array.reshape(1, -1) if it contains a single sample.",
     "output_type": "error",
     "traceback": [
      "\u001b[0;31m---------------------------------------------------------------------------\u001b[0m",
      "\u001b[0;31mValueError\u001b[0m                                Traceback (most recent call last)",
      "\u001b[0;32m<ipython-input-6-476c5eb02cc7>\u001b[0m in \u001b[0;36m<module>\u001b[0;34m\u001b[0m\n\u001b[1;32m      1\u001b[0m \u001b[0mimp\u001b[0m \u001b[0;34m=\u001b[0m \u001b[0mSimpleImputer\u001b[0m\u001b[0;34m(\u001b[0m\u001b[0mstrategy\u001b[0m\u001b[0;34m=\u001b[0m\u001b[0;34m'mean'\u001b[0m\u001b[0;34m)\u001b[0m\u001b[0;34m\u001b[0m\u001b[0;34m\u001b[0m\u001b[0m\n\u001b[1;32m      2\u001b[0m \u001b[0;32mfor\u001b[0m \u001b[0mcol\u001b[0m \u001b[0;32min\u001b[0m \u001b[0mfeature_names\u001b[0m\u001b[0;34m:\u001b[0m\u001b[0;34m\u001b[0m\u001b[0;34m\u001b[0m\u001b[0m\n\u001b[0;32m----> 3\u001b[0;31m     \u001b[0mprint\u001b[0m\u001b[0;34m(\u001b[0m\u001b[0;34m\"%s\"\u001b[0m \u001b[0;34m%\u001b[0m\u001b[0mimp\u001b[0m\u001b[0;34m.\u001b[0m\u001b[0mfit_transform\u001b[0m\u001b[0;34m(\u001b[0m\u001b[0mtrain\u001b[0m\u001b[0;34m[\u001b[0m\u001b[0mcol\u001b[0m\u001b[0;34m]\u001b[0m\u001b[0;34m.\u001b[0m\u001b[0mvalues\u001b[0m\u001b[0;34m)\u001b[0m\u001b[0;34m)\u001b[0m\u001b[0;34m\u001b[0m\u001b[0;34m\u001b[0m\u001b[0m\n\u001b[0m\u001b[1;32m      4\u001b[0m \u001b[0;34m\u001b[0m\u001b[0m\n",
      "\u001b[0;32m/opt/anaconda3/lib/python3.7/site-packages/sklearn/base.py\u001b[0m in \u001b[0;36mfit_transform\u001b[0;34m(self, X, y, **fit_params)\u001b[0m\n\u001b[1;32m    569\u001b[0m         \u001b[0;32mif\u001b[0m \u001b[0my\u001b[0m \u001b[0;32mis\u001b[0m \u001b[0;32mNone\u001b[0m\u001b[0;34m:\u001b[0m\u001b[0;34m\u001b[0m\u001b[0;34m\u001b[0m\u001b[0m\n\u001b[1;32m    570\u001b[0m             \u001b[0;31m# fit method of arity 1 (unsupervised transformation)\u001b[0m\u001b[0;34m\u001b[0m\u001b[0;34m\u001b[0m\u001b[0;34m\u001b[0m\u001b[0m\n\u001b[0;32m--> 571\u001b[0;31m             \u001b[0;32mreturn\u001b[0m \u001b[0mself\u001b[0m\u001b[0;34m.\u001b[0m\u001b[0mfit\u001b[0m\u001b[0;34m(\u001b[0m\u001b[0mX\u001b[0m\u001b[0;34m,\u001b[0m \u001b[0;34m**\u001b[0m\u001b[0mfit_params\u001b[0m\u001b[0;34m)\u001b[0m\u001b[0;34m.\u001b[0m\u001b[0mtransform\u001b[0m\u001b[0;34m(\u001b[0m\u001b[0mX\u001b[0m\u001b[0;34m)\u001b[0m\u001b[0;34m\u001b[0m\u001b[0;34m\u001b[0m\u001b[0m\n\u001b[0m\u001b[1;32m    572\u001b[0m         \u001b[0;32melse\u001b[0m\u001b[0;34m:\u001b[0m\u001b[0;34m\u001b[0m\u001b[0;34m\u001b[0m\u001b[0m\n\u001b[1;32m    573\u001b[0m             \u001b[0;31m# fit method of arity 2 (supervised transformation)\u001b[0m\u001b[0;34m\u001b[0m\u001b[0;34m\u001b[0m\u001b[0;34m\u001b[0m\u001b[0m\n",
      "\u001b[0;32m/opt/anaconda3/lib/python3.7/site-packages/sklearn/impute/_base.py\u001b[0m in \u001b[0;36mfit\u001b[0;34m(self, X, y)\u001b[0m\n\u001b[1;32m    266\u001b[0m         \u001b[0mself\u001b[0m \u001b[0;34m:\u001b[0m \u001b[0mSimpleImputer\u001b[0m\u001b[0;34m\u001b[0m\u001b[0;34m\u001b[0m\u001b[0m\n\u001b[1;32m    267\u001b[0m         \"\"\"\n\u001b[0;32m--> 268\u001b[0;31m         \u001b[0mX\u001b[0m \u001b[0;34m=\u001b[0m \u001b[0mself\u001b[0m\u001b[0;34m.\u001b[0m\u001b[0m_validate_input\u001b[0m\u001b[0;34m(\u001b[0m\u001b[0mX\u001b[0m\u001b[0;34m)\u001b[0m\u001b[0;34m\u001b[0m\u001b[0;34m\u001b[0m\u001b[0m\n\u001b[0m\u001b[1;32m    269\u001b[0m         \u001b[0msuper\u001b[0m\u001b[0;34m(\u001b[0m\u001b[0;34m)\u001b[0m\u001b[0;34m.\u001b[0m\u001b[0m_fit_indicator\u001b[0m\u001b[0;34m(\u001b[0m\u001b[0mX\u001b[0m\u001b[0;34m)\u001b[0m\u001b[0;34m\u001b[0m\u001b[0;34m\u001b[0m\u001b[0m\n\u001b[1;32m    270\u001b[0m \u001b[0;34m\u001b[0m\u001b[0m\n",
      "\u001b[0;32m/opt/anaconda3/lib/python3.7/site-packages/sklearn/impute/_base.py\u001b[0m in \u001b[0;36m_validate_input\u001b[0;34m(self, X)\u001b[0m\n\u001b[1;32m    240\u001b[0m                 \u001b[0;32mraise\u001b[0m \u001b[0mnew_ve\u001b[0m \u001b[0;32mfrom\u001b[0m \u001b[0;32mNone\u001b[0m\u001b[0;34m\u001b[0m\u001b[0;34m\u001b[0m\u001b[0m\n\u001b[1;32m    241\u001b[0m             \u001b[0;32melse\u001b[0m\u001b[0;34m:\u001b[0m\u001b[0;34m\u001b[0m\u001b[0;34m\u001b[0m\u001b[0m\n\u001b[0;32m--> 242\u001b[0;31m                 \u001b[0;32mraise\u001b[0m \u001b[0mve\u001b[0m\u001b[0;34m\u001b[0m\u001b[0;34m\u001b[0m\u001b[0m\n\u001b[0m\u001b[1;32m    243\u001b[0m \u001b[0;34m\u001b[0m\u001b[0m\n\u001b[1;32m    244\u001b[0m         \u001b[0m_check_inputs_dtype\u001b[0m\u001b[0;34m(\u001b[0m\u001b[0mX\u001b[0m\u001b[0;34m,\u001b[0m \u001b[0mself\u001b[0m\u001b[0;34m.\u001b[0m\u001b[0mmissing_values\u001b[0m\u001b[0;34m)\u001b[0m\u001b[0;34m\u001b[0m\u001b[0;34m\u001b[0m\u001b[0m\n",
      "\u001b[0;32m/opt/anaconda3/lib/python3.7/site-packages/sklearn/impute/_base.py\u001b[0m in \u001b[0;36m_validate_input\u001b[0;34m(self, X)\u001b[0m\n\u001b[1;32m    233\u001b[0m         \u001b[0;32mtry\u001b[0m\u001b[0;34m:\u001b[0m\u001b[0;34m\u001b[0m\u001b[0;34m\u001b[0m\u001b[0m\n\u001b[1;32m    234\u001b[0m             X = check_array(X, accept_sparse='csc', dtype=dtype,\n\u001b[0;32m--> 235\u001b[0;31m                             force_all_finite=force_all_finite, copy=self.copy)\n\u001b[0m\u001b[1;32m    236\u001b[0m         \u001b[0;32mexcept\u001b[0m \u001b[0mValueError\u001b[0m \u001b[0;32mas\u001b[0m \u001b[0mve\u001b[0m\u001b[0;34m:\u001b[0m\u001b[0;34m\u001b[0m\u001b[0;34m\u001b[0m\u001b[0m\n\u001b[1;32m    237\u001b[0m             \u001b[0;32mif\u001b[0m \u001b[0;34m\"could not convert\"\u001b[0m \u001b[0;32min\u001b[0m \u001b[0mstr\u001b[0m\u001b[0;34m(\u001b[0m\u001b[0mve\u001b[0m\u001b[0;34m)\u001b[0m\u001b[0;34m:\u001b[0m\u001b[0;34m\u001b[0m\u001b[0;34m\u001b[0m\u001b[0m\n",
      "\u001b[0;32m/opt/anaconda3/lib/python3.7/site-packages/sklearn/utils/validation.py\u001b[0m in \u001b[0;36mcheck_array\u001b[0;34m(array, accept_sparse, accept_large_sparse, dtype, order, copy, force_all_finite, ensure_2d, allow_nd, ensure_min_samples, ensure_min_features, warn_on_dtype, estimator)\u001b[0m\n\u001b[1;32m    554\u001b[0m                     \u001b[0;34m\"Reshape your data either using array.reshape(-1, 1) if \"\u001b[0m\u001b[0;34m\u001b[0m\u001b[0;34m\u001b[0m\u001b[0m\n\u001b[1;32m    555\u001b[0m                     \u001b[0;34m\"your data has a single feature or array.reshape(1, -1) \"\u001b[0m\u001b[0;34m\u001b[0m\u001b[0;34m\u001b[0m\u001b[0m\n\u001b[0;32m--> 556\u001b[0;31m                     \"if it contains a single sample.\".format(array))\n\u001b[0m\u001b[1;32m    557\u001b[0m \u001b[0;34m\u001b[0m\u001b[0m\n\u001b[1;32m    558\u001b[0m         \u001b[0;31m# in the future np.flexible dtypes will be handled like object dtypes\u001b[0m\u001b[0;34m\u001b[0m\u001b[0;34m\u001b[0m\u001b[0;34m\u001b[0m\u001b[0m\n",
      "\u001b[0;31mValueError\u001b[0m: Expected 2D array, got 1D array instead:\narray=[3. 1. 3. 1. 3. 3. 1. 3. 3. 2. 3. 1. 3. 3. 3. 2. 3. 2. 3. 3. 2. 2. 3. 1.\n 3. 3. 3. 1. 3. 3. 1. 1. 3. 2. 1. 1. 3. 3. 3. 3. 3. 2. 3. 2. 3. 3. 3. 3.\n 3. 3. 3. 3. 1. 2. 1. 1. 2. 3. 2. 3. 3. 1. 1. 3. 1. 3. 2. 3. 3. 3. 2. 3.\n 2. 3. 3. 3. 3. 3. 2. 3. 3. 3. 3. 1. 2. 3. 3. 3. 1. 3. 3. 3. 1. 3. 3. 3.\n 1. 1. 2. 2. 3. 3. 1. 3. 3. 3. 3. 3. 3. 3. 1. 3. 3. 3. 3. 3. 3. 2. 1. 3.\n 2. 3. 2. 2. 1. 3. 3. 3. 3. 3. 3. 3. 3. 2. 2. 2. 1. 1. 3. 1. 3. 3. 3. 3.\n 2. 2. 3. 3. 2. 2. 2. 1. 3. 3. 3. 1. 3. 3. 3. 3. 3. 2. 3. 3. 3. 3. 1. 3.\n 1. 3. 1. 3. 3. 3. 1. 3. 3. 1. 2. 3. 3. 2. 3. 2. 3. 1. 3. 1. 3. 3. 2. 2.\n 3. 2. 1. 1. 3. 3. 3. 2. 3. 3. 3. 3. 3. 3. 3. 3. 3. 1. 3. 2. 3. 2. 3. 1.\n 3. 2. 1. 2. 3. 2. 3. 3. 1. 3. 2. 3. 2. 3. 1. 3. 2. 3. 2. 3. 2. 2. 2. 2.\n 3. 3. 2. 3. 3. 1. 3. 2. 1. 2. 3. 3. 1. 3. 3. 3. 1. 1. 1. 2. 3. 3. 1. 1.\n 3. 2. 3. 3. 1. 1. 1. 3. 2. 1. 3. 1. 3. 2. 3. 3. 3. 3. 3. 3. 1. 3. 3. 3.\n 2. 3. 1. 1. 2. 3. 3. 1. 3. 1. 1. 1. 3. 3. 3. 2. 3. 1. 1. 1. 2. 1. 1. 1.\n 2. 3. 2. 3. 2. 2. 1. 1. 3. 3. 2. 2. 3. 1. 3. 2. 3. 1. 3. 1. 1. 3. 1. 3.\n 1. 1. 3. 1. 2. 1. 2. 2. 2. 2. 2. 3. 3. 3. 3. 1. 3. 3. 3. 3. 1. 2. 3. 3.\n 3. 2. 3. 3. 3. 3. 1. 3. 3. 1. 1. 3. 3. 1. 3. 1. 3. 1. 3. 3. 1. 3. 3. 1.\n 3. 2. 3. 2. 3. 2. 1. 3. 3. 1. 3. 3. 3. 2. 2. 2. 3. 3. 3. 3. 3. 2. 3. 2.\n 3. 3. 3. 3. 1. 2. 3. 3. 2. 2. 2. 3. 3. 3. 3. 3. 3. 3. 2. 2. 3. 3. 1. 3.\n 2. 3. 1. 1. 3. 2. 1. 2. 2. 3. 3. 2. 3. 1. 2. 1. 3. 1. 2. 3. 1. 1. 3. 3.\n 1. 1. 2. 3. 1. 3. 1. 2. 3. 3. 2. 1. 3. 3. 3. 3. 2. 2. 3. 1. 2. 3. 3. 3.\n 3. 2. 3. 3. 1. 3. 1. 1. 3. 3. 3. 3. 1. 1. 3. 3. 1. 3. 1. 3. 3. 3. 3. 3.\n 1. 1. 2. 1. 3. 3. 3. 3. 1. 1. 3. 1. 2. 3. 2. 3. 1. 3. 3. 1. 3. 3. 2. 1.\n 3. 2. 2. 3. 3. 3. 3. 2. 1. 1. 3. 1. 1. 3. 3. 2. 1. 1. 2. 2. 3. 2. 1. 2.\n 3. 3. 3. 1. 1. 1. 1. 3. 3. 3. 2. 3. 3. 3. 3. 3. 3. 3. 2. 1. 1. 3. 3. 3.\n 2. 1. 3. 3. 2. 1. 2. 1. 3. 1. 2. 1. 3. 3. 3. 1. 3. 3. 2. 3. 2. 3. 3. 1.\n 2. 3. 1. 3. 1. 3. 3. 1. 2. 1. 3. 3. 3. 3. 3. 2. 3. 3. 2. 2. 3. 1. 3. 3.\n 3. 1. 2. 1. 3. 3. 1. 3. 1. 1. 3. 2. 3. 2. 3. 3. 3. 1. 3. 3. 3. 1. 3. 1.\n 3. 3. 3. 2. 3. 3. 3. 2. 3. 3. 2. 1. 1. 3. 1. 3. 3. 2. 2. 3. 3. 1. 2. 1.\n 2. 2. 2. 3. 3. 3. 3. 1. 3. 1. 3. 3. 2. 2. 3. 3. 3. 1. 1. 3. 3. 3. 1. 2.\n 3. 3. 1. 3. 1. 1. 3. 3. 3. 2. 2. 1. 1. 3. 1. 1. 1. 3. 2. 3. 1. 2. 3. 3.\n 2. 3. 2. 2. 1. 3. 2. 3. 2. 3. 1. 3. 2. 2. 2. 3. 3. 1. 3. 3. 1. 1. 1. 3.\n 3. 1. 3. 2. 1. 3. 2. 3. 3. 3. 2. 2. 3. 2. 3. 1. 3. 3. 3. 1. 3. 1. 1. 3.\n 3. 3. 3. 3. 2. 3. 2. 3. 3. 3. 3. 1. 3. 1. 1. 3. 3. 3. 3. 3. 3. 1. 3. 2.\n 3. 1. 3. 2. 1. 3. 3. 3. 2. 2. 1. 3. 3. 3. 1. 3. 2. 1. 3. 3. 2. 3. 3. 1.\n 3. 2. 3. 3. 1. 3. 1. 3. 3. 3. 3. 2. 3. 1. 3. 2. 3. 3. 3. 1. 3. 3. 3. 1.\n 3. 2. 1. 3. 3. 3. 3. 3. 2. 1. 3. 3. 3. 1. 2. 3. 1. 1. 3. 3. 3. 2. 1. 3.\n 2. 2. 2. 1. 3. 3. 3. 1. 1. 3. 2. 3. 3. 3. 3. 1. 2. 3. 3. 2. 3. 3. 2. 1.\n 3. 1. 3.].\nReshape your data either using array.reshape(-1, 1) if your data has a single feature or array.reshape(1, -1) if it contains a single sample."
     ]
    }
   ],
   "source": [
    "imp = SimpleImputer(strategy='mean')\n",
    "for col in feature_names:\n",
    "    print(\"%s\" %imp.fit_transform(train[col].values))\n",
    "    "
   ]
  },
  {
   "cell_type": "code",
   "execution_count": 27,
   "metadata": {},
   "outputs": [
    {
     "name": "stdout",
     "output_type": "stream",
     "text": [
      "Column Pclass has 0 N/A.\n",
      "Column Sex has 0 N/A.\n",
      "Column Age has 0 N/A.\n",
      "Column SibSp has 0 N/A.\n",
      "Column Parch has 0 N/A.\n",
      "Column Fare has 0 N/A.\n",
      "Column Embarked has 0 N/A.\n"
     ]
    }
   ],
   "source": [
    "imp = SimpleImputer(strategy='mean')\n",
    "\n",
    "for col in feature_names:\n",
    "    train[col] = imp.fit_transform(train[col].values.reshape(-1, 1))\n",
    "    \n",
    "for col in feature_names:\n",
    "    c = train[col].isna().sum()\n",
    "    print(\"Column %s has %d N/A.\" % (col, c))"
   ]
  },
  {
   "cell_type": "markdown",
   "metadata": {},
   "source": [
    "Dividiamo i dati tra training e test:"
   ]
  },
  {
   "cell_type": "code",
   "execution_count": 28,
   "metadata": {},
   "outputs": [],
   "source": [
    "train['Survived'] = train.Survived.astype('category')\n",
    "\n",
    "X = train[feature_names]\n",
    "X = pd.get_dummies(X, columns=X.columns)\n",
    "y = train.Survived\n",
    "\n",
    "X_train, X_test, y_train, y_test = train_test_split(X, y, test_size=0.33)"
   ]
  },
  {
   "cell_type": "markdown",
   "metadata": {},
   "source": [
    "### Facciamo la classificazione con il decision tree:"
   ]
  },
  {
   "cell_type": "code",
   "execution_count": 29,
   "metadata": {},
   "outputs": [],
   "source": [
    "clf = DecisionTreeClassifier(max_depth=3)\n",
    "clf.fit(X_train, y_train)\n",
    "\n",
    "tree.export_graphviz(clf,\n",
    "                     out_file='out/titanic_file.dot',\n",
    "                     impurity=False,\n",
    "                     feature_names=X_test.columns.values,\n",
    "                     class_names=['No', 'Yes'],\n",
    "                     rounded=True,\n",
    "                     filled=True)"
   ]
  },
  {
   "cell_type": "markdown",
   "metadata": {},
   "source": [
    "Ecco l'albero disegnato con [WebGraphViz](http://webgraphviz.com/):"
   ]
  },
  {
   "cell_type": "markdown",
   "metadata": {},
   "source": [
    "<img src=\"img/titanic_tree.png?id=3\">"
   ]
  },
  {
   "cell_type": "markdown",
   "metadata": {},
   "source": [
    "Proviamo ora a usare XGBoost per predire all'imbarco la probabilità di morte al momento dell'incidente.\n",
    "\n",
    "Il dataset è così descritto:\n",
    "- survival - Survival (0 = No; 1 = Yes)\n",
    "- class - Passenger Class (1 = 1st; 2 = 2nd; 3 = 3rd)\n",
    "- name - Name\n",
    "- sex - Sex\n",
    "- age - Age\n",
    "- sibsp - Number of Siblings/Spouses Aboard\n",
    "- parch - Number of Parents/Children Aboard\n",
    "- ticket - Ticket Number\n",
    "- fare - Passenger Fare\n",
    "- cabin - Cabin\n",
    "- embarked - Port of Embarkation (C = Cherbourg; Q = Queenstown; S = Southampton)\n",
    "\n",
    "Possiamo quindi cercare di prevedere 'survival' partendo da 'Pclass', 'Sex', 'Age', 'SibSp', 'Parch', 'Fare', 'Embarked'.\n",
    "\n",
    "Tutte le label sono già numeriche tranne Sex e Embarked, che trasformiamo."
   ]
  },
  {
   "cell_type": "code",
   "execution_count": 30,
   "metadata": {},
   "outputs": [],
   "source": [
    "xgbtrain = xgb.DMatrix(data=train[feature_names],\n",
    "                       label=train.Survived.cat.codes,\n",
    "                       feature_names=feature_names)\n",
    "\n",
    "param = {}\n",
    "\n",
    "# Booster parameters\n",
    "param['eta']              = 0.1 # learning rate\n",
    "param['max_depth']        = 10  # maximum depth of a tree\n",
    "param['subsample']        = 0.8 # fraction of events to train tree on\n",
    "param['colsample_bytree'] = 0.8 # fraction of features to train tree on\n",
    "\n",
    "# Learning task parameters\n",
    "param['objective']   = 'binary:logistic' # objective function\n",
    "param['eval_metric'] = 'error'           # evaluation metric for cross validation\n",
    "param = list(param.items()) + [('eval_metric', 'logloss')] + [('eval_metric', 'rmse')]\n",
    "\n",
    "num_trees = 100  # number of trees to make\n",
    "\n",
    "booster = xgb.train(param, xgbtrain, num_boost_round=num_trees)\n",
    "predictions = booster.predict(xgbtrain)"
   ]
  },
  {
   "cell_type": "code",
   "execution_count": 31,
   "metadata": {},
   "outputs": [
    {
     "data": {
      "image/png": "[encoded data removed]",
      "text/plain": [
       "<Figure size 432x288 with 1 Axes>"
      ]
     },
     "metadata": {
      "needs_background": "light"
     },
     "output_type": "display_data"
    }
   ],
   "source": [
    "xgb.plot_importance(booster, grid=False)\n",
    "plt.show()"
   ]
  },
  {
   "cell_type": "code",
   "execution_count": 32,
   "metadata": {},
   "outputs": [
    {
     "data": {
      "text/html": [
       "<div>\n",
       "<style scoped>\n",
       "    .dataframe tbody tr th:only-of-type {\n",
       "        vertical-align: middle;\n",
       "    }\n",
       "\n",
       "    .dataframe tbody tr th {\n",
       "        vertical-align: top;\n",
       "    }\n",
       "\n",
       "    .dataframe thead th {\n",
       "        text-align: right;\n",
       "    }\n",
       "</style>\n",
       "<table border=\"1\" class=\"dataframe\">\n",
       "  <thead>\n",
       "    <tr style=\"text-align: right;\">\n",
       "      <th></th>\n",
       "      <th>prediction</th>\n",
       "      <th>Survived</th>\n",
       "    </tr>\n",
       "  </thead>\n",
       "  <tbody>\n",
       "    <tr>\n",
       "      <th>0</th>\n",
       "      <td>0</td>\n",
       "      <td>0</td>\n",
       "    </tr>\n",
       "    <tr>\n",
       "      <th>1</th>\n",
       "      <td>1</td>\n",
       "      <td>1</td>\n",
       "    </tr>\n",
       "    <tr>\n",
       "      <th>2</th>\n",
       "      <td>1</td>\n",
       "      <td>1</td>\n",
       "    </tr>\n",
       "    <tr>\n",
       "      <th>3</th>\n",
       "      <td>1</td>\n",
       "      <td>1</td>\n",
       "    </tr>\n",
       "    <tr>\n",
       "      <th>4</th>\n",
       "      <td>0</td>\n",
       "      <td>0</td>\n",
       "    </tr>\n",
       "    <tr>\n",
       "      <th>...</th>\n",
       "      <td>...</td>\n",
       "      <td>...</td>\n",
       "    </tr>\n",
       "    <tr>\n",
       "      <th>886</th>\n",
       "      <td>0</td>\n",
       "      <td>0</td>\n",
       "    </tr>\n",
       "    <tr>\n",
       "      <th>887</th>\n",
       "      <td>1</td>\n",
       "      <td>1</td>\n",
       "    </tr>\n",
       "    <tr>\n",
       "      <th>888</th>\n",
       "      <td>0</td>\n",
       "      <td>0</td>\n",
       "    </tr>\n",
       "    <tr>\n",
       "      <th>889</th>\n",
       "      <td>1</td>\n",
       "      <td>1</td>\n",
       "    </tr>\n",
       "    <tr>\n",
       "      <th>890</th>\n",
       "      <td>0</td>\n",
       "      <td>0</td>\n",
       "    </tr>\n",
       "  </tbody>\n",
       "</table>\n",
       "<p>891 rows × 2 columns</p>\n",
       "</div>"
      ],
      "text/plain": [
       "     prediction Survived\n",
       "0             0        0\n",
       "1             1        1\n",
       "2             1        1\n",
       "3             1        1\n",
       "4             0        0\n",
       "..          ...      ...\n",
       "886           0        0\n",
       "887           1        1\n",
       "888           0        0\n",
       "889           1        1\n",
       "890           0        0\n",
       "\n",
       "[891 rows x 2 columns]"
      ]
     },
     "execution_count": 32,
     "metadata": {},
     "output_type": "execute_result"
    }
   ],
   "source": [
    "d = train.copy()\n",
    "\n",
    "d['prediction'] = np.around(booster.predict(xgbtrain)).astype('int64')\n",
    "d[['prediction', 'Survived']]"
   ]
  },
  {
   "cell_type": "code",
   "execution_count": 33,
   "metadata": {},
   "outputs": [
    {
     "name": "stdout",
     "output_type": "stream",
     "text": [
      "We had 891 elements in our recordset.\n",
      "We classified correctly 844 events.\n",
      "We classified wrongly 47 events.\n",
      "We had 12 false positive and 35 false negative.\n",
      "\n",
      "Our precision has been 0.96.\n",
      "Our recall has been 0.90.\n"
     ]
    }
   ],
   "source": [
    "right = d.loc[d['prediction'] == d['Survived']]\n",
    "wrong = d.loc[d['prediction'] != d['Survived']]\n",
    "\n",
    "true_positive = right.loc[right['prediction'] == 1]\n",
    "false_positive = wrong.loc[wrong['prediction'] == 1]\n",
    "false_negative = wrong.loc[wrong['prediction'] == 0]\n",
    "\n",
    "print(\"We had %d elements in our recordset.\" % len(d))\n",
    "print(\"We classified correctly %d events.\" % len(right))\n",
    "print(\"We classified wrongly %d events.\" % len(wrong))\n",
    "print(\"We had %d false positive and %d false negative.\" % (len(false_positive), len(false_negative)))\n",
    "\n",
    "print(\"\")\n",
    "\n",
    "print(\"Our precision has been %1.2f.\" % (len(true_positive)/(len(true_positive) + len(false_positive))))\n",
    "print(\"Our recall has been %1.2f.\" % (len(true_positive)/(len(true_positive) + len(false_negative))))"
   ]
  },
  {
   "cell_type": "markdown",
   "metadata": {},
   "source": [
    "<a id='section2'></a>\n",
    "## Predire il diabete"
   ]
  },
  {
   "cell_type": "markdown",
   "metadata": {},
   "source": [
    "Utilizziamo il dataset `pima-indians-diabetes.data.csv` per provare a predire l'insorgenza di diabete nei pazienti in esso decritti."
   ]
  },
  {
   "cell_type": "code",
   "execution_count": 43,
   "metadata": {},
   "outputs": [
    {
     "data": {
      "text/html": [
       "<div>\n",
       "<style scoped>\n",
       "    .dataframe tbody tr th:only-of-type {\n",
       "        vertical-align: middle;\n",
       "    }\n",
       "\n",
       "    .dataframe tbody tr th {\n",
       "        vertical-align: top;\n",
       "    }\n",
       "\n",
       "    .dataframe thead th {\n",
       "        text-align: right;\n",
       "    }\n",
       "</style>\n",
       "<table border=\"1\" class=\"dataframe\">\n",
       "  <thead>\n",
       "    <tr style=\"text-align: right;\">\n",
       "      <th></th>\n",
       "      <th>Pregnancies</th>\n",
       "      <th>Glucose</th>\n",
       "      <th>BloodPressure</th>\n",
       "      <th>SkinThickness</th>\n",
       "      <th>Insulin</th>\n",
       "      <th>BMI</th>\n",
       "      <th>DiabetePedigreeFunction</th>\n",
       "      <th>Age</th>\n",
       "      <th>Class</th>\n",
       "    </tr>\n",
       "  </thead>\n",
       "  <tbody>\n",
       "    <tr>\n",
       "      <th>0</th>\n",
       "      <td>6</td>\n",
       "      <td>148</td>\n",
       "      <td>72</td>\n",
       "      <td>35</td>\n",
       "      <td>0</td>\n",
       "      <td>33.6</td>\n",
       "      <td>0.627</td>\n",
       "      <td>50</td>\n",
       "      <td>1</td>\n",
       "    </tr>\n",
       "    <tr>\n",
       "      <th>1</th>\n",
       "      <td>1</td>\n",
       "      <td>85</td>\n",
       "      <td>66</td>\n",
       "      <td>29</td>\n",
       "      <td>0</td>\n",
       "      <td>26.6</td>\n",
       "      <td>0.351</td>\n",
       "      <td>31</td>\n",
       "      <td>0</td>\n",
       "    </tr>\n",
       "    <tr>\n",
       "      <th>2</th>\n",
       "      <td>8</td>\n",
       "      <td>183</td>\n",
       "      <td>64</td>\n",
       "      <td>0</td>\n",
       "      <td>0</td>\n",
       "      <td>23.3</td>\n",
       "      <td>0.672</td>\n",
       "      <td>32</td>\n",
       "      <td>1</td>\n",
       "    </tr>\n",
       "    <tr>\n",
       "      <th>3</th>\n",
       "      <td>1</td>\n",
       "      <td>89</td>\n",
       "      <td>66</td>\n",
       "      <td>23</td>\n",
       "      <td>94</td>\n",
       "      <td>28.1</td>\n",
       "      <td>0.167</td>\n",
       "      <td>21</td>\n",
       "      <td>0</td>\n",
       "    </tr>\n",
       "    <tr>\n",
       "      <th>4</th>\n",
       "      <td>0</td>\n",
       "      <td>137</td>\n",
       "      <td>40</td>\n",
       "      <td>35</td>\n",
       "      <td>168</td>\n",
       "      <td>43.1</td>\n",
       "      <td>2.288</td>\n",
       "      <td>33</td>\n",
       "      <td>1</td>\n",
       "    </tr>\n",
       "    <tr>\n",
       "      <th>...</th>\n",
       "      <td>...</td>\n",
       "      <td>...</td>\n",
       "      <td>...</td>\n",
       "      <td>...</td>\n",
       "      <td>...</td>\n",
       "      <td>...</td>\n",
       "      <td>...</td>\n",
       "      <td>...</td>\n",
       "      <td>...</td>\n",
       "    </tr>\n",
       "    <tr>\n",
       "      <th>763</th>\n",
       "      <td>10</td>\n",
       "      <td>101</td>\n",
       "      <td>76</td>\n",
       "      <td>48</td>\n",
       "      <td>180</td>\n",
       "      <td>32.9</td>\n",
       "      <td>0.171</td>\n",
       "      <td>63</td>\n",
       "      <td>0</td>\n",
       "    </tr>\n",
       "    <tr>\n",
       "      <th>764</th>\n",
       "      <td>2</td>\n",
       "      <td>122</td>\n",
       "      <td>70</td>\n",
       "      <td>27</td>\n",
       "      <td>0</td>\n",
       "      <td>36.8</td>\n",
       "      <td>0.340</td>\n",
       "      <td>27</td>\n",
       "      <td>0</td>\n",
       "    </tr>\n",
       "    <tr>\n",
       "      <th>765</th>\n",
       "      <td>5</td>\n",
       "      <td>121</td>\n",
       "      <td>72</td>\n",
       "      <td>23</td>\n",
       "      <td>112</td>\n",
       "      <td>26.2</td>\n",
       "      <td>0.245</td>\n",
       "      <td>30</td>\n",
       "      <td>0</td>\n",
       "    </tr>\n",
       "    <tr>\n",
       "      <th>766</th>\n",
       "      <td>1</td>\n",
       "      <td>126</td>\n",
       "      <td>60</td>\n",
       "      <td>0</td>\n",
       "      <td>0</td>\n",
       "      <td>30.1</td>\n",
       "      <td>0.349</td>\n",
       "      <td>47</td>\n",
       "      <td>1</td>\n",
       "    </tr>\n",
       "    <tr>\n",
       "      <th>767</th>\n",
       "      <td>1</td>\n",
       "      <td>93</td>\n",
       "      <td>70</td>\n",
       "      <td>31</td>\n",
       "      <td>0</td>\n",
       "      <td>30.4</td>\n",
       "      <td>0.315</td>\n",
       "      <td>23</td>\n",
       "      <td>0</td>\n",
       "    </tr>\n",
       "  </tbody>\n",
       "</table>\n",
       "<p>768 rows × 9 columns</p>\n",
       "</div>"
      ],
      "text/plain": [
       "     Pregnancies  Glucose  BloodPressure  SkinThickness  Insulin   BMI  \\\n",
       "0              6      148             72             35        0  33.6   \n",
       "1              1       85             66             29        0  26.6   \n",
       "2              8      183             64              0        0  23.3   \n",
       "3              1       89             66             23       94  28.1   \n",
       "4              0      137             40             35      168  43.1   \n",
       "..           ...      ...            ...            ...      ...   ...   \n",
       "763           10      101             76             48      180  32.9   \n",
       "764            2      122             70             27        0  36.8   \n",
       "765            5      121             72             23      112  26.2   \n",
       "766            1      126             60              0        0  30.1   \n",
       "767            1       93             70             31        0  30.4   \n",
       "\n",
       "     DiabetePedigreeFunction  Age  Class  \n",
       "0                      0.627   50      1  \n",
       "1                      0.351   31      0  \n",
       "2                      0.672   32      1  \n",
       "3                      0.167   21      0  \n",
       "4                      2.288   33      1  \n",
       "..                       ...  ...    ...  \n",
       "763                    0.171   63      0  \n",
       "764                    0.340   27      0  \n",
       "765                    0.245   30      0  \n",
       "766                    0.349   47      1  \n",
       "767                    0.315   23      0  \n",
       "\n",
       "[768 rows x 9 columns]"
      ]
     },
     "execution_count": 43,
     "metadata": {},
     "output_type": "execute_result"
    }
   ],
   "source": [
    "import pandas as pd\n",
    "from xgboost import XGBClassifier\n",
    "from sklearn.model_selection import train_test_split\n",
    "from sklearn.metrics import accuracy_score\n",
    "\n",
    "dataset = pd.read_csv('data/pima-indians-diabetes.csv')\n",
    "dataset"
   ]
  },
  {
   "cell_type": "markdown",
   "metadata": {},
   "source": [
    "Andiamo a rappresentare il decision tree per vedere come vengono prese in considerazioni le features:"
   ]
  },
  {
   "cell_type": "code",
   "execution_count": 46,
   "metadata": {},
   "outputs": [],
   "source": [
    "y = dataset[['Class']].copy()\n",
    "y['Class'] = y.Class.astype('category')\n",
    "\n",
    "X = dataset.drop(['Class'], axis=1)\n",
    "X = pd.get_dummies(X, columns=X.columns)"
   ]
  },
  {
   "cell_type": "code",
   "execution_count": 47,
   "metadata": {},
   "outputs": [
    {
     "name": "stdout",
     "output_type": "stream",
     "text": [
      "High-Dimensionality Score: 0.6320346320346321\n"
     ]
    }
   ],
   "source": [
    "X_train, X_test, y_train, y_test = train_test_split(X, y, test_size=0.3)\n",
    "\n",
    "dct = tree.DecisionTreeClassifier(max_depth=3)\n",
    "dct.fit(X_train, y_train)\n",
    "score = dct.score(X_test, y_test)\n",
    "print(\"High-Dimensionality Score:\", score)\n",
    "\n",
    "# With the following sintax we will create a .dot file with the code for visualizing th tree\n",
    "tree.export_graphviz(dct,\n",
    "                     out_file='out/diabetes-tree.dot',\n",
    "                     feature_names=X.columns,\n",
    "                     filled=True,\n",
    "                     leaves_parallel=True\n",
    "                    )"
   ]
  },
  {
   "cell_type": "markdown",
   "metadata": {},
   "source": [
    "<img src=\"img/diabetes.png\">"
   ]
  },
  {
   "cell_type": "markdown",
   "metadata": {},
   "source": [
    "Passiamo ora a usare il metodo dei boosted decision tree:"
   ]
  },
  {
   "cell_type": "code",
   "execution_count": 55,
   "metadata": {},
   "outputs": [],
   "source": [
    "feature_names = dataset.columns.tolist()\n",
    "feature_names.remove('Class')\n",
    "\n",
    "dataset['Class'] = dataset.Class.astype('category')\n",
    "\n",
    "train = xgb.DMatrix(data=dataset[feature_names],\n",
    "                    label=dataset.Class.cat.codes,\n",
    "                    feature_names=feature_names)"
   ]
  },
  {
   "cell_type": "code",
   "execution_count": 56,
   "metadata": {},
   "outputs": [],
   "source": [
    "param = {}\n",
    "\n",
    "# Booster parameters\n",
    "param['eta']              = 0.1 # learning rate\n",
    "param['max_depth']        = 10  # maximum depth of a tree\n",
    "param['subsample']        = 0.8 # fraction of events to train tree on\n",
    "param['colsample_bytree'] = 0.8 # fraction of features to train tree on\n",
    "\n",
    "# Learning task parameters\n",
    "param['objective']   = 'binary:logistic' # objective function\n",
    "param['eval_metric'] = 'error'           # evaluation metric for cross validation\n",
    "param = list(param.items()) + [('eval_metric', 'logloss')] + [('eval_metric', 'rmse')]\n",
    "\n",
    "num_trees = 100  # number of trees to make\n",
    "\n",
    "booster = xgb.train(param, train, num_boost_round=num_trees)\n",
    "predictions = booster.predict(train)"
   ]
  },
  {
   "cell_type": "code",
   "execution_count": 57,
   "metadata": {},
   "outputs": [
    {
     "data": {
      "image/png": "[encoded data removed]",
      "text/plain": [
       "<Figure size 432x288 with 1 Axes>"
      ]
     },
     "metadata": {
      "needs_background": "light"
     },
     "output_type": "display_data"
    }
   ],
   "source": [
    "xgb.plot_importance(booster, grid=False)\n",
    "plt.show()"
   ]
  },
  {
   "cell_type": "code",
   "execution_count": 58,
   "metadata": {},
   "outputs": [
    {
     "data": {
      "text/html": [
       "<div>\n",
       "<style scoped>\n",
       "    .dataframe tbody tr th:only-of-type {\n",
       "        vertical-align: middle;\n",
       "    }\n",
       "\n",
       "    .dataframe tbody tr th {\n",
       "        vertical-align: top;\n",
       "    }\n",
       "\n",
       "    .dataframe thead th {\n",
       "        text-align: right;\n",
       "    }\n",
       "</style>\n",
       "<table border=\"1\" class=\"dataframe\">\n",
       "  <thead>\n",
       "    <tr style=\"text-align: right;\">\n",
       "      <th></th>\n",
       "      <th>prediction</th>\n",
       "      <th>Class</th>\n",
       "    </tr>\n",
       "  </thead>\n",
       "  <tbody>\n",
       "    <tr>\n",
       "      <th>0</th>\n",
       "      <td>1</td>\n",
       "      <td>1</td>\n",
       "    </tr>\n",
       "    <tr>\n",
       "      <th>1</th>\n",
       "      <td>0</td>\n",
       "      <td>0</td>\n",
       "    </tr>\n",
       "    <tr>\n",
       "      <th>2</th>\n",
       "      <td>1</td>\n",
       "      <td>1</td>\n",
       "    </tr>\n",
       "    <tr>\n",
       "      <th>3</th>\n",
       "      <td>0</td>\n",
       "      <td>0</td>\n",
       "    </tr>\n",
       "    <tr>\n",
       "      <th>4</th>\n",
       "      <td>1</td>\n",
       "      <td>1</td>\n",
       "    </tr>\n",
       "    <tr>\n",
       "      <th>...</th>\n",
       "      <td>...</td>\n",
       "      <td>...</td>\n",
       "    </tr>\n",
       "    <tr>\n",
       "      <th>763</th>\n",
       "      <td>0</td>\n",
       "      <td>0</td>\n",
       "    </tr>\n",
       "    <tr>\n",
       "      <th>764</th>\n",
       "      <td>0</td>\n",
       "      <td>0</td>\n",
       "    </tr>\n",
       "    <tr>\n",
       "      <th>765</th>\n",
       "      <td>0</td>\n",
       "      <td>0</td>\n",
       "    </tr>\n",
       "    <tr>\n",
       "      <th>766</th>\n",
       "      <td>1</td>\n",
       "      <td>1</td>\n",
       "    </tr>\n",
       "    <tr>\n",
       "      <th>767</th>\n",
       "      <td>0</td>\n",
       "      <td>0</td>\n",
       "    </tr>\n",
       "  </tbody>\n",
       "</table>\n",
       "<p>768 rows × 2 columns</p>\n",
       "</div>"
      ],
      "text/plain": [
       "     prediction Class\n",
       "0             1     1\n",
       "1             0     0\n",
       "2             1     1\n",
       "3             0     0\n",
       "4             1     1\n",
       "..          ...   ...\n",
       "763           0     0\n",
       "764           0     0\n",
       "765           0     0\n",
       "766           1     1\n",
       "767           0     0\n",
       "\n",
       "[768 rows x 2 columns]"
      ]
     },
     "execution_count": 58,
     "metadata": {},
     "output_type": "execute_result"
    }
   ],
   "source": [
    "d = dataset.copy()\n",
    "\n",
    "d['prediction'] = np.around(booster.predict(train)).astype('int64')\n",
    "d[['prediction', 'Class']]"
   ]
  },
  {
   "cell_type": "code",
   "execution_count": 60,
   "metadata": {},
   "outputs": [
    {
     "name": "stdout",
     "output_type": "stream",
     "text": [
      "We had 768 elements in our recordset.\n",
      "We classified correctly 767 events.\n",
      "We classified wrongly 1 events.\n",
      "We had 0 false positive and 0 false negative.\n"
     ]
    }
   ],
   "source": [
    "right = d.loc[d['prediction'] == d['Class']]\n",
    "wrong = d.loc[d['prediction'] != d['Class']]\n",
    "\n",
    "true_positive = right.loc[right['prediction'] == 's']\n",
    "false_positive = wrong.loc[wrong['prediction'] == 's']\n",
    "false_negative = wrong.loc[wrong['prediction'] == 'd']\n",
    "\n",
    "print(\"We had %d elements in our recordset.\" % len(d))\n",
    "print(\"We classified correctly %d events.\" % len(right))\n",
    "print(\"We classified wrongly %d events.\" % len(wrong))\n",
    "print(\"We had %d false positive and %d false negative.\" % (len(false_positive), len(false_negative)))"
   ]
  },
  {
   "cell_type": "markdown",
   "metadata": {},
   "source": [
    "[Clicca qui per tornare all'inizio della pagina](#start)<a id='start'></a>"
   ]
  }
 ],
 "metadata": {
  "kernelspec": {
   "display_name": "Python 3",
   "language": "python",
   "name": "python3"
  },
  "language_info": {
   "codemirror_mode": {
    "name": "ipython",
    "version": 3
   },
   "file_extension": ".py",
   "mimetype": "text/x-python",
   "name": "python",
   "nbconvert_exporter": "python",
   "pygments_lexer": "ipython3",
   "version": "3.7.4"
  }
 },
 "nbformat": 4,
 "nbformat_minor": 2
}
