{
 "cells": [
  {
   "cell_type": "markdown",
   "metadata": {},
   "source": [
    "<a id='start'></a>\n",
    "# Deep Learning\n",
    "\n",
    "In questo notebook vengono presentati degli esercizi su come creare una rete neurale deep learning con Keras.\n",
    "\n",
    "Provate a svolgere il seguente esercizio:<br>\n",
    "1) [Deep Learning](#section1)<br>\n",
    "2) [Come impara un algoritmo di Deep Learning](#section2)<br>\n",
    "3) [Funzioni di attivazione](#section3)<br>\n",
    "4) [Cataloghiamo Iris](#section4)<br>\n",
    "5) [Riconosciamo la scrittura](#section5)<br>"
   ]
  },
  {
   "cell_type": "markdown",
   "metadata": {},
   "source": [
    "<a id='section1'></a>\n",
    "## Deep Learning"
   ]
  },
  {
   "cell_type": "markdown",
   "metadata": {},
   "source": [
    "Il Deep Learning, la cui traduzione letterale significa apprendimento profondo, è una sottocategoria del Machine Learning (che letteralmente viene tradotto come apprendimento automatico) e indica quella branca dell’Intelligenza Artificiale che fa riferimento agli algoritmi ispirati alla struttura e alla funzione del cervello chiamate reti neurali artificiali.\n",
    "\n",
    "Il Deep Learning (noto anche come apprendimento strutturato profondo o apprendimento gerarchico) fa parte di una più ampia famiglia di metodi di Machine Learning basati sull’assimilazione di rappresentazioni di dati, al contrario di algoritmi per l’esecuzione di task specifici.\n",
    "\n",
    "Le architetture di Deep Learning (con le quali oggi si riporta all’attenzione anche del grande pubblico il concetto di rete neurale artificiale) sono per esempio state applicate nella computer vision, nel riconoscimento automatico della lingua parlata, nell’elaborazione del linguaggio naturale, nel riconoscimento audio e nella bioinformatica (l’utilizzo di strumenti informatici per descrivere dal punto di vista numerico e statistico determinati fenomeni biologici  come le sequenze di geni, la composizione e la struttura delle proteine, i processi biochimici nelle cellule, ecc.).\n",
    "\n",
    "Raccogliendo le diverse interpretazioni di alcuni tra i più noti ricercatori e scienziati nel campo dell’apprendimento profondo (quali: Andrew Yan-Tak Ng, fondatore di Google Brain, Chief Scientist di Baidu e professore e Director dell’AI Lab alla Stanford University; Ian J. Goodfellow, ricercatore riconosciuto come uno dei migliori innovatori del mondo – under 35 – dal MIT di Boston; Yoshua Bengio, uno degli scienziati più riconosciuti proprio nel campo del Deep Learning; Ilya Sutskever, Reasearch Director di OpenAI; Geoffrey Everest Hinton, una delle figure chiave del Deep Learning e dell’Intelligenza artificiale, primo ricercatore ad aver dimostrato l’uso di un algoritmo di backpropagation generalizzato per l’addestramento di reti neurali multistrato…), potremmo definire il Deep Learning come un sistema che sfrutta una classe di algoritmi di apprendimento automatico che:\n",
    "\n",
    "1. usano vari livelli di unità non lineari a cascata per svolgere compiti di estrazione di caratteristiche e di trasformazione. Ciascun livello successivo utilizza l’uscita del livello precedente come input. Gli algoritmi possono essere sia di tipo supervisionato sia non supervisionato e le applicazioni includono l’analisi di pattern (apprendimento non supervisionato) e classificazione (apprendimento supervisionato);\n",
    "\n",
    "2. sono basati sull’apprendimento non supervisionato di livelli gerarchici multipli di caratteristiche (e di rappresentazioni) dei dati. Le caratteristiche di più alto livello vengono derivate da quelle di livello più basso per creare una rappresentazione gerarchica;\n",
    "\n",
    "3. fanno parte della più ampia classe di algoritmi di apprendimento della rappresentazione dei dati all’interno dell’apprendimento automatico (Machine Learning);\n",
    "\n",
    "4. apprendono multipli livelli di rappresentazione che corrispondono a differenti livelli di astrazione; questi livelli formano una gerarchia di concetti."
   ]
  },
  {
   "cell_type": "markdown",
   "metadata": {},
   "source": [
    "<img src=\"img/Deep-Learning.jpg\">"
   ]
  },
  {
   "cell_type": "markdown",
   "metadata": {},
   "source": [
    "In generale, il Deep Learning è un metodo di apprendimento automatico che accetta un input X e lo utilizza per prevedere un output di Y. Ad esempio, dati i prezzi delle scorte della settimana passata come input, il mio algoritmo di deep learning proverà a prevedere il prezzo delle azioni del giorno successivo.\n",
    "\n",
    "Dato un grande set di dati di coppie di input e output, un algoritmo di deep learning proverà a minimizzare la differenza tra la sua previsione e l'output atteso. In questo modo, cerca di apprendere l'associazione / modello tra input e output dati - questo a sua volta consente a un modello di deep learning di generalizzare a input che non ha mai visto prima."
   ]
  },
  {
   "cell_type": "markdown",
   "metadata": {},
   "source": [
    "<img src=\"img/deep.gif\">"
   ]
  },
  {
   "cell_type": "markdown",
   "metadata": {},
   "source": [
    "<a id='section2'></a>\n",
    "## Come impara un algoritmo di Deep Learning"
   ]
  },
  {
   "cell_type": "markdown",
   "metadata": {},
   "source": [
    "Gli algoritmi di Deep Learning usano qualcosa chiamata rete neurale per trovare associazioni tra un insieme di input e output. La struttura di base è la seguente:"
   ]
  },
  {
   "cell_type": "markdown",
   "metadata": {},
   "source": [
    "<img src=\"img/dl.jpg\">"
   ]
  },
  {
   "cell_type": "markdown",
   "metadata": {},
   "source": [
    "Una rete neurale è composta da input, hidden e livelli di output, tutti composti da \"nodi\". I livelli di input comprendono una rappresentazione numerica dei dati (ad esempio immagini con specifiche dei pixel), le previsioni di output dei livelli di output, mentre i livelli nascosti sono correlati con la maggior parte del calcolo."
   ]
  },
  {
   "cell_type": "markdown",
   "metadata": {},
   "source": [
    "Alla base di una rete neurale vi è un processo di regressione e quindi di algebra lineare.\n",
    "Le reti neurali si basano principalmente sulla simulazione di neuroni artificiali opportunamente collegati. Il modello rappresentato in figura è quello proposto da McCulloch e Pitts.\n",
    "\n",
    "<img src=\"img/neurone.png\">"
   ]
  },
  {
   "cell_type": "markdown",
   "metadata": {},
   "source": [
    "<img src=\"img/neuron.png\">"
   ]
  },
  {
   "cell_type": "markdown",
   "metadata": {},
   "source": [
    "<a id='section3'></a>\n",
    "## Funzioni di attivazione"
   ]
  },
  {
   "cell_type": "markdown",
   "metadata": {},
   "source": [
    "Lo scopo di ciascun nodo nella rete neurale feed forward consiste nell’accettare valori di input e immettere un valore di output nello strato immediatamente successivo. I nodi di input inseriscono i valori delle variabili nello strato nascosto senza modificarli. \n",
    "Ogni nodo di uno strato nascosto riceve l’input dai nodi connessi dello strato precedente (output del nodo moltiplicato per il peso della connessione), combina tali valori in un valore singolo che utilizza come input della funzione di attivazione. \n",
    "La funzione di attivazione deve soddisfare alcuni criteri: \n",
    "\n",
    "- deve avere valori di output compresi nell’intervallo {0, 1}; \n",
    "- deve fornire un valore di output vicino ad 1 quando viene sufficientemente stimolata (effetto soglia), per propagare l’attività all’interno della rete (come avviene per i neuroni naturali). \n",
    "\n",
    "La cosiddetta funzione sigmoide soddisfa entrambi questi criteri ed è calcolata come segue: \n",
    "\n",
    "$$F(x) = {1 \\over {1 + e ^ {-x}}}$$"
   ]
  },
  {
   "cell_type": "markdown",
   "metadata": {},
   "source": [
    "Grafico della funzione sigmoide: \n",
    "<img src=\"img/sigmoide.png\">"
   ]
  },
  {
   "cell_type": "markdown",
   "metadata": {},
   "source": [
    "Altri esempi di funzioni di attivazione sono visibli qui [su WikiPedia](https://en.wikipedia.org/wiki/Activation_function)."
   ]
  },
  {
   "cell_type": "markdown",
   "metadata": {},
   "source": [
    "<a id='section4'></a>\n",
    "## Cataloghiamo Iris"
   ]
  },
  {
   "cell_type": "markdown",
   "metadata": {},
   "source": [
    "Ricorderete il dataset della vostra scorsa che contiene i fiori Iris:"
   ]
  },
  {
   "cell_type": "code",
   "execution_count": 1,
   "metadata": {},
   "outputs": [
    {
     "name": "stderr",
     "output_type": "stream",
     "text": [
      "\n",
      "Bad key \"text.kerning_factor\" on line 4 in\n",
      "/opt/anaconda3/lib/python3.7/site-packages/matplotlib/mpl-data/stylelib/_classic_test_patch.mplstyle.\n",
      "You probably need to get an updated matplotlibrc file from\n",
      "https://github.com/matplotlib/matplotlib/blob/v3.1.3/matplotlibrc.template\n",
      "or from the matplotlib source distribution\n"
     ]
    },
    {
     "data": {
      "image/png": "[encoded data removed]",
      "text/plain": [
       "<Figure size 432x288 with 1 Axes>"
      ]
     },
     "metadata": {
      "needs_background": "light"
     },
     "output_type": "display_data"
    }
   ],
   "source": [
    "import numpy as np\n",
    "import pandas as pd\n",
    "import matplotlib.pyplot as plt\n",
    "import matplotlib.cm as cm\n",
    "from sklearn.cluster import KMeans\n",
    "%matplotlib inline\n",
    "\n",
    "iris = pd.read_csv('data/iris-with-answers.csv')\n",
    "\n",
    "# Create a scatter plot based on two corresponding features (sepal_length and sepal_width; OR petal_length and petal_width)\n",
    "plt.scatter(iris['sepal_length'], iris['sepal_width'])\n",
    "# Name your axes\n",
    "plt.xlabel('Lenght of sepal')\n",
    "plt.ylabel('Width of sepal')\n",
    "plt.show()"
   ]
  },
  {
   "cell_type": "code",
   "execution_count": 2,
   "metadata": {},
   "outputs": [
    {
     "data": {
      "text/html": [
       "<div>\n",
       "<style scoped>\n",
       "    .dataframe tbody tr th:only-of-type {\n",
       "        vertical-align: middle;\n",
       "    }\n",
       "\n",
       "    .dataframe tbody tr th {\n",
       "        vertical-align: top;\n",
       "    }\n",
       "\n",
       "    .dataframe thead th {\n",
       "        text-align: right;\n",
       "    }\n",
       "</style>\n",
       "<table border=\"1\" class=\"dataframe\">\n",
       "  <thead>\n",
       "    <tr style=\"text-align: right;\">\n",
       "      <th></th>\n",
       "      <th>sepal_length</th>\n",
       "      <th>sepal_width</th>\n",
       "      <th>petal_length</th>\n",
       "      <th>petal_width</th>\n",
       "      <th>species</th>\n",
       "    </tr>\n",
       "  </thead>\n",
       "  <tbody>\n",
       "    <tr>\n",
       "      <th>0</th>\n",
       "      <td>5.1</td>\n",
       "      <td>3.5</td>\n",
       "      <td>1.4</td>\n",
       "      <td>0.2</td>\n",
       "      <td>setosa</td>\n",
       "    </tr>\n",
       "    <tr>\n",
       "      <th>1</th>\n",
       "      <td>4.9</td>\n",
       "      <td>3.0</td>\n",
       "      <td>1.4</td>\n",
       "      <td>0.2</td>\n",
       "      <td>setosa</td>\n",
       "    </tr>\n",
       "    <tr>\n",
       "      <th>2</th>\n",
       "      <td>4.7</td>\n",
       "      <td>3.2</td>\n",
       "      <td>1.3</td>\n",
       "      <td>0.2</td>\n",
       "      <td>setosa</td>\n",
       "    </tr>\n",
       "    <tr>\n",
       "      <th>3</th>\n",
       "      <td>4.6</td>\n",
       "      <td>3.1</td>\n",
       "      <td>1.5</td>\n",
       "      <td>0.2</td>\n",
       "      <td>setosa</td>\n",
       "    </tr>\n",
       "    <tr>\n",
       "      <th>4</th>\n",
       "      <td>5.0</td>\n",
       "      <td>3.6</td>\n",
       "      <td>1.4</td>\n",
       "      <td>0.2</td>\n",
       "      <td>setosa</td>\n",
       "    </tr>\n",
       "  </tbody>\n",
       "</table>\n",
       "</div>"
      ],
      "text/plain": [
       "   sepal_length  sepal_width  petal_length  petal_width species\n",
       "0           5.1          3.5           1.4          0.2  setosa\n",
       "1           4.9          3.0           1.4          0.2  setosa\n",
       "2           4.7          3.2           1.3          0.2  setosa\n",
       "3           4.6          3.1           1.5          0.2  setosa\n",
       "4           5.0          3.6           1.4          0.2  setosa"
      ]
     },
     "execution_count": 2,
     "metadata": {},
     "output_type": "execute_result"
    }
   ],
   "source": [
    "iris.head()"
   ]
  },
  {
   "cell_type": "markdown",
   "metadata": {},
   "source": [
    "Possiamo uasre la libreria seaborn per vedere rapidamente quali sono i dati contenuti nel dataset e per produrre dei pairplot:"
   ]
  },
  {
   "cell_type": "code",
   "execution_count": 3,
   "metadata": {},
   "outputs": [
    {
     "data": {
      "image/png": "[encoded data removed]",
      "text/plain": [
       "<Figure size 804.75x720 with 20 Axes>"
      ]
     },
     "metadata": {
      "needs_background": "light"
     },
     "output_type": "display_data"
    }
   ],
   "source": [
    "import seaborn as sns\n",
    "sns.pairplot(data=iris, hue='species')\n",
    "plt.show()"
   ]
  },
  {
   "cell_type": "markdown",
   "metadata": {},
   "source": [
    "Normalizziamo nuovamente i dati, come fatto a lezione la volta scorsa:"
   ]
  },
  {
   "cell_type": "code",
   "execution_count": 4,
   "metadata": {},
   "outputs": [],
   "source": [
    "# import some preprocessing module\n",
    "from sklearn import preprocessing\n",
    "\n",
    "# scale the data for better results\n",
    "x_scaled = preprocessing.scale(iris.iloc[:,0:4])"
   ]
  },
  {
   "cell_type": "markdown",
   "metadata": {},
   "source": [
    "Ora proviamo, con Keras, a creare un modello in grado di classificare i fiori nelle 3 specie in base alle caratteristiche del sepalo e del petalo:"
   ]
  },
  {
   "cell_type": "code",
   "execution_count": 10,
   "metadata": {},
   "outputs": [],
   "source": [
    "import numpy as np\n",
    "import matplotlib.pyplot as plt\n",
    "\n",
    "import tensorflow as tf\n",
    "import tensorflow.keras as keras\n",
    "\n",
    "from tensorflow.keras.models import Sequential\n",
    "from tensorflow.keras.layers import Dense, ReLU\n",
    "\n",
    "from sklearn.preprocessing import StandardScaler, LabelBinarizer"
   ]
  },
  {
   "cell_type": "markdown",
   "metadata": {},
   "source": [
    "Selezioniamo le variaibli indipendenti e dipendenti, scaliamole e mappiamo la feature 'species' in modo che possa essere utilizzata come variabile nell'algoritmo di ML:"
   ]
  },
  {
   "cell_type": "code",
   "execution_count": 11,
   "metadata": {},
   "outputs": [],
   "source": [
    "X = iris[['sepal_length', 'sepal_width', 'petal_length', 'petal_width']]\n",
    "y = iris['species']\n",
    "\n",
    "X = StandardScaler().fit_transform(X)\n",
    "y = LabelBinarizer().fit_transform(y)"
   ]
  },
  {
   "cell_type": "markdown",
   "metadata": {},
   "source": [
    "Dividiamo il dataset tra training e learning:"
   ]
  },
  {
   "cell_type": "code",
   "execution_count": 12,
   "metadata": {},
   "outputs": [],
   "source": [
    "from sklearn.model_selection import train_test_split\n",
    "x_train, x_test, y_train, y_test = train_test_split(X, y, test_size=0.2)"
   ]
  },
  {
   "cell_type": "markdown",
   "metadata": {},
   "source": [
    "Creiamo il modello con Keras aggiungendo i vari layer della nostra rete di deep learning:"
   ]
  },
  {
   "cell_type": "code",
   "execution_count": 13,
   "metadata": {},
   "outputs": [
    {
     "name": "stdout",
     "output_type": "stream",
     "text": [
      "Train on 120 samples, validate on 30 samples\n",
      "Epoch 1/120\n",
      "120/120 [==============================] - 0s 3ms/sample - loss: 1.0277 - accuracy: 0.5917 - val_loss: 0.9797 - val_accuracy: 0.6333\n",
      "Epoch 2/120\n",
      "120/120 [==============================] - 0s 85us/sample - loss: 1.0090 - accuracy: 0.6333 - val_loss: 0.9602 - val_accuracy: 0.6333\n",
      "Epoch 3/120\n",
      "120/120 [==============================] - 0s 102us/sample - loss: 0.9905 - accuracy: 0.6500 - val_loss: 0.9395 - val_accuracy: 0.6667\n",
      "Epoch 4/120\n",
      "120/120 [==============================] - 0s 124us/sample - loss: 0.9718 - accuracy: 0.6500 - val_loss: 0.9183 - val_accuracy: 0.7333\n",
      "Epoch 5/120\n",
      "120/120 [==============================] - 0s 103us/sample - loss: 0.9524 - accuracy: 0.6583 - val_loss: 0.8956 - val_accuracy: 0.7333\n",
      "Epoch 6/120\n",
      "120/120 [==============================] - 0s 116us/sample - loss: 0.9321 - accuracy: 0.6583 - val_loss: 0.8724 - val_accuracy: 0.7333\n",
      "Epoch 7/120\n",
      "120/120 [==============================] - 0s 112us/sample - loss: 0.9115 - accuracy: 0.6667 - val_loss: 0.8481 - val_accuracy: 0.7333\n",
      "Epoch 8/120\n",
      "120/120 [==============================] - 0s 123us/sample - loss: 0.8900 - accuracy: 0.6750 - val_loss: 0.8224 - val_accuracy: 0.7333\n",
      "Epoch 9/120\n",
      "120/120 [==============================] - 0s 114us/sample - loss: 0.8676 - accuracy: 0.6833 - val_loss: 0.7956 - val_accuracy: 0.8000\n",
      "Epoch 10/120\n",
      "120/120 [==============================] - 0s 140us/sample - loss: 0.8442 - accuracy: 0.7000 - val_loss: 0.7689 - val_accuracy: 0.8333\n",
      "Epoch 11/120\n",
      "120/120 [==============================] - 0s 129us/sample - loss: 0.8211 - accuracy: 0.7167 - val_loss: 0.7414 - val_accuracy: 0.8333\n",
      "Epoch 12/120\n",
      "120/120 [==============================] - 0s 116us/sample - loss: 0.7958 - accuracy: 0.7333 - val_loss: 0.7139 - val_accuracy: 0.8333\n",
      "Epoch 13/120\n",
      "120/120 [==============================] - 0s 122us/sample - loss: 0.7714 - accuracy: 0.7500 - val_loss: 0.6849 - val_accuracy: 0.8333\n",
      "Epoch 14/120\n",
      "120/120 [==============================] - 0s 124us/sample - loss: 0.7459 - accuracy: 0.7583 - val_loss: 0.6556 - val_accuracy: 0.8667\n",
      "Epoch 15/120\n",
      "120/120 [==============================] - 0s 119us/sample - loss: 0.7193 - accuracy: 0.7750 - val_loss: 0.6270 - val_accuracy: 0.9000\n",
      "Epoch 16/120\n",
      "120/120 [==============================] - 0s 132us/sample - loss: 0.6931 - accuracy: 0.7833 - val_loss: 0.5988 - val_accuracy: 0.9000\n",
      "Epoch 17/120\n",
      "120/120 [==============================] - 0s 134us/sample - loss: 0.6658 - accuracy: 0.7833 - val_loss: 0.5712 - val_accuracy: 0.9000\n",
      "Epoch 18/120\n",
      "120/120 [==============================] - 0s 123us/sample - loss: 0.6393 - accuracy: 0.7833 - val_loss: 0.5434 - val_accuracy: 0.8667\n",
      "Epoch 19/120\n",
      "120/120 [==============================] - 0s 125us/sample - loss: 0.6131 - accuracy: 0.7750 - val_loss: 0.5158 - val_accuracy: 0.8667\n",
      "Epoch 20/120\n",
      "120/120 [==============================] - 0s 115us/sample - loss: 0.5880 - accuracy: 0.7833 - val_loss: 0.4895 - val_accuracy: 0.8667\n",
      "Epoch 21/120\n",
      "120/120 [==============================] - 0s 97us/sample - loss: 0.5638 - accuracy: 0.8083 - val_loss: 0.4646 - val_accuracy: 0.8667\n",
      "Epoch 22/120\n",
      "120/120 [==============================] - 0s 139us/sample - loss: 0.5406 - accuracy: 0.8250 - val_loss: 0.4411 - val_accuracy: 0.8667\n",
      "Epoch 23/120\n",
      "120/120 [==============================] - 0s 115us/sample - loss: 0.5191 - accuracy: 0.8333 - val_loss: 0.4188 - val_accuracy: 0.8667\n",
      "Epoch 24/120\n",
      "120/120 [==============================] - 0s 116us/sample - loss: 0.4988 - accuracy: 0.8333 - val_loss: 0.3987 - val_accuracy: 0.8667\n",
      "Epoch 25/120\n",
      "120/120 [==============================] - 0s 153us/sample - loss: 0.4795 - accuracy: 0.8500 - val_loss: 0.3799 - val_accuracy: 0.9000\n",
      "Epoch 26/120\n",
      "120/120 [==============================] - 0s 123us/sample - loss: 0.4616 - accuracy: 0.8500 - val_loss: 0.3624 - val_accuracy: 0.9000\n",
      "Epoch 27/120\n",
      "120/120 [==============================] - 0s 115us/sample - loss: 0.4458 - accuracy: 0.8417 - val_loss: 0.3462 - val_accuracy: 0.9000\n",
      "Epoch 28/120\n",
      "120/120 [==============================] - 0s 111us/sample - loss: 0.4302 - accuracy: 0.8333 - val_loss: 0.3314 - val_accuracy: 0.9000\n",
      "Epoch 29/120\n",
      "120/120 [==============================] - 0s 138us/sample - loss: 0.4170 - accuracy: 0.8417 - val_loss: 0.3173 - val_accuracy: 0.9000\n",
      "Epoch 30/120\n",
      "120/120 [==============================] - 0s 124us/sample - loss: 0.4043 - accuracy: 0.8500 - val_loss: 0.3045 - val_accuracy: 0.9000\n",
      "Epoch 31/120\n",
      "120/120 [==============================] - 0s 113us/sample - loss: 0.3929 - accuracy: 0.8500 - val_loss: 0.2928 - val_accuracy: 0.9000\n",
      "Epoch 32/120\n",
      "120/120 [==============================] - 0s 115us/sample - loss: 0.3814 - accuracy: 0.8583 - val_loss: 0.2826 - val_accuracy: 0.9000\n",
      "Epoch 33/120\n",
      "120/120 [==============================] - 0s 123us/sample - loss: 0.3723 - accuracy: 0.8583 - val_loss: 0.2729 - val_accuracy: 0.9000\n",
      "Epoch 34/120\n",
      "120/120 [==============================] - 0s 123us/sample - loss: 0.3622 - accuracy: 0.8583 - val_loss: 0.2645 - val_accuracy: 0.9000\n",
      "Epoch 35/120\n",
      "120/120 [==============================] - 0s 107us/sample - loss: 0.3528 - accuracy: 0.8583 - val_loss: 0.2561 - val_accuracy: 0.9000\n",
      "Epoch 36/120\n",
      "120/120 [==============================] - 0s 137us/sample - loss: 0.3446 - accuracy: 0.8583 - val_loss: 0.2482 - val_accuracy: 0.9000\n",
      "Epoch 37/120\n",
      "120/120 [==============================] - 0s 122us/sample - loss: 0.3361 - accuracy: 0.8583 - val_loss: 0.2407 - val_accuracy: 0.9000\n",
      "Epoch 38/120\n",
      "120/120 [==============================] - 0s 119us/sample - loss: 0.3288 - accuracy: 0.8583 - val_loss: 0.2337 - val_accuracy: 0.9000\n",
      "Epoch 39/120\n",
      "120/120 [==============================] - 0s 114us/sample - loss: 0.3226 - accuracy: 0.8583 - val_loss: 0.2278 - val_accuracy: 0.9000\n",
      "Epoch 40/120\n",
      "120/120 [==============================] - 0s 126us/sample - loss: 0.3150 - accuracy: 0.8750 - val_loss: 0.2218 - val_accuracy: 0.9000\n",
      "Epoch 41/120\n",
      "120/120 [==============================] - 0s 133us/sample - loss: 0.3084 - accuracy: 0.8833 - val_loss: 0.2162 - val_accuracy: 0.9000\n",
      "Epoch 42/120\n",
      "120/120 [==============================] - 0s 120us/sample - loss: 0.3028 - accuracy: 0.8833 - val_loss: 0.2110 - val_accuracy: 0.9000\n",
      "Epoch 43/120\n",
      "120/120 [==============================] - 0s 114us/sample - loss: 0.2971 - accuracy: 0.8833 - val_loss: 0.2059 - val_accuracy: 0.9000\n",
      "Epoch 44/120\n",
      "120/120 [==============================] - 0s 101us/sample - loss: 0.2919 - accuracy: 0.8917 - val_loss: 0.2012 - val_accuracy: 0.9333\n",
      "Epoch 45/120\n",
      "120/120 [==============================] - 0s 110us/sample - loss: 0.2870 - accuracy: 0.8917 - val_loss: 0.1966 - val_accuracy: 0.9000\n",
      "Epoch 46/120\n",
      "120/120 [==============================] - 0s 114us/sample - loss: 0.2811 - accuracy: 0.8917 - val_loss: 0.1920 - val_accuracy: 0.9333\n",
      "Epoch 47/120\n",
      "120/120 [==============================] - 0s 120us/sample - loss: 0.2768 - accuracy: 0.8917 - val_loss: 0.1878 - val_accuracy: 0.9333\n",
      "Epoch 48/120\n",
      "120/120 [==============================] - 0s 123us/sample - loss: 0.2716 - accuracy: 0.8917 - val_loss: 0.1836 - val_accuracy: 0.9333\n",
      "Epoch 49/120\n",
      "120/120 [==============================] - 0s 106us/sample - loss: 0.2667 - accuracy: 0.9000 - val_loss: 0.1797 - val_accuracy: 0.9333\n",
      "Epoch 50/120\n",
      "120/120 [==============================] - 0s 128us/sample - loss: 0.2609 - accuracy: 0.9000 - val_loss: 0.1755 - val_accuracy: 0.9333\n",
      "Epoch 51/120\n",
      "120/120 [==============================] - 0s 113us/sample - loss: 0.2564 - accuracy: 0.9000 - val_loss: 0.1715 - val_accuracy: 0.9333\n",
      "Epoch 52/120\n",
      "120/120 [==============================] - 0s 119us/sample - loss: 0.2512 - accuracy: 0.9083 - val_loss: 0.1674 - val_accuracy: 0.9333\n",
      "Epoch 53/120\n",
      "120/120 [==============================] - 0s 117us/sample - loss: 0.2453 - accuracy: 0.9167 - val_loss: 0.1629 - val_accuracy: 0.9333\n",
      "Epoch 54/120\n",
      "120/120 [==============================] - 0s 98us/sample - loss: 0.2396 - accuracy: 0.9167 - val_loss: 0.1584 - val_accuracy: 0.9667\n",
      "Epoch 55/120\n",
      "120/120 [==============================] - 0s 99us/sample - loss: 0.2348 - accuracy: 0.9167 - val_loss: 0.1537 - val_accuracy: 0.9667\n",
      "Epoch 56/120\n"
     ]
    },
    {
     "name": "stdout",
     "output_type": "stream",
     "text": [
      "120/120 [==============================] - 0s 114us/sample - loss: 0.2290 - accuracy: 0.9083 - val_loss: 0.1496 - val_accuracy: 0.9667\n",
      "Epoch 57/120\n",
      "120/120 [==============================] - 0s 114us/sample - loss: 0.2239 - accuracy: 0.9167 - val_loss: 0.1456 - val_accuracy: 0.9667\n",
      "Epoch 58/120\n",
      "120/120 [==============================] - 0s 116us/sample - loss: 0.2175 - accuracy: 0.9167 - val_loss: 0.1416 - val_accuracy: 0.9667\n",
      "Epoch 59/120\n",
      "120/120 [==============================] - 0s 105us/sample - loss: 0.2120 - accuracy: 0.9250 - val_loss: 0.1377 - val_accuracy: 0.9667\n",
      "Epoch 60/120\n",
      "120/120 [==============================] - 0s 112us/sample - loss: 0.2066 - accuracy: 0.9250 - val_loss: 0.1343 - val_accuracy: 0.9667\n",
      "Epoch 61/120\n",
      "120/120 [==============================] - 0s 103us/sample - loss: 0.2012 - accuracy: 0.9333 - val_loss: 0.1312 - val_accuracy: 0.9667\n",
      "Epoch 62/120\n",
      "120/120 [==============================] - 0s 97us/sample - loss: 0.1959 - accuracy: 0.9333 - val_loss: 0.1280 - val_accuracy: 0.9667\n",
      "Epoch 63/120\n",
      "120/120 [==============================] - 0s 91us/sample - loss: 0.1903 - accuracy: 0.9333 - val_loss: 0.1245 - val_accuracy: 0.9667\n",
      "Epoch 64/120\n",
      "120/120 [==============================] - 0s 90us/sample - loss: 0.1848 - accuracy: 0.9417 - val_loss: 0.1211 - val_accuracy: 0.9667\n",
      "Epoch 65/120\n",
      "120/120 [==============================] - 0s 95us/sample - loss: 0.1794 - accuracy: 0.9500 - val_loss: 0.1177 - val_accuracy: 0.9667\n",
      "Epoch 66/120\n",
      "120/120 [==============================] - 0s 88us/sample - loss: 0.1743 - accuracy: 0.9500 - val_loss: 0.1146 - val_accuracy: 0.9667\n",
      "Epoch 67/120\n",
      "120/120 [==============================] - 0s 91us/sample - loss: 0.1692 - accuracy: 0.9417 - val_loss: 0.1125 - val_accuracy: 0.9667\n",
      "Epoch 68/120\n",
      "120/120 [==============================] - 0s 96us/sample - loss: 0.1636 - accuracy: 0.9583 - val_loss: 0.1106 - val_accuracy: 0.9667\n",
      "Epoch 69/120\n",
      "120/120 [==============================] - 0s 93us/sample - loss: 0.1592 - accuracy: 0.9583 - val_loss: 0.1083 - val_accuracy: 0.9667\n",
      "Epoch 70/120\n",
      "120/120 [==============================] - 0s 92us/sample - loss: 0.1538 - accuracy: 0.9583 - val_loss: 0.1057 - val_accuracy: 0.9667\n",
      "Epoch 71/120\n",
      "120/120 [==============================] - 0s 97us/sample - loss: 0.1500 - accuracy: 0.9500 - val_loss: 0.1031 - val_accuracy: 0.9667\n",
      "Epoch 72/120\n",
      "120/120 [==============================] - 0s 109us/sample - loss: 0.1454 - accuracy: 0.9583 - val_loss: 0.1031 - val_accuracy: 0.9667\n",
      "Epoch 73/120\n",
      "120/120 [==============================] - 0s 99us/sample - loss: 0.1405 - accuracy: 0.9667 - val_loss: 0.1003 - val_accuracy: 0.9667\n",
      "Epoch 74/120\n",
      "120/120 [==============================] - 0s 91us/sample - loss: 0.1360 - accuracy: 0.9667 - val_loss: 0.0991 - val_accuracy: 0.9667\n",
      "Epoch 75/120\n",
      "120/120 [==============================] - 0s 105us/sample - loss: 0.1320 - accuracy: 0.9667 - val_loss: 0.0970 - val_accuracy: 0.9667\n",
      "Epoch 76/120\n",
      "120/120 [==============================] - 0s 102us/sample - loss: 0.1281 - accuracy: 0.9667 - val_loss: 0.0964 - val_accuracy: 0.9667\n",
      "Epoch 77/120\n",
      "120/120 [==============================] - 0s 95us/sample - loss: 0.1242 - accuracy: 0.9667 - val_loss: 0.0945 - val_accuracy: 0.9667\n",
      "Epoch 78/120\n",
      "120/120 [==============================] - 0s 108us/sample - loss: 0.1206 - accuracy: 0.9750 - val_loss: 0.0933 - val_accuracy: 0.9667\n",
      "Epoch 79/120\n",
      "120/120 [==============================] - 0s 103us/sample - loss: 0.1172 - accuracy: 0.9833 - val_loss: 0.0911 - val_accuracy: 0.9667\n",
      "Epoch 80/120\n",
      "120/120 [==============================] - 0s 110us/sample - loss: 0.1141 - accuracy: 0.9667 - val_loss: 0.0887 - val_accuracy: 0.9667\n",
      "Epoch 81/120\n",
      "120/120 [==============================] - 0s 109us/sample - loss: 0.1111 - accuracy: 0.9667 - val_loss: 0.0878 - val_accuracy: 0.9667\n",
      "Epoch 82/120\n",
      "120/120 [==============================] - 0s 99us/sample - loss: 0.1083 - accuracy: 0.9750 - val_loss: 0.0907 - val_accuracy: 0.9667\n",
      "Epoch 83/120\n",
      "120/120 [==============================] - 0s 103us/sample - loss: 0.1051 - accuracy: 0.9833 - val_loss: 0.0901 - val_accuracy: 0.9667\n",
      "Epoch 84/120\n",
      "120/120 [==============================] - 0s 100us/sample - loss: 0.1026 - accuracy: 0.9833 - val_loss: 0.0890 - val_accuracy: 0.9667\n",
      "Epoch 85/120\n",
      "120/120 [==============================] - 0s 112us/sample - loss: 0.1000 - accuracy: 0.9750 - val_loss: 0.0855 - val_accuracy: 0.9667\n",
      "Epoch 86/120\n",
      "120/120 [==============================] - 0s 104us/sample - loss: 0.0981 - accuracy: 0.9750 - val_loss: 0.0823 - val_accuracy: 0.9667\n",
      "Epoch 87/120\n",
      "120/120 [==============================] - 0s 90us/sample - loss: 0.0951 - accuracy: 0.9750 - val_loss: 0.0840 - val_accuracy: 0.9667\n",
      "Epoch 88/120\n",
      "120/120 [==============================] - 0s 90us/sample - loss: 0.0930 - accuracy: 0.9750 - val_loss: 0.0852 - val_accuracy: 0.9667\n",
      "Epoch 89/120\n",
      "120/120 [==============================] - 0s 102us/sample - loss: 0.0908 - accuracy: 0.9750 - val_loss: 0.0855 - val_accuracy: 0.9667\n",
      "Epoch 90/120\n",
      "120/120 [==============================] - 0s 96us/sample - loss: 0.0892 - accuracy: 0.9750 - val_loss: 0.0845 - val_accuracy: 0.9667\n",
      "Epoch 91/120\n",
      "120/120 [==============================] - 0s 94us/sample - loss: 0.0872 - accuracy: 0.9750 - val_loss: 0.0828 - val_accuracy: 0.9667\n",
      "Epoch 92/120\n",
      "120/120 [==============================] - 0s 92us/sample - loss: 0.0859 - accuracy: 0.9750 - val_loss: 0.0800 - val_accuracy: 0.9667\n",
      "Epoch 93/120\n",
      "120/120 [==============================] - 0s 104us/sample - loss: 0.0836 - accuracy: 0.9750 - val_loss: 0.0806 - val_accuracy: 0.9667\n",
      "Epoch 94/120\n",
      "120/120 [==============================] - 0s 100us/sample - loss: 0.0831 - accuracy: 0.9833 - val_loss: 0.0839 - val_accuracy: 0.9667\n",
      "Epoch 95/120\n",
      "120/120 [==============================] - 0s 103us/sample - loss: 0.0805 - accuracy: 0.9750 - val_loss: 0.0816 - val_accuracy: 0.9667\n",
      "Epoch 96/120\n",
      "120/120 [==============================] - 0s 88us/sample - loss: 0.0792 - accuracy: 0.9750 - val_loss: 0.0782 - val_accuracy: 0.9667\n",
      "Epoch 97/120\n",
      "120/120 [==============================] - 0s 103us/sample - loss: 0.0789 - accuracy: 0.9750 - val_loss: 0.0747 - val_accuracy: 0.9667\n",
      "Epoch 98/120\n",
      "120/120 [==============================] - 0s 101us/sample - loss: 0.0768 - accuracy: 0.9750 - val_loss: 0.0754 - val_accuracy: 0.9667\n",
      "Epoch 99/120\n",
      "120/120 [==============================] - 0s 104us/sample - loss: 0.0762 - accuracy: 0.9750 - val_loss: 0.0806 - val_accuracy: 0.9667\n",
      "Epoch 100/120\n",
      "120/120 [==============================] - 0s 93us/sample - loss: 0.0748 - accuracy: 0.9750 - val_loss: 0.0784 - val_accuracy: 0.9667\n",
      "Epoch 101/120\n",
      "120/120 [==============================] - 0s 108us/sample - loss: 0.0731 - accuracy: 0.9750 - val_loss: 0.0791 - val_accuracy: 0.9667\n",
      "Epoch 102/120\n",
      "120/120 [==============================] - 0s 102us/sample - loss: 0.0724 - accuracy: 0.9750 - val_loss: 0.0800 - val_accuracy: 0.9667\n",
      "Epoch 103/120\n",
      "120/120 [==============================] - 0s 123us/sample - loss: 0.0715 - accuracy: 0.9750 - val_loss: 0.0751 - val_accuracy: 0.9667\n",
      "Epoch 104/120\n",
      "120/120 [==============================] - 0s 97us/sample - loss: 0.0698 - accuracy: 0.9750 - val_loss: 0.0723 - val_accuracy: 0.9667\n",
      "Epoch 105/120\n",
      "120/120 [==============================] - 0s 104us/sample - loss: 0.0693 - accuracy: 0.9750 - val_loss: 0.0716 - val_accuracy: 0.9667\n",
      "Epoch 106/120\n",
      "120/120 [==============================] - 0s 99us/sample - loss: 0.0680 - accuracy: 0.9750 - val_loss: 0.0733 - val_accuracy: 0.9667\n",
      "Epoch 107/120\n",
      "120/120 [==============================] - 0s 95us/sample - loss: 0.0674 - accuracy: 0.9750 - val_loss: 0.0753 - val_accuracy: 0.9667\n",
      "Epoch 108/120\n",
      "120/120 [==============================] - 0s 91us/sample - loss: 0.0667 - accuracy: 0.9750 - val_loss: 0.0729 - val_accuracy: 0.9667\n",
      "Epoch 109/120\n",
      "120/120 [==============================] - 0s 90us/sample - loss: 0.0656 - accuracy: 0.9750 - val_loss: 0.0736 - val_accuracy: 0.9667\n",
      "Epoch 110/120\n",
      "120/120 [==============================] - 0s 96us/sample - loss: 0.0652 - accuracy: 0.9750 - val_loss: 0.0722 - val_accuracy: 0.9667\n",
      "Epoch 111/120\n"
     ]
    },
    {
     "name": "stdout",
     "output_type": "stream",
     "text": [
      "120/120 [==============================] - 0s 99us/sample - loss: 0.0643 - accuracy: 0.9750 - val_loss: 0.0745 - val_accuracy: 0.9667\n",
      "Epoch 112/120\n",
      "120/120 [==============================] - 0s 99us/sample - loss: 0.0633 - accuracy: 0.9750 - val_loss: 0.0724 - val_accuracy: 0.9667\n",
      "Epoch 113/120\n",
      "120/120 [==============================] - 0s 113us/sample - loss: 0.0627 - accuracy: 0.9750 - val_loss: 0.0706 - val_accuracy: 0.9667\n",
      "Epoch 114/120\n",
      "120/120 [==============================] - 0s 95us/sample - loss: 0.0620 - accuracy: 0.9750 - val_loss: 0.0700 - val_accuracy: 0.9667\n",
      "Epoch 115/120\n",
      "120/120 [==============================] - 0s 95us/sample - loss: 0.0616 - accuracy: 0.9750 - val_loss: 0.0680 - val_accuracy: 0.9667\n",
      "Epoch 116/120\n",
      "120/120 [==============================] - 0s 95us/sample - loss: 0.0607 - accuracy: 0.9750 - val_loss: 0.0684 - val_accuracy: 0.9667\n",
      "Epoch 117/120\n",
      "120/120 [==============================] - 0s 91us/sample - loss: 0.0608 - accuracy: 0.9750 - val_loss: 0.0671 - val_accuracy: 0.9667\n",
      "Epoch 118/120\n",
      "120/120 [==============================] - 0s 94us/sample - loss: 0.0594 - accuracy: 0.9750 - val_loss: 0.0696 - val_accuracy: 0.9667\n",
      "Epoch 119/120\n",
      "120/120 [==============================] - 0s 117us/sample - loss: 0.0587 - accuracy: 0.9750 - val_loss: 0.0715 - val_accuracy: 0.9667\n",
      "Epoch 120/120\n",
      "120/120 [==============================] - 0s 102us/sample - loss: 0.0591 - accuracy: 0.9750 - val_loss: 0.0734 - val_accuracy: 0.9667\n"
     ]
    }
   ],
   "source": [
    "model = Sequential()\n",
    "\n",
    "model.add(Dense(12, input_dim=4))\n",
    "model.add(ReLU())\n",
    "model.add(Dense(units=15))\n",
    "model.add(ReLU())\n",
    "model.add(Dense(units=8))\n",
    "model.add(ReLU())\n",
    "model.add(Dense(units=10))\n",
    "model.add(ReLU())\n",
    "model.add(Dense(units=3, activation='softmax'))\n",
    "\n",
    "model.compile(loss='categorical_crossentropy', optimizer='adam', metrics=['accuracy'])\n",
    "\n",
    "history = model.fit(x_train, y_train, epochs=120, validation_data=(x_test, y_test))"
   ]
  },
  {
   "cell_type": "markdown",
   "metadata": {},
   "source": [
    "Plottiamo prima le curve della funzione di loss sugli insiemi di training e di test:"
   ]
  },
  {
   "cell_type": "code",
   "execution_count": 14,
   "metadata": {},
   "outputs": [
    {
     "data": {
      "image/png": "[encoded data removed]",
      "text/plain": [
       "<Figure size 432x288 with 1 Axes>"
      ]
     },
     "metadata": {
      "needs_background": "light"
     },
     "output_type": "display_data"
    }
   ],
   "source": [
    "plt.plot(history.history['loss'])\n",
    "plt.plot(history.history['val_loss'])\n",
    "plt.title('Loss')\n",
    "plt.legend(['Train','Test'])\n",
    "plt.show()"
   ]
  },
  {
   "cell_type": "markdown",
   "metadata": {},
   "source": [
    "Quindi plottiamo l'accuratezza del modello, sempre per gli insiemi di trianing e di test:"
   ]
  },
  {
   "cell_type": "code",
   "execution_count": 15,
   "metadata": {},
   "outputs": [
    {
     "data": {
      "text/plain": [
       "dict_keys(['loss', 'accuracy', 'val_loss', 'val_accuracy'])"
      ]
     },
     "execution_count": 15,
     "metadata": {},
     "output_type": "execute_result"
    }
   ],
   "source": [
    "history.history.keys()"
   ]
  },
  {
   "cell_type": "code",
   "execution_count": 16,
   "metadata": {},
   "outputs": [
    {
     "data": {
      "image/png": "[encoded data removed]",
      "text/plain": [
       "<Figure size 432x288 with 1 Axes>"
      ]
     },
     "metadata": {
      "needs_background": "light"
     },
     "output_type": "display_data"
    }
   ],
   "source": [
    "plt.plot(history.history['accuracy'])\n",
    "plt.plot(history.history['val_accuracy'])\n",
    "plt.title(\"Accuracy\")\n",
    "plt.legend(['train', 'test'])\n",
    "plt.show()"
   ]
  },
  {
   "cell_type": "markdown",
   "metadata": {},
   "source": [
    "L'accuratezza è molto elevata e quindi il nostro algoritmo è in grado di predirre le specie con una buona precisione."
   ]
  },
  {
   "cell_type": "markdown",
   "metadata": {},
   "source": [
    "<a id='section5'></a>\n",
    "## Riconosciamo la scrittura"
   ]
  },
  {
   "cell_type": "markdown",
   "metadata": {},
   "source": [
    "Creiamo una rete neurale deeplearning che permetta di riconoscere dei numeri scritti a mano:"
   ]
  },
  {
   "cell_type": "code",
   "execution_count": 17,
   "metadata": {},
   "outputs": [],
   "source": [
    "# We must always import the relevant libraries for our problem at hand. NumPy and TensorFlow are required for this example.\n",
    "import numpy as np\n",
    "import matplotlib.pyplot as plt\n",
    "\n",
    "import tensorflow as tf\n",
    "import tensorflow.keras as keras"
   ]
  },
  {
   "cell_type": "markdown",
   "metadata": {},
   "source": [
    "Una volta importato tensorflow, possiamo quindi iniziare a preparare i nostri dati, modellarli e quindi addestrarli. Per semplicità, utilizzeremo il più comune esempio di \"ciao mondo\" per l'apprendimento approfondito, che è il set di dati mnist. È un insieme di cifre scritte a mano, da 0 a 9. Sono le immagini 28x28 di queste cifre scritte a mano. Mostreremo un esempio di utilizzo di dati esterni, ma, per ora, carichiamo questi dati:"
   ]
  },
  {
   "cell_type": "code",
   "execution_count": 18,
   "metadata": {},
   "outputs": [],
   "source": [
    "mnist = tf.keras.datasets.mnist\n",
    "(x_train, y_train),(x_test, y_test) = mnist.load_data()"
   ]
  },
  {
   "cell_type": "markdown",
   "metadata": {},
   "source": [
    "Quando lavori con i tuoi dati raccolti, è probabile che non siano impacchettato così bene. In questo caso è necessario dedicare un poì di tempo e di impegno in questo passaggio.\n",
    "\n",
    "Quindi i dati x_train sono le \"caratteristiche\". In questo caso, le funzionalità sono valori in pixel delle immagini 28x28 di queste cifre 0-9. L'y_train è l'etichetta (è un 0,1,2,3,4,5,6,7,8 o un 9?)\n",
    "\n",
    "Le varianti di test di queste variabili sono gli esempi \"fuori campione\" che useremo. Questi sono esempi dai nostri dati che metteremo da parte, riservandoli per testare il modello.\n",
    "\n",
    "Le reti neurali sono eccezionalmente buone per adattarsi ai dati, al punto che generalmente si adattano troppo ai dati. La nostra vera speranza è che la rete neurale non memorizzi solo i nostri dati e che invece \"generalizzi\" e impari il vero problema e i modelli ad esso associati.\n",
    "\n",
    "Diamo un'occhiata a questi dati reali:"
   ]
  },
  {
   "cell_type": "code",
   "execution_count": 19,
   "metadata": {},
   "outputs": [
    {
     "data": {
      "text/plain": [
       "array([[  0,   0,   0,   0,   0,   0,   0,   0,   0,   0,   0,   0,   0,\n",
       "          0,   0,   0,   0,   0,   0,   0,   0,   0,   0,   0,   0,   0,\n",
       "          0,   0],\n",
       "       [  0,   0,   0,   0,   0,   0,   0,   0,   0,   0,   0,   0,   0,\n",
       "          0,   0,   0,   0,   0,   0,   0,   0,   0,   0,   0,   0,   0,\n",
       "          0,   0],\n",
       "       [  0,   0,   0,   0,   0,   0,   0,   0,   0,   0,   0,   0,   0,\n",
       "          0,   0,   0,   0,   0,   0,   0,   0,   0,   0,   0,   0,   0,\n",
       "          0,   0],\n",
       "       [  0,   0,   0,   0,   0,   0,   0,   0,   0,   0,   0,   0,   0,\n",
       "          0,   0,   0,   0,   0,   0,   0,   0,   0,   0,   0,   0,   0,\n",
       "          0,   0],\n",
       "       [  0,   0,   0,   0,   0,   0,   0,   0,   0,   0,   0,   0,   0,\n",
       "          0,   0,   0,   0,   0,   0,   0,   0,   0,   0,   0,   0,   0,\n",
       "          0,   0],\n",
       "       [  0,   0,   0,   0,   0,   0,   0,   0,   0,   0,   0,   0,   3,\n",
       "         18,  18,  18, 126, 136, 175,  26, 166, 255, 247, 127,   0,   0,\n",
       "          0,   0],\n",
       "       [  0,   0,   0,   0,   0,   0,   0,   0,  30,  36,  94, 154, 170,\n",
       "        253, 253, 253, 253, 253, 225, 172, 253, 242, 195,  64,   0,   0,\n",
       "          0,   0],\n",
       "       [  0,   0,   0,   0,   0,   0,   0,  49, 238, 253, 253, 253, 253,\n",
       "        253, 253, 253, 253, 251,  93,  82,  82,  56,  39,   0,   0,   0,\n",
       "          0,   0],\n",
       "       [  0,   0,   0,   0,   0,   0,   0,  18, 219, 253, 253, 253, 253,\n",
       "        253, 198, 182, 247, 241,   0,   0,   0,   0,   0,   0,   0,   0,\n",
       "          0,   0],\n",
       "       [  0,   0,   0,   0,   0,   0,   0,   0,  80, 156, 107, 253, 253,\n",
       "        205,  11,   0,  43, 154,   0,   0,   0,   0,   0,   0,   0,   0,\n",
       "          0,   0],\n",
       "       [  0,   0,   0,   0,   0,   0,   0,   0,   0,  14,   1, 154, 253,\n",
       "         90,   0,   0,   0,   0,   0,   0,   0,   0,   0,   0,   0,   0,\n",
       "          0,   0],\n",
       "       [  0,   0,   0,   0,   0,   0,   0,   0,   0,   0,   0, 139, 253,\n",
       "        190,   2,   0,   0,   0,   0,   0,   0,   0,   0,   0,   0,   0,\n",
       "          0,   0],\n",
       "       [  0,   0,   0,   0,   0,   0,   0,   0,   0,   0,   0,  11, 190,\n",
       "        253,  70,   0,   0,   0,   0,   0,   0,   0,   0,   0,   0,   0,\n",
       "          0,   0],\n",
       "       [  0,   0,   0,   0,   0,   0,   0,   0,   0,   0,   0,   0,  35,\n",
       "        241, 225, 160, 108,   1,   0,   0,   0,   0,   0,   0,   0,   0,\n",
       "          0,   0],\n",
       "       [  0,   0,   0,   0,   0,   0,   0,   0,   0,   0,   0,   0,   0,\n",
       "         81, 240, 253, 253, 119,  25,   0,   0,   0,   0,   0,   0,   0,\n",
       "          0,   0],\n",
       "       [  0,   0,   0,   0,   0,   0,   0,   0,   0,   0,   0,   0,   0,\n",
       "          0,  45, 186, 253, 253, 150,  27,   0,   0,   0,   0,   0,   0,\n",
       "          0,   0],\n",
       "       [  0,   0,   0,   0,   0,   0,   0,   0,   0,   0,   0,   0,   0,\n",
       "          0,   0,  16,  93, 252, 253, 187,   0,   0,   0,   0,   0,   0,\n",
       "          0,   0],\n",
       "       [  0,   0,   0,   0,   0,   0,   0,   0,   0,   0,   0,   0,   0,\n",
       "          0,   0,   0,   0, 249, 253, 249,  64,   0,   0,   0,   0,   0,\n",
       "          0,   0],\n",
       "       [  0,   0,   0,   0,   0,   0,   0,   0,   0,   0,   0,   0,   0,\n",
       "          0,  46, 130, 183, 253, 253, 207,   2,   0,   0,   0,   0,   0,\n",
       "          0,   0],\n",
       "       [  0,   0,   0,   0,   0,   0,   0,   0,   0,   0,   0,   0,  39,\n",
       "        148, 229, 253, 253, 253, 250, 182,   0,   0,   0,   0,   0,   0,\n",
       "          0,   0],\n",
       "       [  0,   0,   0,   0,   0,   0,   0,   0,   0,   0,  24, 114, 221,\n",
       "        253, 253, 253, 253, 201,  78,   0,   0,   0,   0,   0,   0,   0,\n",
       "          0,   0],\n",
       "       [  0,   0,   0,   0,   0,   0,   0,   0,  23,  66, 213, 253, 253,\n",
       "        253, 253, 198,  81,   2,   0,   0,   0,   0,   0,   0,   0,   0,\n",
       "          0,   0],\n",
       "       [  0,   0,   0,   0,   0,   0,  18, 171, 219, 253, 253, 253, 253,\n",
       "        195,  80,   9,   0,   0,   0,   0,   0,   0,   0,   0,   0,   0,\n",
       "          0,   0],\n",
       "       [  0,   0,   0,   0,  55, 172, 226, 253, 253, 253, 253, 244, 133,\n",
       "         11,   0,   0,   0,   0,   0,   0,   0,   0,   0,   0,   0,   0,\n",
       "          0,   0],\n",
       "       [  0,   0,   0,   0, 136, 253, 253, 253, 212, 135, 132,  16,   0,\n",
       "          0,   0,   0,   0,   0,   0,   0,   0,   0,   0,   0,   0,   0,\n",
       "          0,   0],\n",
       "       [  0,   0,   0,   0,   0,   0,   0,   0,   0,   0,   0,   0,   0,\n",
       "          0,   0,   0,   0,   0,   0,   0,   0,   0,   0,   0,   0,   0,\n",
       "          0,   0],\n",
       "       [  0,   0,   0,   0,   0,   0,   0,   0,   0,   0,   0,   0,   0,\n",
       "          0,   0,   0,   0,   0,   0,   0,   0,   0,   0,   0,   0,   0,\n",
       "          0,   0],\n",
       "       [  0,   0,   0,   0,   0,   0,   0,   0,   0,   0,   0,   0,   0,\n",
       "          0,   0,   0,   0,   0,   0,   0,   0,   0,   0,   0,   0,   0,\n",
       "          0,   0]], dtype=uint8)"
      ]
     },
     "execution_count": 19,
     "metadata": {},
     "output_type": "execute_result"
    }
   ],
   "source": [
    "x_train[0]"
   ]
  },
  {
   "cell_type": "markdown",
   "metadata": {},
   "source": [
    "Bene, possiamo povare a visualizzare questa osservazione:"
   ]
  },
  {
   "cell_type": "code",
   "execution_count": 20,
   "metadata": {},
   "outputs": [
    {
     "data": {
      "image/png": "[encoded data removed]",
      "text/plain": [
       "<Figure size 432x288 with 1 Axes>"
      ]
     },
     "metadata": {
      "needs_background": "light"
     },
     "output_type": "display_data"
    }
   ],
   "source": [
    "import matplotlib.pyplot as plt\n",
    "\n",
    "plt.imshow(x_train[0],cmap=plt.cm.binary)\n",
    "plt.show()"
   ]
  },
  {
   "cell_type": "markdown",
   "metadata": {},
   "source": [
    "Generalmente è una buona idea \"normalizzare\" i tuoi dati. Questo in genere comporta il ridimensionamento dei dati tra 0 e 1, o forse -1 e positivo 1. Nel nostro caso, ogni \"pixel\" è una caratteristica, e ogni caratteristica attualmente varia da 0 a 255. Non abbastanza da 0 a 1. Facciamo cambiala con una comoda funzione di utilità:"
   ]
  },
  {
   "cell_type": "code",
   "execution_count": 21,
   "metadata": {},
   "outputs": [],
   "source": [
    "x_train = tf.keras.utils.normalize(x_train, axis=1)\n",
    "x_test = tf.keras.utils.normalize(x_test, axis=1)"
   ]
  },
  {
   "cell_type": "markdown",
   "metadata": {},
   "source": [
    "Ora costruiamo il nostro modello!"
   ]
  },
  {
   "cell_type": "code",
   "execution_count": 22,
   "metadata": {},
   "outputs": [],
   "source": [
    "model = tf.keras.models.Sequential()"
   ]
  },
  {
   "cell_type": "markdown",
   "metadata": {},
   "source": [
    "Un modello sequenziale è quello che userai la maggior parte del tempo. Usiamolo in questo caso.\n",
    "\n",
    "Ora dobbiamo inserire tutti gli strati. Ricordi la nostra immagine di rete neurale? Lo strato di input era piatto. Quindi, dobbiamo prendere questa immagine 28x28 e renderla una piatta 1x784. Ci sono molti modi per farlo, ma keras ha uno strato di Flatten creato appositamente per noi, quindi lo useremo."
   ]
  },
  {
   "cell_type": "code",
   "execution_count": 23,
   "metadata": {},
   "outputs": [],
   "source": [
    "model.add(tf.keras.layers.Flatten())"
   ]
  },
  {
   "cell_type": "markdown",
   "metadata": {},
   "source": [
    "Questo servirà come nostro livello di input. Prenderà i dati che gli forniamo e li appiattiremo per noi. Successivamente, vogliamo i nostri livelli nascosti. Andremo con il livello di rete neurale più semplice, che è solo un livello denso. Questo si riferisce al fatto che si tratta di uno strato densamente connesso, il che significa che è \"completamente connesso\", in cui ogni nodo si collega a ciascun nodo precedente e successivo. Proprio come la nostra immagine."
   ]
  },
  {
   "cell_type": "code",
   "execution_count": 24,
   "metadata": {},
   "outputs": [],
   "source": [
    "model.add(tf.keras.layers.Dense(128, activation=tf.nn.relu))"
   ]
  },
  {
   "cell_type": "markdown",
   "metadata": {},
   "source": [
    "Questo strato ha 128 unità. La funzione di attivazione è relu, abbreviazione di linear rettificata. Attualmente, relu è la funzione di attivazione che dovrebbe essere predefinita. Ce ne sono molti altri da verificare, ma, se non sai cosa usare, usa relu per iniziare.\n",
    "\n",
    "Aggiungiamo un altro livello identico per una buona misura."
   ]
  },
  {
   "cell_type": "code",
   "execution_count": 25,
   "metadata": {},
   "outputs": [],
   "source": [
    "model.add(tf.keras.layers.Dense(128, activation=tf.nn.relu))"
   ]
  },
  {
   "cell_type": "markdown",
   "metadata": {},
   "source": [
    "Ora siamo pronti per un livello di output:"
   ]
  },
  {
   "cell_type": "code",
   "execution_count": 26,
   "metadata": {},
   "outputs": [],
   "source": [
    "model.add(tf.keras.layers.Dense(10, activation=tf.nn.softmax))"
   ]
  },
  {
   "cell_type": "markdown",
   "metadata": {},
   "source": [
    "Questo è il nostro ultimo livello. Ha 10 nodi. 1 nodo per la previsione del numero possibile. In questo caso, la nostra funzione di attivazione è una funzione softmax, poiché in realtà stiamo davvero cercando qualcosa di più simile a una distribuzione di probabilità di quale delle possibili opzioni di previsione questa cosa che stiamo passando attraverso le caratteristiche di è. Grande, il nostro modello è fatto.\n",
    "\n",
    "Ora dobbiamo \"compilare\" il modello. Qui è dove passiamo le impostazioni per ottimizzare / allenare effettivamente il modello che abbiamo definito."
   ]
  },
  {
   "cell_type": "code",
   "execution_count": 27,
   "metadata": {},
   "outputs": [],
   "source": [
    "model.compile(optimizer='adam',\n",
    "              loss='sparse_categorical_crossentropy',\n",
    "              metrics=['accuracy'])"
   ]
  },
  {
   "cell_type": "markdown",
   "metadata": {},
   "source": [
    "Ricorda perché abbiamo scelto relu come funzione di attivazione? La stessa cosa è vera per l'ottimizzatore Adam. È solo un ottimo default per iniziare.\n",
    "\n",
    "Successivamente, abbiamo la nostra metrica di perdita. La perdita è un calcolo dell'errore. Una rete neurale in realtà non tenta di massimizzare la precisione. Cerca di minimizzare la perdita. Di nuovo, ci sono molte scelte, ma una qualche forma di crossentropia categoriale è un buon inizio per un compito di classificazione come questo.\n",
    "\n",
    "Ora, facciamo il fit!"
   ]
  },
  {
   "cell_type": "code",
   "execution_count": 29,
   "metadata": {},
   "outputs": [
    {
     "name": "stdout",
     "output_type": "stream",
     "text": [
      "Train on 60000 samples\n",
      "Epoch 1/3\n",
      "60000/60000 [==============================] - 2s 36us/sample - loss: 0.0532 - accuracy: 0.9828\n",
      "Epoch 2/3\n",
      "60000/60000 [==============================] - 2s 35us/sample - loss: 0.0402 - accuracy: 0.9873\n",
      "Epoch 3/3\n",
      "60000/60000 [==============================] - 2s 35us/sample - loss: 0.0325 - accuracy: 0.9892\n"
     ]
    }
   ],
   "source": [
    "history = model.fit(x_train, y_train, epochs=3)"
   ]
  },
  {
   "cell_type": "markdown",
   "metadata": {},
   "source": [
    "Mentre ci alleniamo, possiamo vedere la perdita va giù (yay), e la precisione migliora abbastanza rapidamente al 98-99% (doppio yay!)\n",
    "\n",
    "Questa è la perdita e l'accuratezza dei dati nel campione. Ottenere un'accuratezza elevata e una perdita bassa potrebbe significare che il tuo modello ha imparato come classificare le cifre in generale (è generalizzato) ... o semplicemente memorizzato ogni singolo esempio che hai mostrato (overfit). Questo è il motivo per cui dobbiamo testare dati fuori campione (dati che non abbiamo usato per addestrare il modello)."
   ]
  },
  {
   "cell_type": "code",
   "execution_count": 30,
   "metadata": {},
   "outputs": [
    {
     "name": "stdout",
     "output_type": "stream",
     "text": [
      "10000/10000 [==============================] - 0s 29us/sample - loss: 0.0947 - accuracy: 0.9739\n",
      "0.09474386642272584\n",
      "0.9739\n"
     ]
    }
   ],
   "source": [
    "val_loss, val_acc = model.evaluate(x_test, y_test)\n",
    "print(val_loss)\n",
    "print(val_acc)"
   ]
  },
  {
   "cell_type": "markdown",
   "metadata": {},
   "source": [
    "Infine, fai previsioni!"
   ]
  },
  {
   "cell_type": "code",
   "execution_count": 31,
   "metadata": {},
   "outputs": [
    {
     "data": {
      "text/plain": [
       "array([[1.37482257e-08, 2.69760270e-10, 1.14692966e-06, ...,\n",
       "        9.99997973e-01, 1.07006715e-09, 3.52608005e-08],\n",
       "       [2.68529893e-10, 1.22025485e-04, 9.99874473e-01, ...,\n",
       "        1.40466943e-06, 5.31253874e-10, 2.20681454e-15],\n",
       "       [3.28705729e-10, 9.99978185e-01, 3.92088765e-07, ...,\n",
       "        2.04767257e-05, 2.47102690e-07, 1.26174740e-07],\n",
       "       ...,\n",
       "       [8.43219328e-10, 3.24699778e-09, 4.04732481e-13, ...,\n",
       "        2.18616449e-07, 9.51183665e-09, 2.42938695e-04],\n",
       "       [5.16273779e-08, 4.47574934e-07, 4.10477199e-08, ...,\n",
       "        6.19658493e-08, 1.88270751e-05, 5.16339753e-08],\n",
       "       [3.38604842e-08, 1.02741964e-11, 4.02664035e-09, ...,\n",
       "        6.82280578e-12, 9.65623936e-09, 6.53934518e-10]], dtype=float32)"
      ]
     },
     "execution_count": 31,
     "metadata": {},
     "output_type": "execute_result"
    }
   ],
   "source": [
    "predictions = model.predict(x_test)\n",
    "predictions"
   ]
  },
  {
   "cell_type": "markdown",
   "metadata": {},
   "source": [
    "Quel certo non inizia come utile, ma ricorda che queste sono distribuzioni di probabilità. Possiamo ottenere il numero reale semplicemente:"
   ]
  },
  {
   "cell_type": "code",
   "execution_count": 36,
   "metadata": {
    "scrolled": true
   },
   "outputs": [
    {
     "data": {
      "image/png": "[encoded data removed]",
      "text/plain": [
       "<Figure size 432x288 with 1 Axes>"
      ]
     },
     "metadata": {
      "needs_background": "light"
     },
     "output_type": "display_data"
    },
    {
     "name": "stdout",
     "output_type": "stream",
     "text": [
      "Il nostro algoritmo legge il numero 9\n"
     ]
    }
   ],
   "source": [
    "import numpy as np\n",
    "\n",
    "case_id = 12\n",
    "\n",
    "plt.imshow(x_test[case_id], cmap=plt.cm.binary)\n",
    "plt.show()\n",
    "\n",
    "print(\"Il nostro algoritmo legge il numero %d\" % np.argmax(predictions[case_id]))"
   ]
  },
  {
   "cell_type": "markdown",
   "metadata": {},
   "source": [
    "Eccezionale!\n",
    "Con questo esempio abbiamo appena scalfito la superficie di ciò che si può fare con queste librerie.\n",
    "Puoi trovare maggiore documentazione qui:\n",
    "- [Tensorflow](https://www.tensorflow.org/api_docs/python/)\n",
    "- [Keras](https://keras.io/layers/about-keras-layers/)"
   ]
  },
  {
   "cell_type": "markdown",
   "metadata": {},
   "source": [
    "[Clicca qui per tornare all'inizio della pagina](#start)<a id='start'></a>"
   ]
  }
 ],
 "metadata": {
  "kernelspec": {
   "display_name": "Python 3",
   "language": "python",
   "name": "python3"
  },
  "language_info": {
   "codemirror_mode": {
    "name": "ipython",
    "version": 3
   },
   "file_extension": ".py",
   "mimetype": "text/x-python",
   "name": "python",
   "nbconvert_exporter": "python",
   "pygments_lexer": "ipython3",
   "version": "3.7.4"
  }
 },
 "nbformat": 4,
 "nbformat_minor": 2
}
