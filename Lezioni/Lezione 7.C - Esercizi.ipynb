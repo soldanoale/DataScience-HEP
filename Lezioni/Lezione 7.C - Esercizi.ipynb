{
 "cells": [
  {
   "cell_type": "markdown",
   "metadata": {},
   "source": [
    "<a id='start'></a>\n",
    "# Reti neurali con Tensor Flow\n",
    "\n",
    "In questo notebook vengono presentati degli esercizi sulle reti neurali con Tensor Flow.\n",
    "\n",
    "Provate a svolgere il seguente esercizio:<br>\n",
    "1) [pp -> H -> ZZ -> 4lepton](#section1)<br>"
   ]
  },
  {
   "cell_type": "markdown",
   "metadata": {},
   "source": [
    "<a id='section1'></a>\n",
    "## pp -> H -> ZZ -> 4lepton"
   ]
  },
  {
   "cell_type": "markdown",
   "metadata": {},
   "source": [
    "Creare una rete neurale per analizzare i dati prodotti dagli studi di pp -> H -> ZZ -> 4lepton nel contesto delle ricerche mono-Higgs da parte della collaborazione CMS. I programmi usano le ntuple ridotte (con il nome dell'albero radice HZZ4LeptonsAnalysisReduced) create con Root."
   ]
  },
  {
   "cell_type": "code",
   "execution_count": 16,
   "metadata": {},
   "outputs": [],
   "source": [
    "treename = 'HZZ4LeptonsAnalysisReduced'\n",
    "filename ='data/ntuple_4mu_bkg.root'\n",
    "\n",
    "upfile = uproot.open(filename)\n",
    "params = upfile[treename].arrays() # dictionary of NumPy arrays\n",
    "\n",
    "VARS = [b'f_massjj']\n",
    "df = pd.DataFrame(params, columns=VARS)"
   ]
  },
  {
   "cell_type": "code",
   "execution_count": 38,
   "metadata": {},
   "outputs": [
    {
     "data": {
      "text/html": [
       "<div>\n",
       "<style scoped>\n",
       "    .dataframe tbody tr th:only-of-type {\n",
       "        vertical-align: middle;\n",
       "    }\n",
       "\n",
       "    .dataframe tbody tr th {\n",
       "        vertical-align: top;\n",
       "    }\n",
       "\n",
       "    .dataframe thead th {\n",
       "        text-align: right;\n",
       "    }\n",
       "</style>\n",
       "<table border=\"1\" class=\"dataframe\">\n",
       "  <thead>\n",
       "    <tr style=\"text-align: right;\">\n",
       "      <th></th>\n",
       "      <th>f_mass4l</th>\n",
       "      <th>f_massjj</th>\n",
       "      <th>isSignal</th>\n",
       "    </tr>\n",
       "  </thead>\n",
       "  <tbody>\n",
       "    <tr>\n",
       "      <th>0</th>\n",
       "      <td>125.077103</td>\n",
       "      <td>1300.426880</td>\n",
       "      <td>1.0</td>\n",
       "    </tr>\n",
       "    <tr>\n",
       "      <th>1</th>\n",
       "      <td>124.238113</td>\n",
       "      <td>437.221863</td>\n",
       "      <td>1.0</td>\n",
       "    </tr>\n",
       "    <tr>\n",
       "      <th>3</th>\n",
       "      <td>124.480667</td>\n",
       "      <td>1021.744080</td>\n",
       "      <td>1.0</td>\n",
       "    </tr>\n",
       "    <tr>\n",
       "      <th>4</th>\n",
       "      <td>124.919464</td>\n",
       "      <td>1101.381958</td>\n",
       "      <td>1.0</td>\n",
       "    </tr>\n",
       "    <tr>\n",
       "      <th>7</th>\n",
       "      <td>125.049065</td>\n",
       "      <td>498.717194</td>\n",
       "      <td>1.0</td>\n",
       "    </tr>\n",
       "    <tr>\n",
       "      <th>...</th>\n",
       "      <td>...</td>\n",
       "      <td>...</td>\n",
       "      <td>...</td>\n",
       "    </tr>\n",
       "    <tr>\n",
       "      <th>58056</th>\n",
       "      <td>197.383133</td>\n",
       "      <td>114.257278</td>\n",
       "      <td>0.0</td>\n",
       "    </tr>\n",
       "    <tr>\n",
       "      <th>58057</th>\n",
       "      <td>218.065582</td>\n",
       "      <td>106.195534</td>\n",
       "      <td>0.0</td>\n",
       "    </tr>\n",
       "    <tr>\n",
       "      <th>58060</th>\n",
       "      <td>89.288086</td>\n",
       "      <td>53.661579</td>\n",
       "      <td>0.0</td>\n",
       "    </tr>\n",
       "    <tr>\n",
       "      <th>58062</th>\n",
       "      <td>146.756577</td>\n",
       "      <td>71.162025</td>\n",
       "      <td>0.0</td>\n",
       "    </tr>\n",
       "    <tr>\n",
       "      <th>58069</th>\n",
       "      <td>218.869415</td>\n",
       "      <td>98.914696</td>\n",
       "      <td>0.0</td>\n",
       "    </tr>\n",
       "  </tbody>\n",
       "</table>\n",
       "<p>20738 rows × 3 columns</p>\n",
       "</div>"
      ],
      "text/plain": [
       "         f_mass4l     f_massjj  isSignal\n",
       "0      125.077103  1300.426880       1.0\n",
       "1      124.238113   437.221863       1.0\n",
       "3      124.480667  1021.744080       1.0\n",
       "4      124.919464  1101.381958       1.0\n",
       "7      125.049065   498.717194       1.0\n",
       "...           ...          ...       ...\n",
       "58056  197.383133   114.257278       0.0\n",
       "58057  218.065582   106.195534       0.0\n",
       "58060   89.288086    53.661579       0.0\n",
       "58062  146.756577    71.162025       0.0\n",
       "58069  218.869415    98.914696       0.0\n",
       "\n",
       "[20738 rows x 3 columns]"
      ]
     },
     "execution_count": 38,
     "metadata": {},
     "output_type": "execute_result"
    }
   ],
   "source": [
    "import uproot\n",
    "import numpy as np\n",
    "import pandas as pd\n",
    "import h5py\n",
    "\n",
    "# fix random seed for reproducibility\n",
    "seed = 7\n",
    "np.random.seed(seed)\n",
    "\n",
    "treename = 'HZZ4LeptonsAnalysisReduced'\n",
    "\n",
    "VARS = [b'f_mass4l', b'f_massjj']\n",
    "upfile_VV = uproot.open('data/ntuple_4mu_VV.root')\n",
    "params_VV = upfile_VV[treename].arrays(VARS)\n",
    "upfile_BKG = uproot.open('data/ntuple_4mu_bkg.root')\n",
    "params_BKG = upfile_BKG[treename].arrays(VARS)\n",
    "\n",
    "df_VV = pd.DataFrame(params_VV, columns=VARS)\n",
    "df_BKG = pd.DataFrame(params_BKG, columns=VARS)\n",
    "\n",
    "# convert the feature names to utf-8 to simplify management\n",
    "for v in VARS:\n",
    "    df_VV = df_VV.rename(columns={v: v.decode('utf-8')})\n",
    "    df_BKG = df_BKG.rename(columns={v: v.decode('utf-8')})\n",
    "VARS = [v.decode('utf-8') for v in VARS]\n",
    "    \n",
    "# cut out undefined variables VARS[0] and VARS[1] > -999\n",
    "df_VV = df_VV[(df_VV[VARS[0]] > -999) & (df_VV[VARS[1]] > -999)]\n",
    "df_BKG = df_BKG[(df_BKG[VARS[0]] > -999) & (df_BKG[VARS[1]] > -999)] \n",
    "\n",
    "# add isSignal variable\n",
    "df_VV['isSignal'] = np.ones(len(df_VV)) \n",
    "df_BKG['isSignal'] = np.zeros(len(df_BKG))\n",
    "\n",
    "df_all = pd.concat([df_VV, df_BKG])\n",
    "df_all"
   ]
  },
  {
   "cell_type": "markdown",
   "metadata": {},
   "source": [
    "Creiamo una rete densa, con un singolo livello nascosto completamente connesso con lo stesso numero di neuroni delle variabili di input.\n",
    "\n",
    "Possiamo quindi usare la funzione di attivazione `sigmoide` per produrre un'uscita di probabilità nell'intervallo da 0 a 1.\n",
    "\n",
    "Infine usiamo la funzione di loss `binary_crossentropy` durante l'allenamento, una funzione di perdita standard per problemi di classificazione binaria.\n",
    "\n",
    "Infine utimmizziamo il modello con l'algoritmo Adam per il grandient descend."
   ]
  },
  {
   "cell_type": "code",
   "execution_count": null,
   "metadata": {},
   "outputs": [],
   "source": []
  },
  {
   "cell_type": "markdown",
   "metadata": {},
   "source": [
    "[Clicca qui per tornare all'inizio della pagina](#start)<a id='start'></a>"
   ]
  }
 ],
 "metadata": {
  "kernelspec": {
   "display_name": "Python 3",
   "language": "python",
   "name": "python3"
  },
  "language_info": {
   "codemirror_mode": {
    "name": "ipython",
    "version": 3
   },
   "file_extension": ".py",
   "mimetype": "text/x-python",
   "name": "python",
   "nbconvert_exporter": "python",
   "pygments_lexer": "ipython3",
   "version": "3.7.4"
  }
 },
 "nbformat": 4,
 "nbformat_minor": 2
}
